{
 "cells": [
  {
   "cell_type": "code",
   "execution_count": null,
   "metadata": {},
   "outputs": [],
   "source": [
    "%reload_ext autoreload\n",
    "%autoreload 2"
   ]
  },
  {
   "cell_type": "code",
   "execution_count": null,
   "metadata": {
    "scrolled": true
   },
   "outputs": [],
   "source": [
    "from qiskit_metal import designs\n",
    "from qiskit_metal import MetalGUI, Dict\n",
    "from qiskit_metal.components.qubits.transmon_pocket import TransmonPocket\n",
    "\n",
    "design = designs.DesignPlanar()\n",
    "gui = MetalGUI(design)"
   ]
  },
  {
   "cell_type": "code",
   "execution_count": null,
   "metadata": {},
   "outputs": [],
   "source": [
    "# enable rebuild of the same component\n",
    "design.overwrite_enabled = True"
   ]
  },
  {
   "cell_type": "code",
   "execution_count": null,
   "metadata": {},
   "outputs": [],
   "source": [
    "design.delete_all_components()\n",
    "optionsQ = dict(\n",
    "    pad_width = '425 um', \n",
    "    pocket_height = '650um',\n",
    "    connection_pads = dict(  # pin connecotrs\n",
    "        a = dict(loc_W=+1,loc_H=+1), \n",
    "        b = dict(loc_W=-1,loc_H=+1, pad_height='30um'),\n",
    "        c = dict(loc_W=+1,loc_H=-1, pad_width='200um'),\n",
    "        d = dict(loc_W=-1,loc_H=-1, pad_height='50um')\n",
    "    )\n",
    ")\n",
    "\n",
    "\n",
    "q1 = TransmonPocket(design, 'Q1', options = dict(pos_x='-1.5mm', pos_y='+0.0mm', **optionsQ))\n",
    "q2 = TransmonPocket(design, 'Q2', options = dict(pos_x='+0.35mm', pos_y='+1.0mm', orientation = '90',**optionsQ))\n",
    "q3 = TransmonPocket(design, 'Q3', options = dict(pos_x='2.0mm', pos_y='+0.0mm', **optionsQ))\n",
    "gui.rebuild()\n",
    "gui.autoscale()\n",
    "gui.highlight_components(['Q1', 'Q2', 'Q3'])"
   ]
  },
  {
   "cell_type": "code",
   "execution_count": null,
   "metadata": {},
   "outputs": [],
   "source": [
    "#TransmonPocket.get_template_options(design)"
   ]
  },
  {
   "cell_type": "markdown",
   "metadata": {},
   "source": [
    "## CPW"
   ]
  },
  {
   "cell_type": "code",
   "execution_count": null,
   "metadata": {},
   "outputs": [],
   "source": [
    "from qiskit_metal.components.interconnects.meandered import RouteMeander\n",
    "RouteMeander.get_template_options(design)\n",
    "ops=dict(fillet='90um')"
   ]
  },
  {
   "cell_type": "code",
   "execution_count": null,
   "metadata": {},
   "outputs": [],
   "source": [
    "options = Dict(\n",
    "    total_length= '6mm',\n",
    "    pin_inputs=Dict(\n",
    "        start_pin=Dict(\n",
    "            component= 'Q1',\n",
    "            pin= 'a'),\n",
    "        end_pin=Dict(\n",
    "            component= 'Q2',\n",
    "            pin= 'b')),\n",
    "    snap='true',\n",
    "    lead=Dict(\n",
    "        start_straight='0.1mm',\n",
    "        end_straight='0.5mm'),\n",
    "    meander=Dict(\n",
    "       asymmetry='-1mm'),\n",
    "    **ops\n",
    ")\n",
    "try:\n",
    "    cpw.delete()\n",
    "except NameError: pass\n",
    "cpw = RouteMeander(design,options=options)\n",
    "gui.rebuild()\n",
    "gui.autoscale()\n",
    "#cpw.get_points()"
   ]
  },
  {
   "cell_type": "code",
   "execution_count": null,
   "metadata": {},
   "outputs": [],
   "source": [
    "cpw.options['total_length'] = '8mm'\n",
    "gui.rebuild()\n",
    "gui.autoscale()"
   ]
  },
  {
   "cell_type": "code",
   "execution_count": null,
   "metadata": {},
   "outputs": [],
   "source": [
    "options = Dict(\n",
    "    total_length= '6mm',\n",
    "    pin_inputs=Dict(\n",
    "        start_pin=Dict(\n",
    "            component= 'Q2',\n",
    "            pin= 'd'),\n",
    "        end_pin=Dict(\n",
    "            component= 'Q3',\n",
    "            pin= 'b')),\n",
    "    snap='true',\n",
    "    lead=Dict(\n",
    "        start_straight='0.1mm',\n",
    "        end_straight='0.2mm'),\n",
    "    meander=Dict(\n",
    "       asymmetry='-0.9mm'),\n",
    "    **ops\n",
    ")\n",
    "try:\n",
    "    cpw2.delete()\n",
    "except NameError: pass\n",
    "cpw2 = RouteMeander(design,options=options)\n",
    "gui.rebuild()\n",
    "gui.autoscale()"
   ]
  },
  {
   "cell_type": "code",
   "execution_count": null,
   "metadata": {},
   "outputs": [],
   "source": [
    "options = Dict(\n",
    "    total_length= '8mm',\n",
    "    pin_inputs=Dict(\n",
    "        start_pin=Dict(\n",
    "            component= 'Q3',\n",
    "            pin= 'a'),\n",
    "        end_pin=Dict(\n",
    "            component= 'Q2',\n",
    "            pin= 'c')),\n",
    "    snap='true',\n",
    "    lead=Dict(\n",
    "        start_straight='0.5mm',\n",
    "        end_straight='0.1mm'),\n",
    "    meander=Dict(\n",
    "       asymmetry='-1mm'),\n",
    "    **ops\n",
    ")\n",
    "try:\n",
    "    cpw3.delete()\n",
    "except NameError: pass\n",
    "cpw3 = RouteMeander(design,options=options)\n",
    "gui.rebuild()\n",
    "gui.autoscale()"
   ]
  },
  {
   "cell_type": "code",
   "execution_count": null,
   "metadata": {},
   "outputs": [],
   "source": [
    "options = Dict(\n",
    "    total_length= '8mm',\n",
    "    pin_inputs=Dict(\n",
    "        start_pin=Dict(\n",
    "            component= 'Q1',\n",
    "            pin= 'b'),\n",
    "        end_pin=Dict(\n",
    "            component= 'Q2',\n",
    "            pin= 'a')),\n",
    "    snap='true',\n",
    "    lead=Dict(\n",
    "        start_straight='0.5mm',\n",
    "        end_straight='0.1mm'),\n",
    "    meander=Dict(\n",
    "       asymmetry='1mm'),\n",
    "    **ops\n",
    ")\n",
    "try:\n",
    "    cpw4.delete()\n",
    "except NameError: pass\n",
    "cpw4 = RouteMeander(design,options=options)\n",
    "gui.rebuild()\n",
    "gui.autoscale()"
   ]
  },
  {
   "cell_type": "markdown",
   "metadata": {},
   "source": [
    "#### this is a different CPW. I am adding manually 4 jogs to the lead-in and lead-out"
   ]
  },
  {
   "cell_type": "code",
   "execution_count": null,
   "metadata": {},
   "outputs": [],
   "source": [
    "from collections import OrderedDict\n",
    "jogs = OrderedDict()\n",
    "jogs[0] = [\"L\", '600um']\n",
    "jogs[1] = [\"L\", '500um']\n",
    "jogs[2] = [\"R\", '200um']\n",
    "jogs[3] = [\"R\", '500um']\n",
    "\n",
    "options = Dict(\n",
    "    total_length= '14mm',\n",
    "    pin_inputs=Dict(\n",
    "        start_pin=Dict(\n",
    "            component= 'Q1',\n",
    "            pin= 'd'),\n",
    "        end_pin=Dict(\n",
    "            component= 'Q3',\n",
    "            pin= 'd')),\n",
    "    snap='true',\n",
    "    lead=Dict(\n",
    "        start_straight='0.1mm',\n",
    "        end_straight='0.1mm',\n",
    "        start_jogged_extension=jogs,\n",
    "        end_jogged_extension=jogs),\n",
    "    meander=Dict(\n",
    "       asymmetry='-1.2mm'),\n",
    "    **ops\n",
    ")\n",
    "try:\n",
    "    cpw5.delete()\n",
    "except NameError: pass\n",
    "cpw5 = RouteMeander(design,options=options)\n",
    "gui.rebuild()\n",
    "gui.autoscale()"
   ]
  },
  {
   "cell_type": "code",
   "execution_count": null,
   "metadata": {},
   "outputs": [],
   "source": [
    "q4 = TransmonPocket(design, 'Q4', options = dict(pos_x='-7.5mm', pos_y='-0.5mm', **optionsQ))\n",
    "q5 = TransmonPocket(design, 'Q5', options = dict(pos_x='-5.65mm', pos_y='+0.5mm', orientation = '90',**optionsQ))\n",
    "q6 = TransmonPocket(design, 'Q6', options = dict(pos_x='-4.0mm', pos_y='-0.6mm', **optionsQ))\n",
    "gui.rebuild()\n",
    "\n",
    "options = Dict(\n",
    "    total_length= '3.6mm',\n",
    "    pin_inputs=Dict(\n",
    "        start_pin=Dict(\n",
    "            component= 'Q4',\n",
    "            pin= 'a'),\n",
    "        end_pin=Dict(\n",
    "            component= 'Q5',\n",
    "            pin= 'b')),\n",
    "    snap='true',\n",
    "    lead=Dict(\n",
    "        start_straight='0.5mm',\n",
    "        end_straight='0.1mm'),\n",
    "    meander=Dict(\n",
    "       asymmetry='1mm'),\n",
    "    **ops\n",
    ")\n",
    "try:\n",
    "    cpw6.delete()\n",
    "except NameError: pass\n",
    "cpw6 = RouteMeander(design, options=options)\n",
    "gui.rebuild()\n",
    "gui.autoscale()"
   ]
  },
  {
   "cell_type": "code",
   "execution_count": null,
   "metadata": {},
   "outputs": [],
   "source": [
    "options = Dict(\n",
    "    total_length= '12mm',\n",
    "    pin_inputs=Dict(\n",
    "        start_pin=Dict(\n",
    "            component= 'Q4',\n",
    "            pin= 'd'),\n",
    "        end_pin=Dict(\n",
    "            component= 'Q6',\n",
    "            pin= 'c')),\n",
    "    snap='true',\n",
    "    lead=Dict(\n",
    "        start_straight='0.1mm',\n",
    "        end_straight='0.1mm'),\n",
    "    meander=Dict(\n",
    "       asymmetry='-1.2mm'),\n",
    "    **ops\n",
    ")\n",
    "try:\n",
    "    cpw7.delete()\n",
    "except NameError: pass\n",
    "cpw7 = RouteMeander(design, options=options)\n",
    "gui.rebuild()\n",
    "gui.autoscale()"
   ]
  },
  {
   "cell_type": "code",
   "execution_count": null,
   "metadata": {},
   "outputs": [],
   "source": [
    "options = Dict(\n",
    "    total_length= '15mm',\n",
    "    pin_inputs=Dict(\n",
    "        start_pin=Dict(\n",
    "            component= 'Q6',\n",
    "            pin= 'a'),\n",
    "        end_pin=Dict(\n",
    "            component= 'Q4',\n",
    "            pin= 'b')),\n",
    "    snap='true',\n",
    "    lead=Dict(\n",
    "        start_straight='0.1mm',\n",
    "        end_straight='0.1mm'),\n",
    "    meander=Dict(\n",
    "       asymmetry='-1.7mm'),\n",
    "    **ops\n",
    ")\n",
    "try:\n",
    "    cpw8.delete()\n",
    "except NameError: pass\n",
    "cpw8 = RouteMeander(design, options=options)\n",
    "gui.rebuild()\n",
    "gui.autoscale()"
   ]
  },
  {
   "cell_type": "code",
   "execution_count": null,
   "metadata": {},
   "outputs": [],
   "source": []
  }
 ],
 "metadata": {
  "kernelspec": {
   "name": "python3",
   "display_name": "Python 3.7.8 64-bit ('qmetal': conda)",
   "metadata": {
    "interpreter": {
     "hash": "9294e9c710b538f3f77319e78cee5d5f455c5eb53cd36d8b1c9cceeca977e98f"
    }
   }
  },
  "language_info": {
   "codemirror_mode": {
    "name": "ipython",
    "version": 3
   },
   "file_extension": ".py",
   "mimetype": "text/x-python",
   "name": "python",
   "nbconvert_exporter": "python",
   "pygments_lexer": "ipython3",
   "version": "3.7.8-final"
  }
 },
 "nbformat": 4,
 "nbformat_minor": 4
}