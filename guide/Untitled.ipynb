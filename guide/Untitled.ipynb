{
 "cells": [
  {
   "cell_type": "code",
   "execution_count": 1,
   "id": "hawaiian-walnut",
   "metadata": {},
   "outputs": [
    {
     "data": {
      "text/html": [
       "\n",
       "    <h1 style=\"\n",
       "        background: #12c2e9;  /* fallback for old browsers */\n",
       "        background: -webkit-linear-gradient(to right, #d4418e 0%, #0652c5 74%);  /* Chrome 10-25, Safari 5.1-6 */\n",
       "        background: linear-gradient(315deg, #d4418e 0%, #0652c5 74%); /* W3C, IE 10+/ Edge, Firefox 16+, Chrome 26+, Opera 12+, Safari 7+ */\n",
       "        margin-top: 50px;\n",
       "        border-style: outset;\n",
       "        padding-top:100px;\n",
       "        padding-bottom:50px;\n",
       "        padding-left:25px;\n",
       "        color: white;\n",
       "    \"> Welcome to Qiskit Metal! <h1>\n",
       "        "
      ],
      "text/plain": [
       "<IPython.core.display.HTML object>"
      ]
     },
     "metadata": {},
     "output_type": "display_data"
    }
   ],
   "source": [
    "%load_ext autoreload\n",
    "%autoreload 2\n",
    "import qiskit_metal as metal\n",
    "from qiskit_metal import designs, draw\n",
    "from qiskit_metal import MetalGUI, Dict, open_docs\n",
    "\n",
    "%metal_heading Welcome to Qiskit Metal!\n",
    "design = designs.DesignPlanar()\n",
    "gui = MetalGUI(design)"
   ]
  },
  {
   "cell_type": "code",
   "execution_count": 2,
   "id": "blessed-kitty",
   "metadata": {},
   "outputs": [
    {
     "data": {
      "text/plain": [
       "13"
      ]
     },
     "execution_count": 2,
     "metadata": {},
     "output_type": "execute_result"
    }
   ],
   "source": [
    "from qiskit_metal.qlibrary.interconnects.mixed_path import RouteMixed\n",
    "len(RouteMixed.default_options)"
   ]
  },
  {
   "cell_type": "code",
   "execution_count": 3,
   "id": "tired-introduction",
   "metadata": {},
   "outputs": [
    {
     "name": "stdout",
     "output_type": "stream",
     "text": [
      "status maded in qcomp init\n",
      "Designed\n",
      "qcomp _nameing\n",
      "qcomp done _named\n",
      "nameddddd\n",
      "table_name:  path\n",
      "table_name:  poly\n",
      "table_name:  junction\n",
      "done qcomp init rebuilded\n",
      "will make\n",
      "done maded\n",
      "status maded in qcomp init\n",
      "Designed\n",
      "qcomp _nameing\n",
      "qcomp done _named\n",
      "nameddddd\n",
      "table_name:  path\n",
      "table_name:  poly\n",
      "table_name:  junction\n",
      "done qcomp init rebuilded\n",
      "will make\n",
      "done maded\n"
     ]
    }
   ],
   "source": [
    "design.delete_all_components()  #needed only for rebuilds. will get a warning\n",
    "from qiskit_metal.qlibrary.qubits.transmon_pocket import TransmonPocket\n",
    "\n",
    "optionsQ = dict(\n",
    "    pad_width = '425 um', \n",
    "    pocket_height = '650um',\n",
    "    connection_pads=dict(  # pin connectors\n",
    "        a = dict(loc_W=+1,loc_H=+1), \n",
    "        b = dict(loc_W=-1,loc_H=+1, pad_height='30um'),\n",
    "        c = dict(loc_W=+1,loc_H=-1, pad_width='200um'),\n",
    "        d = dict(loc_W=-1,loc_H=-1, pad_height='50um')\n",
    "    )\n",
    ")\n",
    "\n",
    "q0 = TransmonPocket(design, 'Q0', options = dict(pos_x='-5.0mm', pos_y='0.0mm', **optionsQ))\n",
    "q1 = TransmonPocket(design, 'Q1', options = dict(pos_x='5.0mm', pos_y='0.0mm', **optionsQ))\n",
    "\n",
    "\n",
    "# a to c "
   ]
  },
  {
   "cell_type": "code",
   "execution_count": null,
   "id": "resistant-vault",
   "metadata": {},
   "outputs": [],
   "source": [
    "q3 = TransmonPocket(design, 'Q3')\n"
   ]
  },
  {
   "cell_type": "code",
   "execution_count": null,
   "id": "passive-actor",
   "metadata": {},
   "outputs": [],
   "source": [
    "for x in design._qgeometry.get_component_geometry_list('Q3'):\n",
    "    print(x.bounds)"
   ]
  },
  {
   "cell_type": "code",
   "execution_count": null,
   "id": "ruled-people",
   "metadata": {},
   "outputs": [],
   "source": []
  }
 ],
 "metadata": {
  "kernelspec": {
   "display_name": "nineteen",
   "language": "python",
   "name": "nineteen"
  },
  "language_info": {
   "codemirror_mode": {
    "name": "ipython",
    "version": 3
   },
   "file_extension": ".py",
   "mimetype": "text/x-python",
   "name": "python",
   "nbconvert_exporter": "python",
   "pygments_lexer": "ipython3",
   "version": "3.7.8"
  }
 },
 "nbformat": 4,
 "nbformat_minor": 5
}
