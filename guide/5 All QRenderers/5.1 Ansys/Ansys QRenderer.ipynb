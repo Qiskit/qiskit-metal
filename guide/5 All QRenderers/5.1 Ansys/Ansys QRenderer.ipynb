{
 "cells": [
  {
   "cell_type": "markdown",
   "metadata": {},
   "source": [
    "# How to Render Design into Ansys"
   ]
  },
  {
   "cell_type": "markdown",
   "metadata": {},
   "source": [
    "## 1. Perform the necessary imports and create a design in Metal"
   ]
  },
  {
   "cell_type": "code",
   "execution_count": null,
   "metadata": {},
   "outputs": [],
   "source": [
    "%load_ext autoreload\n",
    "%autoreload 2"
   ]
  },
  {
   "cell_type": "code",
   "execution_count": null,
   "metadata": {},
   "outputs": [],
   "source": [
    "import qiskit_metal as metal\n",
    "from qiskit_metal import designs, draw\n",
    "from qiskit_metal import MetalGUI, Dict, Headings"
   ]
  },
  {
   "cell_type": "code",
   "execution_count": null,
   "metadata": {},
   "outputs": [],
   "source": [
    "from qiskit_metal.renderers.renderer_ansys.ansys_renderer import QAnsysRenderer\n",
    "\n",
    "QAnsysRenderer.default_options"
   ]
  },
  {
   "cell_type": "code",
   "execution_count": null,
   "metadata": {},
   "outputs": [],
   "source": [
    "design = designs.DesignPlanar()\n",
    "gui = MetalGUI(design)\n",
    "\n",
    "from qiskit_metal.qlibrary.qubits.transmon_pocket import TransmonPocket"
   ]
  },
  {
   "cell_type": "code",
   "execution_count": null,
   "metadata": {},
   "outputs": [],
   "source": [
    "design.variables['cpw_width'] = '15 um'\n",
    "design.variables['cpw_gap'] = '9 um'"
   ]
  },
  {
   "cell_type": "markdown",
   "metadata": {},
   "source": [
    "### In this example, the design consists of 4 qubits and 4 CPWs."
   ]
  },
  {
   "cell_type": "code",
   "execution_count": null,
   "metadata": {},
   "outputs": [],
   "source": [
    "# Allow running the same cell here multiple times to overwrite changes\n",
    "design.overwrite_enabled = True\n",
    "\n",
    "## Custom options for all the transmons\n",
    "options = dict(\n",
    "    # Some options we want to modify from the defaults\n",
    "    # (see below for defaults)\n",
    "    pad_width = '425 um', \n",
    "    pocket_height = '650um',\n",
    "    # Adding 4 connectors (see below for defaults)\n",
    "    connection_pads=dict(\n",
    "        a = dict(loc_W=+1,loc_H=-1, pad_width='200um'),\n",
    "        b = dict(loc_W=-1,loc_H=+1, pad_height='30um'),\n",
    "        c = dict(loc_W=-1,loc_H=-1, pad_height='50um')\n",
    "    )\n",
    ")\n",
    "\n",
    "## Create 4 transmons\n",
    "\n",
    "q1 = TransmonPocket(design, 'Q1', options = dict(\n",
    "    pos_x='+2.42251mm', pos_y='+0.0mm', **options))\n",
    "q2 = TransmonPocket(design, 'Q2', options = dict(\n",
    "    pos_x='+0.0mm', pos_y='-0.95mm', orientation = '270', **options))\n",
    "q3 = TransmonPocket(design, 'Q3', options = dict(\n",
    "    pos_x='-2.42251mm', pos_y='+0.0mm', orientation = '180', **options))\n",
    "q4 = TransmonPocket(design, 'Q4', options = dict(\n",
    "    pos_x='+0.0mm', pos_y='+0.95mm', orientation = '90', **options))\n",
    "\n",
    "from qiskit_metal.qlibrary.interconnects.meandered import RouteMeander\n",
    "RouteMeander.get_template_options(design)\n",
    "\n",
    "options = Dict(\n",
    "        lead=Dict(\n",
    "            start_straight='0.2mm',\n",
    "            end_straight='0.2mm'),\n",
    "        trace_gap='9um',\n",
    "        trace_width='15um')\n",
    "\n",
    "def connect(component_name: str, component1: str, pin1: str, component2: str, pin2: str,\n",
    "            length: str, asymmetry='0 um', flip=False, fillet='90um'):\n",
    "    \"\"\"Connect two pins with a CPW.\"\"\"\n",
    "    myoptions = Dict(\n",
    "        fillet=fillet,\n",
    "        pin_inputs=Dict(\n",
    "            start_pin=Dict(\n",
    "                component=component1,\n",
    "                pin=pin1),\n",
    "            end_pin=Dict(\n",
    "                component=component2,\n",
    "                pin=pin2)),\n",
    "        total_length=length)\n",
    "    myoptions.update(options)\n",
    "    myoptions.meander.asymmetry = asymmetry\n",
    "    myoptions.meander.lead_direction_inverted = 'true' if flip else 'false'\n",
    "    return RouteMeander(design, component_name, myoptions)\n",
    "\n",
    "asym = 140\n",
    "cpw1 = connect('cpw1', 'Q1', 'c', 'Q2', 'b', '5.6 mm', f'+{asym}um')\n",
    "cpw2 = connect('cpw2', 'Q3', 'b', 'Q2', 'c', '5.7 mm', f'-{asym}um', flip=True)\n",
    "cpw3 = connect('cpw3', 'Q3', 'c', 'Q4', 'b', '5.6 mm', f'+{asym}um')\n",
    "cpw4 = connect('cpw4', 'Q1', 'b', 'Q4', 'c', '5.7 mm', f'-{asym}um', flip=True)\n",
    "\n",
    "gui.rebuild()\n",
    "gui.autoscale()"
   ]
  },
  {
   "cell_type": "markdown",
   "metadata": {},
   "source": [
    "## 2a. Render into Ansys HFSS\n",
    "Ansys COM registration occurs automatically.\n",
    "\n",
    "#### Before running the following cells:\n",
    "Manually open a new Ansys project with a HFSS eigenmode design. Here is how:\n",
    "\n",
    "1. Launch `ANSYS Electronics Desktop yyyy Rx`.\n",
    "2. Crate a new Ansys project by clicking on the `New` icon at the top left.\n",
    "3. Create a new HFSS design inside that project by navigating to the menu `Project` and selecting `Insert HFSS Design`.\n",
    "4. Change the HFSS design to eigenmode by right-clicking on the HFSSdesign1 that just got created inside your project (left panel) and then selecting: `Solution Type...`. Select Eigenmode."
   ]
  },
  {
   "cell_type": "code",
   "execution_count": null,
   "metadata": {},
   "outputs": [],
   "source": [
    "fourq_hfss = design.renderers.hfss # Access Ansys HFSS renderer"
   ]
  },
  {
   "cell_type": "code",
   "execution_count": null,
   "metadata": {
    "scrolled": true
   },
   "outputs": [],
   "source": [
    "fourq_hfss.open_ansys_design() # Open either a new or existing design based on default options"
   ]
  },
  {
   "cell_type": "markdown",
   "metadata": {},
   "source": [
    "NOTE: If you need to change the active Ansys HFSS design linked to Metal, first select the correct project in the Ansys GUI by double clicking on it in the leftmost panel. Then re-run the two cells above.\n",
    "\n",
    "If the Ansys HFSS design is not empty, run the following cell to clear it. This is equivalent to doing the following from the Ansys GUI: hold down Ctrl + A (to select everything in the design) -> right clicking -> Edit -> Delete."
   ]
  },
  {
   "cell_type": "code",
   "execution_count": null,
   "metadata": {},
   "outputs": [],
   "source": [
    "obj_names = fourq_hfss.pinfo.get_all_object_names()\n",
    "if obj_names:\n",
    "    fourq_hfss.clean_project()"
   ]
  },
  {
   "cell_type": "markdown",
   "metadata": {},
   "source": [
    "#### Render some component"
   ]
  },
  {
   "cell_type": "code",
   "execution_count": null,
   "metadata": {},
   "outputs": [],
   "source": [
    "fourq_hfss.render_design([], []) # Render the whole Metal design into Ansys HFSS.\n",
    "# fourq_hfss.render_design(['Q1'], [('Q1', 'b'), ('Q1', 'c')]) # Render a single qubit with 2 endcaps into Ansys HFSS.\n",
    "# fourq_hfss.render_design(['Q1', 'cpw1', 'Q2'], [('Q1', 'b'), ('Q2', 'c')]) # Render 2 qubits and 2 endcaps, one per qubit, into Ansys HFSS."
   ]
  },
  {
   "cell_type": "markdown",
   "metadata": {},
   "source": [
    "Before trying rendering a different combination of components, clear the design by executing the following cell"
   ]
  },
  {
   "cell_type": "code",
   "execution_count": null,
   "metadata": {},
   "outputs": [],
   "source": [
    "obj_names = fourq_hfss.pinfo.get_all_object_names()\n",
    "if obj_names:\n",
    "    fourq_hfss.clean_project()"
   ]
  },
  {
   "cell_type": "markdown",
   "metadata": {},
   "source": [
    "## 2b. Render into Ansys Q3D\n",
    "Ansys COM registration occurs automatically.\n",
    "\n",
    "#### Before running the following cells, setup Ansys Q3D manually:\n",
    "Manually open a new Ansys project with a Q3D design. Here is how:\n",
    "\n",
    "1. Launch `ANSYS Electronics Desktop yyyy Rx`.\n",
    "2. Crate a new Ansys project by clicking on the `New` icon at the top left.\n",
    "3. Create a new Q3D design inside that project by navigating to the menu `Project` and selecting `Insert Q3D Extractor Design`."
   ]
  },
  {
   "cell_type": "code",
   "execution_count": null,
   "metadata": {},
   "outputs": [],
   "source": [
    "fourq_q3d = design.renderers.q3d # Access Ansys Q3D renderer"
   ]
  },
  {
   "cell_type": "code",
   "execution_count": null,
   "metadata": {},
   "outputs": [],
   "source": [
    "fourq_q3d.open_ansys_design() # Open either a new or existing design based on default options"
   ]
  },
  {
   "cell_type": "markdown",
   "metadata": {},
   "source": [
    "NOTE: If you need to change the active Ansys Q3D design linked to Metal, first select the correct project in the Ansys GUI by double clicking on it in the leftmost panel. Then re-run the two cells above.\n",
    "\n",
    "If the Ansys Q3D design is not empty, run the following cell to clear it. This is equivalent to doing the following from the Ansys GUI: hold down Ctrl + A (to select everything in the design) -> right clicking -> Edit -> Delete."
   ]
  },
  {
   "cell_type": "code",
   "execution_count": null,
   "metadata": {},
   "outputs": [],
   "source": [
    "obj_names = fourq_q3d.pinfo.get_all_object_names()\n",
    "if obj_names:\n",
    "    fourq_q3d.clean_project()"
   ]
  },
  {
   "cell_type": "markdown",
   "metadata": {},
   "source": [
    "#### Render some component"
   ]
  },
  {
   "cell_type": "code",
   "execution_count": null,
   "metadata": {},
   "outputs": [],
   "source": [
    "fourq_q3d.render_design([], []) # Render the whole Metal design into Ansys Q3D.\n",
    "# fourq_q3d.render_design(['Q1'], [('Q1', 'b'), ('Q1', 'c')]) # Render a single qubit with 2 endcaps into Ansys Q3D.\n",
    "# fourq_q3d.render_design(['Q1', 'cpw1', 'Q2'], [('Q1', 'b'), ('Q2', 'c')]) # Render 2 qubits and 2 endcaps, one per qubit, into Ansys Q3D."
   ]
  },
  {
   "cell_type": "markdown",
   "metadata": {},
   "source": [
    "## 3. Create a new solution setup in Ansys Q3D and obtain the capacitance matrix\n",
    "This follows from step 2b above."
   ]
  },
  {
   "cell_type": "code",
   "execution_count": null,
   "metadata": {},
   "outputs": [],
   "source": [
    "fourq_q3d.add_q3d_setup() # Add a solution setup."
   ]
  },
  {
   "cell_type": "code",
   "execution_count": 30,
   "metadata": {},
   "outputs": [],
   "source": [
    "fourq_q3d.analyze_setup(\"Setup\") # Analyze said solution setup."
   ]
  },
  {
   "cell_type": "code",
   "execution_count": 31,
   "metadata": {},
   "outputs": [
    {
     "data": {
      "text/html": [
       "<div>\n",
       "<style scoped>\n",
       "    .dataframe tbody tr th:only-of-type {\n",
       "        vertical-align: middle;\n",
       "    }\n",
       "\n",
       "    .dataframe tbody tr th {\n",
       "        vertical-align: top;\n",
       "    }\n",
       "\n",
       "    .dataframe thead th {\n",
       "        text-align: right;\n",
       "    }\n",
       "</style>\n",
       "<table border=\"1\" class=\"dataframe\">\n",
       "  <thead>\n",
       "    <tr style=\"text-align: right;\">\n",
       "      <th></th>\n",
       "      <th>Q1_b_connector_pad</th>\n",
       "      <th>Q1_c_connector_pad</th>\n",
       "      <th>Q1_pad_bot</th>\n",
       "      <th>Q1_pad_top</th>\n",
       "      <th>Q2_c_connector_pad</th>\n",
       "      <th>Q2_pad_bot</th>\n",
       "      <th>Q2_pad_top</th>\n",
       "      <th>Q3_c_connector_pad</th>\n",
       "      <th>Q3_pad_bot</th>\n",
       "      <th>Q3_pad_top</th>\n",
       "      <th>Q4_pad_bot</th>\n",
       "      <th>Q4_pad_top</th>\n",
       "    </tr>\n",
       "  </thead>\n",
       "  <tbody>\n",
       "    <tr>\n",
       "      <th>Q1_b_connector_pad</th>\n",
       "      <td>833.53451</td>\n",
       "      <td>-2.01663</td>\n",
       "      <td>-1.31321</td>\n",
       "      <td>-12.16415</td>\n",
       "      <td>-0.15504</td>\n",
       "      <td>-0.06005</td>\n",
       "      <td>-0.08696</td>\n",
       "      <td>-0.69083</td>\n",
       "      <td>-0.00414</td>\n",
       "      <td>-0.00451</td>\n",
       "      <td>-12.57900</td>\n",
       "      <td>-1.54489</td>\n",
       "    </tr>\n",
       "    <tr>\n",
       "      <th>Q1_c_connector_pad</th>\n",
       "      <td>-2.01663</td>\n",
       "      <td>824.09014</td>\n",
       "      <td>-12.39619</td>\n",
       "      <td>-1.39805</td>\n",
       "      <td>-0.67932</td>\n",
       "      <td>-1.30639</td>\n",
       "      <td>-12.15881</td>\n",
       "      <td>-0.14388</td>\n",
       "      <td>-0.00385</td>\n",
       "      <td>-0.00471</td>\n",
       "      <td>-0.06680</td>\n",
       "      <td>-0.06897</td>\n",
       "    </tr>\n",
       "    <tr>\n",
       "      <th>Q1_pad_bot</th>\n",
       "      <td>-1.31321</td>\n",
       "      <td>-12.39619</td>\n",
       "      <td>88.65301</td>\n",
       "      <td>-25.40587</td>\n",
       "      <td>-0.00444</td>\n",
       "      <td>0.00000</td>\n",
       "      <td>-0.00962</td>\n",
       "      <td>-0.00371</td>\n",
       "      <td>-0.00002</td>\n",
       "      <td>-0.00001</td>\n",
       "      <td>-0.00298</td>\n",
       "      <td>-0.00644</td>\n",
       "    </tr>\n",
       "    <tr>\n",
       "      <th>Q1_pad_top</th>\n",
       "      <td>-12.16415</td>\n",
       "      <td>-1.39805</td>\n",
       "      <td>-25.40587</td>\n",
       "      <td>80.51723</td>\n",
       "      <td>-0.00439</td>\n",
       "      <td>0.00000</td>\n",
       "      <td>-0.00956</td>\n",
       "      <td>-0.00465</td>\n",
       "      <td>-0.00001</td>\n",
       "      <td>-0.00004</td>\n",
       "      <td>-0.00476</td>\n",
       "      <td>-0.00670</td>\n",
       "    </tr>\n",
       "    <tr>\n",
       "      <th>Q2_c_connector_pad</th>\n",
       "      <td>-0.15504</td>\n",
       "      <td>-0.67932</td>\n",
       "      <td>-0.00444</td>\n",
       "      <td>-0.00439</td>\n",
       "      <td>833.62731</td>\n",
       "      <td>-12.59640</td>\n",
       "      <td>-1.51647</td>\n",
       "      <td>-2.01511</td>\n",
       "      <td>-1.32080</td>\n",
       "      <td>-12.08688</td>\n",
       "      <td>-0.06427</td>\n",
       "      <td>-0.08308</td>\n",
       "    </tr>\n",
       "    <tr>\n",
       "      <th>Q2_pad_bot</th>\n",
       "      <td>-0.06005</td>\n",
       "      <td>-1.30639</td>\n",
       "      <td>0.00000</td>\n",
       "      <td>0.00000</td>\n",
       "      <td>-12.59640</td>\n",
       "      <td>88.74245</td>\n",
       "      <td>-25.43005</td>\n",
       "      <td>-0.06830</td>\n",
       "      <td>-0.00630</td>\n",
       "      <td>-0.00892</td>\n",
       "      <td>-0.01305</td>\n",
       "      <td>-0.01455</td>\n",
       "    </tr>\n",
       "    <tr>\n",
       "      <th>Q2_pad_top</th>\n",
       "      <td>-0.08696</td>\n",
       "      <td>-12.15881</td>\n",
       "      <td>-0.00962</td>\n",
       "      <td>-0.00956</td>\n",
       "      <td>-1.51647</td>\n",
       "      <td>-25.43005</td>\n",
       "      <td>80.56440</td>\n",
       "      <td>-0.06217</td>\n",
       "      <td>0.00000</td>\n",
       "      <td>0.00000</td>\n",
       "      <td>-0.01456</td>\n",
       "      <td>-0.01659</td>\n",
       "    </tr>\n",
       "    <tr>\n",
       "      <th>Q3_c_connector_pad</th>\n",
       "      <td>-0.69083</td>\n",
       "      <td>-0.14388</td>\n",
       "      <td>-0.00371</td>\n",
       "      <td>-0.00465</td>\n",
       "      <td>-2.01511</td>\n",
       "      <td>-0.06830</td>\n",
       "      <td>-0.06217</td>\n",
       "      <td>825.59667</td>\n",
       "      <td>-12.38675</td>\n",
       "      <td>-1.40685</td>\n",
       "      <td>-1.37138</td>\n",
       "      <td>-12.11479</td>\n",
       "    </tr>\n",
       "    <tr>\n",
       "      <th>Q3_pad_bot</th>\n",
       "      <td>-0.00414</td>\n",
       "      <td>-0.00385</td>\n",
       "      <td>-0.00002</td>\n",
       "      <td>-0.00001</td>\n",
       "      <td>-1.32080</td>\n",
       "      <td>-0.00630</td>\n",
       "      <td>0.00000</td>\n",
       "      <td>-12.38675</td>\n",
       "      <td>88.81357</td>\n",
       "      <td>-25.75315</td>\n",
       "      <td>-0.00572</td>\n",
       "      <td>-0.00646</td>\n",
       "    </tr>\n",
       "    <tr>\n",
       "      <th>Q3_pad_top</th>\n",
       "      <td>-0.00451</td>\n",
       "      <td>-0.00471</td>\n",
       "      <td>-0.00001</td>\n",
       "      <td>-0.00004</td>\n",
       "      <td>-12.08688</td>\n",
       "      <td>-0.00892</td>\n",
       "      <td>0.00000</td>\n",
       "      <td>-1.40685</td>\n",
       "      <td>-25.75315</td>\n",
       "      <td>80.89618</td>\n",
       "      <td>-0.00797</td>\n",
       "      <td>-0.00582</td>\n",
       "    </tr>\n",
       "    <tr>\n",
       "      <th>Q4_pad_bot</th>\n",
       "      <td>-12.57900</td>\n",
       "      <td>-0.06680</td>\n",
       "      <td>-0.00298</td>\n",
       "      <td>-0.00476</td>\n",
       "      <td>-0.06427</td>\n",
       "      <td>-0.01305</td>\n",
       "      <td>-0.01456</td>\n",
       "      <td>-1.37138</td>\n",
       "      <td>-0.00572</td>\n",
       "      <td>-0.00797</td>\n",
       "      <td>88.77330</td>\n",
       "      <td>-25.76949</td>\n",
       "    </tr>\n",
       "    <tr>\n",
       "      <th>Q4_pad_top</th>\n",
       "      <td>-1.54489</td>\n",
       "      <td>-0.06897</td>\n",
       "      <td>-0.00644</td>\n",
       "      <td>-0.00670</td>\n",
       "      <td>-0.08308</td>\n",
       "      <td>-0.01455</td>\n",
       "      <td>-0.01659</td>\n",
       "      <td>-12.11479</td>\n",
       "      <td>-0.00646</td>\n",
       "      <td>-0.00582</td>\n",
       "      <td>-25.76949</td>\n",
       "      <td>80.83681</td>\n",
       "    </tr>\n",
       "  </tbody>\n",
       "</table>\n",
       "</div>"
      ],
      "text/plain": [
       "                    Q1_b_connector_pad  Q1_c_connector_pad  Q1_pad_bot  \\\n",
       "Q1_b_connector_pad           833.53451            -2.01663    -1.31321   \n",
       "Q1_c_connector_pad            -2.01663           824.09014   -12.39619   \n",
       "Q1_pad_bot                    -1.31321           -12.39619    88.65301   \n",
       "Q1_pad_top                   -12.16415            -1.39805   -25.40587   \n",
       "Q2_c_connector_pad            -0.15504            -0.67932    -0.00444   \n",
       "Q2_pad_bot                    -0.06005            -1.30639     0.00000   \n",
       "Q2_pad_top                    -0.08696           -12.15881    -0.00962   \n",
       "Q3_c_connector_pad            -0.69083            -0.14388    -0.00371   \n",
       "Q3_pad_bot                    -0.00414            -0.00385    -0.00002   \n",
       "Q3_pad_top                    -0.00451            -0.00471    -0.00001   \n",
       "Q4_pad_bot                   -12.57900            -0.06680    -0.00298   \n",
       "Q4_pad_top                    -1.54489            -0.06897    -0.00644   \n",
       "\n",
       "                    Q1_pad_top  Q2_c_connector_pad  Q2_pad_bot  Q2_pad_top  \\\n",
       "Q1_b_connector_pad   -12.16415            -0.15504    -0.06005    -0.08696   \n",
       "Q1_c_connector_pad    -1.39805            -0.67932    -1.30639   -12.15881   \n",
       "Q1_pad_bot           -25.40587            -0.00444     0.00000    -0.00962   \n",
       "Q1_pad_top            80.51723            -0.00439     0.00000    -0.00956   \n",
       "Q2_c_connector_pad    -0.00439           833.62731   -12.59640    -1.51647   \n",
       "Q2_pad_bot             0.00000           -12.59640    88.74245   -25.43005   \n",
       "Q2_pad_top            -0.00956            -1.51647   -25.43005    80.56440   \n",
       "Q3_c_connector_pad    -0.00465            -2.01511    -0.06830    -0.06217   \n",
       "Q3_pad_bot            -0.00001            -1.32080    -0.00630     0.00000   \n",
       "Q3_pad_top            -0.00004           -12.08688    -0.00892     0.00000   \n",
       "Q4_pad_bot            -0.00476            -0.06427    -0.01305    -0.01456   \n",
       "Q4_pad_top            -0.00670            -0.08308    -0.01455    -0.01659   \n",
       "\n",
       "                    Q3_c_connector_pad  Q3_pad_bot  Q3_pad_top  Q4_pad_bot  \\\n",
       "Q1_b_connector_pad            -0.69083    -0.00414    -0.00451   -12.57900   \n",
       "Q1_c_connector_pad            -0.14388    -0.00385    -0.00471    -0.06680   \n",
       "Q1_pad_bot                    -0.00371    -0.00002    -0.00001    -0.00298   \n",
       "Q1_pad_top                    -0.00465    -0.00001    -0.00004    -0.00476   \n",
       "Q2_c_connector_pad            -2.01511    -1.32080   -12.08688    -0.06427   \n",
       "Q2_pad_bot                    -0.06830    -0.00630    -0.00892    -0.01305   \n",
       "Q2_pad_top                    -0.06217     0.00000     0.00000    -0.01456   \n",
       "Q3_c_connector_pad           825.59667   -12.38675    -1.40685    -1.37138   \n",
       "Q3_pad_bot                   -12.38675    88.81357   -25.75315    -0.00572   \n",
       "Q3_pad_top                    -1.40685   -25.75315    80.89618    -0.00797   \n",
       "Q4_pad_bot                    -1.37138    -0.00572    -0.00797    88.77330   \n",
       "Q4_pad_top                   -12.11479    -0.00646    -0.00582   -25.76949   \n",
       "\n",
       "                    Q4_pad_top  \n",
       "Q1_b_connector_pad    -1.54489  \n",
       "Q1_c_connector_pad    -0.06897  \n",
       "Q1_pad_bot            -0.00644  \n",
       "Q1_pad_top            -0.00670  \n",
       "Q2_c_connector_pad    -0.08308  \n",
       "Q2_pad_bot            -0.01455  \n",
       "Q2_pad_top            -0.01659  \n",
       "Q3_c_connector_pad   -12.11479  \n",
       "Q3_pad_bot            -0.00646  \n",
       "Q3_pad_top            -0.00582  \n",
       "Q4_pad_bot           -25.76949  \n",
       "Q4_pad_top            80.83681  "
      ]
     },
     "execution_count": 31,
     "metadata": {},
     "output_type": "execute_result"
    }
   ],
   "source": [
    "fourq_q3d.get_capacitance_matrix() # Get its capacitance matrix."
   ]
  },
  {
   "cell_type": "markdown",
   "metadata": {},
   "source": [
    "If objects are in the project, you can delete them."
   ]
  },
  {
   "cell_type": "code",
   "execution_count": null,
   "metadata": {},
   "outputs": [],
   "source": [
    "obj_names = fourq_q3d.pinfo.get_all_object_names()\n",
    "if obj_names:\n",
    "    fourq_q3d.clean_project()"
   ]
  },
  {
   "cell_type": "markdown",
   "metadata": {},
   "source": [
    "## References - Miscellaneous pyEPR/Ansys commands\n",
    "The following commands are for reference only to better understand how the backend code works. They're not meant to be run directly in this notebook as part of the guide."
   ]
  },
  {
   "cell_type": "markdown",
   "metadata": {},
   "source": [
    "import pyEPR as epr\n",
    "\n",
    "Connect to Ansys directly from notebook:\n",
    "\n",
    "pinfo = epr.ProjectInfo(project_path = None, \n",
    "                        project_name = None,\n",
    "                        design_name  = None)\n",
    "modeler = pinfo.design.modeler\n",
    "\n",
    "Access methods within HfssDesign class in pyEPR:\n",
    "\n",
    "epr.ansys.HfssDesign.create_dm_setup\n",
    "epr.ansys.HfssDesign.create_q3d_setup\n",
    "\n",
    "Get project and design names:\n",
    "\n",
    "pinfo.project_name\n",
    "design._design.GetName()\n",
    "\n",
    "Filter qgeometry table:\n",
    "\n",
    "full_table = design.qgeometry.tables['poly']\n",
    "mask = full_table['subtract'] == False\n",
    "table = full_table[mask]\n",
    "\n",
    "Draw centered rectangles:\n",
    "\n",
    "bigsquare = modeler.draw_rect_center([0, 0, 0], x_size=8, y_size=8, name='bigsquare')\n",
    "topright = modeler.draw_rect_center([2, 2, 0], x_size=2, y_size=2, name='topright')\n",
    "\n",
    "Subtracting shapes:\n",
    "\n",
    "modeler.subtract('bigsquare', ['topright'])\n",
    "\n",
    "Draw centered box:\n",
    "\n",
    "modeler.draw_box_center([0, 0, 0], [1, 2, 3])\n",
    "\n",
    "Draw closed polygon:\n",
    "\n",
    "trianglepts = [[-1, 5, 0], [1, 5, 0], [0, 7, 0]]\n",
    "modeler.draw_polyline(trianglepts, closed=True)\n",
    "\n",
    "Draw polyline:\n",
    "\n",
    "smallpts = [[2.85, 0, 0], [3.15, 0, 0]]\n",
    "modeler.draw_polyline(smallpts, closed=False)\n",
    "\n",
    "Sweep one polyline with another:\n",
    "\n",
    "modeler._sweep_along_path('Polyline8', 'Polyline7')"
   ]
  }
 ],
 "metadata": {
  "kernelspec": {
   "display_name": "Python 3",
   "language": "python",
   "name": "python3"
  },
  "language_info": {
   "codemirror_mode": {
    "name": "ipython",
    "version": 3
   },
   "file_extension": ".py",
   "mimetype": "text/x-python",
   "name": "python",
   "nbconvert_exporter": "python",
   "pygments_lexer": "ipython3",
   "version": "3.7.8"
  }
 },
 "nbformat": 4,
 "nbformat_minor": 4
}
