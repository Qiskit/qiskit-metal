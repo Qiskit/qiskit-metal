{
 "cells": [
  {
   "cell_type": "markdown",
   "metadata": {},
   "source": [
    "# How to Render Design into Ansys"
   ]
  },
  {
   "cell_type": "markdown",
   "metadata": {},
   "source": [
    "## 1. Perform the necessary imports and create a design in Metal first."
   ]
  },
  {
   "cell_type": "code",
   "execution_count": null,
   "metadata": {},
   "outputs": [],
   "source": [
    "%load_ext autoreload\n",
    "%autoreload 2\n",
    "\n",
    "import qiskit_metal as metal\n",
    "from qiskit_metal import designs, draw\n",
    "from qiskit_metal import MetalGUI, Dict, Headings"
   ]
  },
  {
   "cell_type": "code",
   "execution_count": null,
   "metadata": {},
   "outputs": [],
   "source": [
    "from qiskit_metal.renderers.renderer_ansys.ansys_renderer import QAnsysRenderer\n",
    "\n",
    "QAnsysRenderer.default_options"
   ]
  },
  {
   "cell_type": "code",
   "execution_count": null,
   "metadata": {},
   "outputs": [],
   "source": [
    "design = designs.DesignPlanar()\n",
    "gui = MetalGUI(design)\n",
    "\n",
    "from qiskit_metal.components.qubits.transmon_pocket import TransmonPocket"
   ]
  },
  {
   "cell_type": "code",
   "execution_count": null,
   "metadata": {},
   "outputs": [],
   "source": [
    "design.variables['cpw_width'] = '15 um'\n",
    "design.variables['cpw_gap'] = '9 um'"
   ]
  },
  {
   "cell_type": "markdown",
   "metadata": {},
   "source": [
    "### In this example, the design consists of 4 qubits and 4 CPWs."
   ]
  },
  {
   "cell_type": "code",
   "execution_count": null,
   "metadata": {},
   "outputs": [],
   "source": [
    "# Allow running the same cell here multiple times to overwrite changes\n",
    "design.overwrite_enabled = True\n",
    "\n",
    "## Custom options for all the transmons\n",
    "options = dict(\n",
    "    # Some options we want to modify from the defaults\n",
    "    # (see below for defaults)\n",
    "    pad_width = '425 um', \n",
    "    pocket_height = '650um',\n",
    "    # Adding 4 connectors (see below for defaults)\n",
    "    connection_pads=dict(\n",
    "        a = dict(loc_W=+1,loc_H=-1, pad_width='200um'),\n",
    "        b = dict(loc_W=-1,loc_H=+1, pad_height='30um'),\n",
    "        c = dict(loc_W=-1,loc_H=-1, pad_height='50um')\n",
    "    )\n",
    ")\n",
    "\n",
    "## Create 4 transmons\n",
    "\n",
    "q1 = TransmonPocket(design, 'Q1', options = dict(\n",
    "    pos_x='+2.42251mm', pos_y='+0.0mm', **options))\n",
    "q2 = TransmonPocket(design, 'Q2', options = dict(\n",
    "    pos_x='+0.0mm', pos_y='-0.95mm', orientation = '270', **options))\n",
    "q3 = TransmonPocket(design, 'Q3', options = dict(\n",
    "    pos_x='-2.42251mm', pos_y='+0.0mm', orientation = '180', **options))\n",
    "q4 = TransmonPocket(design, 'Q4', options = dict(\n",
    "    pos_x='+0.0mm', pos_y='+0.95mm', orientation = '90', **options))\n",
    "\n",
    "from qiskit_metal.components.interconnects.meandered import RouteMeander\n",
    "RouteMeander.get_template_options(design)\n",
    "\n",
    "options = Dict(\n",
    "        lead=Dict(\n",
    "            start_straight='0.2mm',\n",
    "            end_straight='0.2mm'),\n",
    "        trace_gap='9um',\n",
    "        trace_width='15um')\n",
    "\n",
    "def connect(component_name: str, component1: str, pin1: str, component2: str, pin2: str,\n",
    "            length: str, asymmetry='0 um', flip=False, fillet='90um'):\n",
    "    \"\"\"Connect two pins with a CPW.\"\"\"\n",
    "    myoptions = Dict(\n",
    "        fillet=fillet,\n",
    "        pin_inputs=Dict(\n",
    "            start_pin=Dict(\n",
    "                component=component1,\n",
    "                pin=pin1),\n",
    "            end_pin=Dict(\n",
    "                component=component2,\n",
    "                pin=pin2)),\n",
    "        total_length=length)\n",
    "    myoptions.update(options)\n",
    "    myoptions.meander.asymmetry = asymmetry\n",
    "    myoptions.meander.lead_direction_inverted = 'true' if flip else 'false'\n",
    "    return RouteMeander(design, component_name, myoptions)\n",
    "\n",
    "asym = 140\n",
    "cpw1 = connect('cpw1', 'Q1', 'c', 'Q2', 'b', '6.0 mm', f'+{asym}um')\n",
    "cpw2 = connect('cpw2', 'Q3', 'b', 'Q2', 'c', '6.1 mm', f'-{asym}um', flip=True)\n",
    "cpw3 = connect('cpw3', 'Q3', 'c', 'Q4', 'b', '6.0 mm', f'+{asym}um')\n",
    "cpw4 = connect('cpw4', 'Q1', 'b', 'Q4', 'c', '6.1 mm', f'-{asym}um', flip=True)\n",
    "\n",
    "gui.rebuild()\n",
    "gui.autoscale()"
   ]
  },
  {
   "cell_type": "markdown",
   "metadata": {},
   "source": [
    "## 2. Registration occurs automatically."
   ]
  },
  {
   "cell_type": "code",
   "execution_count": null,
   "metadata": {},
   "outputs": [],
   "source": [
    "fourq = design.renderers.ansys # Access Ansys renderer"
   ]
  },
  {
   "cell_type": "code",
   "execution_count": null,
   "metadata": {},
   "outputs": [],
   "source": [
    "fourq.open_ansys_design # Open either a new or existing design based on default options"
   ]
  },
  {
   "cell_type": "code",
   "execution_count": null,
   "metadata": {},
   "outputs": [],
   "source": [
    "fourq.render_design() # Start rendering"
   ]
  },
  {
   "cell_type": "markdown",
   "metadata": {},
   "source": [
    "# Miscellaneous pyEPR/Ansys commands"
   ]
  },
  {
   "cell_type": "code",
   "execution_count": null,
   "metadata": {},
   "outputs": [],
   "source": [
    "import pyEPR as epr\n",
    "\n",
    "# Connect to Ansys directly from notebook:\n",
    "\n",
    "pinfo = epr.ProjectInfo(project_path = None, \n",
    "                        project_name = None,\n",
    "                        design_name  = None)\n",
    "modeler = pinfo.design.modeler\n",
    "\n",
    "# Get project and design names:\n",
    "\n",
    "pinfo.project_name\n",
    "design._design.GetName()\n",
    "\n",
    "# Filter qgeometry table:\n",
    "\n",
    "full_table = design.qgeometry.tables['poly']\n",
    "mask = full_table['subtract'] == False\n",
    "table = full_table[mask]\n",
    "\n",
    "# Draw centered rectangles:\n",
    "\n",
    "bigsquare = modeler.draw_rect_center([0, 0, 0], x_size=8, y_size=8, name='bigsquare')\n",
    "topright = modeler.draw_rect_center([2, 2, 0], x_size=2, y_size=2, name='topright')\n",
    "\n",
    "# Subtracting shapes:\n",
    "\n",
    "modeler.subtract('bigsquare', ['topright'])\n",
    "\n",
    "# Draw centered box:\n",
    "\n",
    "modeler.draw_box_center([0, 0, 0], [1, 2, 3])\n",
    "\n",
    "# Draw closed polygon:\n",
    "\n",
    "trianglepts = [[-1, 5, 0], [1, 5, 0], [0, 7, 0]]\n",
    "modeler.draw_polyline(trianglepts, closed=True)\n",
    "\n",
    "# Draw polyline:\n",
    "\n",
    "smallpts = [[2.85, 0, 0], [3.15, 0, 0]]\n",
    "modeler.draw_polyline(smallpts, closed=False)\n",
    "\n",
    "# Sweep one polyline with another:\n",
    "\n",
    "modeler._sweep_along_path('Polyline8', 'Polyline7')"
   ]
  },
  {
   "cell_type": "markdown",
   "metadata": {},
   "source": [
    "# TODOs"
   ]
  },
  {
   "cell_type": "markdown",
   "metadata": {},
   "source": [
    "#### GEOMETRY:\n",
    "1. UNITS (1hr) -> done\n",
    "2. Create CPW without dogleg using marcos code and test out (1 hr)\n",
    "3. Bug in fillet radius for some edges (2 hrs?) -> unsolved \n",
    "Note: cpw2 has the largest fillet radius of them all and won't even draw after shrinking down to the correct units (mm).\n",
    "Worth noting that to_fillet function in hfss_renderer is basically identical to the code starting at line 284 in draw_cpw.py (v0.1) except:\n",
    "(1) Lambda function dist replaced by nested non-lambda function dist for clarity.\n",
    "(2) norm(arr[j] - arr[k]) instead of abs(norm(arr[j] - arr[k])) since norms are non-negative.\n",
    "(3) min(dist(i, i - 1), dist(i, i + 1)) <= 2 * fillet instead of (dist(i, i - 1) <= fillet or dist(i, i + 1) <= fillet).\n",
    "4. Some more test designs with images side by side of metal / hfss \n",
    "5. Refractor code into abstractions\n",
    "\n",
    "#### Boundary conditions - perfE\n",
    "0. Abstract render_path and poly into functions\n",
    "1. Make perf_E everything that is not a helper!! -> get name of created hfss object and then assign a perfE BC use v0.1dev code) https://github.ibm.com/IBM-Q-Restricted-Research/qiskit-metal/blob/master/qiskit_metal/objects/qubits/Metal_Transmon_Pocket.py\n",
    "\n",
    "MAKE ALL by default that is a poly or path (non-zero width) and NOT  a helper and \n",
    "```\n",
    "            oModeler.append_PerfE_assignment(name+'_pads' if DEFAULT['BC_individual'] else options_hfss['BC_name_pads'],\n",
    "                                             [hfss_objs['pad_top'],\n",
    "                                              hfss_objs['pad_bot']])\n",
    "\n",
    "            for key in self.options.connectors:\n",
    "                oModeler.append_PerfE_assignment(name+'_conn' if DEFAULT['BC_individual'] else options_hfss['BC_name_conn'],\n",
    "                                                 [hfss_objs.connectors[key]['connector_pad'],\n",
    "                                                  hfss_objs.connectors[key]['connector_wire']])\n",
    "           SEE PYEPR\n",
    "```\n",
    "\n",
    "\n",
    "### CHIP Substrate and Chip sample holder vacuum box \n",
    "##### Use v0.1 CODE!!!!!!!!\n",
    "\n",
    "https://github.ibm.com/IBM-Q-Restricted-Research/qiskit-metal/blob/46d113e59b92936c7bfaf57b37e677bfbebca893/qiskit_metal/draw_functions.py#L78\n",
    "DONT use region. Just draw a vacuum box\n",
    "\n",
    "        self._chips['main']['size'] = Dict(\n",
    "            center_x='0.0mm',\n",
    "            center_y='0.0mm',\n",
    "            center_z='0.0mm',\n",
    "            size_x='9mm',\n",
    "            size_y='6mm',\n",
    "            size_z='-750um',\n",
    "            sample_holder_top='890um', # how tall is the vacuum above z=0\n",
    "            sample_holder_bottom='1650um' # how tall is the vacuum below z=0\n",
    "        )\n",
    "  \n",
    "* render_chip\n",
    "https://github.ibm.com/IBM-Q-Restricted-Research/qiskit-metal/blob/46d113e59b92936c7bfaf57b37e677bfbebca893/qiskit_metal/draw_functions.py#L136\n",
    "* render_sample_holder\n",
    "\n",
    "\n",
    "\n",
    "**SOON: Junction table (Priti & Thomas)**\n",
    "\n",
    "A new tabl for junctions -> two points -> draw a rectangle with these lumeped BC -> Ask Thomas \n",
    "\n",
    "            rect_jj = hfss_objs['rect_jj'] # pylint: disable=invalid-name # pyEPR.hfss.Rect\n",
    "            axis= self.options.orientation\n",
    "            axis = {90:'x',-90:'x',0:'y',180:'y'}.get(axis,axis)\n",
    "            axis = axis.lower()\n",
    "            rect_jj.make_rlc_boundary(axis, l=options_hfss['Lj'],\n",
    "                                      c=options_hfss['Cj'], r=options_hfss['_Rj'],\n",
    "                                      name='Lj_'+name)\n",
    "\n",
    "            [start, end] = rect_jj.make_center_line(axis)\n",
    "\n",
    "            poly_jj = oModeler.draw_polyline([start, end], closed=False,\n",
    "                                             **{**rect_options, **dict(color=(128, 0, 128))})\n",
    "            poly_jj = poly_jj.rename('JJ_'+name+'_')\n",
    "            poly_jj.show_direction = True\n",
    "            \n",
    "MESH \n",
    "  # JJ\n",
    "            design.mesh_obj(\n",
    "                hfss_objs['rect_jj'], options_hfss['mesh_name_jj'], **options_hfss['mesh_kw_jj'])"
   ]
  }
 ],
 "metadata": {
  "kernelspec": {
   "display_name": "Python 3",
   "language": "python",
   "name": "python3"
  },
  "language_info": {
   "codemirror_mode": {
    "name": "ipython",
    "version": 3
   },
   "file_extension": ".py",
   "mimetype": "text/x-python",
   "name": "python",
   "nbconvert_exporter": "python",
   "pygments_lexer": "ipython3",
   "version": "3.7.6"
  }
 },
 "nbformat": 4,
 "nbformat_minor": 4
}
