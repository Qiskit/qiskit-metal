{
 "cells": [
  {
   "cell_type": "code",
   "execution_count": 1,
   "metadata": {},
   "outputs": [
    {
     "data": {
      "text/html": [
       "\n",
       "    <h1 style=\"\n",
       "        background: #12c2e9;  /* fallback for old browsers */\n",
       "        background: -webkit-linear-gradient(to right, #d4418e 0%, #0652c5 74%);  /* Chrome 10-25, Safari 5.1-6 */\n",
       "        background: linear-gradient(315deg, #d4418e 0%, #0652c5 74%); /* W3C, IE 10+/ Edge, Firefox 16+, Chrome 26+, Opera 12+, Safari 7+ */\n",
       "        margin-top: 50px;\n",
       "        border-style: outset;\n",
       "        padding-top:100px;\n",
       "        padding-bottom:50px;\n",
       "        padding-left:25px;\n",
       "        color: white;\n",
       "    \"> Welcome to Qiskit Metal! <h1>\n",
       "        "
      ],
      "text/plain": [
       "<IPython.core.display.HTML object>"
      ]
     },
     "metadata": {},
     "output_type": "display_data"
    },
    {
     "name": "stdout",
     "output_type": "stream",
     "text": [
      "hi\n",
      "qmodelindex: filename:  transmon_pocket.py index:  <PySide2.QtCore.QModelIndex(3,0,0x7fda376f9b80,LibraryFileProxyModel(0x7fda20fb66f0))  at 0x7fdaa8f133c0>\n",
      "manolo\n",
      "full path:  /Users/graceharperibm/metal_work/qiskit-metal/qiskit_metal/qlibrary/qubits/transmon_pocket.py\n",
      "import_class name: TransmonPocket\n",
      "import_class: <class 'qiskit_metal.qlibrary.qubits.transmon_pocket.TransmonPocket'>\n",
      "self.logger IS:  <Logger metal (DEBUG)>\n",
      "cur_name name\n",
      "entry_type: <class 'str'>\n",
      "param.default: None\n",
      "initting NormalEntryWidget\n",
      "cur_name options\n",
      "entry_type: <class 'addict.addict.Dict'>\n",
      "param.default: None\n",
      "initting dictionary entry widget\n",
      "cur_collapsable_layout:  <PySide2.QtWidgets.QVBoxLayout object at 0x7fda58f7ccd0>\n",
      "initting DictionaryEntryBox\n",
      "value_o run\n",
      "value_o added\n",
      "box parts added\n",
      "remove lambda added\n",
      "setup nested button\n",
      "entry_collapsable_layout:  <PySide2.QtWidgets.QVBoxLayout object at 0x7fda58f900a0>\n",
      "cur_name options_connection_pads\n",
      "entry_type: <class 'addict.addict.Dict'>\n",
      "param.default: None\n",
      "initting dictionary entry widget\n",
      "cur_collapsable_layout:  <PySide2.QtWidgets.QVBoxLayout object at 0x7fda58f90b40>\n",
      "initting DictionaryEntryBox\n",
      "value_o run\n",
      "value_o added\n",
      "box parts added\n",
      "remove lambda added\n",
      "setup nested button\n",
      "entry_collapsable_layout:  <PySide2.QtWidgets.QVBoxLayout object at 0x7fda58f90a50>\n",
      "cur_name make\n",
      "entry_type: <class 'bool'>\n",
      "param.default: True\n",
      "initting NormalEntryWidget\n",
      "made it\n",
      "param_entry made\n",
      "param entry showing? : True\n",
      "wig lay <PySide2.QtWidgets.QVBoxLayout object at 0x7fda58f900a0>\n",
      "content height 183\n",
      "will arg:  name\n",
      "Normal\n",
      "ed.txt() \n",
      "default arg bc  \n",
      "default arg:  None\n",
      "final value:  None\n",
      "entry.arg_name:  name\n",
      "entry.arg_name type:  <class 'str'>\n",
      "will arg:  options\n",
      "kv_count:  2\n",
      "\n",
      "peda key:  sadf\n",
      "keyname:  sadf\n",
      "value_widget is:  <PySide2.QtWidgets.QLineEdit object at 0x7fda58f90460>\n",
      "type current txt:  float\n",
      "type builtins:  <class 'module'>\n",
      "builtins <module 'builtins' (built-in)>\n",
      "dict cur_type:  <class 'float'>\n",
      "will value\n",
      "LibraryQCom...Exception AS str:  InvalidParameterTypeException\n",
      "LibraryQCom...Exception AS:  InvalidParameterTypeException\n",
      "DONE\n"
     ]
    }
   ],
   "source": [
    "%load_ext autoreload\n",
    "%autoreload 2\n",
    "import qiskit_metal as metal\n",
    "from qiskit_metal import designs, draw\n",
    "from qiskit_metal import MetalGUI, Dict, open_docs\n",
    "\n",
    "%metal_heading Welcome to Qiskit Metal!\n",
    "design = designs.DesignPlanar()\n",
    "gui = MetalGUI(design)\n",
    "\n",
    "#from qiskit_metal.qlibrary.qubits.transmon_pocket import TransmonPocket\n",
    "\n",
    "\n",
    "#q1 = TransmonPocket(design, 'Q1', options=dict(connection_pads=dict(a=dict()))) # Create a new Transmon Pocket object with name 'Q1' \n",
    "#gui.rebuild()  # rebuild the design and plot \n"
   ]
  },
  {
   "cell_type": "code",
   "execution_count": null,
   "metadata": {},
   "outputs": [],
   "source": []
  },
  {
   "cell_type": "code",
   "execution_count": null,
   "metadata": {},
   "outputs": [],
   "source": [
    "q1.options"
   ]
  },
  {
   "cell_type": "code",
   "execution_count": null,
   "metadata": {},
   "outputs": [],
   "source": [
    "TransmonPocket.options_template"
   ]
  }
 ],
 "metadata": {
  "kernelspec": {
   "display_name": "nineteen",
   "language": "python",
   "name": "nineteen"
  },
  "language_info": {
   "codemirror_mode": {
    "name": "ipython",
    "version": 3
   },
   "file_extension": ".py",
   "mimetype": "text/x-python",
   "name": "python",
   "nbconvert_exporter": "python",
   "pygments_lexer": "ipython3",
   "version": "3.7.8"
  }
 },
 "nbformat": 4,
 "nbformat_minor": 4
}
