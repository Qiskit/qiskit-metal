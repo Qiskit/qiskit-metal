{
 "cells": [
  {
   "cell_type": "code",
   "execution_count": 1,
   "metadata": {},
   "outputs": [
    {
     "data": {
      "text/html": [
       "\n",
       "    <h1 style=\"\n",
       "        background: #12c2e9;  /* fallback for old browsers */\n",
       "        background: -webkit-linear-gradient(to right, #d4418e 0%, #0652c5 74%);  /* Chrome 10-25, Safari 5.1-6 */\n",
       "        background: linear-gradient(315deg, #d4418e 0%, #0652c5 74%); /* W3C, IE 10+/ Edge, Firefox 16+, Chrome 26+, Opera 12+, Safari 7+ */\n",
       "        margin-top: 50px;\n",
       "        border-style: outset;\n",
       "        padding-top:100px;\n",
       "        padding-bottom:50px;\n",
       "        padding-left:25px;\n",
       "        color: white;\n",
       "    \"> Welcome to Qiskit Metal! <h1>\n",
       "        "
      ],
      "text/plain": [
       "<IPython.core.display.HTML object>"
      ]
     },
     "metadata": {},
     "output_type": "display_data"
    },
    {
     "name": "stdout",
     "output_type": "stream",
     "text": [
      "hi\n",
      "qmodelindex: filename:  transmon_pocket_cl.py index:  <PySide2.QtCore.QModelIndex(2,0,0x7feab5c1bdc0,LibraryFileProxyModel(0x7feac2eeaf50))  at 0x7fead89c1370>\n",
      "manolo\n",
      "full path:  /Users/graceharperibm/metal_work/qiskit-metal/qiskit_metal/qlibrary/qubits/transmon_pocket_cl.py\n",
      "resized\n",
      "Size Policy done \n",
      "about to get class from abd file\n",
      "tyring init wrapepr\n",
      "rooting dir\n",
      "tyring init wrapepr\n",
      "returning imported \n",
      "got class\n",
      "import_class name: TransmonPocketCL\n",
      "import_class: <class 'qiskit_metal.qlibrary.qubits.transmon_pocket_cl.TransmonPocketCL'>\n",
      "self.logger IS:  <Logger metal (DEBUG)>\n",
      "tyring init wrapepr\n",
      "cur_name name\n",
      "entry_type: <class 'str'>\n",
      "param.default: None\n",
      "initting NormalEntryWidget\n",
      "cur_name options\n",
      "entry_type: <class 'addict.addict.Dict'>\n",
      "param.default: None\n",
      "initting dictionary entry widget\n",
      "cur_collapsable_layout:  <PySide2.QtWidgets.QVBoxLayout object at 0x7feb49f26050>\n",
      "initting DictionaryEntryBox\n",
      "value_o run\n",
      "value_o added\n",
      "box parts added\n",
      "remove lambda added\n",
      "setup nested button\n",
      "entry_collapsable_layout:  <PySide2.QtWidgets.QVBoxLayout object at 0x7feb49f26410>\n",
      "cur_name options_connection_pads\n",
      "entry_type: <class 'addict.addict.Dict'>\n",
      "param.default: None\n",
      "initting dictionary entry widget\n",
      "cur_collapsable_layout:  <PySide2.QtWidgets.QVBoxLayout object at 0x7feb49f26e60>\n",
      "initting DictionaryEntryBox\n",
      "value_o run\n",
      "value_o added\n",
      "box parts added\n",
      "remove lambda added\n",
      "setup nested button\n",
      "entry_collapsable_layout:  <PySide2.QtWidgets.QVBoxLayout object at 0x7feb49f26d70>\n",
      "cur_name make\n",
      "entry_type: <class 'bool'>\n",
      "param.default: True\n",
      "initting NormalEntryWidget\n",
      "made it\n",
      "param_entry made\n",
      "param entry showing? : True\n"
     ]
    }
   ],
   "source": [
    "%load_ext autoreload\n",
    "%autoreload 2\n",
    "import qiskit_metal as metal\n",
    "from qiskit_metal import designs, draw\n",
    "from qiskit_metal import MetalGUI, Dict, open_docs\n",
    "\n",
    "%metal_heading Welcome to Qiskit Metal!\n",
    "design = designs.DesignPlanar()\n",
    "gui = MetalGUI(design)\n",
    "\n",
    "#from qiskit_metal.qlibrary.qubits.transmon_pocket import TransmonPocket\n",
    "\n",
    "\n",
    "#q1 = TransmonPocket(design, 'Q1', options=dict(connection_pads=dict(a=dict()))) # Create a new Transmon Pocket object with name 'Q1' \n",
    "#gui.rebuild()  # rebuild the design and plot \n"
   ]
  },
  {
   "cell_type": "code",
   "execution_count": null,
   "metadata": {},
   "outputs": [],
   "source": []
  },
  {
   "cell_type": "code",
   "execution_count": null,
   "metadata": {},
   "outputs": [],
   "source": [
    "q1.options"
   ]
  },
  {
   "cell_type": "code",
   "execution_count": null,
   "metadata": {},
   "outputs": [],
   "source": [
    "TransmonPocket.options_template"
   ]
  }
 ],
 "metadata": {
  "kernelspec": {
   "display_name": "nineteen",
   "language": "python",
   "name": "nineteen"
  },
  "language_info": {
   "codemirror_mode": {
    "name": "ipython",
    "version": 3
   },
   "file_extension": ".py",
   "mimetype": "text/x-python",
   "name": "python",
   "nbconvert_exporter": "python",
   "pygments_lexer": "ipython3",
   "version": "3.7.8"
  }
 },
 "nbformat": 4,
 "nbformat_minor": 4
}
