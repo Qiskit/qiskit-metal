{
 "cells": [
  {
   "cell_type": "code",
   "execution_count": 1,
   "metadata": {},
   "outputs": [
    {
     "data": {
      "text/html": [
       "\n",
       "    <h1 style=\"\n",
       "        background: #12c2e9;  /* fallback for old browsers */\n",
       "        background: -webkit-linear-gradient(to right, #d4418e 0%, #0652c5 74%);  /* Chrome 10-25, Safari 5.1-6 */\n",
       "        background: linear-gradient(315deg, #d4418e 0%, #0652c5 74%); /* W3C, IE 10+/ Edge, Firefox 16+, Chrome 26+, Opera 12+, Safari 7+ */\n",
       "        margin-top: 50px;\n",
       "        border-style: outset;\n",
       "        padding-top:100px;\n",
       "        padding-bottom:50px;\n",
       "        padding-left:25px;\n",
       "        color: white;\n",
       "    \"> Welcome to Qiskit Metal! <h1>\n",
       "        "
      ],
      "text/plain": [
       "<IPython.core.display.HTML object>"
      ]
     },
     "metadata": {},
     "output_type": "display_data"
    },
    {
     "name": "stderr",
     "output_type": "stream",
     "text": [
      "WARNING:py.warnings:/Users/graceharperibm/opt/anaconda3/envs/nineteen/lib/python3.7/site-packages/ipykernel/eventloops.py:106: UserWarning: constrained_layout not applied.  At least one axes collapsed to zero width or height.\n",
      "  app.exec_()\n",
      "\n",
      "WARNING:py.warnings:/Users/graceharperibm/metal_work/qiskit-metal/qiskit_metal/renderers/renderer_mpl/mpl_canvas.py:569: UserWarning: constrained_layout not applied.  At least one axes collapsed to zero width or height.\n",
      "  self.draw()\n",
      "\n",
      "WARNING:py.warnings:/Users/graceharperibm/metal_work/qiskit-metal/qiskit_metal/renderers/renderer_mpl/mpl_canvas.py:568: UserWarning: constrained_layout not applied.  At least one axes collapsed to zero width or height.\n",
      "  self.flush_events()\n",
      "\n"
     ]
    },
    {
     "name": "stdout",
     "output_type": "stream",
     "text": [
      "hi\n",
      "qmodelindex: filename:  base index:  <PySide2.QtCore.QModelIndex(0,0,0x7fc74aa05a90,QSortFilterProxyModel(0x7fc74a70e1f0))  at 0x7fc772b00b90>\n",
      "hi\n",
      "qmodelindex: filename:  Folder index:  <PySide2.QtCore.QModelIndex(0,2,0x7fc74aa05a90,QSortFilterProxyModel(0x7fc74a70e1f0))  at 0x7fc7b00647d0>\n",
      "hi\n",
      "qmodelindex: filename:  2/11/21 6:54 PM index:  <PySide2.QtCore.QModelIndex(0,3,0x7fc74aa05a90,QSortFilterProxyModel(0x7fc74a70e1f0))  at 0x7fc7722f3230>\n",
      "hi\n",
      "qmodelindex: filename:  _parsed_dynamic_attrs.py index:  <PySide2.QtCore.QModelIndex(0,0,0x7fc74aa26520,QSortFilterProxyModel(0x7fc74a70e1f0))  at 0x7fc7a162a780>\n",
      "hi\n",
      "qmodelindex: filename:  base.py index:  <PySide2.QtCore.QModelIndex(1,0,0x7fc74aa26520,QSortFilterProxyModel(0x7fc74a70e1f0))  at 0x7fc772709dc0>\n",
      "hi\n",
      "qmodelindex: filename:  qroute.py index:  <PySide2.QtCore.QModelIndex(2,0,0x7fc74aa26520,QSortFilterProxyModel(0x7fc74a70e1f0))  at 0x7fc772b00eb0>\n",
      "hi\n",
      "qmodelindex: filename:  py File index:  <PySide2.QtCore.QModelIndex(2,2,0x7fc74aa26520,QSortFilterProxyModel(0x7fc74a70e1f0))  at 0x7fc772709dc0>\n",
      "hi\n",
      "qmodelindex: filename:  2/11/21 6:54 PM index:  <PySide2.QtCore.QModelIndex(2,3,0x7fc74aa26520,QSortFilterProxyModel(0x7fc74a70e1f0))  at 0x7fc7b00647d0>\n",
      "hi\n",
      "qmodelindex: filename:  base index:  <PySide2.QtCore.QModelIndex(0,0,0x7fc79dc74950,QSortFilterProxyModel(0x7fc74a70e1f0))  at 0x7fc77273bcd0>\n",
      "hi\n",
      "qmodelindex: filename:  _parsed_dynamic_attrs.py index:  <PySide2.QtCore.QModelIndex(0,0,0x7fc74aa26520,QSortFilterProxyModel(0x7fc74a70e1f0))  at 0x7fc772ae9370>\n",
      "hi\n",
      "qmodelindex: filename:  base.py index:  <PySide2.QtCore.QModelIndex(1,0,0x7fc74aa26520,QSortFilterProxyModel(0x7fc74a70e1f0))  at 0x7fc772b00eb0>\n",
      "hi\n",
      "qmodelindex: filename:  qroute.py index:  <PySide2.QtCore.QModelIndex(2,0,0x7fc74aa26520,QSortFilterProxyModel(0x7fc74a70e1f0))  at 0x7fc772b00b90>\n",
      "hi\n",
      "qmodelindex: filename:  qubit.py index:  <PySide2.QtCore.QModelIndex(3,0,0x7fc74aa26520,QSortFilterProxyModel(0x7fc74a70e1f0))  at 0x7fc77273bcd0>\n"
     ]
    }
   ],
   "source": [
    "%load_ext autoreload\n",
    "%autoreload 2\n",
    "import qiskit_metal as metal\n",
    "from qiskit_metal import designs, draw\n",
    "from qiskit_metal import MetalGUI, Dict, open_docs\n",
    "\n",
    "%metal_heading Welcome to Qiskit Metal!\n",
    "design = designs.DesignPlanar()\n",
    "gui = MetalGUI(design)\n",
    "\n",
    "from qiskit_metal.qlibrary.qubits.transmon_pocket import TransmonPocket\n",
    "\n",
    "\n",
    "q1 = TransmonPocket(design, 'Q1', options=dict(connection_pads=dict(a=dict()))) # Create a new Transmon Pocket object with name 'Q1' \n",
    "gui.rebuild()  # rebuild the design and plot \n"
   ]
  },
  {
   "cell_type": "code",
   "execution_count": null,
   "metadata": {},
   "outputs": [],
   "source": [
    "q1.options"
   ]
  },
  {
   "cell_type": "code",
   "execution_count": null,
   "metadata": {},
   "outputs": [],
   "source": [
    "TransmonPocket.options_template"
   ]
  }
 ],
 "metadata": {
  "kernelspec": {
   "display_name": "nineteen",
   "language": "python",
   "name": "nineteen"
  },
  "language_info": {
   "codemirror_mode": {
    "name": "ipython",
    "version": 3
   },
   "file_extension": ".py",
   "mimetype": "text/x-python",
   "name": "python",
   "nbconvert_exporter": "python",
   "pygments_lexer": "ipython3",
   "version": "3.7.8"
  }
 },
 "nbformat": 4,
 "nbformat_minor": 4
}
