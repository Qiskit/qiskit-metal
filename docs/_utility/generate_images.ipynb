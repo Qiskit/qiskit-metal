{
 "cells": [
  {
   "cell_type": "markdown",
   "metadata": {},
   "source": [
    "# Generate qlibrary component images\n"
   ]
  },
  {
   "cell_type": "markdown",
   "metadata": {},
   "source": [
    "### Start gui"
   ]
  },
  {
   "cell_type": "code",
   "execution_count": null,
   "metadata": {},
   "outputs": [],
   "source": [
    "%load_ext autoreload\n",
    "%autoreload 2\n",
    "\n",
    "import qiskit_metal as metal\n",
    "from qiskit_metal import designs, draw\n",
    "from qiskit_metal import MetalGUI, Dict\n",
    "\n",
    "design = designs.DesignPlanar()\n",
    "gui = MetalGUI(design)"
   ]
  },
  {
   "cell_type": "markdown",
   "metadata": {},
   "source": [
    "### Qlibrary component imports"
   ]
  },
  {
   "cell_type": "code",
   "execution_count": null,
   "metadata": {
    "scrolled": true
   },
   "outputs": [],
   "source": [
    "from qiskit_metal.qlibrary.sample_shapes.circle_caterpillar import CircleCaterpillar\n",
    "from qiskit_metal.qlibrary.sample_shapes.circle_raster import CircleRaster\n",
    "from qiskit_metal.qlibrary.sample_shapes.n_gon import NGon\n",
    "from qiskit_metal.qlibrary.sample_shapes.n_square_spiral import NSquareSpiral\n",
    "from qiskit_metal.qlibrary.sample_shapes.rectangle import Rectangle\n",
    "from qiskit_metal.qlibrary.sample_shapes.rectangle_hollow import RectangleHollow\n",
    "\n",
    "from qiskit_metal.qlibrary.lumped.cap_3_interdigital import Cap3Interdigital\n",
    "from qiskit_metal.qlibrary.lumped.cap_n_interdigital import CapNInterdigital\n",
    "from qiskit_metal.qlibrary.lumped.resonator_coil_rect import ResonatorCoilRect\n",
    "\n",
    "from qiskit_metal.qlibrary.couplers.coupled_line_tee import CoupledLineTee\n",
    "from qiskit_metal.qlibrary.couplers.line_tee import LineTee\n",
    "from qiskit_metal.qlibrary.couplers.cap_n_interdigital_tee import CapNInterdigitalTee\n",
    "from qiskit_metal.qlibrary.couplers.tunable_coupler_01 import TunableCoupler01\n",
    "\n",
    "from qiskit_metal.qlibrary.terminations.launchpad_wb import LaunchpadWirebond\n",
    "from qiskit_metal.qlibrary.terminations.launchpad_wb_coupled import LaunchpadWirebondCoupled\n",
    "from qiskit_metal.qlibrary.terminations.open_to_ground import OpenToGround\n",
    "from qiskit_metal.qlibrary.terminations.short_to_ground import ShortToGround"
   ]
  },
  {
   "cell_type": "markdown",
   "metadata": {},
   "source": [
    "### CircleCaterpillar"
   ]
  },
  {
   "cell_type": "code",
   "execution_count": null,
   "metadata": {},
   "outputs": [],
   "source": [
    "circlecaterpillar = CircleCaterpillar(design, 'circlecaterpillar')\n",
    "\n",
    "gui.rebuild()\n",
    "gui.autoscale()\n",
    "gui.zoom_on_components(['circlecaterpillar']) \n",
    "\n",
    "gui.figure.savefig('shot.png')\n",
    "\n",
    "from IPython.display import Image, display\n",
    "_disp_ops = dict(width=500)\n",
    "display(Image('shot.png', **_disp_ops))\n",
    "\n",
    "design.delete_component('circlecaterpillar')"
   ]
  },
  {
   "cell_type": "markdown",
   "metadata": {},
   "source": [
    "### CircleRaster"
   ]
  },
  {
   "cell_type": "code",
   "execution_count": null,
   "metadata": {},
   "outputs": [],
   "source": [
    "circleraster = CircleRaster(design, 'circleraster')\n",
    "\n",
    "gui.rebuild()\n",
    "gui.autoscale()\n",
    "gui.zoom_on_components(['circleraster']) \n",
    "\n",
    "gui.figure.savefig('shot.png')\n",
    "\n",
    "from IPython.display import Image, display\n",
    "_disp_ops = dict(width=500)\n",
    "display(Image('shot.png', **_disp_ops))\n",
    "\n",
    "design.delete_component('circleraster')"
   ]
  },
  {
   "cell_type": "markdown",
   "metadata": {},
   "source": [
    "### NGon"
   ]
  },
  {
   "cell_type": "code",
   "execution_count": null,
   "metadata": {},
   "outputs": [],
   "source": [
    "ngon = NGon(design, 'ngon')\n",
    "\n",
    "gui.rebuild()\n",
    "gui.autoscale()\n",
    "gui.zoom_on_components(['ngon']) \n",
    "\n",
    "gui.figure.savefig('shot.png')\n",
    "\n",
    "from IPython.display import Image, display\n",
    "_disp_ops = dict(width=500)\n",
    "display(Image('shot.png', **_disp_ops))\n",
    "\n",
    "design.delete_component('ngon')"
   ]
  },
  {
   "cell_type": "markdown",
   "metadata": {},
   "source": [
    "### NSquareSpiral"
   ]
  },
  {
   "cell_type": "code",
   "execution_count": null,
   "metadata": {},
   "outputs": [],
   "source": [
    "nsquarespiral = NSquareSpiral(design, 'nsquarespiral')\n",
    "\n",
    "gui.rebuild()\n",
    "gui.autoscale()\n",
    "gui.zoom_on_components(['nsquarespiral']) \n",
    "\n",
    "gui.figure.savefig('shot.png')\n",
    "\n",
    "from IPython.display import Image, display\n",
    "_disp_ops = dict(width=500)\n",
    "display(Image('shot.png', **_disp_ops))\n",
    "\n",
    "design.delete_component('nsquarespiral')"
   ]
  },
  {
   "cell_type": "markdown",
   "metadata": {},
   "source": [
    "### Rectangle"
   ]
  },
  {
   "cell_type": "code",
   "execution_count": null,
   "metadata": {},
   "outputs": [],
   "source": [
    "rectangle = Rectangle(design, 'rectangle')\n",
    "\n",
    "gui.rebuild()\n",
    "gui.autoscale()\n",
    "gui.zoom_on_components(['rectangle']) \n",
    "\n",
    "gui.figure.savefig('shot.png')\n",
    "\n",
    "from IPython.display import Image, display\n",
    "_disp_ops = dict(width=500)\n",
    "display(Image('shot.png', **_disp_ops))\n",
    "\n",
    "design.delete_component('rectangle')"
   ]
  },
  {
   "cell_type": "markdown",
   "metadata": {},
   "source": [
    "### RectangleHollow"
   ]
  },
  {
   "cell_type": "code",
   "execution_count": null,
   "metadata": {},
   "outputs": [],
   "source": [
    "rectanglehollow = RectangleHollow(design, 'rectanglehollow')\n",
    "\n",
    "gui.rebuild()\n",
    "gui.autoscale()\n",
    "gui.zoom_on_components(['rectanglehollow']) \n",
    "\n",
    "gui.figure.savefig('shot.png')\n",
    "\n",
    "from IPython.display import Image, display\n",
    "_disp_ops = dict(width=500)\n",
    "display(Image('shot.png', **_disp_ops))\n",
    "\n",
    "design.delete_component('rectanglehollow')"
   ]
  },
  {
   "cell_type": "markdown",
   "metadata": {},
   "source": [
    "### Cap3Interdigital"
   ]
  },
  {
   "cell_type": "code",
   "execution_count": null,
   "metadata": {},
   "outputs": [],
   "source": [
    "cap3interdigital = Cap3Interdigital(design, 'cap3interdigital')\n",
    "\n",
    "gui.rebuild()\n",
    "gui.autoscale()\n",
    "gui.zoom_on_components(['cap3interdigital']) \n",
    "\n",
    "gui.figure.savefig('shot.png')\n",
    "\n",
    "from IPython.display import Image, display\n",
    "_disp_ops = dict(width=500)\n",
    "display(Image('shot.png', **_disp_ops))\n",
    "\n",
    "design.delete_component('cap3interdigital')"
   ]
  },
  {
   "cell_type": "markdown",
   "metadata": {},
   "source": [
    "### CapNInterdigital"
   ]
  },
  {
   "cell_type": "code",
   "execution_count": null,
   "metadata": {},
   "outputs": [],
   "source": [
    "capninterdigital = CapNInterdigital(design, 'capninterdigital')\n",
    "\n",
    "gui.rebuild()\n",
    "gui.autoscale()\n",
    "gui.zoom_on_components(['capninterdigital']) \n",
    "\n",
    "gui.figure.savefig('shot.png')\n",
    "\n",
    "from IPython.display import Image, display\n",
    "_disp_ops = dict(width=500)\n",
    "display(Image('shot.png', **_disp_ops))\n",
    "\n",
    "design.delete_component('capninterdigital')"
   ]
  },
  {
   "cell_type": "markdown",
   "metadata": {},
   "source": [
    "### ResonatorCoilRect"
   ]
  },
  {
   "cell_type": "code",
   "execution_count": null,
   "metadata": {},
   "outputs": [],
   "source": [
    "resonatorcoilrect = ResonatorCoilRect(design, 'resonatorcoilrect')\n",
    "\n",
    "gui.rebuild()\n",
    "gui.autoscale()\n",
    "gui.zoom_on_components(['resonatorcoilrect']) \n",
    "\n",
    "gui.figure.savefig('shot.png')\n",
    "\n",
    "from IPython.display import Image, display\n",
    "_disp_ops = dict(width=500)\n",
    "display(Image('shot.png', **_disp_ops))\n",
    "\n",
    "design.delete_component('resonatorcoilrect')"
   ]
  },
  {
   "cell_type": "markdown",
   "metadata": {},
   "source": [
    "### CoupledLineTee"
   ]
  },
  {
   "cell_type": "code",
   "execution_count": null,
   "metadata": {},
   "outputs": [],
   "source": [
    "coupledlintee = CoupledLineTee(design, 'coupledlintee')\n",
    "\n",
    "gui.rebuild()\n",
    "gui.autoscale()\n",
    "gui.zoom_on_components(['coupledlintee']) \n",
    "\n",
    "gui.figure.savefig('shot.png')\n",
    "\n",
    "from IPython.display import Image, display\n",
    "_disp_ops = dict(width=500)\n",
    "display(Image('shot.png', **_disp_ops))\n",
    "\n",
    "design.delete_component('coupledlintee')"
   ]
  },
  {
   "cell_type": "markdown",
   "metadata": {},
   "source": [
    "### LineTee"
   ]
  },
  {
   "cell_type": "code",
   "execution_count": null,
   "metadata": {},
   "outputs": [],
   "source": [
    "linetee = LineTee(design, 'linetee')\n",
    "\n",
    "gui.rebuild()\n",
    "gui.autoscale()\n",
    "gui.zoom_on_components(['linetee']) \n",
    "\n",
    "gui.figure.savefig('shot.png')\n",
    "\n",
    "from IPython.display import Image, display\n",
    "_disp_ops = dict(width=500)\n",
    "display(Image('shot.png', **_disp_ops))\n",
    "\n",
    "design.delete_component('linetee')"
   ]
  },
  {
   "cell_type": "markdown",
   "metadata": {},
   "source": [
    "### CapNInterdigitalTee"
   ]
  },
  {
   "cell_type": "code",
   "execution_count": null,
   "metadata": {},
   "outputs": [],
   "source": [
    "capninterdigitaltee = CapNInterdigitalTee(design, 'capninterdigitaltee')\n",
    "\n",
    "gui.rebuild()\n",
    "gui.autoscale()\n",
    "gui.zoom_on_components(['capninterdigitaltee'])\n",
    "\n",
    "gui.figure.savefig('shot.png')\n",
    "\n",
    "from IPython.display import Image, display\n",
    "_disp_ops = dict(width=500)\n",
    "display(Image('shot.png', **_disp_ops))\n",
    "\n",
    "design.delete_component('capninterdigitaltee')"
   ]
  },
  {
   "cell_type": "markdown",
   "metadata": {},
   "source": [
    "### TunableCoupler01"
   ]
  },
  {
   "cell_type": "code",
   "execution_count": null,
   "metadata": {},
   "outputs": [],
   "source": [
    "tunablecoupler01 = TunableCoupler01(design, 'tunablecoupler01')\n",
    "\n",
    "gui.rebuild()\n",
    "gui.autoscale()\n",
    "gui.zoom_on_components(['tunablecoupler01'])\n",
    "\n",
    "gui.figure.savefig('shot.png')\n",
    "\n",
    "from IPython.display import Image, display\n",
    "_disp_ops = dict(width=500)\n",
    "display(Image('shot.png', **_disp_ops))\n",
    "\n",
    "design.delete_component('tunablecoupler01')"
   ]
  },
  {
   "cell_type": "markdown",
   "metadata": {},
   "source": [
    "### LaunchpadWirebond"
   ]
  },
  {
   "cell_type": "code",
   "execution_count": null,
   "metadata": {},
   "outputs": [],
   "source": [
    "launchpadwirebond = LaunchpadWirebond(design, 'launchpadwirebond')\n",
    "\n",
    "gui.rebuild()\n",
    "gui.autoscale()\n",
    "gui.zoom_on_components(['launchpadwirebond'])\n",
    "\n",
    "gui.figure.savefig('shot.png')\n",
    "\n",
    "from IPython.display import Image, display\n",
    "_disp_ops = dict(width=500)\n",
    "display(Image('shot.png', **_disp_ops))\n",
    "\n",
    "design.delete_component('launchpadwirebond')"
   ]
  },
  {
   "cell_type": "markdown",
   "metadata": {},
   "source": [
    "### LaunchpadWirebondCoupled"
   ]
  },
  {
   "cell_type": "code",
   "execution_count": null,
   "metadata": {},
   "outputs": [],
   "source": [
    "launchpadwirebondcoupled = LaunchpadWirebondCoupled(design, 'launchpadwirebondcoupled')\n",
    "\n",
    "gui.rebuild()\n",
    "gui.autoscale()\n",
    "gui.zoom_on_components(['launchpadwirebondcoupled'])\n",
    "\n",
    "gui.figure.savefig('shot.png')\n",
    "\n",
    "from IPython.display import Image, display\n",
    "_disp_ops = dict(width=500)\n",
    "display(Image('shot.png', **_disp_ops))\n",
    "\n",
    "design.delete_component('launchpadwirebondcoupled')"
   ]
  },
  {
   "cell_type": "markdown",
   "metadata": {},
   "source": [
    "### OpenToGround"
   ]
  },
  {
   "cell_type": "code",
   "execution_count": null,
   "metadata": {},
   "outputs": [],
   "source": [
    "opentoground = OpenToGround(design, 'opentoground')\n",
    "\n",
    "gui.rebuild()\n",
    "gui.autoscale()\n",
    "gui.zoom_on_components(['opentoground'])\n",
    "\n",
    "gui.figure.savefig('shot.png')\n",
    "\n",
    "from IPython.display import Image, display\n",
    "_disp_ops = dict(width=500)\n",
    "display(Image('shot.png', **_disp_ops))\n",
    "\n",
    "design.delete_component('opentoground')"
   ]
  },
  {
   "cell_type": "markdown",
   "metadata": {
    "tags": []
   },
   "source": [
    "### Closing the Qiskit Metal GUI"
   ]
  },
  {
   "cell_type": "code",
   "execution_count": null,
   "metadata": {},
   "outputs": [],
   "source": [
    "gui.main_window.close()"
   ]
  }
 ],
 "metadata": {
  "celltoolbar": "Tags",
  "kernelspec": {
   "display_name": "Python 3",
   "language": "python",
   "name": "python3"
  },
  "language_info": {
   "codemirror_mode": {
    "name": "ipython",
    "version": 3
   },
   "file_extension": ".py",
   "mimetype": "text/x-python",
   "name": "python",
   "nbconvert_exporter": "python",
   "pygments_lexer": "ipython3",
   "version": "3.7.8"
  }
 },
 "nbformat": 4,
 "nbformat_minor": 4
}
