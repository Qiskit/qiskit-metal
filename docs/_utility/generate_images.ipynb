{
 "cells": [
  {
   "cell_type": "markdown",
   "metadata": {},
   "source": [
    "# Generate qlibrary component images\n"
   ]
  },
  {
   "cell_type": "markdown",
   "metadata": {},
   "source": [
    "By running this notebook the qlibrary component image files will be update.  After the docs build is rerun the images in the docs will be updated automatically.\n"
   ]
  },
  {
   "cell_type": "markdown",
   "metadata": {},
   "source": [
    "### Start gui"
   ]
  },
  {
   "cell_type": "code",
   "execution_count": null,
   "metadata": {},
   "outputs": [],
   "source": [
    "%load_ext autoreload\n",
    "%autoreload 2\n",
    "\n",
    "import qiskit_metal as metal\n",
    "from qiskit_metal import designs, draw\n",
    "from qiskit_metal import MetalGUI, Dict\n",
    "\n",
    "design = designs.DesignPlanar()\n",
    "gui = MetalGUI(design)"
   ]
  },
  {
   "cell_type": "markdown",
   "metadata": {},
   "source": [
    "### Qlibrary component imports"
   ]
  },
  {
   "cell_type": "code",
   "execution_count": null,
   "metadata": {
    "scrolled": true
   },
   "outputs": [],
   "source": [
    "from qiskit_metal.qlibrary.sample_shapes.circle_caterpillar import CircleCaterpillar\n",
    "from qiskit_metal.qlibrary.sample_shapes.circle_raster import CircleRaster\n",
    "from qiskit_metal.qlibrary.sample_shapes.n_gon import NGon\n",
    "from qiskit_metal.qlibrary.sample_shapes.n_square_spiral import NSquareSpiral\n",
    "from qiskit_metal.qlibrary.sample_shapes.rectangle import Rectangle\n",
    "from qiskit_metal.qlibrary.sample_shapes.rectangle_hollow import RectangleHollow\n",
    "\n",
    "from qiskit_metal.qlibrary.lumped.cap_3_interdigital import Cap3Interdigital\n",
    "from qiskit_metal.qlibrary.lumped.cap_n_interdigital import CapNInterdigital\n",
    "from qiskit_metal.qlibrary.lumped.resonator_coil_rect import ResonatorCoilRect\n",
    "\n",
    "from qiskit_metal.qlibrary.couplers.coupled_line_tee import CoupledLineTee\n",
    "from qiskit_metal.qlibrary.couplers.line_tee import LineTee\n",
    "from qiskit_metal.qlibrary.couplers.cap_n_interdigital_tee import CapNInterdigitalTee\n",
    "from qiskit_metal.qlibrary.couplers.tunable_coupler_01 import TunableCoupler01\n",
    "\n",
    "from qiskit_metal.qlibrary.terminations.launchpad_wb import LaunchpadWirebond\n",
    "from qiskit_metal.qlibrary.terminations.launchpad_wb_coupled import LaunchpadWirebondCoupled\n",
    "from qiskit_metal.qlibrary.terminations.open_to_ground import OpenToGround\n",
    "\n",
    "from qiskit_metal.qlibrary.qubits.transmon_concentric import TransmonConcentric\n",
    "from qiskit_metal.qlibrary.qubits.transmon_cross import TransmonCross\n",
    "from qiskit_metal.qlibrary.qubits.transmon_cross_fl import TransmonCrossFL\n",
    "from qiskit_metal.qlibrary.qubits.Transmon_Interdigitated import TransmonInterdigitated\n",
    "from qiskit_metal.qlibrary.qubits.transmon_pocket import TransmonPocket\n",
    "from qiskit_metal.qlibrary.qubits.transmon_pocket_cl import TransmonPocketCL\n",
    "from qiskit_metal.qlibrary.qubits.transmon_pocket_6 import TransmonPocket6\n",
    "\n",
    "import shutil, os"
   ]
  },
  {
   "cell_type": "markdown",
   "metadata": {},
   "source": [
    "### CircleCaterpillar"
   ]
  },
  {
   "cell_type": "code",
   "execution_count": null,
   "metadata": {},
   "outputs": [],
   "source": [
    "circlecaterpillar = CircleCaterpillar(design, 'circlecaterpillar')\n",
    "\n",
    "gui.rebuild()\n",
    "gui.autoscale()\n",
    "gui.zoom_on_components(['circlecaterpillar']) \n",
    "\n",
    "gui.figure.savefig('CircleCaterpillar.png')\n",
    "\n",
    "from IPython.display import Image, display\n",
    "_disp_ops = dict(width=500)\n",
    "display(Image('CircleCaterpillar.png', **_disp_ops))\n",
    "\n",
    "design.delete_component('circlecaterpillar')\n",
    "\n",
    "shutil.copy('CircleCaterpillar.png', '../apidocs/')\n",
    "os.remove('CircleCaterpillar.png')"
   ]
  },
  {
   "cell_type": "markdown",
   "metadata": {},
   "source": [
    "### CircleRaster"
   ]
  },
  {
   "cell_type": "code",
   "execution_count": null,
   "metadata": {},
   "outputs": [],
   "source": [
    "circleraster = CircleRaster(design, 'circleraster')\n",
    "\n",
    "gui.rebuild()\n",
    "gui.autoscale()\n",
    "gui.zoom_on_components(['circleraster']) \n",
    "\n",
    "gui.figure.savefig('CircleRaster.png')\n",
    "\n",
    "from IPython.display import Image, display\n",
    "_disp_ops = dict(width=500)\n",
    "display(Image('CircleRaster.png', **_disp_ops))\n",
    "\n",
    "design.delete_component('circleraster')\n",
    "\n",
    "shutil.copy('CircleRaster.png', '../apidocs/')\n",
    "os.remove('CircleRaster.png')"
   ]
  },
  {
   "cell_type": "markdown",
   "metadata": {},
   "source": [
    "### NGon"
   ]
  },
  {
   "cell_type": "code",
   "execution_count": null,
   "metadata": {},
   "outputs": [],
   "source": [
    "ngon = NGon(design, 'ngon')\n",
    "\n",
    "gui.rebuild()\n",
    "gui.autoscale()\n",
    "gui.zoom_on_components(['ngon']) \n",
    "\n",
    "gui.figure.savefig('NGon.png')\n",
    "\n",
    "from IPython.display import Image, display\n",
    "_disp_ops = dict(width=500)\n",
    "display(Image('NGon.png', **_disp_ops))\n",
    "\n",
    "design.delete_component('ngon')\n",
    "\n",
    "shutil.copy('NGon.png', '../apidocs/')\n",
    "os.remove('NGon.png')"
   ]
  },
  {
   "cell_type": "markdown",
   "metadata": {},
   "source": [
    "### NSquareSpiral"
   ]
  },
  {
   "cell_type": "code",
   "execution_count": null,
   "metadata": {},
   "outputs": [],
   "source": [
    "nsquarespiral = NSquareSpiral(design, 'nsquarespiral')\n",
    "\n",
    "gui.rebuild()\n",
    "gui.autoscale()\n",
    "gui.zoom_on_components(['nsquarespiral']) \n",
    "\n",
    "gui.figure.savefig('NSquareSpiral.png')\n",
    "\n",
    "from IPython.display import Image, display\n",
    "_disp_ops = dict(width=500)\n",
    "display(Image('NSquareSpiral.png', **_disp_ops))\n",
    "\n",
    "design.delete_component('nsquarespiral')\n",
    "\n",
    "shutil.copy('NSquareSpiral.png', '../apidocs/')\n",
    "os.remove('NSquareSpiral.png')"
   ]
  },
  {
   "cell_type": "markdown",
   "metadata": {},
   "source": [
    "### Rectangle"
   ]
  },
  {
   "cell_type": "code",
   "execution_count": null,
   "metadata": {},
   "outputs": [],
   "source": [
    "rectangle = Rectangle(design, 'rectangle')\n",
    "\n",
    "gui.rebuild()\n",
    "gui.autoscale()\n",
    "gui.zoom_on_components(['rectangle']) \n",
    "\n",
    "gui.figure.savefig('Rectangle.png')\n",
    "\n",
    "from IPython.display import Image, display\n",
    "_disp_ops = dict(width=500)\n",
    "display(Image('Rectangle.png', **_disp_ops))\n",
    "\n",
    "design.delete_component('rectangle')\n",
    "\n",
    "shutil.copy('Rectangle.png', '../apidocs/')\n",
    "os.remove('Rectangle.png')"
   ]
  },
  {
   "cell_type": "markdown",
   "metadata": {},
   "source": [
    "### RectangleHollow"
   ]
  },
  {
   "cell_type": "code",
   "execution_count": null,
   "metadata": {},
   "outputs": [],
   "source": [
    "rectanglehollow = RectangleHollow(design, 'rectanglehollow')\n",
    "\n",
    "gui.rebuild()\n",
    "gui.autoscale()\n",
    "gui.zoom_on_components(['rectanglehollow']) \n",
    "\n",
    "gui.figure.savefig('RectangleHollow.png')\n",
    "\n",
    "from IPython.display import Image, display\n",
    "_disp_ops = dict(width=500)\n",
    "display(Image('RectangleHollow.png', **_disp_ops))\n",
    "\n",
    "design.delete_component('rectanglehollow')\n",
    "\n",
    "shutil.copy('RectangleHollow.png', '../apidocs/')\n",
    "os.remove('RectangleHollow.png')"
   ]
  },
  {
   "cell_type": "markdown",
   "metadata": {},
   "source": [
    "### Cap3Interdigital"
   ]
  },
  {
   "cell_type": "code",
   "execution_count": null,
   "metadata": {},
   "outputs": [],
   "source": [
    "cap3interdigital = Cap3Interdigital(design, 'cap3interdigital')\n",
    "\n",
    "gui.rebuild()\n",
    "gui.autoscale()\n",
    "gui.zoom_on_components(['cap3interdigital']) \n",
    "\n",
    "gui.figure.savefig('Cap3Interdigital.png')\n",
    "\n",
    "from IPython.display import Image, display\n",
    "_disp_ops = dict(width=500)\n",
    "display(Image('Cap3Interdigital.png', **_disp_ops))\n",
    "\n",
    "design.delete_component('cap3interdigital')\n",
    "\n",
    "shutil.copy('Cap3Interdigital.png', '../apidocs/')\n",
    "os.remove('Cap3Interdigital.png')"
   ]
  },
  {
   "cell_type": "markdown",
   "metadata": {},
   "source": [
    "### CapNInterdigital"
   ]
  },
  {
   "cell_type": "code",
   "execution_count": null,
   "metadata": {},
   "outputs": [],
   "source": [
    "capninterdigital = CapNInterdigital(design, 'capninterdigital')\n",
    "\n",
    "gui.rebuild()\n",
    "gui.autoscale()\n",
    "gui.zoom_on_components(['capninterdigital']) \n",
    "\n",
    "gui.figure.savefig('CapNInterdigital.png')\n",
    "\n",
    "from IPython.display import Image, display\n",
    "_disp_ops = dict(width=500)\n",
    "display(Image('CapNInterdigital.png', **_disp_ops))\n",
    "\n",
    "design.delete_component('capninterdigital')\n",
    "\n",
    "shutil.copy('CapNInterdigital.png', '../apidocs/')\n",
    "os.remove('CapNInterdigital.png')"
   ]
  },
  {
   "cell_type": "markdown",
   "metadata": {},
   "source": [
    "### ResonatorCoilRect"
   ]
  },
  {
   "cell_type": "code",
   "execution_count": null,
   "metadata": {},
   "outputs": [],
   "source": [
    "resonatorcoilrect = ResonatorCoilRect(design, 'resonatorcoilrect')\n",
    "\n",
    "gui.rebuild()\n",
    "gui.autoscale()\n",
    "gui.zoom_on_components(['resonatorcoilrect']) \n",
    "\n",
    "gui.figure.savefig('ResonatorCoilRect.png')\n",
    "\n",
    "from IPython.display import Image, display\n",
    "_disp_ops = dict(width=500)\n",
    "display(Image('ResonatorCoilRect.png', **_disp_ops))\n",
    "\n",
    "design.delete_component('resonatorcoilrect')\n",
    "\n",
    "shutil.copy('ResonatorCoilRect.png', '../apidocs/')\n",
    "os.remove('ResonatorCoilRect.png')"
   ]
  },
  {
   "cell_type": "markdown",
   "metadata": {},
   "source": [
    "### CoupledLineTee"
   ]
  },
  {
   "cell_type": "code",
   "execution_count": null,
   "metadata": {},
   "outputs": [],
   "source": [
    "coupledlintee = CoupledLineTee(design, 'coupledlintee')\n",
    "\n",
    "gui.rebuild()\n",
    "gui.autoscale()\n",
    "gui.zoom_on_components(['coupledlintee']) \n",
    "\n",
    "gui.figure.savefig('CoupledLineTee.png')\n",
    "\n",
    "from IPython.display import Image, display\n",
    "_disp_ops = dict(width=500)\n",
    "display(Image('CoupledLineTee.png', **_disp_ops))\n",
    "\n",
    "design.delete_component('coupledlintee')\n",
    "\n",
    "shutil.copy('CoupledLineTee.png', '../apidocs/')\n",
    "os.remove('CoupledLineTee.png')"
   ]
  },
  {
   "cell_type": "markdown",
   "metadata": {},
   "source": [
    "### LineTee"
   ]
  },
  {
   "cell_type": "code",
   "execution_count": null,
   "metadata": {},
   "outputs": [],
   "source": [
    "linetee = LineTee(design, 'linetee')\n",
    "\n",
    "gui.rebuild()\n",
    "gui.autoscale()\n",
    "gui.zoom_on_components(['linetee']) \n",
    "\n",
    "gui.figure.savefig('LineTee.png')\n",
    "\n",
    "from IPython.display import Image, display\n",
    "_disp_ops = dict(width=500)\n",
    "display(Image('LineTee.png', **_disp_ops))\n",
    "\n",
    "design.delete_component('linetee')\n",
    "\n",
    "shutil.copy('LineTee.png', '../apidocs/')\n",
    "os.remove('LineTee.png')"
   ]
  },
  {
   "cell_type": "markdown",
   "metadata": {},
   "source": [
    "### CapNInterdigitalTee"
   ]
  },
  {
   "cell_type": "code",
   "execution_count": null,
   "metadata": {},
   "outputs": [],
   "source": [
    "capninterdigitaltee = CapNInterdigitalTee(design, 'capninterdigitaltee')\n",
    "\n",
    "gui.rebuild()\n",
    "gui.autoscale()\n",
    "gui.zoom_on_components(['capninterdigitaltee'])\n",
    "\n",
    "gui.figure.savefig('CapNInterdigitalTee.png')\n",
    "\n",
    "from IPython.display import Image, display\n",
    "_disp_ops = dict(width=500)\n",
    "display(Image('CapNInterdigitalTee.png', **_disp_ops))\n",
    "\n",
    "design.delete_component('capninterdigitaltee')\n",
    "\n",
    "shutil.copy('CapNInterdigitalTee.png', '../apidocs/')\n",
    "os.remove('CapNInterdigitalTee.png')"
   ]
  },
  {
   "cell_type": "markdown",
   "metadata": {},
   "source": [
    "### TunableCoupler01"
   ]
  },
  {
   "cell_type": "code",
   "execution_count": null,
   "metadata": {},
   "outputs": [],
   "source": [
    "tunablecoupler01 = TunableCoupler01(design, 'tunablecoupler01')\n",
    "\n",
    "gui.rebuild()\n",
    "gui.autoscale()\n",
    "gui.zoom_on_components(['tunablecoupler01'])\n",
    "\n",
    "gui.figure.savefig('TunableCoupler01.png')\n",
    "\n",
    "from IPython.display import Image, display\n",
    "_disp_ops = dict(width=500)\n",
    "display(Image('TunableCoupler01.png', **_disp_ops))\n",
    "\n",
    "design.delete_component('tunablecoupler01')\n",
    "\n",
    "shutil.copy('TunableCoupler01.png', '../apidocs/')\n",
    "os.remove('TunableCoupler01.png')"
   ]
  },
  {
   "cell_type": "markdown",
   "metadata": {},
   "source": [
    "### LaunchpadWirebond"
   ]
  },
  {
   "cell_type": "code",
   "execution_count": null,
   "metadata": {},
   "outputs": [],
   "source": [
    "launchpadwirebond = LaunchpadWirebond(design, 'launchpadwirebond')\n",
    "\n",
    "gui.rebuild()\n",
    "gui.autoscale()\n",
    "gui.zoom_on_components(['launchpadwirebond'])\n",
    "\n",
    "gui.figure.savefig('LaunchpadWirebond.png')\n",
    "\n",
    "from IPython.display import Image, display\n",
    "_disp_ops = dict(width=500)\n",
    "display(Image('LaunchpadWirebond.png', **_disp_ops))\n",
    "\n",
    "design.delete_component('launchpadwirebond')\n",
    "\n",
    "shutil.copy('LaunchpadWirebond.png', '../apidocs/')\n",
    "os.remove('LaunchpadWirebond.png')"
   ]
  },
  {
   "cell_type": "markdown",
   "metadata": {},
   "source": [
    "### LaunchpadWirebondCoupled"
   ]
  },
  {
   "cell_type": "code",
   "execution_count": null,
   "metadata": {},
   "outputs": [],
   "source": [
    "launchpadwirebondcoupled = LaunchpadWirebondCoupled(design, 'launchpadwirebondcoupled')\n",
    "\n",
    "gui.rebuild()\n",
    "gui.autoscale()\n",
    "gui.zoom_on_components(['launchpadwirebondcoupled'])\n",
    "\n",
    "gui.figure.savefig('LaunchpadWirebondCoupled.png')\n",
    "\n",
    "from IPython.display import Image, display\n",
    "_disp_ops = dict(width=500)\n",
    "display(Image('LaunchpadWirebondCoupled.png', **_disp_ops))\n",
    "\n",
    "design.delete_component('launchpadwirebondcoupled')\n",
    "\n",
    "shutil.copy('LaunchpadWirebondCoupled.png', '../apidocs/')\n",
    "os.remove('LaunchpadWirebondCoupled.png')"
   ]
  },
  {
   "cell_type": "markdown",
   "metadata": {},
   "source": [
    "### OpenToGround"
   ]
  },
  {
   "cell_type": "code",
   "execution_count": null,
   "metadata": {},
   "outputs": [],
   "source": [
    "opentoground = OpenToGround(design, 'opentoground')\n",
    "\n",
    "gui.rebuild()\n",
    "gui.autoscale()\n",
    "gui.zoom_on_components(['opentoground'])\n",
    "\n",
    "gui.figure.savefig('OpenToGround.png')\n",
    "\n",
    "from IPython.display import Image, display\n",
    "_disp_ops = dict(width=500)\n",
    "display(Image('OpenToGround.png', **_disp_ops))\n",
    "\n",
    "design.delete_component('opentoground')\n",
    "\n",
    "shutil.copy('OpenToGround.png', '../apidocs/')\n",
    "os.remove('OpenToGround.png')"
   ]
  },
  {
   "cell_type": "markdown",
   "metadata": {},
   "source": [
    "### TransmonConcentric"
   ]
  },
  {
   "cell_type": "code",
   "execution_count": null,
   "metadata": {},
   "outputs": [],
   "source": [
    "transmonconcentric = TransmonConcentric(design, 'transmonconcentric')\n",
    "\n",
    "gui.rebuild()\n",
    "gui.autoscale()\n",
    "gui.zoom_on_components(['transmonconcentric'])\n",
    "\n",
    "gui.figure.savefig('TransmonConcentric.png')\n",
    "\n",
    "from IPython.display import Image, display\n",
    "_disp_ops = dict(width=500)\n",
    "display(Image('TransmonConcentric.png', **_disp_ops))\n",
    "\n",
    "design.delete_component('transmonconcentric')\n",
    "\n",
    "shutil.copy('TransmonConcentric.png', '../apidocs/')\n",
    "os.remove('TransmonConcentric.png')"
   ]
  },
  {
   "cell_type": "markdown",
   "metadata": {},
   "source": [
    "### TransmonCross"
   ]
  },
  {
   "cell_type": "code",
   "execution_count": null,
   "metadata": {},
   "outputs": [],
   "source": [
    "transmoncross = TransmonCross(design, 'transmoncross')\n",
    "\n",
    "gui.rebuild()\n",
    "gui.autoscale()\n",
    "gui.zoom_on_components(['transmoncross'])\n",
    "\n",
    "gui.figure.savefig('TransmonCross.png')\n",
    "\n",
    "from IPython.display import Image, display\n",
    "_disp_ops = dict(width=500)\n",
    "display(Image('TransmonCross.png', **_disp_ops))\n",
    "\n",
    "design.delete_component('transmoncross')\n",
    "\n",
    "shutil.copy('TransmonCross.png', '../apidocs/')\n",
    "os.remove('TransmonCross.png')"
   ]
  },
  {
   "cell_type": "markdown",
   "metadata": {},
   "source": [
    "### TransmonCrossFL"
   ]
  },
  {
   "cell_type": "code",
   "execution_count": null,
   "metadata": {},
   "outputs": [],
   "source": [
    "transmoncrossfl = TransmonCrossFL(design, 'transmoncrossfl')\n",
    "\n",
    "gui.rebuild()\n",
    "gui.autoscale()\n",
    "gui.zoom_on_components(['transmoncrossfl'])\n",
    "\n",
    "gui.figure.savefig('TransmonCrossFL.png')\n",
    "\n",
    "from IPython.display import Image, display\n",
    "_disp_ops = dict(width=500)\n",
    "display(Image('TransmonCrossFL.png', **_disp_ops))\n",
    "\n",
    "design.delete_component('transmoncrossfl')\n",
    "\n",
    "shutil.copy('TransmonCrossFL.png', '../apidocs/')\n",
    "os.remove('TransmonCrossFL.png')"
   ]
  },
  {
   "cell_type": "markdown",
   "metadata": {},
   "source": [
    "### TransmonInterdigited"
   ]
  },
  {
   "cell_type": "code",
   "execution_count": null,
   "metadata": {},
   "outputs": [],
   "source": [
    "transmoninterdigitated = TransmonInterdigitated(design, 'transmoninterdigitated')\n",
    "\n",
    "gui.rebuild()\n",
    "gui.autoscale()\n",
    "gui.zoom_on_components(['transmoninterdigitated'])\n",
    "\n",
    "gui.figure.savefig('TransmonInterdigitated.png')\n",
    "\n",
    "from IPython.display import Image, display\n",
    "_disp_ops = dict(width=500)\n",
    "display(Image('TransmonInterdigitated.png', **_disp_ops))\n",
    "\n",
    "design.delete_component('transmoninterdigitated')\n",
    "\n",
    "shutil.copy('TransmonInterdigitated.png', '../apidocs/')\n",
    "os.remove('TransmonInterdigitated.png')"
   ]
  },
  {
   "cell_type": "markdown",
   "metadata": {},
   "source": [
    "### TransmonPocket"
   ]
  },
  {
   "cell_type": "code",
   "execution_count": null,
   "metadata": {},
   "outputs": [],
   "source": [
    "transmonpocket = TransmonPocket(design, 'transmonpocket')\n",
    "\n",
    "gui.rebuild()\n",
    "gui.autoscale()\n",
    "gui.zoom_on_components(['transmonpocket'])\n",
    "\n",
    "gui.figure.savefig('TransmonPocket.png')\n",
    "\n",
    "from IPython.display import Image, display\n",
    "_disp_ops = dict(width=500)\n",
    "display(Image('TransmonPocket.png', **_disp_ops))\n",
    "\n",
    "design.delete_component('transmonpocket')\n",
    "\n",
    "shutil.copy('TransmonPocket.png', '../apidocs/')\n",
    "os.remove('TransmonPocket.png')"
   ]
  },
  {
   "cell_type": "markdown",
   "metadata": {},
   "source": [
    "### TransmonPocketCL"
   ]
  },
  {
   "cell_type": "code",
   "execution_count": null,
   "metadata": {},
   "outputs": [],
   "source": [
    "transmonpocketcl = TransmonPocketCL(design, 'transmonpocketcl')\n",
    "\n",
    "gui.rebuild()\n",
    "gui.autoscale()\n",
    "gui.zoom_on_components(['transmonpocketcl'])\n",
    "\n",
    "gui.figure.savefig('TransmonPocketCL.png')\n",
    "\n",
    "from IPython.display import Image, display\n",
    "_disp_ops = dict(width=500)\n",
    "display(Image('TransmonPocketCL.png', **_disp_ops))\n",
    "\n",
    "design.delete_component('transmonpocketcl')\n",
    "\n",
    "shutil.copy('TransmonPocketCL.png', '../apidocs/')\n",
    "os.remove('TransmonPocketCL.png')"
   ]
  },
  {
   "cell_type": "markdown",
   "metadata": {},
   "source": [
    "### TransmonPocket6"
   ]
  },
  {
   "cell_type": "code",
   "execution_count": null,
   "metadata": {},
   "outputs": [],
   "source": [
    "transmonpocket6 = TransmonPocket6(design, 'transmonpocket6')\n",
    "\n",
    "gui.rebuild()\n",
    "gui.autoscale()\n",
    "gui.zoom_on_components(['transmonpocket6'])\n",
    "\n",
    "gui.figure.savefig('TransmonPocket6.png')\n",
    "\n",
    "from IPython.display import Image, display\n",
    "_disp_ops = dict(width=500)\n",
    "display(Image('TransmonPocket6.png', **_disp_ops))\n",
    "\n",
    "design.delete_component('transmonpocket6')\n",
    "\n",
    "shutil.copy('TransmonPocket6.png', '../apidocs/')\n",
    "os.remove('TransmonPocket6.png')"
   ]
  },
  {
   "cell_type": "markdown",
   "metadata": {
    "tags": []
   },
   "source": [
    "### Closing the Qiskit Metal GUI"
   ]
  },
  {
   "cell_type": "code",
   "execution_count": null,
   "metadata": {},
   "outputs": [],
   "source": [
    "gui.main_window.close()"
   ]
  }
 ],
 "metadata": {
  "celltoolbar": "Tags",
  "kernelspec": {
   "display_name": "Python 3",
   "language": "python",
   "name": "python3"
  },
  "language_info": {
   "codemirror_mode": {
    "name": "ipython",
    "version": 3
   },
   "file_extension": ".py",
   "mimetype": "text/x-python",
   "name": "python",
   "nbconvert_exporter": "python",
   "pygments_lexer": "ipython3",
   "version": "3.7.8"
  }
 },
 "nbformat": 4,
 "nbformat_minor": 4
}
