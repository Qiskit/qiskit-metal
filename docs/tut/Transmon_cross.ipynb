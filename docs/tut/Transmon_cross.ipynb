{
 "cells": [
  {
   "cell_type": "markdown",
   "metadata": {},
   "source": [
    "### Qiskit Metal Transmon Cross\n",
    "\n",
    "We'll be creating a 2D design and adding a single transmon cross (xmon) qcomponent.\n",
    "\n",
    "Simple Metal Transmon Cross object. Creates the A cross-shaped island, the \"junction\" on the south end, and up to 3 connectors on the remaining arms (claw or gap).\n",
    "\n",
    "'claw_width' and 'claw_gap' define the width/gap of the CPW line that makes up the connector. Note, DC SQUID currently represented by single inductance sheet"
   ]
  },
  {
   "cell_type": "code",
   "execution_count": 1,
   "metadata": {},
   "outputs": [],
   "source": [
    "# So, let us dive right in. For convenience, let's begin by enabling\n",
    "# automatic reloading of modules when they change.\n",
    "%load_ext autoreload\n",
    "%autoreload 2"
   ]
  },
  {
   "cell_type": "code",
   "execution_count": 2,
   "metadata": {},
   "outputs": [],
   "source": [
    "import qiskit_metal as metal\n",
    "from qiskit_metal import designs, draw\n",
    "from qiskit_metal import MetalGUI, Dict, open_docs"
   ]
  },
  {
   "cell_type": "code",
   "execution_count": 3,
   "metadata": {},
   "outputs": [],
   "source": [
    "# Each time you create a new quantum circuit design, \n",
    "# you start by instantiating a QDesign class. \n",
    "\n",
    "# The design class `DesignPlanar` is best for 2D circuit designs.\n",
    "\n",
    "design = designs.DesignPlanar()"
   ]
  },
  {
   "cell_type": "code",
   "execution_count": 4,
   "metadata": {},
   "outputs": [],
   "source": [
    "#Launch Qiskit Metal GUI to interactively view, edit, and simulate QDesign: Metal GUI\n",
    "gui = MetalGUI(design)"
   ]
  },
  {
   "cell_type": "markdown",
   "metadata": {},
   "source": [
    "### A transmon qubit\n",
    "You can create a ready-made transmon cross qubit from the QComponent Library, `qiskit_metal.qlibrary.qubits`. \n",
    "`transmon_cross.py` is the file containing our qubit so `transmon_cross` is the module we import. \n",
    "The `TransmonCross` class is our transmon cross qubit. Like all quantum components, `TransmonCross` inherits from `QComponent`. \n",
    "\n",
    " Connector lines can be added using the `connection_pads` dictionary. \n",
    " Each connector pad has a name and a list of default properties."
   ]
  },
  {
   "cell_type": "code",
   "execution_count": 5,
   "metadata": {},
   "outputs": [
    {
     "data": {
      "text/plain": [
       "{'pos_x': '0um',\n",
       " 'pos_y': '0um',\n",
       " 'connection_pads': {},\n",
       " '_default_connection_pads': {'connector_type': '0',\n",
       "  'claw_length': '30um',\n",
       "  'ground_spacing': '5um',\n",
       "  'claw_width': '10um',\n",
       "  'claw_gap': '6um',\n",
       "  'connector_location': '0'},\n",
       " 'cross_width': '20um',\n",
       " 'cross_length': '200um',\n",
       " 'cross_gap': '20um',\n",
       " 'orientation': '0',\n",
       " 'hfss_inductance': '10nH',\n",
       " 'hfss_capacitance': 0,\n",
       " 'hfss_resistance': 0,\n",
       " 'hfss_mesh_kw_jj': 7e-06,\n",
       " 'q3d_inductance': '10nH',\n",
       " 'q3d_capacitance': 0,\n",
       " 'q3d_resistance': 0,\n",
       " 'q3d_mesh_kw_jj': 7e-06,\n",
       " 'gds_cell_name': 'my_other_junction'}"
      ]
     },
     "execution_count": 5,
     "metadata": {},
     "output_type": "execute_result"
    }
   ],
   "source": [
    "from qiskit_metal.qlibrary.qubits.transmon_cross import TransmonCross\n",
    "\n",
    "# Be aware of the default_options that can be overridden by user.\n",
    "TransmonCross.get_template_options(design)"
   ]
  },
  {
   "cell_type": "code",
   "execution_count": 6,
   "metadata": {},
   "outputs": [],
   "source": [
    "\n",
    "\n",
    "# The connectord_type can be string of '0' for 'Claw' or '1' for 'Gap' \n",
    "# to define which type of connector is used.\n",
    "\n",
    "# The connector_location can be string of '0', '90', '180'  degrees which of the three arms where a given connector should be.\n",
    "# South is for the junction. \n",
    "\n",
    "xmon_options = dict(\n",
    "    connection_pads=dict(\n",
    "        a = dict( connector_location = '0', connector_type = '0'), \n",
    "        b = dict(connector_location = '90', connector_type = '0'),\n",
    "        c = dict(connector_location = '180', connector_type = '1'),\n",
    "    ),\n",
    ")\n",
    "\n",
    "# Create a new Transmon Cross object with name 'Q1' \n",
    "q1 = TransmonCross(design, 'Q1', options=xmon_options)\n",
    "\n",
    "gui.rebuild()  # rebuild the design and plot \n",
    "gui.autoscale() #resize GUI to see QComponent\n",
    "gui.zoom_on_components(['Q1']) #Can also gui.zoom_on_components([q1.name])"
   ]
  },
  {
   "cell_type": "code",
   "execution_count": 7,
   "metadata": {},
   "outputs": [
    {
     "data": {
      "text/plain": [
       "\u001b[95m\u001b[1mname:    \u001b[94m\u001b[1mQ1\u001b[0m\n",
       "\u001b[95m\u001b[1mclass:   \u001b[94m\u001b[1mTransmonCross         \u001b[0m\n",
       "\u001b[95m\u001b[1moptions: \u001b[0m\n",
       "  'pos_x'             : '0um',                        \n",
       "  'pos_y'             : '0um',                        \n",
       "  \u001b[1m'connection_pads'   \u001b[0m: {\n",
       "       \u001b[1m'a'                 \u001b[0m: {\n",
       "            'connector_type'    : '0',                          \n",
       "            'claw_length'       : '30um',                       \n",
       "            'ground_spacing'    : '5um',                        \n",
       "            'claw_width'        : '10um',                       \n",
       "            'claw_gap'          : '6um',                        \n",
       "            'connector_location': '0',                          \n",
       "                             },\n",
       "       \u001b[1m'b'                 \u001b[0m: {\n",
       "            'connector_type'    : '0',                          \n",
       "            'claw_length'       : '30um',                       \n",
       "            'ground_spacing'    : '5um',                        \n",
       "            'claw_width'        : '10um',                       \n",
       "            'claw_gap'          : '6um',                        \n",
       "            'connector_location': '90',                         \n",
       "                             },\n",
       "       \u001b[1m'c'                 \u001b[0m: {\n",
       "            'connector_type'    : '1',                          \n",
       "            'claw_length'       : '30um',                       \n",
       "            'ground_spacing'    : '5um',                        \n",
       "            'claw_width'        : '10um',                       \n",
       "            'claw_gap'          : '6um',                        \n",
       "            'connector_location': '180',                        \n",
       "                             },\n",
       "                        },\n",
       "  'cross_width'       : '20um',                       \n",
       "  'cross_length'      : '200um',                      \n",
       "  'cross_gap'         : '20um',                       \n",
       "  'orientation'       : '0',                          \n",
       "  'hfss_inductance'   : '10nH',                       \n",
       "  'hfss_capacitance'  : 0,                            \n",
       "  'hfss_resistance'   : 0,                            \n",
       "  'hfss_mesh_kw_jj'   : 7e-06,                        \n",
       "  'q3d_inductance'    : '10nH',                       \n",
       "  'q3d_capacitance'   : 0,                            \n",
       "  'q3d_resistance'    : 0,                            \n",
       "  'q3d_mesh_kw_jj'    : 7e-06,                        \n",
       "  'gds_cell_name'     : 'my_other_junction',          \n",
       "\u001b[95m\u001b[1mmodule:  \u001b[94m\u001b[1mqiskit_metal.qlibrary.qubits.transmon_cross\u001b[0m\n",
       "\u001b[95m\u001b[1mid:      \u001b[94m\u001b[1m1\u001b[0m"
      ]
     },
     "execution_count": 7,
     "metadata": {},
     "output_type": "execute_result"
    }
   ],
   "source": [
    "# Let's see what the Q1 object looks like\n",
    "q1 #print Q1 information"
   ]
  },
  {
   "cell_type": "code",
   "execution_count": null,
   "metadata": {},
   "outputs": [],
   "source": []
  },
  {
   "cell_type": "code",
   "execution_count": null,
   "metadata": {},
   "outputs": [],
   "source": []
  },
  {
   "cell_type": "code",
   "execution_count": null,
   "metadata": {},
   "outputs": [],
   "source": []
  },
  {
   "cell_type": "code",
   "execution_count": null,
   "metadata": {},
   "outputs": [],
   "source": []
  },
  {
   "cell_type": "code",
   "execution_count": null,
   "metadata": {},
   "outputs": [],
   "source": []
  },
  {
   "cell_type": "code",
   "execution_count": null,
   "metadata": {},
   "outputs": [],
   "source": []
  },
  {
   "cell_type": "markdown",
   "metadata": {
    "jupyter": {
     "source_hidden": true
    },
    "tags": []
   },
   "source": [
    "## Closing the Qiskit Metal GUI"
   ]
  },
  {
   "cell_type": "code",
   "execution_count": null,
   "metadata": {},
   "outputs": [],
   "source": [
    "gui.main_window.close()"
   ]
  },
  {
   "cell_type": "code",
   "execution_count": null,
   "metadata": {},
   "outputs": [],
   "source": []
  }
 ],
 "metadata": {
  "kernelspec": {
   "display_name": "pas_ssh_env_ker",
   "language": "python",
   "name": "pas_ssh_env_ker"
  },
  "language_info": {
   "codemirror_mode": {
    "name": "ipython",
    "version": 3
   },
   "file_extension": ".py",
   "mimetype": "text/x-python",
   "name": "python",
   "nbconvert_exporter": "python",
   "pygments_lexer": "ipython3",
   "version": "3.7.8"
  }
 },
 "nbformat": 4,
 "nbformat_minor": 4
}
