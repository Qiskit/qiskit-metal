{
 "cells": [
  {
   "cell_type": "markdown",
   "metadata": {},
   "source": [
    "# Managing pins"
   ]
  },
  {
   "cell_type": "code",
   "execution_count": 1,
   "metadata": {},
   "outputs": [],
   "source": [
    "%load_ext autoreload\n",
    "%autoreload 2"
   ]
  },
  {
   "cell_type": "code",
   "execution_count": 2,
   "metadata": {},
   "outputs": [
    {
     "data": {
      "text/html": [
       "     <h1 style=\"         background-color: #d4418e;         background-image: linear-gradient(315deg, #d4418e 0%, #0652c5 74%);         margin-top: 50px;         border-style: outset;         padding-top:100px;         padding-bottom:50px;         padding-left:25px;         color: white;     \"> Welcome to Qiskit Metal <h1>     "
      ],
      "text/plain": [
       "<IPython.core.display.HTML object>"
      ]
     },
     "metadata": {},
     "output_type": "display_data"
    }
   ],
   "source": [
    "import qiskit_metal as metal\n",
    "from qiskit_metal import designs, draw\n",
    "from qiskit_metal import MetalGUI, Dict, Headings\n",
    "Headings.h1('Welcome to Qiskit Metal')"
   ]
  },
  {
   "cell_type": "code",
   "execution_count": 3,
   "metadata": {},
   "outputs": [],
   "source": [
    "design = designs.DesignPlanar()\n",
    "gui = MetalGUI(design)"
   ]
  },
  {
   "cell_type": "markdown",
   "metadata": {},
   "source": [
    "First we create some transmon pockets to have a number of pins generated for use."
   ]
  },
  {
   "cell_type": "code",
   "execution_count": 4,
   "metadata": {},
   "outputs": [],
   "source": [
    "from qiskit_metal.qlibrary.qubits.transmon_pocket import TransmonPocket\n",
    "\n",
    "## Custom options for all the transmons\n",
    "options = dict(\n",
    "    # Some options we want to modify from the deafults\n",
    "    # (see below for defaults)\n",
    "    pad_width = '425 um', \n",
    "    pocket_height = '650um',\n",
    "    # Adding 4 connectors (see below for defaults)\n",
    "    connection_pads=dict( \n",
    "        a = dict(loc_W=+1,loc_H=+1), \n",
    "        b = dict(loc_W=-1,loc_H=+1, pad_height='30um'),\n",
    "        c = dict(loc_W=+1,loc_H=-1, pad_width='200um'),\n",
    "        d = dict(loc_W=-1,loc_H=-1, pad_height='50um')\n",
    "    )\n",
    ")\n",
    "\n",
    "## Create 4 transmons\n",
    "\n",
    "q1 = TransmonPocket(design, 'Q1', options = dict(\n",
    "    pos_x='+2.4mm', pos_y='+0.0mm', **options))\n",
    "q2 = TransmonPocket(design, 'Q2', options = dict(\n",
    "    pos_x='+0.0mm', pos_y='-0.9mm', orientation = '90', **options))\n",
    "q3 = TransmonPocket(design, 'Q3', options = dict(\n",
    "    pos_x='-2.4mm', pos_y='+0.0mm', **options))\n",
    "q4 = TransmonPocket(design, 'Q4', options = dict(\n",
    "    pos_x='+0.0mm', pos_y='+0.9mm', orientation = '90', **options))\n",
    "\n",
    "## Rebuild the design\n",
    "gui.rebuild()\n",
    "gui.autoscale()"
   ]
  },
  {
   "cell_type": "markdown",
   "metadata": {},
   "source": [
    "Selecting the different components via the GUI shows the pins said component has. You can also see this via;"
   ]
  },
  {
   "cell_type": "code",
   "execution_count": 5,
   "metadata": {},
   "outputs": [
    {
     "data": {
      "text/plain": [
       "dict_keys(['a', 'b', 'c', 'd'])"
      ]
     },
     "execution_count": 5,
     "metadata": {},
     "output_type": "execute_result"
    }
   ],
   "source": [
    "design.components.Q1.pins.keys()"
   ]
  },
  {
   "cell_type": "markdown",
   "metadata": {},
   "source": [
    "Each pin contains a dictionary of information which can be used by other components or renderers. "
   ]
  },
  {
   "cell_type": "code",
   "execution_count": 6,
   "metadata": {},
   "outputs": [
    {
     "data": {
      "text/plain": [
       "{'points': [array([2.825, 0.2  ]), array([2.825, 0.19 ])],\n",
       " 'middle': array([2.825, 0.195]),\n",
       " 'normal': array([1., 0.]),\n",
       " 'tangent': array([0., 1.]),\n",
       " 'width': 0.01,\n",
       " 'gap': 0.006,\n",
       " 'chip': 'main',\n",
       " 'parent_name': 1,\n",
       " 'net_id': 0,\n",
       " 'length': 0}"
      ]
     },
     "execution_count": 6,
     "metadata": {},
     "output_type": "execute_result"
    }
   ],
   "source": [
    "design.components.Q1.pins.a"
   ]
  },
  {
   "cell_type": "markdown",
   "metadata": {},
   "source": [
    "We can pass these pins into some components to auto generate connections, such as CPW lines."
   ]
  },
  {
   "cell_type": "code",
   "execution_count": 7,
   "metadata": {},
   "outputs": [],
   "source": [
    "from qiskit_metal.qlibrary.tlines.straight_path import RouteStraight\n",
    "\n",
    "c1 = RouteStraight(design, 'c1', type=\"Route\", options=dict(pin_inputs=dict(start_pin = dict(component = 'Q1',\n",
    "                                                                               pin = 'd'),\n",
    "                                                            end_pin=dict(component = 'Q2',\n",
    "                                                                                pin = 'c'))))\n",
    "gui.rebuild()\n",
    "gui.autoscale()"
   ]
  },
  {
   "cell_type": "markdown",
   "metadata": {},
   "source": [
    "The example CPW also automatically generates it's own pins based on the pin inputs it was given. This is to allow for such a component to not\n",
    "be destroyed if the component it is attached to is deleted."
   ]
  },
  {
   "cell_type": "code",
   "execution_count": 8,
   "metadata": {},
   "outputs": [
    {
     "data": {
      "text/plain": [
       "{'start': {'points': array([[ 1.975, -0.19 ],\n",
       "         [ 1.975, -0.2  ]]),\n",
       "  'middle': array([ 1.975, -0.195]),\n",
       "  'normal': array([ 1., -0.]),\n",
       "  'tangent': array([ 0., -1.]),\n",
       "  'width': 0.01,\n",
       "  'gap': 0.006,\n",
       "  'chip': 'main',\n",
       "  'parent_name': 5,\n",
       "  'net_id': 3,\n",
       "  'length': 0},\n",
       " 'end': {'points': array([[ 0.2  , -0.475],\n",
       "         [ 0.19 , -0.475]]),\n",
       "  'middle': array([ 0.195, -0.475]),\n",
       "  'normal': array([-0., -1.]),\n",
       "  'tangent': array([-1.,  0.]),\n",
       "  'width': 0.01,\n",
       "  'gap': 0.006,\n",
       "  'chip': 'main',\n",
       "  'parent_name': 5,\n",
       "  'net_id': 4,\n",
       "  'length': 0}}"
      ]
     },
     "execution_count": 8,
     "metadata": {},
     "output_type": "execute_result"
    }
   ],
   "source": [
    "design.components.c1.pins"
   ]
  },
  {
   "cell_type": "markdown",
   "metadata": {},
   "source": [
    "We can also see what active connections there are from the netlist. Pins that share the same net_id indicate they are connected. Pins that are not on the net list are currently open."
   ]
  },
  {
   "cell_type": "code",
   "execution_count": 9,
   "metadata": {},
   "outputs": [
    {
     "data": {
      "text/html": [
       "<div>\n",
       "<style scoped>\n",
       "    .dataframe tbody tr th:only-of-type {\n",
       "        vertical-align: middle;\n",
       "    }\n",
       "\n",
       "    .dataframe tbody tr th {\n",
       "        vertical-align: top;\n",
       "    }\n",
       "\n",
       "    .dataframe thead th {\n",
       "        text-align: right;\n",
       "    }\n",
       "</style>\n",
       "<table border=\"1\" class=\"dataframe\">\n",
       "  <thead>\n",
       "    <tr style=\"text-align: right;\">\n",
       "      <th></th>\n",
       "      <th>net_id</th>\n",
       "      <th>component_id</th>\n",
       "      <th>pin_name</th>\n",
       "    </tr>\n",
       "  </thead>\n",
       "  <tbody>\n",
       "    <tr>\n",
       "      <th>0</th>\n",
       "      <td>3</td>\n",
       "      <td>1</td>\n",
       "      <td>d</td>\n",
       "    </tr>\n",
       "    <tr>\n",
       "      <th>1</th>\n",
       "      <td>3</td>\n",
       "      <td>5</td>\n",
       "      <td>start</td>\n",
       "    </tr>\n",
       "    <tr>\n",
       "      <th>2</th>\n",
       "      <td>4</td>\n",
       "      <td>2</td>\n",
       "      <td>c</td>\n",
       "    </tr>\n",
       "    <tr>\n",
       "      <th>3</th>\n",
       "      <td>4</td>\n",
       "      <td>5</td>\n",
       "      <td>end</td>\n",
       "    </tr>\n",
       "  </tbody>\n",
       "</table>\n",
       "</div>"
      ],
      "text/plain": [
       "  net_id component_id pin_name\n",
       "0      3            1        d\n",
       "1      3            5    start\n",
       "2      4            2        c\n",
       "3      4            5      end"
      ]
     },
     "execution_count": 9,
     "metadata": {},
     "output_type": "execute_result"
    }
   ],
   "source": [
    "design.net_info"
   ]
  },
  {
   "cell_type": "markdown",
   "metadata": {},
   "source": [
    "What happens if we try to pass in a component/pin combo that doesn't exist?"
   ]
  },
  {
   "cell_type": "code",
   "execution_count": 10,
   "metadata": {},
   "outputs": [
    {
     "name": "stderr",
     "output_type": "stream",
     "text": [
      "03:40PM 17s WARNING [__init__]: Component NotReallyHere does not exist. c2 has not been built. Please check your pin_input values.\n"
     ]
    }
   ],
   "source": [
    "#A component that doesn't exist\n",
    "c2 = RouteStraight(design, 'c2', type=\"Route\", options=dict(pin_inputs = dict(start_pin = dict(component = 'NotReallyHere',\n",
    "                                                                               pin = 'd'),\n",
    "                                                            end_pin =dict(component = 'Q2',\n",
    "                                                                                pin = 'a'))))"
   ]
  },
  {
   "cell_type": "code",
   "execution_count": 11,
   "metadata": {},
   "outputs": [
    {
     "name": "stderr",
     "output_type": "stream",
     "text": [
      "03:40PM 17s WARNING [__init__]: Pin NotReallyHere does not exist in component Q1. c3 has not been built. Please check your pin_input values.\n"
     ]
    }
   ],
   "source": [
    "#A pin that doesn't exist\n",
    "c3 = RouteStraight(design, 'c3', type=\"Route\", options=dict(pin_inputs = dict(start_pin = dict(component = 'Q1',\n",
    "                                                                               pin = 'NotReallyHere'),\n",
    "                                                            end_pin =dict(component = 'Q2',\n",
    "                                                                                pin = 'a'))))"
   ]
  },
  {
   "cell_type": "markdown",
   "metadata": {},
   "source": [
    "Or if try to pass in a pin that is already connected."
   ]
  },
  {
   "cell_type": "code",
   "execution_count": 12,
   "metadata": {},
   "outputs": [
    {
     "name": "stderr",
     "output_type": "stream",
     "text": [
      "03:40PM 17s WARNING [__init__]: Pin c of component Q2 is already in use. c4 has not been built. Please check your pin_input values.\n"
     ]
    }
   ],
   "source": [
    "c4 = RouteStraight(design, 'c4', type=\"Route\", options=dict(pin_inputs = dict(start_pin = dict(component = 'Q1',\n",
    "                                                                               pin = 'b'),\n",
    "                                                            end_pin =dict(component = 'Q2',\n",
    "                                                                                pin = 'c'))))"
   ]
  },
  {
   "cell_type": "markdown",
   "metadata": {},
   "source": [
    "pin_inputs is the default dictionary for passing pins into a component, **BUT** how the dictionary is structured is component dependent. Using the above structure (eg. start_pin, end_pin) is suggested for any 2 port type connection, but you should always check the documentation for the specific component you are wanting to use."
   ]
  },
  {
   "cell_type": "code",
   "execution_count": 13,
   "metadata": {},
   "outputs": [
    {
     "data": {
      "text/html": [
       "     <h1 style=\"         background-color: #d4418e;         background-image: linear-gradient(315deg, #d4418e 0%, #0652c5 74%);         margin-top: 50px;         border-style: outset;         padding-top:100px;         padding-bottom:50px;         padding-left:25px;         color: white;     \"> CPW Examples <h1>     "
      ],
      "text/plain": [
       "<IPython.core.display.HTML object>"
      ]
     },
     "metadata": {},
     "output_type": "display_data"
    }
   ],
   "source": [
    "Headings.h1('CPW Examples')"
   ]
  },
  {
   "cell_type": "markdown",
   "metadata": {},
   "source": [
    "An example set showing some current functional CPW components, including both simple auto-routing and meandering"
   ]
  },
  {
   "cell_type": "code",
   "execution_count": 14,
   "metadata": {},
   "outputs": [],
   "source": [
    "design.delete_all_components()"
   ]
  },
  {
   "cell_type": "code",
   "execution_count": 15,
   "metadata": {},
   "outputs": [],
   "source": [
    "from qiskit_metal.qlibrary.terminations.open_to_ground import OpenToGround\n",
    "from qiskit_metal.qlibrary.tlines.framed_path import RouteFramed\n",
    "from qiskit_metal.qlibrary.tlines.straight_path import RouteStraight\n",
    "from qiskit_metal.qlibrary.tlines.meandered import RouteMeander"
   ]
  },
  {
   "cell_type": "code",
   "execution_count": 16,
   "metadata": {},
   "outputs": [],
   "source": [
    "open_start_straight = OpenToGround(design,'Open_straight_start',options=Dict(pos_x='0um',pos_y='0um',rotation = '-90'))\n",
    "open_end_straight = OpenToGround(design,'Open_straight_end',options=Dict(pos_x='0um',pos_y='1500um',rotation = '90'))\n",
    "\n",
    "open_start_auto = OpenToGround(design,'Open_auto_start',options=Dict(pos_x='250um',pos_y='0um',rotation = '-90'))\n",
    "open_end_auto = OpenToGround(design,'Open_auto_end',options=Dict(pos_x='250um',pos_y='1500um',rotation = '0'))\n",
    "\n",
    "open_start_meander = OpenToGround(design,'Open_meander_start',options=Dict(pos_x='1000um',pos_y='0um',rotation = '-90'))\n",
    "open_end_meander = OpenToGround(design,'Open_meander_end',options=Dict(pos_x='1000um',pos_y='1500um',rotation = '90'))\n",
    "\n",
    "testStraight = RouteStraight(design,'straightTest',options=Dict(pin_inputs=Dict(\n",
    "                                                                    start_pin=Dict(\n",
    "                                                                        component = 'Open_straight_start',\n",
    "                                                                        pin = 'open'),\n",
    "                                                                    end_pin=Dict(\n",
    "                                                                        component = 'Open_straight_end',\n",
    "                                                                        pin = 'open')\n",
    "                                                                    )))\n",
    "\n",
    "testAuto = RouteFramed(design,'autoTest',options=Dict(pin_inputs=Dict(\n",
    "                                                                    start_pin=Dict(\n",
    "                                                                        component = 'Open_auto_start',\n",
    "                                                                        pin = 'open'),\n",
    "                                                                    end_pin=Dict(\n",
    "                                                                        component = 'Open_auto_end',\n",
    "                                                                        pin = 'open')\n",
    "                                                                    )))\n",
    "\n",
    "testMeander = RouteMeander(design,'meanderTest',options=Dict(pin_inputs=Dict(\n",
    "                                                                    start_pin=Dict(\n",
    "                                                                        component = 'Open_meander_start',\n",
    "                                                                        pin = 'open'),\n",
    "                                                                    end_pin=Dict(\n",
    "                                                                        component = 'Open_meander_end',\n",
    "                                                                        pin = 'open')\n",
    "                                                                    )))\n",
    "gui.rebuild()\n",
    "gui.autoscale()"
   ]
  },
  {
   "cell_type": "code",
   "execution_count": 17,
   "metadata": {
    "tags": [
     "nbsphinx-thumbnail"
    ]
   },
   "outputs": [
    {
     "data": {
      "image/png": "[encoded data removed]",
      "text/plain": [
       "<IPython.core.display.Image object>"
      ]
     },
     "metadata": {
      "image/png": {
       "width": 500
      }
     },
     "output_type": "display_data"
    }
   ],
   "source": [
    "gui.screenshot()"
   ]
  }
 ],
 "metadata": {
  "celltoolbar": "Tags",
  "kernelspec": {
   "display_name": "Python 3",
   "language": "python",
   "name": "python3"
  },
  "language_info": {
   "codemirror_mode": {
    "name": "ipython",
    "version": 3
   },
   "file_extension": ".py",
   "mimetype": "text/x-python",
   "name": "python",
   "nbconvert_exporter": "python",
   "pygments_lexer": "ipython3",
   "version": "3.7.8"
  }
 },
 "nbformat": 4,
 "nbformat_minor": 4
}
