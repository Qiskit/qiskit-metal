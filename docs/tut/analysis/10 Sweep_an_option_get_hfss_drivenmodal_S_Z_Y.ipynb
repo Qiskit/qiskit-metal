{
 "cells": [
  {
   "cell_type": "markdown",
   "id": "dfdbdd83-3d7a-4ce6-9e14-73da77eafb1b",
   "metadata": {},
   "source": [
    "# Sweep a option in QComponent, get Ansys HFSS driven-modal scatter matrix, impedance matrix, and admittance matrix."
   ]
  },
  {
   "cell_type": "markdown",
   "id": "6ff25fd3-dd09-42f6-a2cc-8a96dfc3b19f",
   "metadata": {},
   "source": [
    "# Prerequisite\n",
    "You need to have a working local installation of Ansys"
   ]
  },
  {
   "cell_type": "markdown",
   "id": "b8d33e1d-5dd4-4c44-a94b-27235735b2db",
   "metadata": {},
   "source": [
    "## 1. Perform the necessary imports and create a QDesign in Metal first."
   ]
  },
  {
   "cell_type": "code",
   "execution_count": 1,
   "id": "64f3f504-2ea5-4de7-8cb8-b83cd096024c",
   "metadata": {},
   "outputs": [],
   "source": [
    "%load_ext autoreload\n",
    "%autoreload 2"
   ]
  },
  {
   "cell_type": "code",
   "execution_count": 2,
   "id": "73a5d892-784c-40ed-9ba3-b8fc400e8f7c",
   "metadata": {},
   "outputs": [],
   "source": [
    "import qiskit_metal as metal\n",
    "from qiskit_metal import designs, draw\n",
    "from qiskit_metal import MetalGUI, Dict, Headings\n",
    "import pyEPR as epr\n",
    "from qiskit_metal.analyses.sweep_options.sweeping import Sweeping"
   ]
  },
  {
   "cell_type": "markdown",
   "id": "b112357b-556f-46f0-80bf-3ebb5e2d2a19",
   "metadata": {},
   "source": [
    "## Create the design in Metal\n",
    " Set up a design of a given dimension.  Create a design by specifying the chip size and open Metal GUI.  Dimensions will be respected in the design rendering.  Note the chip design is centered at origin (0,0)."
   ]
  },
  {
   "cell_type": "code",
   "execution_count": 3,
   "id": "a2dcc2da-f532-4842-9787-ba243e6a3164",
   "metadata": {},
   "outputs": [],
   "source": [
    "design = designs.DesignPlanar({}, True)\n",
    "design.chips.main.size['size_x'] = '2mm'\n",
    "design.chips.main.size['size_y'] = '2mm'\n",
    "\n",
    "gui = MetalGUI(design)\n",
    "\n",
    "# Perform the necessary imports.\n",
    "from qiskit_metal.qlibrary.couplers.coupled_line_tee import CoupledLineTee\n",
    "from qiskit_metal.qlibrary.tlines.meandered import RouteMeander\n",
    "from qiskit_metal.qlibrary.qubits.transmon_pocket import TransmonPocket\n",
    "from qiskit_metal.qlibrary.tlines.straight_path import RouteStraight\n",
    "from qiskit_metal.qlibrary.terminations.open_to_ground import OpenToGround"
   ]
  },
  {
   "cell_type": "code",
   "execution_count": 4,
   "id": "51663c3a-92c2-4b00-a148-0882564c6b6e",
   "metadata": {},
   "outputs": [],
   "source": [
    "# To create plots after geting solution data.\n",
    "import matplotlib.pyplot as plt\n",
    "import numpy as np"
   ]
  },
  {
   "cell_type": "code",
   "execution_count": 5,
   "id": "3e5a6413-ca0d-4672-a360-99af3fe63a65",
   "metadata": {},
   "outputs": [],
   "source": [
    "# Add 2 transmons to the design.\n",
    "options = dict(\n",
    "    # Some options we want to modify from the deafults\n",
    "    # (see below for defaults)\n",
    "    pad_width='425 um',\n",
    "    pocket_height='650um',\n",
    "    # Adding 4 connectors (see below for defaults)\n",
    "    connection_pads=dict(a=dict(loc_W=+1, loc_H=+1),\n",
    "                         b=dict(loc_W=-1, loc_H=+1, pad_height='30um'),\n",
    "                         c=dict(loc_W=+1, loc_H=-1, pad_width='200um'),\n",
    "                         d=dict(loc_W=-1, loc_H=-1, pad_height='50um')))\n",
    "\n",
    "## Create 2 transmons\n",
    "q1 = TransmonPocket(design,\n",
    "                    'Q1',\n",
    "                    options=dict(pos_x='+1.4mm',\n",
    "                                 pos_y='0mm',\n",
    "                                 orientation='90',\n",
    "                                 **options))\n",
    "q2 = TransmonPocket(design,\n",
    "                    'Q2',\n",
    "                    options=dict(pos_x='-0.6mm',\n",
    "                                 pos_y='0mm',\n",
    "                                 orientation='90',\n",
    "                                 **options))\n",
    "\n",
    "gui.rebuild()\n",
    "gui.autoscale()"
   ]
  },
  {
   "cell_type": "code",
   "execution_count": 6,
   "id": "89b65896-908f-4475-b4bc-d1ee826feacb",
   "metadata": {},
   "outputs": [],
   "source": [
    "# Add 2 hangers consisting of capacitively coupled transmission lines.\n",
    "TQ1 = CoupledLineTee(design,\n",
    "                     'TQ1',\n",
    "                     options=dict(pos_x='1mm',\n",
    "                                  pos_y='3mm',\n",
    "                                  coupling_length='200um'))\n",
    "TQ2 = CoupledLineTee(design,\n",
    "                     'TQ2',\n",
    "                     options=dict(pos_x='-1mm',\n",
    "                                  pos_y='3mm',\n",
    "                                  coupling_length='200um'))\n",
    "\n",
    "gui.rebuild()\n",
    "gui.autoscale()"
   ]
  },
  {
   "cell_type": "code",
   "execution_count": 7,
   "id": "50fdbadb-ea7f-4863-9fe5-b7457dd9ba5b",
   "metadata": {},
   "outputs": [],
   "source": [
    "# Add 2 meandered CPWs connecting the transmons to the hangers.\n",
    "ops = dict(fillet='90um')\n",
    "design.overwrite_enabled = True\n",
    "\n",
    "options1 = Dict(total_length='8mm',\n",
    "                hfss_wire_bonds=True,\n",
    "                pin_inputs=Dict(start_pin=Dict(component='TQ1',\n",
    "                                               pin='second_end'),\n",
    "                                end_pin=Dict(component='Q1', pin='a')),\n",
    "                lead=Dict(start_straight='0.1mm'),\n",
    "                **ops)\n",
    "\n",
    "options2 = Dict(total_length='9mm',\n",
    "                hfss_wire_bonds=True,\n",
    "                pin_inputs=Dict(start_pin=Dict(component='TQ2',\n",
    "                                               pin='second_end'),\n",
    "                                end_pin=Dict(component='Q2', pin='a')),\n",
    "                lead=Dict(start_straight='0.1mm'),\n",
    "                **ops)\n",
    "\n",
    "meanderQ1 = RouteMeander(design, 'meanderQ1', options=options1)\n",
    "meanderQ2 = RouteMeander(design, 'meanderQ2', options=options2)\n",
    "\n",
    "gui.rebuild()\n",
    "gui.autoscale() "
   ]
  },
  {
   "cell_type": "code",
   "execution_count": 8,
   "id": "44c2ee18-7f0c-4029-beec-1b3c0e420bd0",
   "metadata": {},
   "outputs": [],
   "source": [
    "# Add 2 open to grounds at the ends of the horizontal CPW.\n",
    "otg1 = OpenToGround(design, 'otg1', options=dict(pos_x='3mm', pos_y='3mm'))\n",
    "otg2 = OpenToGround(design,\n",
    "                    'otg2',\n",
    "                    options=dict(pos_x='-3mm', pos_y='3mm', orientation='180'))\n",
    "\n",
    "gui.rebuild()\n",
    "gui.autoscale()\n",
    "\n",
    "# Add 3 straight CPWs that comprise the long horizontal CPW.\n",
    "\n",
    "ops_oR = Dict(hfss_wire_bonds=True,\n",
    "              pin_inputs=Dict(start_pin=Dict(component='TQ1', pin='prime_end'),\n",
    "                              end_pin=Dict(component='otg1', pin='open')))\n",
    "ops_mid = Dict(hfss_wire_bonds=True,\n",
    "               pin_inputs=Dict(start_pin=Dict(component='TQ1',\n",
    "                                              pin='prime_start'),\n",
    "                               end_pin=Dict(component='TQ2', pin='prime_end')))\n",
    "ops_oL = Dict(hfss_wire_bonds=True,\n",
    "              pin_inputs=Dict(start_pin=Dict(component='TQ2',\n",
    "                                             pin='prime_start'),\n",
    "                              end_pin=Dict(component='otg2', pin='open')))\n",
    "\n",
    "cpw_openRight = RouteStraight(design, 'cpw_openRight', options=ops_oR)\n",
    "cpw_middle = RouteStraight(design, 'cpw_middle', options=ops_mid)\n",
    "cpw_openLeft = RouteStraight(design, 'cpw_openLeft', options=ops_oL)\n",
    "\n",
    "gui.rebuild()\n",
    "gui.autoscale()"
   ]
  },
  {
   "cell_type": "code",
   "execution_count": 9,
   "id": "middle-olive",
   "metadata": {
    "tags": [
     "nbsphinx-thumbnail"
    ]
   },
   "outputs": [
    {
     "data": {
      "image/png": "[encoded data removed]",
      "text/plain": [
       "<IPython.core.display.Image object>"
      ]
     },
     "metadata": {
      "image/png": {
       "width": 500
      }
     },
     "output_type": "display_data"
    }
   ],
   "source": [
    "gui.screenshot()"
   ]
  },
  {
   "cell_type": "markdown",
   "id": "a165d3e2-1abf-41d1-bc5c-3862ea76ff2f",
   "metadata": {},
   "source": [
    "## 2. Render the qubit from Metal into the HangingResonators design in Ansys. <br>Must open Ansys HFSS at this point. \n",
    "\n",
    "**Wait for Ansys to fully open before proceeding.**<br> If necessary, also close any Ansys popup windows.\n",
    "\n",
    "### Registration occurs automatically within the method \"sweep_one_option_get_drivenmodal_solution_data\". \n",
    "\n",
    "### Must have an open Ansys project and HFSS eigenmode design before executing render_design. Can do it manually or automate it. \n",
    "\n",
    "Manually: To create a new Ansys project, click \"New\", the leftmost icon right below the file menu. \n",
    "\n",
    "Automate: Execute the command <hfss.open_ansys()> in cell below only if Ansys is not already open.  Use the cells below to open the Ansys application.  \n",
    "\n",
    "### The method \"sweep_one_option_get_drivenmodal_solution_data\" will connect to ansys, activate a HFSS design, add a setup, and insert frequency-sweep under the setup."
   ]
  },
  {
   "cell_type": "code",
   "execution_count": 10,
   "id": "f05a0ce8-1f34-496a-a5dd-d7b4c0f4ed12",
   "metadata": {},
   "outputs": [],
   "source": [
    "#Reference to Ansys hfss QRenderer\n",
    "hfss = design.renderers.hfss\n",
    "\n",
    "# This cell will open the Ansys application.  Run this cell, if Ansys, is not already open.\n",
    "# A project will be opened using this command.\n",
    "hfss.open_ansys()"
   ]
  },
  {
   "cell_type": "code",
   "execution_count": 11,
   "id": "0ce043de-88ec-439e-9461-3edaae837f8f",
   "metadata": {},
   "outputs": [],
   "source": [
    "sweep = Sweeping(design)"
   ]
  },
  {
   "cell_type": "code",
   "execution_count": 12,
   "id": "f4add527-3876-41ef-a0e8-972cfe03bb5a",
   "metadata": {},
   "outputs": [],
   "source": [
    "# Set the buffer width at the edge of the design to be 0.5 mm \n",
    "# in both directions.\n",
    "\n",
    "hfss.options['x_buffer_width_mm'] = 0.5\n",
    "hfss.options['y_buffer_width_mm'] = 0.5"
   ]
  },
  {
   "cell_type": "markdown",
   "id": "bf57852d-2e59-4653-901e-fe172af58be2",
   "metadata": {},
   "source": [
    "As a reminder, arguments for render_design() are given as: <br>\n",
    "\n",
    "First parameter: List of components to render (empty list if rendering whole Metal design) <br><br>\n",
    "Second parameter: List of pins (qcomp, pin) with open endcaps <br><br>\n",
    "Third parameter: List of pins (qcomp, pin, impedance) to render as lumped ports <br><br>\n",
    "Fourth parameter: List of junctions (qcomp, qgeometry_name, impedance, draw_ind)\n",
    "       to render as lumped ports or as lumped port in parallel with a sheet inductance <br><br>\n",
    "Fifth parameter: List of junctions (qcomp, qgeometry_name) to omit altogether during rendering<br><br>\n",
    "Sixth parameter: Whether to render chip via box plus buffer or fixed chip size<br>\n"
   ]
  },
  {
   "cell_type": "markdown",
   "id": "433734fa-c793-468b-a888-0462d3cca39f",
   "metadata": {},
   "source": [
    "The size scatter square matrix, impedance square matrix, and admittance square matrix is determined by size of (3rd parameter) + (size of fourth parameter) of render_design.  "
   ]
  },
  {
   "cell_type": "code",
   "execution_count": 13,
   "id": "2848893a-29d2-4dee-95e3-2e47b3e193a0",
   "metadata": {},
   "outputs": [],
   "source": [
    "selection = [] # Means to render everything in qgeometry table.\n",
    "open_pins = []\n",
    "\n",
    "# Here, pin cpw_openRight_end and cpw_openLeft_end are converted into lumped ports,\n",
    "#           each with an impedance of 50 Ohms. <br>\n",
    "port_list = [('cpw_openRight', 'end', 50),\n",
    "                      ('cpw_openLeft', 'end', 50)]\n",
    "jj_to_port = []\n",
    "# Neither of the junctions in Q1 or Q2 are rendered.\n",
    "ignored_jjs = [('Q1', 'rect_jj'), ('Q2', 'rect_jj')]\n",
    "box_plus_buffer = True\n",
    "\n",
    "dm_render_args = Dict(selection=selection,\n",
    "                      open_pins=open_pins,\n",
    "                      port_list=port_list,\n",
    "                      jj_to_port=jj_to_port,\n",
    "                      ignored_jjs=ignored_jjs,\n",
    "                      box_plus_buffer=box_plus_buffer)"
   ]
  },
  {
   "cell_type": "code",
   "execution_count": 14,
   "id": "44e9902f-1588-4fb6-a2af-501a28cb01cb",
   "metadata": {},
   "outputs": [],
   "source": [
    "# Pass a dict with arguments to be used add Setup to project.\n",
    "# If you don't pass all the arguments, the default is determined by\n",
    "# QHFSSRenderer's default_options.\n",
    "# The name of setup will be \"Sweep_dm_setup\".\n",
    "# If a setup named \"Sweep_dm_setup\" exists in the project, it will be deleted,\n",
    "# and a new setup will be added with the arguments from setup_args.\n",
    "hfss_dm_setup_args = Dict(freq_ghz=None,\n",
    "                          max_delta_s=None,\n",
    "                          max_passes=None,\n",
    "                          min_passes=None,\n",
    "                          min_converged=None,\n",
    "                          pct_refinement=None,\n",
    "                          basis_order=None)\n",
    "# Example of updating the keys that we are interested in.\n",
    "hfss_dm_setup_args = Dict(\n",
    "    freq_ghz=4,\n",
    "    max_delta_s=0.1,\n",
    "    max_passes=9,\n",
    "    min_passes=2,\n",
    ")\n"
   ]
  },
  {
   "cell_type": "markdown",
   "id": "d83329c3-ffb4-4129-bcee-be17bcc71fa2",
   "metadata": {},
   "source": [
    "\n",
    "Add a frequency sweep to a driven modal setup.<br>\n",
    "From QHFSSRenderer.add_sweep doc_strings.  Please go to doc_strings to get the latest information.  \n",
    "\n",
    "Args:<br>\n",
    "    setup_name (str, optional): Name of driven modal simulation setup.\n",
    "                            Defaults to \"Setup\".<br>\n",
    "    start_ghz (float, optional): Starting frequency of sweep in GHz.\n",
    "                            Defaults to 2.0.<br>\n",
    "    stop_ghz (float, optional): Ending frequency of sweep in GHz.\n",
    "                            Defaults to 8.0.<br>\n",
    "    count (int, optional): Total number of frequencies.\n",
    "                            Defaults to 101.<br>\n",
    "    step_ghz (float, optional): Difference between adjacent\n",
    "                            frequencies. Defaults to None.<br>\n",
    "    name (str, optional): Name of sweep. Defaults to \"Sweep\".<br>\n",
    "    type (str, optional): Type of sweep. Defaults to \"Fast\".<br>\n",
    "    save_fields (bool, optional): Whether or not to save fields.\n",
    "                        Defaults to False.<br>\n",
    "                        \n",
    "                        \n",
    "From pyEPR.HfssSetup.insert_sweep(), please go to this method to get the latest documentation.   \n",
    "You should provide either step_ghz or count when inserting an HFSS driven model freq sweep. Do not provide both or neither!"
   ]
  },
  {
   "cell_type": "code",
   "execution_count": 15,
   "id": "2adfa5b0-096c-4aa5-b580-1e7b180a2f23",
   "metadata": {},
   "outputs": [],
   "source": [
    "dm_add_sweep_args = Dict(name=\"Sweep_options__dm_sweep\",\n",
    "                         start_ghz=4.0,\n",
    "                         stop_ghz=8.0,\n",
    "                         count=2001,\n",
    "                         type=\"Interpolating\")"
   ]
  },
  {
   "cell_type": "code",
   "execution_count": 16,
   "id": "6276a16c-5be0-408e-884b-75e87e129084",
   "metadata": {},
   "outputs": [
    {
     "name": "stderr",
     "output_type": "stream",
     "text": [
      "INFO 06:42AM [connect_project]: Connecting to Ansys Desktop API...\n",
      "INFO 06:42AM [load_ansys_project]: \tOpened Ansys App\n",
      "INFO 06:42AM [load_ansys_project]: \tOpened Ansys Desktop v2020.2.0\n",
      "INFO 06:42AM [load_ansys_project]: \tOpened Ansys Project\n",
      "\tFolder:    C:/Ansoft/\n",
      "\tProject:   Project7\n",
      "INFO 06:42AM [connect_design]: No active design found (or error getting active design).\n",
      "INFO 06:42AM [connect]: \t Connected to project \"Project7\". No design detected\n",
      "06:42AM 53s WARNING [activate_drivenmodal_design]: The name=Sweep_DrivenModal was not in active project.  A new design will be inserted to the project.  Names in active project are: \n",
      "[].  \n",
      "INFO 06:43AM [connect_design]: \tOpened active design\n",
      "\tDesign:    Sweep_DrivenModal [Solution type: DrivenModal]\n",
      "WARNING 06:43AM [connect_setup]: \tNo design setup detected.\n",
      "WARNING 06:43AM [connect_setup]: \tCreating drivenmodal default setup.\n",
      "INFO 06:43AM [get_setup]: \tOpened setup `Setup`  (<class 'pyEPR.ansys.HfssDMSetup'>)\n",
      "INFO 06:43AM [get_setup]: \tOpened setup `Sweep_dm_setup`  (<class 'pyEPR.ansys.HfssDMSetup'>)\n",
      "INFO 06:43AM [get_setup]: \tOpened setup `Sweep_dm_setup`  (<class 'pyEPR.ansys.HfssDMSetup'>)\n",
      "INFO 06:43AM [get_setup]: \tOpened setup `Sweep_dm_setup`  (<class 'pyEPR.ansys.HfssDMSetup'>)\n",
      "INFO 06:43AM [analyze]: Analyzing setup Sweep_dm_setup : Sweep_options__dm_sweep\n",
      "INFO 06:46AM [get_setup]: \tOpened setup `Sweep_dm_setup`  (<class 'pyEPR.ansys.HfssDMSetup'>)\n",
      "INFO 06:46AM [get_setup]: \tOpened setup `Sweep_dm_setup`  (<class 'pyEPR.ansys.HfssDMSetup'>)\n",
      "INFO 06:46AM [analyze]: Analyzing setup Sweep_dm_setup : Sweep_options__dm_sweep\n",
      "INFO 06:48AM [get_setup]: \tOpened setup `Sweep_dm_setup`  (<class 'pyEPR.ansys.HfssDMSetup'>)\n",
      "INFO 06:48AM [get_setup]: \tOpened setup `Sweep_dm_setup`  (<class 'pyEPR.ansys.HfssDMSetup'>)\n",
      "INFO 06:48AM [analyze]: Analyzing setup Sweep_dm_setup : Sweep_options__dm_sweep\n"
     ]
    }
   ],
   "source": [
    "all_sweeps, return_code = sweep.sweep_one_option_get_drivenmodal_solution_data(\n",
    "    meanderQ1.name,\n",
    "    'total_length', ['9mm', '8mm', '7mm'],\n",
    "    dm_render_args,\n",
    "    setup_args=hfss_dm_setup_args,\n",
    "    dm_add_sweep_args=dm_add_sweep_args,\n",
    "    leave_last_design=True)"
   ]
  },
  {
   "cell_type": "code",
   "execution_count": 17,
   "id": "34de5ddf-aba5-4f6f-bc07-d6ec63f4be26",
   "metadata": {},
   "outputs": [
    {
     "name": "stdout",
     "output_type": "stream",
     "text": [
      "dict_keys(['9mm', '8mm', '7mm'])\n"
     ]
    }
   ],
   "source": [
    "# Each key corresponds to list passed to ['9mm', '8mm', '7mm']\n",
    "if return_code == 0:\n",
    "    print(all_sweeps.keys())\n"
   ]
  },
  {
   "cell_type": "code",
   "execution_count": 18,
   "id": "9aba9ccb-a753-48be-ad2c-cb463573f216",
   "metadata": {},
   "outputs": [
    {
     "name": "stdout",
     "output_type": "stream",
     "text": [
      "dict_keys(['s_matrix', 'y_matrix', 'z_matrix'])\n"
     ]
    }
   ],
   "source": [
    "# Each values use for the given option, has three matrixes:  \n",
    "# scatter, impedance, and addmitance.\n",
    "if return_code == 0:\n",
    "    print(all_sweeps['9mm'].keys())"
   ]
  },
  {
   "cell_type": "code",
   "execution_count": 19,
   "id": "31945989-df0e-4bc4-9881-2cba1ac3be74",
   "metadata": {},
   "outputs": [
    {
     "name": "stdout",
     "output_type": "stream",
     "text": [
      "                       Z11                  Z21                  Z12  \\\n",
      "4.000  0.000000-13.182262j  0.000000+46.860476j  0.000000+46.860476j   \n",
      "4.002  0.000000-13.150901j  0.000003+46.851691j  0.000003+46.851691j   \n",
      "4.004  0.000000-13.119551j  0.000005+46.842929j  0.000005+46.842929j   \n",
      "4.006  0.000000-13.088212j  0.000008+46.834190j  0.000008+46.834190j   \n",
      "4.008  0.000000-13.056886j  0.000010+46.825474j  0.000010+46.825474j   \n",
      "...                    ...                  ...                  ...   \n",
      "7.992 -0.000037+69.803815j -0.000037+83.243199j -0.000037+83.243199j   \n",
      "7.994 -0.000028+69.902667j -0.000028+83.326643j -0.000028+83.326643j   \n",
      "7.996 -0.000019+70.001718j -0.000019+83.410288j -0.000019+83.410288j   \n",
      "7.998 -0.000009+70.100967j -0.000009+83.494137j -0.000009+83.494137j   \n",
      "8.000 -0.000000+70.200416j -0.000000+83.578188j -0.000000+83.578188j   \n",
      "\n",
      "                       Z22  \n",
      "4.000  0.000000-13.058353j  \n",
      "4.002 -0.000000-13.026908j  \n",
      "4.004 -0.000001-12.995474j  \n",
      "4.006 -0.000001-12.964053j  \n",
      "4.008 -0.000001-12.932642j  \n",
      "...                    ...  \n",
      "7.992 -0.000032+70.358628j  \n",
      "7.994 -0.000024+70.458128j  \n",
      "7.996 -0.000016+70.557828j  \n",
      "7.998 -0.000008+70.657728j  \n",
      "8.000 -0.000000+70.757829j  \n",
      "\n",
      "[2001 rows x 4 columns]\n"
     ]
    }
   ],
   "source": [
    "# For example, just one group of solution data.\n",
    "if return_code == 0:\n",
    "    print(all_sweeps['9mm']['z_matrix'])"
   ]
  },
  {
   "cell_type": "code",
   "execution_count": 20,
   "id": "3947cf07-ec8d-4a34-8645-c835344d79db",
   "metadata": {},
   "outputs": [],
   "source": [
    "df_s = all_sweeps['9mm']['s_matrix']"
   ]
  },
  {
   "cell_type": "code",
   "execution_count": 21,
   "id": "fc968617-4055-4371-9599-7e2dc167e59f",
   "metadata": {},
   "outputs": [],
   "source": [
    "df_s['20_log_of_mag_S11']= 20 * np.log10(np.absolute(df_s['S11']))\n",
    "df_s['20_log_of_mag_S21']= 20 * np.log10(np.absolute(df_s['S21']))\n",
    "\n",
    "# Reference to current axis. \n",
    "magnitude = plt.figure('Magnitude S11 and S21')\n",
    "plt.clf()\n",
    "axis = plt.gca() # Get current axis.\n",
    "df_s = all_sweeps['9mm']['s_matrix']\n",
    "df_s.plot(kind = 'line', y='20_log_of_mag_S11', color = 'green', ax = axis)\n",
    "df_s.plot(kind = 'line', y='20_log_of_mag_S21', color = 'blue', ax = axis)\n",
    "plt.title(f'S11 and S21 Scatter Matrix [magnitude]')\n",
    "plt.xlabel(f'frequency [GHZ]')\n",
    "plt.ylabel(f'S11 and S21  [20 log(|Sxx|)]')\n",
    "magnitude.show()"
   ]
  },
  {
   "cell_type": "code",
   "execution_count": 22,
   "id": "ecc568b7-83de-4bd7-803a-e4452b4d6a99",
   "metadata": {},
   "outputs": [],
   "source": [
    "# Data is shown as degrees.  \n",
    "# However, if you want radians, change value of deg to false, deg=False.\n",
    "df_s['degrees_S11'] = np.angle(df_s['S11'], deg=True)\n",
    "df_s['degrees_S21'] = np.angle(df_s['S21'], deg=True)\n",
    "\n",
    "# Reference to current axis. \n",
    "phase = plt.figure('Phase of S11 and S21')\n",
    "plt.clf()\n",
    "axis = plt.gca() # Get current axis.\n",
    "df_s = all_sweeps['9mm']['s_matrix']\n",
    "df_s.plot(kind = 'line', y='degrees_S11', color = 'green', ax = axis)\n",
    "df_s.plot(kind = 'line', y='degrees_S21', color = 'blue', ax = axis)\n",
    "plt.title(f'S11 and S21 Scatter Matrix [degrees]')\n",
    "plt.xlabel(f'frequency [GHZ]')\n",
    "plt.ylabel(f'S11 and S21 [degrees])')\n",
    "phase.show()"
   ]
  },
  {
   "cell_type": "code",
   "execution_count": 23,
   "id": "63b66770-8eee-4de6-9831-7ab2a3210823",
   "metadata": {},
   "outputs": [
    {
     "name": "stderr",
     "output_type": "stream",
     "text": [
      "INFO 06:50AM [connect_project]: Connecting to Ansys Desktop API...\n",
      "INFO 06:50AM [load_ansys_project]: \tOpened Ansys App\n",
      "INFO 06:50AM [load_ansys_project]: \tOpened Ansys Desktop v2020.2.0\n",
      "INFO 06:50AM [load_ansys_project]: \tOpened Ansys Project\n",
      "\tFolder:    C:/Ansoft/\n",
      "\tProject:   Project7\n",
      "INFO 06:50AM [connect_design]: \tOpened active design\n",
      "\tDesign:    Sweep_DrivenModal [Solution type: DrivenModal]\n",
      "INFO 06:50AM [get_setup]: \tOpened setup `Setup`  (<class 'pyEPR.ansys.HfssDMSetup'>)\n",
      "INFO 06:50AM [connect]: \tConnected to project \"Project7\" and design \"Sweep_DrivenModal\" 😀 \n",
      "\n",
      "INFO 06:50AM [connect_design]: \tOpened active design\n",
      "\tDesign:    Sweep_DrivenModal [Solution type: DrivenModal]\n",
      "INFO 06:50AM [get_setup]: \tOpened setup `Sweep_dm_setup`  (<class 'pyEPR.ansys.HfssDMSetup'>)\n",
      "INFO 06:51AM [get_setup]: \tOpened setup `Sweep_dm_setup`  (<class 'pyEPR.ansys.HfssDMSetup'>)\n",
      "INFO 06:51AM [get_setup]: \tOpened setup `Sweep_dm_setup`  (<class 'pyEPR.ansys.HfssDMSetup'>)\n",
      "INFO 06:51AM [analyze]: Analyzing setup Sweep_dm_setup : Sweep_options__dm_sweep\n",
      "INFO 06:54AM [get_setup]: \tOpened setup `Sweep_dm_setup`  (<class 'pyEPR.ansys.HfssDMSetup'>)\n",
      "INFO 06:54AM [get_setup]: \tOpened setup `Sweep_dm_setup`  (<class 'pyEPR.ansys.HfssDMSetup'>)\n",
      "INFO 06:54AM [analyze]: Analyzing setup Sweep_dm_setup : Sweep_options__dm_sweep\n",
      "INFO 06:56AM [__del__]: Disconnected from Ansys HFSS\n",
      "INFO 06:57AM [get_setup]: \tOpened setup `Sweep_dm_setup`  (<class 'pyEPR.ansys.HfssDMSetup'>)\n",
      "INFO 06:57AM [get_setup]: \tOpened setup `Sweep_dm_setup`  (<class 'pyEPR.ansys.HfssDMSetup'>)\n",
      "INFO 06:57AM [analyze]: Analyzing setup Sweep_dm_setup : Sweep_options__dm_sweep\n"
     ]
    }
   ],
   "source": [
    "# In HFSS, after the last sweep, should the design be cleared?  The argument \"leave_last_design\" is true by default. \n",
    "# If you want to delete after last sweep, change argument to false.\n",
    "\n",
    "leave_last_design = False\n",
    "\n",
    "all_sweeps, return_code = sweep.sweep_one_option_get_drivenmodal_solution_data(\n",
    "    meanderQ1.name,\n",
    "    'total_length', ['9mm', '8mm', '7mm'],\n",
    "    dm_render_args,\n",
    "    setup_args=hfss_dm_setup_args,\n",
    "    dm_add_sweep_args=dm_add_sweep_args,\n",
    "    leave_last_design=leave_last_design)"
   ]
  },
  {
   "cell_type": "code",
   "execution_count": 24,
   "id": "75ff8fcd-2da7-4594-a402-37b17bcb3428",
   "metadata": {},
   "outputs": [],
   "source": [
    "# Uncomment next line if you would like to close the gui\n",
    "# gui.main_window.close()"
   ]
  }
 ],
 "metadata": {
  "celltoolbar": "Tags",
  "kernelspec": {
   "display_name": "Python 3",
   "language": "python",
   "name": "python3"
  },
  "language_info": {
   "codemirror_mode": {
    "name": "ipython",
    "version": 3
   },
   "file_extension": ".py",
   "mimetype": "text/x-python",
   "name": "python",
   "nbconvert_exporter": "python",
   "pygments_lexer": "ipython3",
   "version": "3.7.8"
  }
 },
 "nbformat": 4,
 "nbformat_minor": 5
}
