{
 "cells": [
  {
   "cell_type": "markdown",
   "metadata": {},
   "source": [
    "### Qiskit Metal Concentric Transmon\n",
    "\n",
    "We'll be creating a 2D design and adding a single Concentric transmon QComponent.\n",
    "\n",
    "Simple Metal Transmon Concentric object. \n",
    "\n",
    "Metal transmon object consisting of a circle surrounding by a concentric \n",
    "ring. There are two Josephson Junction connecting the circle to the ring; \n",
    "one at the south end and one at the north end. There is a readout resonator. "
   ]
  },
  {
   "cell_type": "code",
   "execution_count": null,
   "metadata": {},
   "outputs": [],
   "source": [
    "# So, let us dive right in. For convenience, let's begin by enabling\n",
    "# automatic reloading of modules when they change.\n",
    "%load_ext autoreload\n",
    "%autoreload 2"
   ]
  },
  {
   "cell_type": "code",
   "execution_count": null,
   "metadata": {},
   "outputs": [],
   "source": [
    "import qiskit_metal as metal\n",
    "from qiskit_metal import designs, draw\n",
    "from qiskit_metal import MetalGUI, Dict, open_docs"
   ]
  },
  {
   "cell_type": "code",
   "execution_count": null,
   "metadata": {},
   "outputs": [],
   "source": [
    "# Each time you create a new quantum circuit design, \n",
    "# you start by instantiating a QDesign class. \n",
    "\n",
    "# The design class `DesignPlanar` is best for 2D circuit designs.\n",
    "\n",
    "design = designs.DesignPlanar()"
   ]
  },
  {
   "cell_type": "code",
   "execution_count": null,
   "metadata": {},
   "outputs": [],
   "source": [
    "#Launch Qiskit Metal GUI to interactively view, edit, and simulate QDesign: Metal GUI\n",
    "gui = MetalGUI(design)"
   ]
  },
  {
   "cell_type": "markdown",
   "metadata": {},
   "source": [
    "### A transmon qubit\n",
    "You can create a ready-made transmon cross qubit from the QComponent Library, `qiskit_metal.qlibrary.qubits`. \n",
    "`transmon_cross.py` is the file containing our qubit so `transmon_cross` is the module we import. \n",
    "The `TransmonCross` class is our transmon cross qubit. Like all quantum components, `TransmonCross` inherits from `QComponent`. \n",
    "\n",
    " Connector lines can be added using the `connection_pads` dictionary. \n",
    " Each connector pad has a name and a list of default properties."
   ]
  },
  {
   "cell_type": "code",
   "execution_count": null,
   "metadata": {},
   "outputs": [],
   "source": [
    "from qiskit_metal.qlibrary.qubits.transmon_concentric import TransmonConcentric\n",
    "\n",
    "# Be aware of the default_options that can be overridden by user.\n",
    "TransmonConcentric.get_template_options(design)"
   ]
  },
  {
   "cell_type": "code",
   "execution_count": null,
   "metadata": {},
   "outputs": [],
   "source": [
    "# Place the concentric transmon at (x,y) =(1,2)\n",
    "concentric_options = dict(\n",
    "    pos_x = '1um',\n",
    "    pos_y = '2um'\n",
    ")\n",
    "\n",
    "# Create a new Transmon Pocket object with name 'Q1' \n",
    "q1 = TransmonConcentric(design, 'qubit1', options=concentric_options)\n",
    "\n",
    "gui.rebuild()  # rebuild the design and plot \n",
    "gui.edit_component('qubit1') # set Q1 as the editable component \n",
    "gui.autoscale() #resize GUI to see QComponent"
   ]
  },
  {
   "cell_type": "markdown",
   "metadata": {},
   "source": [
    "## Closing the Qiskit Metal GUI"
   ]
  },
  {
   "cell_type": "code",
   "execution_count": null,
   "metadata": {},
   "outputs": [],
   "source": [
    "gui.main_window.close()"
   ]
  }
 ],
 "metadata": {
  "kernelspec": {
   "display_name": "pas_ssh_env_kernel",
   "language": "python",
   "name": "pas_ssh_env_kernel"
  },
  "language_info": {
   "codemirror_mode": {
    "name": "ipython",
    "version": 3
   },
   "file_extension": ".py",
   "mimetype": "text/x-python",
   "name": "python",
   "nbconvert_exporter": "python",
   "pygments_lexer": "ipython3",
   "version": "3.7.8"
  }
 },
 "nbformat": 4,
 "nbformat_minor": 4
}
