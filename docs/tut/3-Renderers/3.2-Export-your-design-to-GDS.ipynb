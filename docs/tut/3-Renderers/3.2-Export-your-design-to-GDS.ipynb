{
 "cells": [
  {
   "cell_type": "markdown",
   "metadata": {},
   "source": [
    "# Export your design to GDS"
   ]
  },
  {
   "cell_type": "markdown",
   "metadata": {},
   "source": [
    "For convenience, let's begin by enabling [automatic reloading of modules](https://ipython.readthedocs.io/en/stable/config/extensions/autoreload.html?highlight=autoreload) when they change."
   ]
  },
  {
   "cell_type": "code",
   "execution_count": 1,
   "metadata": {
    "tags": []
   },
   "outputs": [],
   "source": [
    "%load_ext autoreload\n",
    "%autoreload 2"
   ]
  },
  {
   "cell_type": "markdown",
   "metadata": {},
   "source": [
    "### Import Qiskit Metal"
   ]
  },
  {
   "cell_type": "code",
   "execution_count": 2,
   "metadata": {},
   "outputs": [],
   "source": [
    "import qiskit_metal as metal\n",
    "from qiskit_metal import designs, draw\n",
    "from qiskit_metal import MetalGUI, Dict, Headings\n",
    "from qiskit_metal.qlibrary.qubits.transmon_pocket import TransmonPocket\n",
    "from qiskit_metal.qlibrary.qubits.transmon_cross import TransmonCross"
   ]
  },
  {
   "cell_type": "code",
   "execution_count": 3,
   "metadata": {
    "tags": []
   },
   "outputs": [],
   "source": [
    "design = designs.DesignPlanar()\n",
    "gui = MetalGUI(design)"
   ]
  },
  {
   "cell_type": "code",
   "execution_count": 4,
   "metadata": {},
   "outputs": [],
   "source": [
    "design.overwrite_enabled = True\n",
    "design.delete_all_components() \n",
    "gui.rebuild() # refresh"
   ]
  },
  {
   "cell_type": "code",
   "execution_count": 5,
   "metadata": {},
   "outputs": [
    {
     "data": {
      "text/html": [
       "     <h1 style=\"         background-color: #d4418e;         background-image: linear-gradient(315deg, #d4418e 0%, #0652c5 74%);         margin-top: 50px;         border-style: outset;         padding-top:100px;         padding-bottom:50px;         padding-left:25px;         color: white;     \"> Populate QDesign to demonstrate exporting to GDS format. <h1>     "
      ],
      "text/plain": [
       "<IPython.core.display.HTML object>"
      ]
     },
     "metadata": {},
     "output_type": "display_data"
    }
   ],
   "source": [
    "Headings.h1('Populate QDesign to demonstrate exporting to GDS format.')"
   ]
  },
  {
   "cell_type": "code",
   "execution_count": 6,
   "metadata": {},
   "outputs": [],
   "source": [
    "from qiskit_metal.qlibrary.qubits.transmon_pocket import TransmonPocket\n",
    "\n",
    "# Allow running the same cell here multiple times to overwrite changes.\n",
    "design.overwrite_enabled = True\n",
    "\n",
    "## Custom options for all the transmons.\n",
    "options = dict(\n",
    "    # Some options we want to modify from the defaults.\n",
    "    # (see below for defaults)\n",
    "    pad_gap = '80 um',\n",
    "    pad_width = '425 um', \n",
    "    pocket_height = '650um',\n",
    "    # Adding 4 connectors (see below for defaults)\n",
    "    connection_pads=dict( \n",
    "        a = dict(loc_W=+1,loc_H=+1), \n",
    "        b = dict(loc_W=-1,loc_H=+1, pad_height='30um'),\n",
    "        c = dict(loc_W=+1,loc_H=-1, pad_width='200um'),\n",
    "        d = dict(loc_W=-1,loc_H=-1, pad_height='50um')\n",
    "    )\n",
    ")"
   ]
  },
  {
   "cell_type": "markdown",
   "metadata": {},
   "source": [
    "## Note repeated from \"Introduction to QRenderers.ipynb\":  \n",
    "The cell name denoted by, \"gds_cell_name\" will be the selected cell   \n",
    "from design.renderers.gds.options['path_filename']   \n",
    "when design.renderers.gds.export_to_gds() is executed."
   ]
  },
  {
   "cell_type": "code",
   "execution_count": 7,
   "metadata": {},
   "outputs": [],
   "source": [
    "## Create 4 TransmonPockets\n",
    "\n",
    "# For variety and demonstartion, use different gds_cell_names.\n",
    "q1 = TransmonPocket(design, 'Q1', options = dict(\n",
    "    pos_x='+2.55mm', pos_y='+0.0mm', gds_cell_name='FakeJunction_02', **options))\n",
    "q2 = TransmonPocket(design, 'Q2', options = dict(\n",
    "    pos_x='+0.0mm', pos_y='-0.9mm', orientation = '90', gds_cell_name='FakeJunction_01', **options))\n",
    "q3 = TransmonPocket(design, 'Q3', options = dict(\n",
    "    pos_x='-2.55mm', pos_y='+0.0mm', gds_cell_name='FakeJunction_01',**options))\n",
    "q4 = TransmonPocket(design, 'Q4', options = dict(\n",
    "    pos_x='+0.0mm', pos_y='+0.9mm', orientation = '90', gds_cell_name='my_other_junction', **options))\n",
    "\n",
    "## Rebuild the design\n",
    "gui.rebuild()\n",
    "gui.autoscale()"
   ]
  },
  {
   "cell_type": "markdown",
   "metadata": {},
   "source": [
    "## Connecting QPins with coplanar waveguides (CPWs) as described in earlier notebooks."
   ]
  },
  {
   "cell_type": "code",
   "execution_count": 8,
   "metadata": {
    "tags": []
   },
   "outputs": [],
   "source": [
    "from qiskit_metal.qlibrary.tlines.meandered import RouteMeander\n",
    "RouteMeander.get_template_options(design)\n",
    "\n",
    "options = Dict(\n",
    "    meander=Dict(\n",
    "        lead_start='0.1mm',\n",
    "        lead_end='0.1mm',\n",
    "        asymmetry='0 um')\n",
    ")\n",
    "\n",
    "\n",
    "def connect(component_name: str, component1: str, pin1: str, component2: str, pin2: str,\n",
    "            length: str, asymmetry='0 um', flip=False, fillet='50um'):\n",
    "    \"\"\"Connect two pins with a CPW.\"\"\"\n",
    "    myoptions = Dict(\n",
    "        fillet=fillet,\n",
    "        pin_inputs=Dict(\n",
    "            start_pin=Dict(\n",
    "                component=component1,\n",
    "                pin=pin1),\n",
    "            end_pin=Dict(\n",
    "                component=component2,\n",
    "                pin=pin2)),\n",
    "        lead=Dict(\n",
    "            start_straight='0.13mm',\n",
    "            end_straight='0.13mm'\n",
    "        ),\n",
    "        total_length=length)\n",
    "    myoptions.update(options)\n",
    "    myoptions.meander.asymmetry = asymmetry\n",
    "    myoptions.meander.lead_direction_inverted = 'true' if flip else 'false'\n",
    "    return RouteMeander(design, component_name, myoptions)\n",
    "\n",
    "\n",
    "asym = 90\n",
    "\n",
    "# For variety in output, use different fillet values.\n",
    "cpw1 = connect('cpw1', 'Q1', 'd', 'Q2', 'c', '5.7 mm', f'+{asym}um', fillet='25um')\n",
    "cpw2 = connect('cpw2', 'Q3', 'c', 'Q2', 'a', '5.4 mm', f'-{asym}um', flip=True, fillet='100um')\n",
    "cpw3 = connect('cpw3', 'Q3', 'a', 'Q4', 'b', '5.3 mm', f'+{asym}um', fillet='75um')\n",
    "cpw4 = connect('cpw4', 'Q1', 'b', 'Q4', 'd', '5.5 mm', f'-{asym}um', flip=True)\n",
    "\n",
    "gui.rebuild()\n",
    "gui.autoscale()"
   ]
  },
  {
   "cell_type": "code",
   "execution_count": 9,
   "metadata": {
    "tags": [
     "nbsphinx-thumbnail"
    ]
   },
   "outputs": [
    {
     "data": {
      "image/png": "[encoded data removed]",
      "text/plain": [
       "<IPython.core.display.Image object>"
      ]
     },
     "metadata": {
      "image/png": {
       "width": 500
      }
     },
     "output_type": "display_data"
    }
   ],
   "source": [
    "gui.screenshot()"
   ]
  },
  {
   "cell_type": "code",
   "execution_count": 10,
   "metadata": {},
   "outputs": [
    {
     "data": {
      "text/html": [
       "     <h1 style=\"         background-color: #d4418e;         background-image: linear-gradient(315deg, #d4418e 0%, #0652c5 74%);         margin-top: 50px;         border-style: outset;         padding-top:100px;         padding-bottom:50px;         padding-left:25px;         color: white;     \"> Exporting to a GDS file. <h1>     "
      ],
      "text/plain": [
       "<IPython.core.display.HTML object>"
      ]
     },
     "metadata": {},
     "output_type": "display_data"
    }
   ],
   "source": [
    "Headings.h1('Exporting to a GDS file.')"
   ]
  },
  {
   "cell_type": "code",
   "execution_count": 11,
   "metadata": {
    "tags": []
   },
   "outputs": [
    {
     "data": {
      "text/plain": [
       "{'short_segments_to_not_fillet': 'True',\n",
       " 'check_short_segments_by_scaling_fillet': '2.0',\n",
       " 'gds_unit': 0.001,\n",
       " 'ground_plane': 'True',\n",
       " 'negative_mask': {'main': []},\n",
       " 'corners': 'circular bend',\n",
       " 'tolerance': '0.00001',\n",
       " 'precision': '0.000000001',\n",
       " 'width_LineString': '10um',\n",
       " 'path_filename': '../resources/Fake_Junctions.GDS',\n",
       " 'junction_pad_overlap': '5um',\n",
       " 'max_points': '199',\n",
       " 'cheese': {'datatype': '100',\n",
       "  'shape': '0',\n",
       "  'cheese_0_x': '25um',\n",
       "  'cheese_0_y': '25um',\n",
       "  'cheese_1_radius': '100um',\n",
       "  'view_in_file': {'main': {1: True}},\n",
       "  'delta_x': '100um',\n",
       "  'delta_y': '100um',\n",
       "  'edge_nocheese': '200um'},\n",
       " 'no_cheese': {'datatype': '99',\n",
       "  'buffer': '25um',\n",
       "  'cap_style': '2',\n",
       "  'join_style': '2',\n",
       "  'view_in_file': {'main': {1: True}}},\n",
       " 'bounding_box_scale_x': '1.2',\n",
       " 'bounding_box_scale_y': '1.2'}"
      ]
     },
     "execution_count": 11,
     "metadata": {},
     "output_type": "execute_result"
    }
   ],
   "source": [
    "#QDesign registers GDS renderer during init of QDesign.\n",
    "a_gds = design.renderers.gds\n",
    "# An alternate way to invoke gds commands without using a_gds:\n",
    "# design.renderers.gds.export_to_gds()\n",
    "\n",
    "#Show the options for GDS\n",
    "a_gds.options"
   ]
  },
  {
   "cell_type": "markdown",
   "metadata": {},
   "source": [
    "###  To make `junction table` work correctly, GDS Renderer needs a correct path to a gds file, which has cells.  \n",
    "Each cell is a junction, to be placed, in a Transmon.  A sample gds file is provided in directory `qiskit_metal/tutorials/resources`.\n",
    "There are three cells with names \"Fake_Junction_01\", \"Fake_Junction_01\", and \"my_other_junction\".\n",
    "The default name used by GDS Render is \"my_other_junction\".  If you want to customize and select a junction, through the QComponent's options, you can pass it when a qcomponent is being added to QDesign. "
   ]
  },
  {
   "cell_type": "code",
   "execution_count": 12,
   "metadata": {},
   "outputs": [],
   "source": [
    "a_gds.options['path_filename'] = '../resources/Fake_Junctions.GDS'"
   ]
  },
  {
   "cell_type": "markdown",
   "metadata": {},
   "source": [
    "Do you want GDS Renderer to fix any short-segments in your QDesign when using fillet?'\n",
    "\n"
   ]
  },
  {
   "cell_type": "code",
   "execution_count": 13,
   "metadata": {},
   "outputs": [],
   "source": [
    "#If you have a fillet_value and there are LineSegments that are shorter than 2*fillet_value, \n",
    "#When true, the short segments will not be fillet'd. \n",
    "a_gds.options['short_segments_to_not_fillet'] = 'False'"
   ]
  },
  {
   "cell_type": "code",
   "execution_count": 14,
   "metadata": {},
   "outputs": [],
   "source": [
    "scale_fillet = 2.0\n",
    "a_gds.options['check_short_segments_by_scaling_fillet'] = scale_fillet"
   ]
  },
  {
   "cell_type": "markdown",
   "metadata": {},
   "source": [
    "### What criteria will be used for identifying a short segment?\n",
    "If a segment is smaller than (fillet length *  scale_fillet)\n",
    "\n",
    "### What if a segment of LineString has few short segments?  \n",
    "If option 'short_segments_to_not_fillet' == 'True', QGDSRenderer will\n",
    "break the LineString into shorter Linestrings to make smaller LineStrings that will be \n",
    "either fillet'd or not, based on if the segment is short."
   ]
  },
  {
   "cell_type": "code",
   "execution_count": 15,
   "metadata": {},
   "outputs": [],
   "source": [
    "#If you want to have the short segments not be fillet'd.\n",
    "a_gds.options['short_segments_to_not_fillet'] = 'True'"
   ]
  },
  {
   "cell_type": "code",
   "execution_count": 16,
   "metadata": {
    "tags": []
   },
   "outputs": [
    {
     "data": {
      "text/plain": [
       "1"
      ]
     },
     "execution_count": 16,
     "metadata": {},
     "output_type": "execute_result"
    }
   ],
   "source": [
    "# Export to a GDS formatted file for all components in design.\n",
    "#def export_to_gds(self, file_name: str, highlight_qcomponents: list = []) -> int:\n",
    "\n",
    "a_gds.export_to_gds('GDS QRenderer Notebook.gds')\n",
    "# You can also specify a different path. Example:\n",
    "#   a_gds.export_to_gds(\"../../../gds-files/GDS QRenderer Notebook.gds\")"
   ]
  },
  {
   "cell_type": "code",
   "execution_count": 17,
   "metadata": {
    "tags": []
   },
   "outputs": [
    {
     "data": {
      "text/plain": [
       "1"
      ]
     },
     "execution_count": 17,
     "metadata": {},
     "output_type": "execute_result"
    }
   ],
   "source": [
    "# Export a GDS file which contains only few components.\n",
    "\n",
    "# You will probably want to put the exported file in a specific directory.  \n",
    "# Please give the full path for output. \n",
    "a_gds.export_to_gds(\"four_qcomponents.gds\",\n",
    "                           highlight_qcomponents=['cpw1', 'cpw4', 'Q1', 'Q3'])"
   ]
  },
  {
   "cell_type": "code",
   "execution_count": 18,
   "metadata": {
    "tags": []
   },
   "outputs": [
    {
     "data": {
      "text/plain": [
       "1"
      ]
     },
     "execution_count": 18,
     "metadata": {},
     "output_type": "execute_result"
    }
   ],
   "source": [
    "# Export a GDS file using explicit path and cpw1.name vs typing string.\n",
    "# You will probably want to put the exported file in a specific directory.  \n",
    "# Please give the full path for output. \n",
    "a_gds.export_to_gds(\"four_same_qcomponents.gds\",\n",
    "                           highlight_qcomponents=[cpw1.name, 'cpw4', q1.name, 'Q3'])"
   ]
  },
  {
   "cell_type": "code",
   "execution_count": 19,
   "metadata": {},
   "outputs": [
    {
     "data": {
      "text/html": [
       "     <h1 style=\"         background-color: #d4418e;         background-image: linear-gradient(315deg, #d4418e 0%, #0652c5 74%);         margin-top: 50px;         border-style: outset;         padding-top:100px;         padding-bottom:50px;         padding-left:25px;         color: white;     \"> QUESTION:  Where is the geometry of a QComponent placed? <h1>     "
      ],
      "text/plain": [
       "<IPython.core.display.HTML object>"
      ]
     },
     "metadata": {},
     "output_type": "display_data"
    }
   ],
   "source": [
    "Headings.h1('QUESTION:  Where is the geometry of a QComponent placed?')"
   ]
  },
  {
   "cell_type": "markdown",
   "metadata": {},
   "source": [
    "## Answer:  QGeometry tables!"
   ]
  },
  {
   "cell_type": "markdown",
   "metadata": {},
   "source": [
    "This is better explained in folder \"2 Front End User/2.4 QRenderer Introduction\" in notebook, \"QRenderer Introduction \"."
   ]
  },
  {
   "cell_type": "code",
   "execution_count": 20,
   "metadata": {},
   "outputs": [
    {
     "data": {
      "text/html": [
       "     <h1 style=\"         background-color: #d4418e;         background-image: linear-gradient(315deg, #d4418e 0%, #0652c5 74%);         margin-top: 50px;         border-style: outset;         padding-top:100px;         padding-bottom:50px;         padding-left:25px;         color: white;     \"> What does GDS do with \"junction\" table? <h1>     "
      ],
      "text/plain": [
       "<IPython.core.display.HTML object>"
      ]
     },
     "metadata": {},
     "output_type": "display_data"
    }
   ],
   "source": [
    "Headings.h1('What does GDS do with \"junction\" table?')"
   ]
  },
  {
   "cell_type": "markdown",
   "metadata": {},
   "source": [
    "The junction table is handled differently by each QRenderer.\n",
    "\n",
    "GDS QRenderer gets a cell, with the name, equal to \"gds_cell_name\" and places the cell into the QDesign before exporting the entire QDesign to GDS. In file: `a_gds.options['path_filename'] = '../resources/Fake_Junctions.GDS'`, the gds_cell_name is searched.  The cell is placed into QDesign using LINESTRING and width information.\n",
    "\n",
    "The cell within \"path_filename\", should be \"x-axis\" aligned and then GDS rotates based on LineString.  The LineString should be two vertexes and it denotes two things.\n",
    "1. The midpoint of segment is the center of cell. \n",
    "2. The angle made by (second tuple - fist tuple), for delta y/ delta x, is used to rotate the cell. \n",
    "\n",
    "When the cell from default_options.path_filename does not fit the width of LineString,\n",
    "- QGDSRender will create two pads and add to cell, which is denoted in junction table, to fill the width of LineString. The length of the additional pads is the value of \"width\" from the junction table. \n",
    "- The option `a_gds.options[\"junction_pad_overlap\"]='5um'` is the amount the new pads will overlap the cell. The final width of the cell plus two pads is equal to the magnitude of LineString. "
   ]
  },
  {
   "cell_type": "code",
   "execution_count": 21,
   "metadata": {},
   "outputs": [
    {
     "data": {
      "text/html": [
       "<div>\n",
       "<style scoped>\n",
       "    .dataframe tbody tr th:only-of-type {\n",
       "        vertical-align: middle;\n",
       "    }\n",
       "\n",
       "    .dataframe tbody tr th {\n",
       "        vertical-align: top;\n",
       "    }\n",
       "\n",
       "    .dataframe thead th {\n",
       "        text-align: right;\n",
       "    }\n",
       "</style>\n",
       "<table border=\"1\" class=\"dataframe\">\n",
       "  <thead>\n",
       "    <tr style=\"text-align: right;\">\n",
       "      <th></th>\n",
       "      <th>component</th>\n",
       "      <th>name</th>\n",
       "      <th>geometry</th>\n",
       "      <th>layer</th>\n",
       "      <th>subtract</th>\n",
       "      <th>helper</th>\n",
       "      <th>chip</th>\n",
       "      <th>width</th>\n",
       "      <th>hfss_inductance</th>\n",
       "      <th>hfss_capacitance</th>\n",
       "      <th>hfss_resistance</th>\n",
       "      <th>hfss_mesh_kw_jj</th>\n",
       "      <th>q3d_inductance</th>\n",
       "      <th>q3d_capacitance</th>\n",
       "      <th>q3d_resistance</th>\n",
       "      <th>q3d_mesh_kw_jj</th>\n",
       "      <th>gds_cell_name</th>\n",
       "    </tr>\n",
       "  </thead>\n",
       "  <tbody>\n",
       "    <tr>\n",
       "      <th>0</th>\n",
       "      <td>1</td>\n",
       "      <td>rect_jj</td>\n",
       "      <td>LINESTRING (2.55000 -0.04000, 2.55000 0.04000)</td>\n",
       "      <td>1</td>\n",
       "      <td>False</td>\n",
       "      <td>False</td>\n",
       "      <td>main</td>\n",
       "      <td>0.02</td>\n",
       "      <td>10nH</td>\n",
       "      <td>0</td>\n",
       "      <td>0</td>\n",
       "      <td>0.000007</td>\n",
       "      <td>10nH</td>\n",
       "      <td>0</td>\n",
       "      <td>0</td>\n",
       "      <td>0.000007</td>\n",
       "      <td>FakeJunction_02</td>\n",
       "    </tr>\n",
       "    <tr>\n",
       "      <th>1</th>\n",
       "      <td>2</td>\n",
       "      <td>rect_jj</td>\n",
       "      <td>LINESTRING (0.04000 -0.90000, -0.04000 -0.90000)</td>\n",
       "      <td>1</td>\n",
       "      <td>False</td>\n",
       "      <td>False</td>\n",
       "      <td>main</td>\n",
       "      <td>0.02</td>\n",
       "      <td>10nH</td>\n",
       "      <td>0</td>\n",
       "      <td>0</td>\n",
       "      <td>0.000007</td>\n",
       "      <td>10nH</td>\n",
       "      <td>0</td>\n",
       "      <td>0</td>\n",
       "      <td>0.000007</td>\n",
       "      <td>FakeJunction_01</td>\n",
       "    </tr>\n",
       "    <tr>\n",
       "      <th>2</th>\n",
       "      <td>3</td>\n",
       "      <td>rect_jj</td>\n",
       "      <td>LINESTRING (-2.55000 -0.04000, -2.55000 0.04000)</td>\n",
       "      <td>1</td>\n",
       "      <td>False</td>\n",
       "      <td>False</td>\n",
       "      <td>main</td>\n",
       "      <td>0.02</td>\n",
       "      <td>10nH</td>\n",
       "      <td>0</td>\n",
       "      <td>0</td>\n",
       "      <td>0.000007</td>\n",
       "      <td>10nH</td>\n",
       "      <td>0</td>\n",
       "      <td>0</td>\n",
       "      <td>0.000007</td>\n",
       "      <td>FakeJunction_01</td>\n",
       "    </tr>\n",
       "    <tr>\n",
       "      <th>3</th>\n",
       "      <td>4</td>\n",
       "      <td>rect_jj</td>\n",
       "      <td>LINESTRING (0.04000 0.90000, -0.04000 0.90000)</td>\n",
       "      <td>1</td>\n",
       "      <td>False</td>\n",
       "      <td>False</td>\n",
       "      <td>main</td>\n",
       "      <td>0.02</td>\n",
       "      <td>10nH</td>\n",
       "      <td>0</td>\n",
       "      <td>0</td>\n",
       "      <td>0.000007</td>\n",
       "      <td>10nH</td>\n",
       "      <td>0</td>\n",
       "      <td>0</td>\n",
       "      <td>0.000007</td>\n",
       "      <td>my_other_junction</td>\n",
       "    </tr>\n",
       "  </tbody>\n",
       "</table>\n",
       "</div>"
      ],
      "text/plain": [
       "  component     name                                          geometry  layer  \\\n",
       "0         1  rect_jj    LINESTRING (2.55000 -0.04000, 2.55000 0.04000)      1   \n",
       "1         2  rect_jj  LINESTRING (0.04000 -0.90000, -0.04000 -0.90000)      1   \n",
       "2         3  rect_jj  LINESTRING (-2.55000 -0.04000, -2.55000 0.04000)      1   \n",
       "3         4  rect_jj    LINESTRING (0.04000 0.90000, -0.04000 0.90000)      1   \n",
       "\n",
       "   subtract  helper  chip  width hfss_inductance  hfss_capacitance  \\\n",
       "0     False   False  main   0.02            10nH                 0   \n",
       "1     False   False  main   0.02            10nH                 0   \n",
       "2     False   False  main   0.02            10nH                 0   \n",
       "3     False   False  main   0.02            10nH                 0   \n",
       "\n",
       "   hfss_resistance  hfss_mesh_kw_jj q3d_inductance  q3d_capacitance  \\\n",
       "0                0         0.000007           10nH                0   \n",
       "1                0         0.000007           10nH                0   \n",
       "2                0         0.000007           10nH                0   \n",
       "3                0         0.000007           10nH                0   \n",
       "\n",
       "   q3d_resistance  q3d_mesh_kw_jj      gds_cell_name  \n",
       "0               0        0.000007    FakeJunction_02  \n",
       "1               0        0.000007    FakeJunction_01  \n",
       "2               0        0.000007    FakeJunction_01  \n",
       "3               0        0.000007  my_other_junction  "
      ]
     },
     "execution_count": 21,
     "metadata": {},
     "output_type": "execute_result"
    }
   ],
   "source": [
    "# View every entry in junction table.\n",
    "design.qgeometry.tables['junction']"
   ]
  },
  {
   "cell_type": "code",
   "execution_count": 22,
   "metadata": {},
   "outputs": [
    {
     "data": {
      "text/html": [
       "<div>\n",
       "<style scoped>\n",
       "    .dataframe tbody tr th:only-of-type {\n",
       "        vertical-align: middle;\n",
       "    }\n",
       "\n",
       "    .dataframe tbody tr th {\n",
       "        vertical-align: top;\n",
       "    }\n",
       "\n",
       "    .dataframe thead th {\n",
       "        text-align: right;\n",
       "    }\n",
       "</style>\n",
       "<table border=\"1\" class=\"dataframe\">\n",
       "  <thead>\n",
       "    <tr style=\"text-align: right;\">\n",
       "      <th></th>\n",
       "      <th>component</th>\n",
       "      <th>name</th>\n",
       "      <th>geometry</th>\n",
       "      <th>layer</th>\n",
       "      <th>subtract</th>\n",
       "      <th>helper</th>\n",
       "      <th>chip</th>\n",
       "      <th>width</th>\n",
       "      <th>hfss_inductance</th>\n",
       "      <th>hfss_capacitance</th>\n",
       "      <th>hfss_resistance</th>\n",
       "      <th>hfss_mesh_kw_jj</th>\n",
       "      <th>q3d_inductance</th>\n",
       "      <th>q3d_capacitance</th>\n",
       "      <th>q3d_resistance</th>\n",
       "      <th>q3d_mesh_kw_jj</th>\n",
       "      <th>gds_cell_name</th>\n",
       "    </tr>\n",
       "  </thead>\n",
       "  <tbody>\n",
       "    <tr>\n",
       "      <th>0</th>\n",
       "      <td>1</td>\n",
       "      <td>rect_jj</td>\n",
       "      <td>LINESTRING (2.55000 -0.04000, 2.55000 0.04000)</td>\n",
       "      <td>1</td>\n",
       "      <td>False</td>\n",
       "      <td>False</td>\n",
       "      <td>main</td>\n",
       "      <td>0.02</td>\n",
       "      <td>10nH</td>\n",
       "      <td>0</td>\n",
       "      <td>0</td>\n",
       "      <td>0.000007</td>\n",
       "      <td>10nH</td>\n",
       "      <td>0</td>\n",
       "      <td>0</td>\n",
       "      <td>0.000007</td>\n",
       "      <td>FakeJunction_02</td>\n",
       "    </tr>\n",
       "  </tbody>\n",
       "</table>\n",
       "</div>"
      ],
      "text/plain": [
       "  component     name                                        geometry  layer  \\\n",
       "0         1  rect_jj  LINESTRING (2.55000 -0.04000, 2.55000 0.04000)      1   \n",
       "\n",
       "   subtract  helper  chip  width hfss_inductance  hfss_capacitance  \\\n",
       "0     False   False  main   0.02            10nH                 0   \n",
       "\n",
       "   hfss_resistance  hfss_mesh_kw_jj q3d_inductance  q3d_capacitance  \\\n",
       "0                0         0.000007           10nH                0   \n",
       "\n",
       "   q3d_resistance  q3d_mesh_kw_jj    gds_cell_name  \n",
       "0               0        0.000007  FakeJunction_02  "
      ]
     },
     "execution_count": 22,
     "metadata": {},
     "output_type": "execute_result"
    }
   ],
   "source": [
    "# View the juction table for component \"q1\". \n",
    "\n",
    "q1.qgeometry_table('junction')"
   ]
  },
  {
   "cell_type": "markdown",
   "metadata": {},
   "source": [
    "### Geometric boundary of a QComponent?\n",
    "How to obtain the boundary box of the geometry, for example: `q1.qgeometry_bounds()`.  \n",
    "Explained in in folder \"2 Front End User/2.4 QRenderer Introduction\" in notebook, \"QRenderer Introduction \"."
   ]
  },
  {
   "cell_type": "code",
   "execution_count": 23,
   "metadata": {},
   "outputs": [
    {
     "data": {
      "text/plain": [
       "{'short_segments_to_not_fillet': 'True',\n",
       " 'check_short_segments_by_scaling_fillet': 2.0,\n",
       " 'gds_unit': 0.001,\n",
       " 'ground_plane': 'True',\n",
       " 'negative_mask': {'main': []},\n",
       " 'corners': 'circular bend',\n",
       " 'tolerance': '0.00001',\n",
       " 'precision': '0.000000001',\n",
       " 'width_LineString': '10um',\n",
       " 'path_filename': '../resources/Fake_Junctions.GDS',\n",
       " 'junction_pad_overlap': '5um',\n",
       " 'max_points': '199',\n",
       " 'cheese': {'datatype': '100',\n",
       "  'shape': '0',\n",
       "  'cheese_0_x': '25um',\n",
       "  'cheese_0_y': '25um',\n",
       "  'cheese_1_radius': '100um',\n",
       "  'view_in_file': {'main': {1: True}},\n",
       "  'delta_x': '100um',\n",
       "  'delta_y': '100um',\n",
       "  'edge_nocheese': '200um'},\n",
       " 'no_cheese': {'datatype': '99',\n",
       "  'buffer': '25um',\n",
       "  'cap_style': '2',\n",
       "  'join_style': '2',\n",
       "  'view_in_file': {'main': {1: True}}},\n",
       " 'bounding_box_scale_x': '1.2',\n",
       " 'bounding_box_scale_y': '1.2'}"
      ]
     },
     "execution_count": 23,
     "metadata": {},
     "output_type": "execute_result"
    }
   ],
   "source": [
    "#The current value of all the options for GDS QRenderer.\n",
    "a_gds.options"
   ]
  },
  {
   "cell_type": "markdown",
   "metadata": {},
   "source": [
    "### Number of vertices for linestrings.\n",
    "The option max_points has default of 199.  You can set it to a number no higher than 8191."
   ]
  },
  {
   "cell_type": "code",
   "execution_count": 24,
   "metadata": {},
   "outputs": [
    {
     "data": {
      "text/plain": [
       "1"
      ]
     },
     "execution_count": 24,
     "metadata": {},
     "output_type": "execute_result"
    }
   ],
   "source": [
    "### For demo, set max_points to 8191 and look at the GDS output.\n",
    "a_gds.options['max_points'] = '8191'\n",
    "a_gds.export_to_gds('GDS QRenderer Notebook maxpoints8191.gds')"
   ]
  },
  {
   "cell_type": "markdown",
   "metadata": {},
   "source": [
    "### Changing options 'precision' vs 'tolerance' ratio can impact how fillet will look.\n",
    "\n",
    "The below numbers are used to create a gdspy.FlexPath when \n",
    "there is a fillet value in QGeometry table.\n",
    "\n",
    "bend_radius – Bend radii for each path when corners is ‘circular bend’. \n",
    "It has no effect for other corner types.  QGDSRender uses 'circular bend' as a default for corners.\n",
    "The fillet value used here.\n",
    "\n",
    "Ensure that tolerance > precision.\n",
    "\n",
    "tolerance (number) – Tolerance used to draw the paths and calculate joins.\n",
    "\n",
    "precision (number) – Precision for rounding the coordinates of vertices when fracturing the final polygonal boundary.\n"
   ]
  },
  {
   "cell_type": "code",
   "execution_count": 25,
   "metadata": {},
   "outputs": [
    {
     "data": {
      "text/plain": [
       "1"
      ]
     },
     "execution_count": 25,
     "metadata": {},
     "output_type": "execute_result"
    }
   ],
   "source": [
    "# Restore previous example.\n",
    "a_gds.options['max_points'] = '199'\n",
    "\n",
    "# For Demo, change tolerance value.\n",
    "a_gds.options['tolerance'] = '0.01'\n",
    "# This exported file will not look as desired.\n",
    "a_gds.export_to_gds('GDS QRenderer Notebook change tolerance.gds')\n"
   ]
  },
  {
   "cell_type": "code",
   "execution_count": 26,
   "metadata": {},
   "outputs": [],
   "source": [
    "#change it back to was it was.\n",
    "a_gds.options['tolerance'] = '0.00001'"
   ]
  },
  {
   "cell_type": "markdown",
   "metadata": {},
   "source": [
    "### Changing Cheesing options\n",
    "There are two dicts in default_options for cheesing.  One for selecting the no_cheese (keep-out region) for cheesing, the other for cheesing.  Use them to determine if you would like the cheesing cell and the no_cheese cell to be added to the GDS file.\n",
    "\n",
    "To create the no-cheese region, we take the existing components and add a buffer around the perimeter.  The size of the buffer is an option.  \n",
    "\n",
    "The output of the cells can be placed with a data type.  The user can select a different data type for both the no-cheese region and the cheese region.\n",
    "\n",
    "Regarding the cheese option, there is room for expansion, presently, the shape that available for a hole is a shape=0, which is a square.  \n",
    "\n",
    "The present placement of holes allows the user to apply edge_nocheese to the perimeter of the chip.  This allows the user to place holes at a perimeter smaller than the chip size.   Then a grid of holes is made using delta_x and delta_y. \n"
   ]
  },
  {
   "cell_type": "code",
   "execution_count": 27,
   "metadata": {},
   "outputs": [
    {
     "data": {
      "text/plain": [
       "{'datatype': '99',\n",
       " 'buffer': '25um',\n",
       " 'cap_style': '2',\n",
       " 'join_style': '2',\n",
       " 'view_in_file': {'main': {1: True}}}"
      ]
     },
     "execution_count": 27,
     "metadata": {},
     "output_type": "execute_result"
    }
   ],
   "source": [
    "a_gds.options.no_cheese"
   ]
  },
  {
   "cell_type": "code",
   "execution_count": 28,
   "metadata": {},
   "outputs": [
    {
     "data": {
      "text/plain": [
       "{'datatype': '100',\n",
       " 'shape': '0',\n",
       " 'cheese_0_x': '25um',\n",
       " 'cheese_0_y': '25um',\n",
       " 'cheese_1_radius': '100um',\n",
       " 'view_in_file': {'main': {1: True}},\n",
       " 'delta_x': '100um',\n",
       " 'delta_y': '100um',\n",
       " 'edge_nocheese': '200um'}"
      ]
     },
     "execution_count": 28,
     "metadata": {},
     "output_type": "execute_result"
    }
   ],
   "source": [
    "a_gds.options.cheese"
   ]
  },
  {
   "cell_type": "markdown",
   "metadata": {},
   "source": [
    "There is a dict option called view_in_file that denotes if the cells are added to GDS file.  The first sub-option is the chip name, the second sub-option is layer number, the third sub-option is  bool True/False. \n",
    "\n",
    "In our example, the chip is 'main' and the layer is 1.  We allow for expansion for multiple chips, and multiple ground layers. \n"
   ]
  },
  {
   "cell_type": "code",
   "execution_count": 29,
   "metadata": {},
   "outputs": [
    {
     "data": {
      "text/plain": [
       "1"
      ]
     },
     "execution_count": 29,
     "metadata": {},
     "output_type": "execute_result"
    }
   ],
   "source": [
    "a_gds.options['cheese']['view_in_file']['main'][1] = True\n",
    "a_gds.options['no_cheese']['view_in_file']['main'][1] = True\n",
    "a_gds.export_to_gds(\"GDS QRender_cheese_keepout.gds\")"
   ]
  },
  {
   "cell_type": "code",
   "execution_count": 30,
   "metadata": {},
   "outputs": [
    {
     "data": {
      "text/plain": [
       "1"
      ]
     },
     "execution_count": 30,
     "metadata": {},
     "output_type": "execute_result"
    }
   ],
   "source": [
    "a_gds.options['cheese']['view_in_file']['main'][1] = True\n",
    "a_gds.options['no_cheese']['view_in_file']['main'][1] = False\n",
    "a_gds.export_to_gds(\"GDS QRender_cheese_only.gds\")"
   ]
  },
  {
   "cell_type": "markdown",
   "metadata": {},
   "source": [
    "### Negative Mask\n",
    "The GDS Renderers will, by default, create a positive mask.  If user wants a negative mask.  The user MUST identify each chip and layer which should be a negative mask. The user is allowed to mix the output per chip, per layer.  For example, one chip can have positive mask on one layer, and negative on a different layer.  This feature was implemented for, potential use, for \"flip-chip\"."
   ]
  },
  {
   "cell_type": "code",
   "execution_count": 31,
   "metadata": {},
   "outputs": [],
   "source": [
    "#For example, just move the cpw layer to 14. \n",
    "cpw1.options.layer = 14\n",
    "cpw2.options.layer = 14\n",
    "cpw3.options.layer = 14\n",
    "cpw4.options.layer = 14\n"
   ]
  },
  {
   "cell_type": "code",
   "execution_count": 32,
   "metadata": {},
   "outputs": [],
   "source": [
    "gui.rebuild()\n",
    "\n",
    "# Get a list of all the qcomponents in QDesign and then zoom on them.\n",
    "all_component_names = design.components.keys()\n",
    "gui.zoom_on_components(all_component_names)"
   ]
  },
  {
   "cell_type": "code",
   "execution_count": 33,
   "metadata": {},
   "outputs": [
    {
     "data": {
      "text/plain": [
       "1"
      ]
     },
     "execution_count": 33,
     "metadata": {},
     "output_type": "execute_result"
    }
   ],
   "source": [
    "# Turn on/off keep-out and cheesing.\n",
    "a_gds.options['cheese']['view_in_file']['main'][1] = True\n",
    "a_gds.options['no_cheese']['view_in_file']['main'][1] = True\n",
    "a_gds.options['cheese']['view_in_file']['main'][14] = True\n",
    "a_gds.options['no_cheese']['view_in_file']['main'][14] = True\n",
    "\n",
    "# Export GDS file with negative masks for layers 1 and 14.\n",
    "a_gds.options['negative_mask'] = Dict(main=[1, 14])\n",
    "a_gds.export_to_gds('GDS QRenderer Notebook_neg_mask_for_layer_1_14.gds')"
   ]
  },
  {
   "cell_type": "code",
   "execution_count": 34,
   "metadata": {},
   "outputs": [
    {
     "data": {
      "text/plain": [
       "1"
      ]
     },
     "execution_count": 34,
     "metadata": {},
     "output_type": "execute_result"
    }
   ],
   "source": [
    "# Export GDS files with positive mask for layer 1 and negative mask for layer 14. \n",
    "a_gds.options['negative_mask'] = Dict(main=[14])\n",
    "a_gds.export_to_gds('GDS QRenderer Notebook_neg_mask_for_layer_14.gds')"
   ]
  },
  {
   "cell_type": "markdown",
   "metadata": {},
   "source": [
    "##  Qiskit Metal Version"
   ]
  },
  {
   "cell_type": "code",
   "execution_count": 35,
   "metadata": {
    "tags": []
   },
   "outputs": [
    {
     "name": "stdout",
     "output_type": "stream",
     "text": [
      "\n",
      "Qiskit Metal        0.0.3\n",
      "\n",
      "Basic\n",
      "____________________________________\n",
      " Python              3.7.8 | packaged by conda-forge | (default, Nov 27 2020, 18:48:03) [MSC v.1916 64 bit (AMD64)]\n",
      " Platform            Windows AMD64\n",
      " Installation path   c:\\workspace\\qiskit-metal\\qiskit_metal\n",
      "\n",
      "Packages\n",
      "____________________________________\n",
      " Numpy               1.19.5\n",
      " Qutip               4.5.3\n",
      "\n",
      "Rendering\n",
      "____________________________________\n",
      " Matplotlib          3.3.4\n",
      "\n",
      "GUI\n",
      "____________________________________\n",
      " PySide2 version     5.13.2\n",
      " Qt version          5.9.7\n",
      " SIP version         4.19.8\n",
      "\n",
      "IBM Quantum Team\n"
     ]
    }
   ],
   "source": [
    "metal.about();"
   ]
  },
  {
   "cell_type": "code",
   "execution_count": 36,
   "metadata": {},
   "outputs": [
    {
     "data": {
      "text/plain": [
       "True"
      ]
     },
     "execution_count": 36,
     "metadata": {},
     "output_type": "execute_result"
    }
   ],
   "source": [
    "# If you would like, close the gui \n",
    "gui.main_window.close()"
   ]
  }
 ],
 "metadata": {
  "celltoolbar": "Tags",
  "kernelspec": {
   "display_name": "Python 3",
   "language": "python",
   "name": "python3"
  },
  "language_info": {
   "codemirror_mode": {
    "name": "ipython",
    "version": 3
   },
   "file_extension": ".py",
   "mimetype": "text/x-python",
   "name": "python",
   "nbconvert_exporter": "python",
   "pygments_lexer": "ipython3",
   "version": "3.7.8"
  }
 },
 "nbformat": 4,
 "nbformat_minor": 4
}
