{
 "cells": [
  {
   "cell_type": "markdown",
   "metadata": {},
   "source": [
    "# South Korea Qiskit Hackathon'20 - Qiskit Metal exercise\n",
    "\n",
    "## Preparation"
   ]
  },
  {
   "cell_type": "code",
   "execution_count": 1,
   "metadata": {},
   "outputs": [],
   "source": [
    "%load_ext autoreload\n",
    "%autoreload 2"
   ]
  },
  {
   "cell_type": "markdown",
   "metadata": {},
   "source": [
    "*Make sure to have the right kernel selected!*"
   ]
  },
  {
   "cell_type": "code",
   "execution_count": 2,
   "metadata": {},
   "outputs": [
    {
     "data": {
      "text/html": [
       "\n",
       "    <h1 style=\"\n",
       "        background: #12c2e9;  /* fallback for old browsers */\n",
       "        background: -webkit-linear-gradient(to right, #d4418e 0%, #0652c5 74%);  /* Chrome 10-25, Safari 5.1-6 */\n",
       "        background: linear-gradient(315deg, #d4418e 0%, #0652c5 74%); /* W3C, IE 10+/ Edge, Firefox 16+, Chrome 26+, Opera 12+, Safari 7+ */\n",
       "        margin-top: 50px;\n",
       "        border-style: outset;\n",
       "        padding-top:100px;\n",
       "        padding-bottom:50px;\n",
       "        padding-left:25px;\n",
       "        color: white;\n",
       "    \"> Welcome to Qiskit Metal! <h1>\n",
       "        "
      ],
      "text/plain": [
       "<IPython.core.display.HTML object>"
      ]
     },
     "metadata": {},
     "output_type": "display_data"
    }
   ],
   "source": [
    "import qiskit_metal as metal\n",
    "from qiskit_metal import designs, draw\n",
    "from qiskit_metal import MetalGUI, Dict, open_docs\n",
    "\n",
    "%metal_heading Welcome to Qiskit Metal!"
   ]
  },
  {
   "cell_type": "markdown",
   "metadata": {},
   "source": [
    "Welcome to Qiskit Metal! \n",
    "\n",
    "For this example tutorial, we will attempt to create a simple two qubit chip. We will want to generate the layout, simulate/analyze and tune the chip to hit the parameters we are wanting, finally rendering to a GDS file.\n",
    "\n",
    "One could generate subsections of the layout and tune individual components first, but in this case we will create all of the layout. We will want a transmon (in this case choosing ones with charge lines), meandered and simple transmission lines, capacitor couplers, and launchers for wirebond connections. So we will import these, and also create a design instance and launch the GUI."
   ]
  },
  {
   "cell_type": "markdown",
   "metadata": {},
   "source": [
    "## Design the layout"
   ]
  },
  {
   "cell_type": "code",
   "execution_count": 3,
   "metadata": {},
   "outputs": [],
   "source": [
    "from qiskit_metal.qlibrary.qubits.transmon_pocket_cl import TransmonPocketCL\n",
    "\n",
    "from qiskit_metal.qlibrary.tlines.meandered import RouteMeander\n",
    "from qiskit_metal.qlibrary.tlines.pathfinder import RoutePathfinder\n",
    "\n",
    "from qiskit_metal.qlibrary.lumped.cap_3_interdigital import Cap3Interdigital\n",
    "from qiskit_metal.qlibrary.terminations.launchpad_wb import LaunchpadWirebond"
   ]
  },
  {
   "cell_type": "code",
   "execution_count": 4,
   "metadata": {},
   "outputs": [],
   "source": [
    "design = metal.designs.DesignPlanar()\n",
    "gui = metal.MetalGUI(design)"
   ]
  },
  {
   "cell_type": "markdown",
   "metadata": {},
   "source": [
    "Since we are likely to be making many changes while tuning and modifying our design, we will enable overwriting. We can also check all of the chip properties to see if we want to change the size or any other parameter."
   ]
  },
  {
   "cell_type": "code",
   "execution_count": 5,
   "metadata": {},
   "outputs": [
    {
     "data": {
      "text/plain": [
       "{'material': 'silicon',\n",
       " 'layer_start': '0',\n",
       " 'layer_end': '2048',\n",
       " 'size': {'center_x': '0.0mm',\n",
       "  'center_y': '0.0mm',\n",
       "  'center_z': '0.0mm',\n",
       "  'size_x': '9mm',\n",
       "  'size_y': '6mm',\n",
       "  'size_z': '-750um',\n",
       "  'sample_holder_top': '890um',\n",
       "  'sample_holder_bottom': '1650um'}}"
      ]
     },
     "execution_count": 5,
     "metadata": {},
     "output_type": "execute_result"
    }
   ],
   "source": [
    "design.overwrite_enabled = True\n",
    "design.chips.main"
   ]
  },
  {
   "cell_type": "markdown",
   "metadata": {},
   "source": [
    "We will add the two qubits. We know we will want each qubit to have two connection pads, one for readout, and another for the connection to the other qubit. We can see any options the qubit qcomponent has to figure out what we might want to modify when creating the component. This will include the components default options (which the component designer included) as well as renderer options (which are added based on what renderers are present in Metal)."
   ]
  },
  {
   "cell_type": "code",
   "execution_count": 6,
   "metadata": {},
   "outputs": [
    {
     "data": {
      "text/plain": [
       "{'pos_x': '0um',\n",
       " 'pos_y': '0um',\n",
       " 'connection_pads': {},\n",
       " '_default_connection_pads': {'pad_gap': '15um',\n",
       "  'pad_width': '125um',\n",
       "  'pad_height': '30um',\n",
       "  'pad_cpw_shift': '5um',\n",
       "  'pad_cpw_extent': '25um',\n",
       "  'cpw_width': 'cpw_width',\n",
       "  'cpw_gap': 'cpw_gap',\n",
       "  'cpw_extend': '100um',\n",
       "  'pocket_extent': '5um',\n",
       "  'pocket_rise': '65um',\n",
       "  'loc_W': '+1',\n",
       "  'loc_H': '+1'},\n",
       " 'chip': 'main',\n",
       " 'pad_gap': '30um',\n",
       " 'inductor_width': '20um',\n",
       " 'pad_width': '455um',\n",
       " 'pad_height': '90um',\n",
       " 'pocket_width': '650um',\n",
       " 'pocket_height': '650um',\n",
       " 'orientation': '0',\n",
       " 'make_CL': True,\n",
       " 'cl_gap': '6um',\n",
       " 'cl_width': '10um',\n",
       " 'cl_length': '20um',\n",
       " 'cl_ground_gap': '6um',\n",
       " 'cl_pocket_edge': '0',\n",
       " 'cl_off_center': '50um',\n",
       " 'hfss_wire_bonds': False,\n",
       " 'q3d_wire_bonds': False,\n",
       " 'hfss_inductance': '10nH',\n",
       " 'hfss_capacitance': 0,\n",
       " 'hfss_resistance': 0,\n",
       " 'hfss_mesh_kw_jj': 7e-06,\n",
       " 'q3d_inductance': '10nH',\n",
       " 'q3d_capacitance': 0,\n",
       " 'q3d_resistance': 0,\n",
       " 'q3d_mesh_kw_jj': 7e-06,\n",
       " 'gds_cell_name': 'my_other_junction'}"
      ]
     },
     "execution_count": 6,
     "metadata": {},
     "output_type": "execute_result"
    }
   ],
   "source": [
    "TransmonPocketCL.get_template_options(design)"
   ]
  },
  {
   "cell_type": "markdown",
   "metadata": {},
   "source": [
    "We will then add those two qubits with the options we are wanting to define, these can all be modified easily later too.\n",
    "The rebuild command is included so the changes can be seen immediately in the GUI."
   ]
  },
  {
   "cell_type": "code",
   "execution_count": 7,
   "metadata": {},
   "outputs": [],
   "source": [
    "options =  dict(\n",
    "    pad_width = '425 um', \n",
    "    pocket_height = '650um',\n",
    "    cl_pocket_edge = '180',\n",
    "    connection_pads=dict(\n",
    "        readout = dict(loc_W=+1, loc_H=+1),\n",
    "        bus = dict(loc_W=-1, loc_H=-1, )\n",
    "    ))\n",
    "        \n",
    "Q1 = TransmonPocketCL(design,'Q1', options = dict(\n",
    "        pos_x='0.7mm', \n",
    "        pos_y='0mm', \n",
    "        gds_cell_name ='FakeJunction_01',\n",
    "        hfss_inductance ='14nH',\n",
    "        **options))\n",
    "\n",
    "Q2 = TransmonPocketCL(design,'Q2', options = dict(\n",
    "        pos_x='-0.7mm', \n",
    "        pos_y='0mm', \n",
    "        gds_cell_name ='FakeJunction_02',\n",
    "        hfss_inductance ='12nH',\n",
    "        orientation = '180',\n",
    "        **options))\n",
    "\n",
    "gui.rebuild()\n",
    "gui.autoscale()"
   ]
  },
  {
   "cell_type": "markdown",
   "metadata": {},
   "source": [
    "We will next connect the two transmons together to form a bus using RoutePathfinder, an auto drawing CPW transmission line. We simply have to give the start and end location using the component pins of what we are trying to connect to.\n",
    "We can use the GUI to confirm the pin names we want to give as inputs.\n",
    "\n",
    "Pins also play an important role with rendering and simulations, as any unconnected pin can be defined as a short, open, or driven terminal."
   ]
  },
  {
   "cell_type": "code",
   "execution_count": 8,
   "metadata": {},
   "outputs": [],
   "source": [
    "bus_Q1_Q2 = RoutePathfinder(design, 'Bus_Q1_Q2', options = dict(\n",
    "                                            fillet='99um',\n",
    "                                            lead=dict(end_straight='250um'),\n",
    "                                            pin_inputs=Dict(\n",
    "                                                start_pin=Dict(\n",
    "                                                    component='Q1',\n",
    "                                                    pin='bus'),\n",
    "                                                end_pin=Dict(\n",
    "                                                    component='Q2',\n",
    "                                                    pin='bus')\n",
    "                                            )))\n",
    "\n",
    "gui.rebuild()\n",
    "gui.autoscale()"
   ]
  },
  {
   "cell_type": "markdown",
   "metadata": {},
   "source": [
    "Then the readout structures can be added, being the capacitor couplers and meandered transmission lines to form the readout resonators. "
   ]
  },
  {
   "cell_type": "code",
   "execution_count": 9,
   "metadata": {},
   "outputs": [],
   "source": [
    "cap_Q1 = Cap3Interdigital(design, 'Cap_Q1', options= dict(pos_x='2.5mm', pos_y='0.25mm', orientation='90', finger_length = '40um'))\n",
    "cap_Q2 = Cap3Interdigital(design, 'Cap_Q2', options= dict(pos_x='-2.5mm', pos_y='-0.25mm', orientation='-90', finger_length = '40um'))\n",
    "\n",
    "gui.rebuild()\n",
    "gui.autoscale()"
   ]
  },
  {
   "cell_type": "code",
   "execution_count": 10,
   "metadata": {},
   "outputs": [],
   "source": [
    "readout_Q1 = RouteMeander(design,'Readout_Q1', options = dict( \n",
    "                                            pin_inputs=Dict(\n",
    "                                                start_pin=Dict(\n",
    "                                                    component='Q1',\n",
    "                                                    pin='readout'),\n",
    "                                                end_pin=Dict(\n",
    "                                                    component='Cap_Q1',\n",
    "                                                    pin='a')\n",
    "                                            ),\n",
    "                                            lead=Dict(\n",
    "                                                start_straight='0.325mm',\n",
    "                                                end_straight = '125um'#put jogs here\n",
    "                                            ),\n",
    "                                            meander=Dict(\n",
    "                                                asymmetry = '-50um'),\n",
    "                                            fillet = \"99um\",\n",
    "                                            total_length = '5mm'))\n",
    "\n",
    "gui.rebuild()\n",
    "gui.autoscale()"
   ]
  },
  {
   "cell_type": "code",
   "execution_count": 11,
   "metadata": {},
   "outputs": [],
   "source": [
    "readout_Q2 = RouteMeander(design,'Readout_Q2', options = dict( \n",
    "                                            pin_inputs=Dict(\n",
    "                                                start_pin=Dict(\n",
    "                                                    component='Q2',\n",
    "                                                    pin='readout'),\n",
    "                                                end_pin=Dict(\n",
    "                                                    component='Cap_Q2',\n",
    "                                                    pin='a')\n",
    "                                            ),\n",
    "                                            lead=Dict(\n",
    "                                                start_straight='0.325mm',\n",
    "                                                end_straight = '125um'#put jogs here\n",
    "                                            ),\n",
    "                                            meander=Dict(\n",
    "                                                asymmetry = '-50um'),\n",
    "                                            fillet = \"99um\",\n",
    "                                            total_length = '6mm'))\n",
    "\n",
    "gui.rebuild()\n",
    "gui.autoscale()"
   ]
  },
  {
   "cell_type": "markdown",
   "metadata": {},
   "source": [
    "With the launchers and short transmission lines to connect them to the capacitors and the charge lines."
   ]
  },
  {
   "cell_type": "code",
   "execution_count": 12,
   "metadata": {},
   "outputs": [],
   "source": [
    "launch_Q1_read = LaunchpadWirebond(design, 'Launch_Q1_Read', options = dict(pos_x = '3.5mm', orientation = '180'))\n",
    "launch_Q2_read = LaunchpadWirebond(design, 'Launch_Q2_Read', options = dict(pos_x = '-3.5mm', orientation = '0'))\n",
    "\n",
    "launch_Q1_cl = LaunchpadWirebond(design, 'Launch_Q1_CL', options = dict(pos_x = '1.35mm', pos_y = '-2.5mm', orientation = '90'))\n",
    "launch_Q2_cl = LaunchpadWirebond(design, 'Launch_Q2_CL', options = dict(pos_x = '-1.35mm', pos_y = '2.5mm', orientation = '-90'))\n",
    "\n",
    "gui.rebuild()\n",
    "gui.autoscale()"
   ]
  },
  {
   "cell_type": "code",
   "execution_count": 13,
   "metadata": {},
   "outputs": [],
   "source": [
    "tl_Q1 = RoutePathfinder(design, 'TL_Q1', options = dict(\n",
    "                                            fillet='99um',\n",
    "                                            lead=dict(end_straight='150um'),\n",
    "                                            pin_inputs=Dict(\n",
    "                                                start_pin=Dict(\n",
    "                                                    component='Launch_Q1_Read',\n",
    "                                                    pin='tie'),\n",
    "                                                end_pin=Dict(\n",
    "                                                    component='Cap_Q1',\n",
    "                                                    pin='b')\n",
    "                                            )))\n",
    "\n",
    "tl_Q2 = RoutePathfinder(design, 'TL_Q2', options = dict(\n",
    "                                            fillet='99um',\n",
    "                                            lead=dict(end_straight='150um'),\n",
    "                                            pin_inputs=Dict(\n",
    "                                                start_pin=Dict(\n",
    "                                                    component='Launch_Q2_Read',\n",
    "                                                    pin='tie'),\n",
    "                                                end_pin=Dict(\n",
    "                                                    component='Cap_Q2',\n",
    "                                                    pin='b')\n",
    "                                            )))\n",
    "\n",
    "gui.rebuild()\n",
    "gui.autoscale()"
   ]
  },
  {
   "cell_type": "code",
   "execution_count": 14,
   "metadata": {},
   "outputs": [],
   "source": [
    "tl_Q1_cl = RoutePathfinder(design, 'TL_Q1_CL', options = dict(\n",
    "                                            fillet='99um',\n",
    "                                            lead=dict(end_straight='150um'),\n",
    "                                            pin_inputs=Dict(\n",
    "                                                start_pin=Dict(\n",
    "                                                    component='Launch_Q1_CL',\n",
    "                                                    pin='tie'),\n",
    "                                                end_pin=Dict(\n",
    "                                                    component='Q1',\n",
    "                                                    pin='Charge_Line')\n",
    "                                            )))\n",
    "\n",
    "tl_Q2_cl = RoutePathfinder(design, 'TL_Q2_CL', options = dict(\n",
    "                                            fillet='99um',\n",
    "                                            lead=dict(end_straight='150um'),\n",
    "                                            pin_inputs=Dict(\n",
    "                                                start_pin=Dict(\n",
    "                                                    component='Launch_Q2_CL',\n",
    "                                                    pin='tie'),\n",
    "                                                end_pin=Dict(\n",
    "                                                    component='Q2',\n",
    "                                                    pin='Charge_Line')\n",
    "                                            )))\n",
    "\n",
    "gui.rebuild()\n",
    "gui.autoscale()"
   ]
  },
  {
   "cell_type": "code",
   "execution_count": 15,
   "metadata": {
    "tags": [
     "nbsphinx-thumbnail"
    ]
   },
   "outputs": [
    {
     "data": {
      "image/png": "[encoded data removed]",
      "text/plain": [
       "<IPython.core.display.Image object>"
      ]
     },
     "metadata": {
      "image/png": {
       "width": 500
      }
     },
     "output_type": "display_data"
    }
   ],
   "source": [
    "gui.screenshot()"
   ]
  },
  {
   "cell_type": "markdown",
   "metadata": {},
   "source": [
    "## Simulation and Analysis\n",
    "\n",
    "With our fully designed chip now laid out, we can start to focus on tuning the components to hit the circuit parameters we are interested in. These will tend to be;\n",
    "- qubit: frequency, the anharmonicity/alpha, and the coupling strength (as chi, g, or other)\n",
    "- busses: frequency (if resonant), the coupling strength\n",
    "- readout: frequency, coupling strength, coupling to external lines (as kappa, Q_external, or other)\n",
    "\n",
    "### Analysis via capacitance matrix and LOM\n",
    "\n",
    "All of the qubit paramters can initially be tuned via a capacitance matrix and the lumped oscillator method. This analysis is not as accurate as others, but allows for fairly fast and small simulations.\n",
    "\n",
    "We will start by selecting the Analysis class of interest."
   ]
  },
  {
   "cell_type": "code",
   "execution_count": 16,
   "metadata": {},
   "outputs": [],
   "source": [
    "from qiskit_metal.analyses.quantization import LOManalysis\n",
    "c1 = LOManalysis(design, \"q3d\")"
   ]
  },
  {
   "cell_type": "markdown",
   "metadata": {},
   "source": [
    "We can see what options are available for the analysis and make any changes we may wish, such as increasing the buffer size for the bounding box when simulation subsections of the chip."
   ]
  },
  {
   "cell_type": "code",
   "execution_count": 17,
   "metadata": {},
   "outputs": [],
   "source": [
    "sim_p = c1.setup.sim"
   ]
  },
  {
   "cell_type": "code",
   "execution_count": 18,
   "metadata": {},
   "outputs": [
    {
     "data": {
      "text/plain": [
       "{'name': 'QubitTune',\n",
       " 'reuse_selected_design': True,\n",
       " 'freq_ghz': 5.0,\n",
       " 'save_fields': False,\n",
       " 'enabled': True,\n",
       " 'max_passes': 15,\n",
       " 'min_passes': 2,\n",
       " 'min_converged_passes': 2,\n",
       " 'percent_error': 0.1,\n",
       " 'percent_refinement': 30,\n",
       " 'auto_increase_solution_order': True,\n",
       " 'solution_order': 'High',\n",
       " 'solver_type': 'Iterative'}"
      ]
     },
     "execution_count": 18,
     "metadata": {},
     "output_type": "execute_result"
    }
   ],
   "source": [
    "sim_p.name = 'QubitTune'\n",
    "sim_p.max_passes = 15\n",
    "sim_p.min_converged_passes = 2\n",
    "sim_p.percent_error = 0.1\n",
    "\n",
    "c1.setup.sim"
   ]
  },
  {
   "cell_type": "markdown",
   "metadata": {},
   "source": [
    "With the design and simulation setup, we render the qubit. For LOM analysis, we want the connection pads to be terminated with opens. We indicate this by stating which unconnected pins should have open terminations.\n",
    "\n",
    "*During the execution of the next cell, make sure to deal with any pop up boxes from Ansys as it opens up (if it was closed)*"
   ]
  },
  {
   "cell_type": "code",
   "execution_count": 19,
   "metadata": {},
   "outputs": [
    {
     "name": "stderr",
     "output_type": "stream",
     "text": [
      "INFO 03:58PM [connect_project]: Connecting to Ansys Desktop API...\n",
      "INFO 03:58PM [load_ansys_project]: \tOpened Ansys App\n",
      "INFO 03:58PM [load_ansys_project]: \tOpened Ansys Desktop v2020.2.0\n",
      "INFO 03:58PM [load_ansys_project]: \tOpened Ansys Project\n",
      "\tFolder:    C:/Ansoft/\n",
      "\tProject:   Project21\n",
      "INFO 03:58PM [connect_design]: No active design found (or error getting active design).\n",
      "INFO 03:58PM [connect]: \t Connected to project \"Project21\". No design detected\n",
      "INFO 03:58PM [connect_design]: \tOpened active design\n",
      "\tDesign:    Qubit1_q3d [Solution type: Q3D]\n",
      "WARNING 03:58PM [connect_setup]: \tNo design setup detected.\n",
      "WARNING 03:58PM [connect_setup]: \tCreating Q3D default setup.\n",
      "INFO 03:58PM [get_setup]: \tOpened setup `Setup`  (<class 'pyEPR.ansys.AnsysQ3DSetup'>)\n",
      "INFO 03:58PM [get_setup]: \tOpened setup `QubitTune`  (<class 'pyEPR.ansys.AnsysQ3DSetup'>)\n",
      "INFO 03:58PM [analyze]: Analyzing setup QubitTune\n",
      "INFO 04:00PM [get_matrix]: Exporting matrix data to (C:\\Temp\\tmp07p_amft.txt, C, , QubitTune:LastAdaptive, \"Original\", \"ohm\", \"nH\", \"fF\", \"mSie\", 5000000000, Maxwell, 1, False\n",
      "INFO 04:00PM [get_matrix]: Exporting matrix data to (C:\\Temp\\tmpjr9d_72s.txt, C, , QubitTune:AdaptivePass, \"Original\", \"ohm\", \"nH\", \"fF\", \"mSie\", 5000000000, Maxwell, 1, False\n",
      "INFO 04:00PM [get_matrix]: Exporting matrix data to (C:\\Temp\\tmpjhw44mui.txt, C, , QubitTune:AdaptivePass, \"Original\", \"ohm\", \"nH\", \"fF\", \"mSie\", 5000000000, Maxwell, 2, False\n",
      "INFO 04:00PM [get_matrix]: Exporting matrix data to (C:\\Temp\\tmp_pyowiqz.txt, C, , QubitTune:AdaptivePass, \"Original\", \"ohm\", \"nH\", \"fF\", \"mSie\", 5000000000, Maxwell, 3, False\n",
      "INFO 04:00PM [get_matrix]: Exporting matrix data to (C:\\Temp\\tmpmsn7f511.txt, C, , QubitTune:AdaptivePass, \"Original\", \"ohm\", \"nH\", \"fF\", \"mSie\", 5000000000, Maxwell, 4, False\n",
      "INFO 04:00PM [get_matrix]: Exporting matrix data to (C:\\Temp\\tmp__d_0j0a.txt, C, , QubitTune:AdaptivePass, \"Original\", \"ohm\", \"nH\", \"fF\", \"mSie\", 5000000000, Maxwell, 5, False\n",
      "INFO 04:00PM [get_matrix]: Exporting matrix data to (C:\\Temp\\tmppys05kar.txt, C, , QubitTune:AdaptivePass, \"Original\", \"ohm\", \"nH\", \"fF\", \"mSie\", 5000000000, Maxwell, 6, False\n",
      "INFO 04:00PM [get_matrix]: Exporting matrix data to (C:\\Temp\\tmpub1qvicq.txt, C, , QubitTune:AdaptivePass, \"Original\", \"ohm\", \"nH\", \"fF\", \"mSie\", 5000000000, Maxwell, 7, False\n",
      "INFO 04:00PM [get_matrix]: Exporting matrix data to (C:\\Temp\\tmpm268b_va.txt, C, , QubitTune:AdaptivePass, \"Original\", \"ohm\", \"nH\", \"fF\", \"mSie\", 5000000000, Maxwell, 8, False\n",
      "INFO 04:00PM [get_matrix]: Exporting matrix data to (C:\\Temp\\tmpkifqb5ez.txt, C, , QubitTune:AdaptivePass, \"Original\", \"ohm\", \"nH\", \"fF\", \"mSie\", 5000000000, Maxwell, 9, False\n",
      "INFO 04:00PM [get_matrix]: Exporting matrix data to (C:\\Temp\\tmp4o0tf44e.txt, C, , QubitTune:AdaptivePass, \"Original\", \"ohm\", \"nH\", \"fF\", \"mSie\", 5000000000, Maxwell, 10, False\n",
      "INFO 04:00PM [get_matrix]: Exporting matrix data to (C:\\Temp\\tmpmz3qmbnh.txt, C, , QubitTune:AdaptivePass, \"Original\", \"ohm\", \"nH\", \"fF\", \"mSie\", 5000000000, Maxwell, 11, False\n",
      "INFO 04:00PM [get_matrix]: Exporting matrix data to (C:\\Temp\\tmp4tyf3hyr.txt, C, , QubitTune:AdaptivePass, \"Original\", \"ohm\", \"nH\", \"fF\", \"mSie\", 5000000000, Maxwell, 12, False\n",
      "INFO 04:00PM [get_matrix]: Exporting matrix data to (C:\\Temp\\tmptzyc3oir.txt, C, , QubitTune:AdaptivePass, \"Original\", \"ohm\", \"nH\", \"fF\", \"mSie\", 5000000000, Maxwell, 13, False\n",
      "INFO 04:00PM [get_matrix]: Exporting matrix data to (C:\\Temp\\tmps8dc143o.txt, C, , QubitTune:AdaptivePass, \"Original\", \"ohm\", \"nH\", \"fF\", \"mSie\", 5000000000, Maxwell, 14, False\n",
      "INFO 04:00PM [get_matrix]: Exporting matrix data to (C:\\Temp\\tmptwzmwya9.txt, C, , QubitTune:AdaptivePass, \"Original\", \"ohm\", \"nH\", \"fF\", \"mSie\", 5000000000, Maxwell, 15, False\n",
      "INFO 04:00PM [get_matrix]: Exporting matrix data to (C:\\Temp\\tmp2o4cl4r7.txt, C, , QubitTune:AdaptivePass, \"Original\", \"ohm\", \"nH\", \"fF\", \"mSie\", 5000000000, Maxwell, 16, False\n"
     ]
    },
    {
     "data": {
      "text/plain": [
       "('Qubit1_q3d', 'QubitTune')"
      ]
     },
     "execution_count": 19,
     "metadata": {},
     "output_type": "execute_result"
    }
   ],
   "source": [
    "c1.run_sim(name=\"Qubit1\", components=['Q1'], open_terminations=[('Q1', 'readout'), ('Q1', 'bus')])"
   ]
  },
  {
   "cell_type": "markdown",
   "metadata": {},
   "source": [
    "Once complete, we can grab the capacitance matrix (next cell) and/or (following cells) call on an LOM analysis of the simulation."
   ]
  },
  {
   "cell_type": "code",
   "execution_count": 20,
   "metadata": {},
   "outputs": [
    {
     "data": {
      "text/html": [
       "<div>\n",
       "<style scoped>\n",
       "    .dataframe tbody tr th:only-of-type {\n",
       "        vertical-align: middle;\n",
       "    }\n",
       "\n",
       "    .dataframe tbody tr th {\n",
       "        vertical-align: top;\n",
       "    }\n",
       "\n",
       "    .dataframe thead th {\n",
       "        text-align: right;\n",
       "    }\n",
       "</style>\n",
       "<table border=\"1\" class=\"dataframe\">\n",
       "  <thead>\n",
       "    <tr style=\"text-align: right;\">\n",
       "      <th></th>\n",
       "      <th>bus_connector_pad_Q1</th>\n",
       "      <th>cl_metal_Q1</th>\n",
       "      <th>ground_main_plane</th>\n",
       "      <th>pad_bot_Q1</th>\n",
       "      <th>pad_top_Q1</th>\n",
       "      <th>readout_connector_pad_Q1</th>\n",
       "    </tr>\n",
       "  </thead>\n",
       "  <tbody>\n",
       "    <tr>\n",
       "      <th>bus_connector_pad_Q1</th>\n",
       "      <td>50.95742</td>\n",
       "      <td>-0.01089</td>\n",
       "      <td>-34.52330</td>\n",
       "      <td>-13.79066</td>\n",
       "      <td>-1.64529</td>\n",
       "      <td>-0.13818</td>\n",
       "    </tr>\n",
       "    <tr>\n",
       "      <th>cl_metal_Q1</th>\n",
       "      <td>-0.01089</td>\n",
       "      <td>16.46410</td>\n",
       "      <td>-15.96926</td>\n",
       "      <td>-0.22646</td>\n",
       "      <td>-0.13073</td>\n",
       "      <td>-0.05208</td>\n",
       "    </tr>\n",
       "    <tr>\n",
       "      <th>ground_main_plane</th>\n",
       "      <td>-34.52330</td>\n",
       "      <td>-15.96926</td>\n",
       "      <td>223.36651</td>\n",
       "      <td>-39.67777</td>\n",
       "      <td>-39.72940</td>\n",
       "      <td>-34.47648</td>\n",
       "    </tr>\n",
       "    <tr>\n",
       "      <th>pad_bot_Q1</th>\n",
       "      <td>-13.79066</td>\n",
       "      <td>-0.22646</td>\n",
       "      <td>-39.67777</td>\n",
       "      <td>90.65814</td>\n",
       "      <td>-32.51147</td>\n",
       "      <td>-1.65442</td>\n",
       "    </tr>\n",
       "    <tr>\n",
       "      <th>pad_top_Q1</th>\n",
       "      <td>-1.64529</td>\n",
       "      <td>-0.13073</td>\n",
       "      <td>-39.72940</td>\n",
       "      <td>-32.51147</td>\n",
       "      <td>90.64021</td>\n",
       "      <td>-13.79226</td>\n",
       "    </tr>\n",
       "    <tr>\n",
       "      <th>readout_connector_pad_Q1</th>\n",
       "      <td>-0.13818</td>\n",
       "      <td>-0.05208</td>\n",
       "      <td>-34.47648</td>\n",
       "      <td>-1.65442</td>\n",
       "      <td>-13.79226</td>\n",
       "      <td>50.96623</td>\n",
       "    </tr>\n",
       "  </tbody>\n",
       "</table>\n",
       "</div>"
      ],
      "text/plain": [
       "                          bus_connector_pad_Q1  cl_metal_Q1  \\\n",
       "bus_connector_pad_Q1                  50.95742     -0.01089   \n",
       "cl_metal_Q1                           -0.01089     16.46410   \n",
       "ground_main_plane                    -34.52330    -15.96926   \n",
       "pad_bot_Q1                           -13.79066     -0.22646   \n",
       "pad_top_Q1                            -1.64529     -0.13073   \n",
       "readout_connector_pad_Q1              -0.13818     -0.05208   \n",
       "\n",
       "                          ground_main_plane  pad_bot_Q1  pad_top_Q1  \\\n",
       "bus_connector_pad_Q1              -34.52330   -13.79066    -1.64529   \n",
       "cl_metal_Q1                       -15.96926    -0.22646    -0.13073   \n",
       "ground_main_plane                 223.36651   -39.67777   -39.72940   \n",
       "pad_bot_Q1                        -39.67777    90.65814   -32.51147   \n",
       "pad_top_Q1                        -39.72940   -32.51147    90.64021   \n",
       "readout_connector_pad_Q1          -34.47648    -1.65442   -13.79226   \n",
       "\n",
       "                          readout_connector_pad_Q1  \n",
       "bus_connector_pad_Q1                      -0.13818  \n",
       "cl_metal_Q1                               -0.05208  \n",
       "ground_main_plane                        -34.47648  \n",
       "pad_bot_Q1                                -1.65442  \n",
       "pad_top_Q1                               -13.79226  \n",
       "readout_connector_pad_Q1                  50.96623  "
      ]
     },
     "execution_count": 20,
     "metadata": {},
     "output_type": "execute_result"
    }
   ],
   "source": [
    "c1.capacitance_matrix"
   ]
  },
  {
   "cell_type": "code",
   "execution_count": 21,
   "metadata": {},
   "outputs": [
    {
     "name": "stdout",
     "output_type": "stream",
     "text": [
      "[3, 4] [5 0 1]\n",
      "Predicted Values\n",
      "\n",
      "Transmon Properties\n",
      "f_Q 5.061492 [GHz]\n",
      "EC 311.552639 [MHz]\n",
      "EJ 11.671114 [GHz]\n",
      "alpha -368.257008 [MHz]\n",
      "dispersion 121.977490 [KHz]\n",
      "Lq 13.994355 [nH]\n",
      "Cq 62.173211 [fF]\n",
      "T1 146.271198 [us]\n",
      "\n",
      "**Coupling Properties**\n",
      "\n",
      "tCqbus1 -6.072524 [fF]\n",
      "gbus1_in_MHz -91.062961 [MHz]\n",
      "χ_bus1 -1.409124 [MHz]\n",
      "1/T1bus1 1088.080950 [Hz]\n",
      "T1bus1 146.271234 [us]\n",
      "\n",
      "tCqbus2 6.069084 [fF]\n",
      "gbus2_in_MHz 1.306166 [MHz]\n",
      "χ_bus2 -0.000106 [MHz]\n",
      "1/T1bus2 0.000267 [Hz]\n",
      "T1bus2 597009419.268721 [us]\n",
      "\n",
      "tCqbus3 0.047782 [fF]\n",
      "gbus3_in_MHz 0.010284 [MHz]\n",
      "χ_bus3 -0.000000 [MHz]\n",
      "1/T1bus3 0.000000 [Hz]\n",
      "T1bus3 9630489925176.917969 [us]\n",
      "Bus-Bus Couplings\n",
      "gbus1_2 0.100268 [MHz]\n",
      "gbus1_3 0.004459 [MHz]\n",
      "gbus2_3 0.000039 [MHz]\n"
     ]
    },
    {
     "data": {
      "text/html": [
       "<div>\n",
       "<style scoped>\n",
       "    .dataframe tbody tr th:only-of-type {\n",
       "        vertical-align: middle;\n",
       "    }\n",
       "\n",
       "    .dataframe tbody tr th {\n",
       "        vertical-align: top;\n",
       "    }\n",
       "\n",
       "    .dataframe thead th {\n",
       "        text-align: right;\n",
       "    }\n",
       "</style>\n",
       "<table border=\"1\" class=\"dataframe\">\n",
       "  <thead>\n",
       "    <tr style=\"text-align: right;\">\n",
       "      <th></th>\n",
       "      <th>fQ</th>\n",
       "      <th>EC</th>\n",
       "      <th>EJ</th>\n",
       "      <th>alpha</th>\n",
       "      <th>dispersion</th>\n",
       "      <th>gbus</th>\n",
       "      <th>chi_in_MHz</th>\n",
       "      <th>χr MHz</th>\n",
       "      <th>gr MHz</th>\n",
       "    </tr>\n",
       "  </thead>\n",
       "  <tbody>\n",
       "    <tr>\n",
       "      <th>1</th>\n",
       "      <td>5.433479</td>\n",
       "      <td>363.151528</td>\n",
       "      <td>11.671114</td>\n",
       "      <td>-437.336534</td>\n",
       "      <td>413.329185</td>\n",
       "      <td>[-83.70370737679436, 1.1092096840330103, 0.021...</td>\n",
       "      <td>[-1.993320614783169, -7.937274989564146e-05, -...</td>\n",
       "      <td>1.993321</td>\n",
       "      <td>83.703707</td>\n",
       "    </tr>\n",
       "    <tr>\n",
       "      <th>2</th>\n",
       "      <td>5.374225</td>\n",
       "      <td>354.619592</td>\n",
       "      <td>11.671114</td>\n",
       "      <td>-425.74452</td>\n",
       "      <td>344.26075</td>\n",
       "      <td>[-85.86624225980508, 1.211649830440972, 0.0110...</td>\n",
       "      <td>[-1.9247581177568647, -9.411667597472957e-05, ...</td>\n",
       "      <td>1.924758</td>\n",
       "      <td>85.866242</td>\n",
       "    </tr>\n",
       "    <tr>\n",
       "      <th>3</th>\n",
       "      <td>5.294418</td>\n",
       "      <td>343.317179</td>\n",
       "      <td>11.671114</td>\n",
       "      <td>-410.493535</td>\n",
       "      <td>267.338562</td>\n",
       "      <td>[-86.81301268012994, 1.2269028182125488, 0.009...</td>\n",
       "      <td>[-1.7567100537167433, -9.569833756789184e-05, ...</td>\n",
       "      <td>1.756710</td>\n",
       "      <td>86.813013</td>\n",
       "    </tr>\n",
       "    <tr>\n",
       "      <th>4</th>\n",
       "      <td>5.237437</td>\n",
       "      <td>335.37911</td>\n",
       "      <td>11.671114</td>\n",
       "      <td>-399.85287</td>\n",
       "      <td>222.102742</td>\n",
       "      <td>[-86.00764071064755, 1.2118346943155938, 0.010...</td>\n",
       "      <td>[-1.592938999879478, -9.281432404608038e-05, -...</td>\n",
       "      <td>1.592939</td>\n",
       "      <td>86.007641</td>\n",
       "    </tr>\n",
       "    <tr>\n",
       "      <th>5</th>\n",
       "      <td>5.187715</td>\n",
       "      <td>328.541365</td>\n",
       "      <td>11.671114</td>\n",
       "      <td>-390.733249</td>\n",
       "      <td>188.289786</td>\n",
       "      <td>[-87.25648878074503, 1.2319505330464855, 0.010...</td>\n",
       "      <td>[-1.531638636164018, -9.543495388547847e-05, -...</td>\n",
       "      <td>1.531639</td>\n",
       "      <td>87.256489</td>\n",
       "    </tr>\n",
       "    <tr>\n",
       "      <th>6</th>\n",
       "      <td>5.149093</td>\n",
       "      <td>323.287145</td>\n",
       "      <td>11.671114</td>\n",
       "      <td>-383.754316</td>\n",
       "      <td>165.248445</td>\n",
       "      <td>[-87.48765521103682, 1.2552596841073371, 0.010...</td>\n",
       "      <td>[-1.4614004711797408, -9.869336509104824e-05, ...</td>\n",
       "      <td>1.461400</td>\n",
       "      <td>87.487655</td>\n",
       "    </tr>\n",
       "    <tr>\n",
       "      <th>7</th>\n",
       "      <td>5.125129</td>\n",
       "      <td>320.051895</td>\n",
       "      <td>11.671114</td>\n",
       "      <td>-379.469406</td>\n",
       "      <td>152.23832</td>\n",
       "      <td>[-88.79498644396803, 1.2704383982971335, 0.010...</td>\n",
       "      <td>[-1.4577871335476382, -0.0001008507924839105, ...</td>\n",
       "      <td>1.457787</td>\n",
       "      <td>88.794986</td>\n",
       "    </tr>\n",
       "    <tr>\n",
       "      <th>8</th>\n",
       "      <td>5.105116</td>\n",
       "      <td>317.364567</td>\n",
       "      <td>11.671114</td>\n",
       "      <td>-375.917292</td>\n",
       "      <td>142.075811</td>\n",
       "      <td>[-89.18853692318046, 1.2794460462997506, 0.010...</td>\n",
       "      <td>[-1.4320055861053953, -0.00010208074169171004,...</td>\n",
       "      <td>1.432006</td>\n",
       "      <td>89.188537</td>\n",
       "    </tr>\n",
       "    <tr>\n",
       "      <th>9</th>\n",
       "      <td>5.093596</td>\n",
       "      <td>315.82365</td>\n",
       "      <td>11.671114</td>\n",
       "      <td>-373.883403</td>\n",
       "      <td>136.502239</td>\n",
       "      <td>[-89.73318814854198, 1.285204872031634, 0.0102...</td>\n",
       "      <td>[-1.4275386280297915, -0.00010288308401178529,...</td>\n",
       "      <td>1.427539</td>\n",
       "      <td>89.733188</td>\n",
       "    </tr>\n",
       "    <tr>\n",
       "      <th>10</th>\n",
       "      <td>5.084156</td>\n",
       "      <td>314.564326</td>\n",
       "      <td>11.671114</td>\n",
       "      <td>-372.222761</td>\n",
       "      <td>132.080543</td>\n",
       "      <td>[-89.78419887891071, 1.2900134958855947, 0.010...</td>\n",
       "      <td>[-1.4114037374706405, -0.00010355673717275049,...</td>\n",
       "      <td>1.411404</td>\n",
       "      <td>89.784199</td>\n",
       "    </tr>\n",
       "    <tr>\n",
       "      <th>11</th>\n",
       "      <td>5.078984</td>\n",
       "      <td>313.875563</td>\n",
       "      <td>11.671114</td>\n",
       "      <td>-371.315098</td>\n",
       "      <td>129.711976</td>\n",
       "      <td>[-90.4069454986896, 1.296032573152455, 0.01030...</td>\n",
       "      <td>[-1.4212980906026849, -0.00010447146135785327,...</td>\n",
       "      <td>1.421298</td>\n",
       "      <td>90.406945</td>\n",
       "    </tr>\n",
       "    <tr>\n",
       "      <th>12</th>\n",
       "      <td>5.072478</td>\n",
       "      <td>313.010409</td>\n",
       "      <td>11.671114</td>\n",
       "      <td>-370.175581</td>\n",
       "      <td>126.785971</td>\n",
       "      <td>[-90.58816499144795, 1.2990332167518992, 0.010...</td>\n",
       "      <td>[-1.4147970356876156, -0.00010488777208943702,...</td>\n",
       "      <td>1.414797</td>\n",
       "      <td>90.588165</td>\n",
       "    </tr>\n",
       "    <tr>\n",
       "      <th>13</th>\n",
       "      <td>5.068069</td>\n",
       "      <td>312.424891</td>\n",
       "      <td>11.671114</td>\n",
       "      <td>-369.404755</td>\n",
       "      <td>124.836406</td>\n",
       "      <td>[-90.68138545192558, 1.301493466237051, 0.0102...</td>\n",
       "      <td>[-1.4094929285965803, -0.0001052392540263501, ...</td>\n",
       "      <td>1.409493</td>\n",
       "      <td>90.681385</td>\n",
       "    </tr>\n",
       "    <tr>\n",
       "      <th>14</th>\n",
       "      <td>5.065212</td>\n",
       "      <td>312.045829</td>\n",
       "      <td>11.671114</td>\n",
       "      <td>-368.905885</td>\n",
       "      <td>123.587345</td>\n",
       "      <td>[-90.94806262316561, 1.3050378407762104, 0.010...</td>\n",
       "      <td>[-1.4124695419908282, -0.00010578317103124109,...</td>\n",
       "      <td>1.412470</td>\n",
       "      <td>90.948063</td>\n",
       "    </tr>\n",
       "    <tr>\n",
       "      <th>15</th>\n",
       "      <td>5.061492</td>\n",
       "      <td>311.552639</td>\n",
       "      <td>11.671114</td>\n",
       "      <td>-368.257008</td>\n",
       "      <td>121.97749</td>\n",
       "      <td>[-91.06296103517275, 1.3061662117122332, 0.010...</td>\n",
       "      <td>[-1.4091240044255695, -0.00010592699936668094,...</td>\n",
       "      <td>1.409124</td>\n",
       "      <td>91.062961</td>\n",
       "    </tr>\n",
       "  </tbody>\n",
       "</table>\n",
       "</div>"
      ],
      "text/plain": [
       "          fQ          EC         EJ       alpha  dispersion  \\\n",
       "1   5.433479  363.151528  11.671114 -437.336534  413.329185   \n",
       "2   5.374225  354.619592  11.671114  -425.74452   344.26075   \n",
       "3   5.294418  343.317179  11.671114 -410.493535  267.338562   \n",
       "4   5.237437   335.37911  11.671114  -399.85287  222.102742   \n",
       "5   5.187715  328.541365  11.671114 -390.733249  188.289786   \n",
       "6   5.149093  323.287145  11.671114 -383.754316  165.248445   \n",
       "7   5.125129  320.051895  11.671114 -379.469406   152.23832   \n",
       "8   5.105116  317.364567  11.671114 -375.917292  142.075811   \n",
       "9   5.093596   315.82365  11.671114 -373.883403  136.502239   \n",
       "10  5.084156  314.564326  11.671114 -372.222761  132.080543   \n",
       "11  5.078984  313.875563  11.671114 -371.315098  129.711976   \n",
       "12  5.072478  313.010409  11.671114 -370.175581  126.785971   \n",
       "13  5.068069  312.424891  11.671114 -369.404755  124.836406   \n",
       "14  5.065212  312.045829  11.671114 -368.905885  123.587345   \n",
       "15  5.061492  311.552639  11.671114 -368.257008   121.97749   \n",
       "\n",
       "                                                 gbus  \\\n",
       "1   [-83.70370737679436, 1.1092096840330103, 0.021...   \n",
       "2   [-85.86624225980508, 1.211649830440972, 0.0110...   \n",
       "3   [-86.81301268012994, 1.2269028182125488, 0.009...   \n",
       "4   [-86.00764071064755, 1.2118346943155938, 0.010...   \n",
       "5   [-87.25648878074503, 1.2319505330464855, 0.010...   \n",
       "6   [-87.48765521103682, 1.2552596841073371, 0.010...   \n",
       "7   [-88.79498644396803, 1.2704383982971335, 0.010...   \n",
       "8   [-89.18853692318046, 1.2794460462997506, 0.010...   \n",
       "9   [-89.73318814854198, 1.285204872031634, 0.0102...   \n",
       "10  [-89.78419887891071, 1.2900134958855947, 0.010...   \n",
       "11  [-90.4069454986896, 1.296032573152455, 0.01030...   \n",
       "12  [-90.58816499144795, 1.2990332167518992, 0.010...   \n",
       "13  [-90.68138545192558, 1.301493466237051, 0.0102...   \n",
       "14  [-90.94806262316561, 1.3050378407762104, 0.010...   \n",
       "15  [-91.06296103517275, 1.3061662117122332, 0.010...   \n",
       "\n",
       "                                           chi_in_MHz    χr MHz     gr MHz  \n",
       "1   [-1.993320614783169, -7.937274989564146e-05, -...  1.993321  83.703707  \n",
       "2   [-1.9247581177568647, -9.411667597472957e-05, ...  1.924758  85.866242  \n",
       "3   [-1.7567100537167433, -9.569833756789184e-05, ...  1.756710  86.813013  \n",
       "4   [-1.592938999879478, -9.281432404608038e-05, -...  1.592939  86.007641  \n",
       "5   [-1.531638636164018, -9.543495388547847e-05, -...  1.531639  87.256489  \n",
       "6   [-1.4614004711797408, -9.869336509104824e-05, ...  1.461400  87.487655  \n",
       "7   [-1.4577871335476382, -0.0001008507924839105, ...  1.457787  88.794986  \n",
       "8   [-1.4320055861053953, -0.00010208074169171004,...  1.432006  89.188537  \n",
       "9   [-1.4275386280297915, -0.00010288308401178529,...  1.427539  89.733188  \n",
       "10  [-1.4114037374706405, -0.00010355673717275049,...  1.411404  89.784199  \n",
       "11  [-1.4212980906026849, -0.00010447146135785327,...  1.421298  90.406945  \n",
       "12  [-1.4147970356876156, -0.00010488777208943702,...  1.414797  90.588165  \n",
       "13  [-1.4094929285965803, -0.0001052392540263501, ...  1.409493  90.681385  \n",
       "14  [-1.4124695419908282, -0.00010578317103124109,...  1.412470  90.948063  \n",
       "15  [-1.4091240044255695, -0.00010592699936668094,...  1.409124  91.062961  "
      ]
     },
     "execution_count": 21,
     "metadata": {},
     "output_type": "execute_result"
    }
   ],
   "source": [
    "c1.setup.lom.junctions = Dict({'Lj': 14, 'Cj': 2})\n",
    "c1.setup.lom.freq_readout = 7.0\n",
    "c1.setup.lom.freq_bus = [0.1, 0.1]  # list of the bus frequencies\n",
    "\n",
    "c1.run_lom()\n",
    "c1.lumped_oscillator_all"
   ]
  },
  {
   "cell_type": "markdown",
   "metadata": {},
   "source": [
    "We can finally observe how the main quantum parameters have converged after the previous simulation."
   ]
  },
  {
   "cell_type": "code",
   "execution_count": 22,
   "metadata": {},
   "outputs": [
    {
     "name": "stderr",
     "output_type": "stream",
     "text": [
      "INFO 04:00PM [hfss_report_full_convergence]: Creating report for variation 0\n"
     ]
    },
    {
     "name": "stdout",
     "output_type": "stream",
     "text": [
      "Design \"Qubit1_q3d\" info:\n",
      "\t# eigenmodes    0\n",
      "\t# variations    1\n"
     ]
    }
   ],
   "source": [
    "c1.plot_convergence();\n",
    "c1.plot_convergence_chi()"
   ]
  },
  {
   "cell_type": "markdown",
   "metadata": {},
   "source": [
    "Note that it is possible for a (physically) converged simulation, to not have quite converged in the quantum realm.\n",
    "\n",
    "Looking at the convergence plots from the previous cell, we can see that we did not have enough passes for the simulation. In this case, we want to modify our simulation setup, 'QubitTune', to improve our convergence (increase number of passes, or changing some other parameters)."
   ]
  },
  {
   "cell_type": "markdown",
   "metadata": {},
   "source": [
    "Once we will know that simulation has converged, we can use those results to make appropriate changes to our qubit layout. Say our anharmonicity/alpha is higher than we want? Since we know Ec~ 1/C, we can change parts of the transmon pocket to lower the total capacitance seen across the junction.\n",
    "If g to the bus is too low, we can increase the width of the connection pad so that the capacitance between the connection pad and charge island is greater.\n",
    "\n",
    "One must also keep in mind that any such changes will impact the other parameters, so careful tweaks and iterations of simulation/analysis often end up being necessary.\n",
    "\n",
    "If wanting to make changes and re-render your design, you first should clear your current design."
   ]
  },
  {
   "cell_type": "code",
   "execution_count": 23,
   "metadata": {},
   "outputs": [],
   "source": [
    "c1.renderer.clean_active_design()"
   ]
  },
  {
   "cell_type": "markdown",
   "metadata": {},
   "source": [
    "When done with all the simulations, you can disconnect from Ansys EDT."
   ]
  },
  {
   "cell_type": "code",
   "execution_count": 24,
   "metadata": {},
   "outputs": [],
   "source": [
    "c1.close()"
   ]
  },
  {
   "cell_type": "markdown",
   "metadata": {},
   "source": [
    "### Analysis via eigenmode and EPR"
   ]
  },
  {
   "cell_type": "markdown",
   "metadata": {},
   "source": [
    "Now, although the previous simulation and analysis captured all of the parameters of the qubits and coupling to the bus, a more accurate (all be it slower) approach is to render the qubits and their coupling into an eigenmode simulation and perform EPR analysis on the result.\n",
    "\n",
    "We again start by selecting the Analysis class of interest."
   ]
  },
  {
   "cell_type": "code",
   "execution_count": 25,
   "metadata": {},
   "outputs": [],
   "source": [
    "from qiskit_metal.analyses.quantization import EPRanalysis\n",
    "eig_qb = EPRanalysis(design, \"hfss\")"
   ]
  },
  {
   "cell_type": "markdown",
   "metadata": {},
   "source": [
    "Review and update the simulation setup by executing following two cells."
   ]
  },
  {
   "cell_type": "code",
   "execution_count": 26,
   "metadata": {},
   "outputs": [],
   "source": [
    "em_p = eig_qb.setup.sim"
   ]
  },
  {
   "cell_type": "code",
   "execution_count": 27,
   "metadata": {},
   "outputs": [
    {
     "data": {
      "text/plain": [
       "{'name': 'QubitTune',\n",
       " 'reuse_selected_design': True,\n",
       " 'min_freq_ghz': 3,\n",
       " 'n_modes': 2,\n",
       " 'max_delta_f': 0.1,\n",
       " 'max_passes': 12,\n",
       " 'min_passes': 1,\n",
       " 'min_converged': 2,\n",
       " 'pct_refinement': 30,\n",
       " 'basis_order': 1,\n",
       " 'vars': {'Lj1': '14 nH', 'Cj1': '0 fF', 'Lj2': '12 nH', 'Cj2': '0 fF'}}"
      ]
     },
     "execution_count": 27,
     "metadata": {},
     "output_type": "execute_result"
    }
   ],
   "source": [
    "em_p.name = 'QubitTune'\n",
    "em_p.min_freq_ghz = 3\n",
    "em_p.n_modes = 2\n",
    "em_p.max_passes = 12\n",
    "em_p.max_delta_f = 0.1\n",
    "em_p.min_converged = 2\n",
    "# Design variables can also be added in for direct simulation sweeps.\n",
    "em_p.vars = Dict({'Lj1': '14 nH', 'Cj1': '0 fF', 'Lj2': '12 nH', 'Cj2': '0 fF'})\n",
    "\n",
    "eig_qb.setup.sim"
   ]
  },
  {
   "cell_type": "markdown",
   "metadata": {},
   "source": [
    "We can now run the simulation on the specified layout."
   ]
  },
  {
   "cell_type": "code",
   "execution_count": 28,
   "metadata": {},
   "outputs": [
    {
     "name": "stderr",
     "output_type": "stream",
     "text": [
      "INFO 04:01PM [connect_project]: Connecting to Ansys Desktop API...\n",
      "INFO 04:01PM [load_ansys_project]: \tOpened Ansys App\n",
      "INFO 04:01PM [load_ansys_project]: \tOpened Ansys Desktop v2020.2.0\n",
      "INFO 04:01PM [load_ansys_project]: \tOpened Ansys Project\n",
      "\tFolder:    C:/Ansoft/\n",
      "\tProject:   Project21\n",
      "INFO 04:01PM [connect_design]: \tOpened active design\n",
      "\tDesign:    Qubit1_q3d [Solution type: Q3D]\n",
      "INFO 04:01PM [get_setup]: \tOpened setup `Setup`  (<class 'pyEPR.ansys.AnsysQ3DSetup'>)\n",
      "INFO 04:01PM [connect]: \tConnected to project \"Project21\" and design \"Qubit1_q3d\" 😀 \n",
      "\n",
      "INFO 04:01PM [connect_design]: \tOpened active design\n",
      "\tDesign:    Q1_Q2_Bus_hfss [Solution type: Eigenmode]\n",
      "WARNING 04:01PM [connect_setup]: \tNo design setup detected.\n",
      "WARNING 04:01PM [connect_setup]: \tCreating eigenmode default setup.\n",
      "INFO 04:01PM [get_setup]: \tOpened setup `Setup`  (<class 'pyEPR.ansys.HfssEMSetup'>)\n",
      "INFO 04:01PM [get_setup]: \tOpened setup `QubitTune`  (<class 'pyEPR.ansys.HfssEMSetup'>)\n",
      "INFO 04:01PM [analyze]: Analyzing setup QubitTune\n",
      "04:04PM 09s INFO [get_f_convergence]: Saved convergences to C:\\workspace\\qiskit-metal\\docs\\circuit-examples\\full-design-flow-examples\\hfss_eig_f_convergence.csv\n"
     ]
    },
    {
     "data": {
      "text/plain": [
       "('Q1_Q2_Bus_hfss', 'QubitTune')"
      ]
     },
     "execution_count": 28,
     "metadata": {},
     "output_type": "execute_result"
    }
   ],
   "source": [
    "eig_qb.run_sim(name=\"Q1_Q2_Bus\", components=['Bus_Q1_Q2', 'Q1', 'Q2'], open_terminations=[])"
   ]
  },
  {
   "cell_type": "markdown",
   "metadata": {},
   "source": [
    "Once completed, we can check the convergence to see if more passes might be necessary."
   ]
  },
  {
   "cell_type": "code",
   "execution_count": 29,
   "metadata": {},
   "outputs": [],
   "source": [
    "eig_qb.plot_convergences()"
   ]
  },
  {
   "cell_type": "markdown",
   "metadata": {},
   "source": [
    "This eigenmode simulation is also a quick method to check for any bus or readout resonator frequencies. \n",
    "If happy with the simulation, we can then jump to some EPR analysis.\n",
    "\n",
    "At first we need to define the junctions in terms of name, inductance_variable, capacitance_variable, rectancle that was defined in the rendering to represent the junction `port` and line that was defined in the rendering to represent the direction of the current thorugh the junction."
   ]
  },
  {
   "cell_type": "code",
   "execution_count": 30,
   "metadata": {},
   "outputs": [
    {
     "data": {
      "text/plain": [
       "{'junctions': {'jj1': {'Lj_variable': 'Lj1',\n",
       "   'Cj_variable': 'Cj1',\n",
       "   'rect': 'JJ_rect_Lj_Q1_rect_jj',\n",
       "   'line': 'JJ_Lj_Q1_rect_jj_'},\n",
       "  'jj2': {'Lj_variable': 'Lj2',\n",
       "   'Cj_variable': 'Cj2',\n",
       "   'rect': 'JJ_rect_Lj_Q2_rect_jj',\n",
       "   'line': 'JJ_Lj_Q2_rect_jj_'}},\n",
       " 'dissipatives': {'dielectrics_bulk': ['main']},\n",
       " 'cos_trunc': 8,\n",
       " 'fock_trunc': 7,\n",
       " 'sweep_variable': 'Lj1'}"
      ]
     },
     "execution_count": 30,
     "metadata": {},
     "output_type": "execute_result"
    }
   ],
   "source": [
    "eig_qb.del_junction()\n",
    "eig_qb.add_junction('jj1', 'Lj1', 'Cj1', rect='JJ_rect_Lj_Q1_rect_jj', line='JJ_Lj_Q1_rect_jj_')\n",
    "eig_qb.add_junction('jj2', 'Lj2', 'Cj2', rect='JJ_rect_Lj_Q2_rect_jj', line='JJ_Lj_Q2_rect_jj_')\n",
    "eig_qb.setup.epr.sweep_variable = 'Lj1'\n",
    "eig_qb.setup.epr"
   ]
  },
  {
   "cell_type": "markdown",
   "metadata": {},
   "source": [
    "Note in the previous cell output that the dissipatives have alrady been defined by default.\n",
    "\n",
    "Now we can start looking at the EPR values. First we look at the electric field and subtrate participation."
   ]
  },
  {
   "cell_type": "code",
   "execution_count": 31,
   "metadata": {},
   "outputs": [
    {
     "name": "stdout",
     "output_type": "stream",
     "text": [
      "Design \"Q1_Q2_Bus_hfss\" info:\n",
      "\t# eigenmodes    2\n",
      "\t# variations    1\n",
      "Design \"Q1_Q2_Bus_hfss\" info:\n",
      "\t# eigenmodes    2\n",
      "\t# variations    1\n",
      "\n",
      "        energy_elec_all       = 1.07745203911283e-24\n",
      "        energy_elec_substrate = 9.92850687215031e-25\n",
      "        EPR of substrate = 92.1%\n",
      "\n",
      "        energy_mag    = 4.1725878513546e-27\n",
      "        energy_mag % of energy_elec_all  = 0.4%\n",
      "        \n",
      "\n",
      "Variation 0  [1/1]\n",
      "\n",
      "  \u001b[1mMode 0 at 5.36 GHz   [1/2]\u001b[0m\n",
      "    Calculating ℰ_magnetic,ℰ_electric\n",
      "       (ℰ_E-ℰ_H)/ℰ_E       ℰ_E       ℰ_H\n",
      "               99.6%  5.387e-25 2.086e-27\n",
      "\n",
      "    Calculating junction energy participation ration (EPR)\n",
      "\tmethod=`line_voltage`. First estimates:\n",
      "\tjunction        EPR p_0j   sign s_0j    (p_capacitive)\n",
      "\t\tEnergy fraction (Lj over Lj&Cj)= 96.92%\n",
      "\tjj1             0.995219  (+)        0.0315956\n",
      "\t\tEnergy fraction (Lj over Lj&Cj)= 97.35%\n",
      "\tjj2             3.89107e-05  (+)        1.05884e-06\n",
      "\t\t(U_tot_cap-U_tot_ind)/mean=1.60%\n",
      "Calculating Qdielectric_main for mode 0 (0/1)\n",
      "p_dielectric_main_0 = 0.9214801691150359\n",
      "\n",
      "  \u001b[1mMode 1 at 5.78 GHz   [2/2]\u001b[0m\n",
      "    Calculating ℰ_magnetic,ℰ_electric\n",
      "       (ℰ_E-ℰ_H)/ℰ_E       ℰ_E       ℰ_H\n",
      "               99.5%   7.06e-25 3.178e-27\n",
      "\n",
      "    Calculating junction energy participation ration (EPR)\n",
      "\tmethod=`line_voltage`. First estimates:\n",
      "\tjunction        EPR p_1j   sign s_1j    (p_capacitive)\n",
      "\t\tEnergy fraction (Lj over Lj&Cj)= 96.43%\n",
      "\tjj1             3.98076e-05  (+)        1.47207e-06\n",
      "\t\tEnergy fraction (Lj over Lj&Cj)= 96.93%\n",
      "\tjj2             0.994187  (+)        0.0315125\n",
      "\t\t(U_tot_cap-U_tot_ind)/mean=1.61%\n",
      "Calculating Qdielectric_main for mode 1 (1/1)\n",
      "p_dielectric_main_1 = 0.9215315002285759\n"
     ]
    },
    {
     "name": "stderr",
     "output_type": "stream",
     "text": [
      "WARNING 04:04PM [__init__]: <p>Error: <class 'IndexError'></p>\n"
     ]
    },
    {
     "name": "stdout",
     "output_type": "stream",
     "text": [
      "\n",
      "ANALYSIS DONE. Data saved to:\n",
      "\n",
      "C:\\data-pyEPR\\Project21\\Q1_Q2_Bus_hfss\\2021-07-08 16-04-11.npz\n",
      "\n",
      "\n",
      "\t Differences in variations:\n",
      "\n",
      "\n",
      "\n",
      " . . . . . . . . . . . . . . . . . . . . . . . . . . . . . . . . . . . . . . . . \n",
      "Variation 0\n",
      "\n",
      "Starting the diagonalization\n",
      "Finished the diagonalization\n",
      "Pm_norm=\n",
      "modes\n",
      "0    1.032559\n",
      "1    1.032902\n",
      "dtype: float64\n",
      "\n",
      "Pm_norm idx =\n",
      "     jj1    jj2\n",
      "0   True  False\n",
      "1  False   True\n",
      "*** P (participation matrix, not normlz.)\n",
      "        jj1       jj2\n",
      "0  0.964736  0.000038\n",
      "1  0.000039  0.963814\n",
      "\n",
      "*** S (sign-bit matrix)\n",
      "   s_jj1  s_jj2\n",
      "0      1      1\n",
      "1      1      1\n",
      "*** P (participation matrix, normalized.)\n",
      "         1  3.8e-05\n",
      "   3.9e-05        1\n",
      "\n",
      "*** Chi matrix O1 PT (MHz)\n",
      "    Diag is anharmonicity, off diag is full cross-Kerr.\n",
      "       305   0.0469\n",
      "    0.0469      304\n",
      "\n",
      "*** Chi matrix ND (MHz) \n",
      "       346    0.888\n",
      "     0.888      341\n",
      "\n",
      "*** Frequencies O1 PT (MHz)\n",
      "0    5054.004629\n",
      "1    5479.644732\n",
      "dtype: float64\n",
      "\n",
      "*** Frequencies ND (MHz)\n",
      "0    5034.020336\n",
      "1    5461.521809\n",
      "dtype: float64\n",
      "\n",
      "*** Q_coupling\n",
      "Empty DataFrame\n",
      "Columns: []\n",
      "Index: [0, 1]\n"
     ]
    },
    {
     "ename": "TypeError",
     "evalue": "epr_report_hamiltonian() takes from 1 to 2 positional arguments but 3 were given",
     "output_type": "error",
     "traceback": [
      "\u001b[1;31m---------------------------------------------------------------------------\u001b[0m",
      "\u001b[1;31mTypeError\u001b[0m                                 Traceback (most recent call last)",
      "\u001b[1;32m<ipython-input-31-a805afdebe00>\u001b[0m in \u001b[0;36m<module>\u001b[1;34m\u001b[0m\n\u001b[1;32m----> 1\u001b[1;33m \u001b[0meig_qb\u001b[0m\u001b[1;33m.\u001b[0m\u001b[0mrun_epr\u001b[0m\u001b[1;33m(\u001b[0m\u001b[1;33m)\u001b[0m\u001b[1;33m\u001b[0m\u001b[1;33m\u001b[0m\u001b[0m\n\u001b[0m\u001b[0;32m      2\u001b[0m \u001b[1;31m# (pyEPR allows to switch modes: eprd.set_mode(1))\u001b[0m\u001b[1;33m\u001b[0m\u001b[1;33m\u001b[0m\u001b[1;33m\u001b[0m\u001b[0m\n",
      "\u001b[1;32mc:\\workspace\\qiskit-metal\\qiskit_metal\\analyses\\quantization\\energy_participation_ratio.py\u001b[0m in \u001b[0;36mrun_epr\u001b[1;34m(self, no_junctions)\u001b[0m\n\u001b[0;32m    168\u001b[0m             self.spectrum_analysis(self.setup.epr.cos_trunc,\n\u001b[0;32m    169\u001b[0m                                    self.setup.epr.fock_trunc)\n\u001b[1;32m--> 170\u001b[1;33m             \u001b[0mself\u001b[0m\u001b[1;33m.\u001b[0m\u001b[0mreport_hamiltonian\u001b[0m\u001b[1;33m(\u001b[0m\u001b[0mself\u001b[0m\u001b[1;33m.\u001b[0m\u001b[0msetup\u001b[0m\u001b[1;33m.\u001b[0m\u001b[0mepr\u001b[0m\u001b[1;33m.\u001b[0m\u001b[0msweep_variable\u001b[0m\u001b[1;33m)\u001b[0m\u001b[1;33m\u001b[0m\u001b[1;33m\u001b[0m\u001b[0m\n\u001b[0m\u001b[0;32m    171\u001b[0m \u001b[1;33m\u001b[0m\u001b[0m\n\u001b[0;32m    172\u001b[0m     \u001b[1;31m# TODO: all the epr methods should not use the renderer. Now they are forced to because of the\u001b[0m\u001b[1;33m\u001b[0m\u001b[1;33m\u001b[0m\u001b[1;33m\u001b[0m\u001b[0m\n",
      "\u001b[1;32mc:\\workspace\\qiskit-metal\\qiskit_metal\\analyses\\quantization\\energy_participation_ratio.py\u001b[0m in \u001b[0;36mreport_hamiltonian\u001b[1;34m(self, sweep_variable, numeric)\u001b[0m\n\u001b[0;32m    221\u001b[0m         \u001b[0mEventually\u001b[0m\u001b[1;33m,\u001b[0m \u001b[0mthe\u001b[0m \u001b[0manalysis\u001b[0m \u001b[0mcode\u001b[0m \u001b[0mneeds\u001b[0m \u001b[0mto\u001b[0m \u001b[0mbe\u001b[0m \u001b[0monly\u001b[0m \u001b[0mhere\u001b[0m\u001b[1;33m,\u001b[0m \u001b[1;32mand\u001b[0m \u001b[0mthe\u001b[0m \u001b[0mrenderer\u001b[0m \u001b[0mmethod\u001b[0m \u001b[0mdeprecated\u001b[0m\u001b[1;33m.\u001b[0m\u001b[1;33m\u001b[0m\u001b[1;33m\u001b[0m\u001b[0m\n\u001b[0;32m    222\u001b[0m         \"\"\"\n\u001b[1;32m--> 223\u001b[1;33m         \u001b[0mself\u001b[0m\u001b[1;33m.\u001b[0m\u001b[0mrenderer\u001b[0m\u001b[1;33m.\u001b[0m\u001b[0mepr_report_hamiltonian\u001b[0m\u001b[1;33m(\u001b[0m\u001b[0msweep_variable\u001b[0m\u001b[1;33m,\u001b[0m \u001b[0mnumeric\u001b[0m\u001b[1;33m)\u001b[0m\u001b[1;33m\u001b[0m\u001b[1;33m\u001b[0m\u001b[0m\n\u001b[0m\u001b[0;32m    224\u001b[0m \u001b[1;33m\u001b[0m\u001b[0m\n\u001b[0;32m    225\u001b[0m     \u001b[1;32mdef\u001b[0m \u001b[0mget_frequencies\u001b[0m\u001b[1;33m(\u001b[0m\u001b[0mself\u001b[0m\u001b[1;33m)\u001b[0m\u001b[1;33m:\u001b[0m\u001b[1;33m\u001b[0m\u001b[1;33m\u001b[0m\u001b[0m\n",
      "\u001b[1;31mTypeError\u001b[0m: epr_report_hamiltonian() takes from 1 to 2 positional arguments but 3 were given"
     ]
    }
   ],
   "source": [
    "eig_qb.run_epr()\n",
    "# (pyEPR allows to switch modes: eprd.set_mode(1))"
   ]
  },
  {
   "cell_type": "markdown",
   "metadata": {},
   "source": [
    "From the analysis results we can determine the qubits anharmonicities and coupling strength."
   ]
  },
  {
   "cell_type": "markdown",
   "metadata": {},
   "source": [
    "Other analysis is still being added, such as the impedance analysis, though some already be done manually by renderering to a driven modal simulation and performing frequency sweeps to extract the S-Parameters or Impedance matrix. This would be an easy way to, say, determine the external quality factor of a readout resonator. *See tutorial notebooks 4.3*\n",
    "\n",
    "Once the analysis and tuning is complete, we can disconnect from the renderer."
   ]
  },
  {
   "cell_type": "code",
   "execution_count": null,
   "metadata": {},
   "outputs": [],
   "source": [
    "eig_qb.close()"
   ]
  },
  {
   "cell_type": "markdown",
   "metadata": {},
   "source": [
    "### Rendering to a GDS File"
   ]
  },
  {
   "cell_type": "markdown",
   "metadata": {},
   "source": [
    "Once all of the tuning is complete, we will want to prepare a GDS file so we can create a mask and fabricate our chip. We first create a gds render instance."
   ]
  },
  {
   "cell_type": "code",
   "execution_count": null,
   "metadata": {},
   "outputs": [],
   "source": [
    "qhk21_gds = design.renderers.gds"
   ]
  },
  {
   "cell_type": "markdown",
   "metadata": {},
   "source": [
    "The various options for the gds renderer can be checked and changed as necessary. A key option is the gds file which holds the cells for your junction ebeam design. Make sure this is pointing at the correct file so they are placed in your final mask at the appropriate locations."
   ]
  },
  {
   "cell_type": "code",
   "execution_count": null,
   "metadata": {},
   "outputs": [],
   "source": [
    "qhk21_gds.options"
   ]
  },
  {
   "cell_type": "code",
   "execution_count": null,
   "metadata": {},
   "outputs": [],
   "source": [
    "qhk21_gds.options['path_filename'] = '../resources/Fake_Junctions.GDS'\n",
    "qhk21_gds.options['no_cheese']['buffer']='50um'"
   ]
  },
  {
   "cell_type": "code",
   "execution_count": null,
   "metadata": {},
   "outputs": [],
   "source": [
    "qhk21_gds.export_to_gds('QHK21_Tutorial.gds')"
   ]
  },
  {
   "cell_type": "markdown",
   "metadata": {},
   "source": [
    "(optional) Now that the design is finished, we can close the GUI."
   ]
  },
  {
   "cell_type": "code",
   "execution_count": null,
   "metadata": {},
   "outputs": [],
   "source": [
    "# gui.main_window.close()"
   ]
  }
 ],
 "metadata": {
  "kernelspec": {
   "display_name": "Python 3",
   "language": "python",
   "name": "python3"
  },
  "language_info": {
   "codemirror_mode": {
    "name": "ipython",
    "version": 3
   },
   "file_extension": ".py",
   "mimetype": "text/x-python",
   "name": "python",
   "nbconvert_exporter": "python",
   "pygments_lexer": "ipython3",
   "version": "3.7.8"
  }
 },
 "nbformat": 4,
 "nbformat_minor": 4
}
