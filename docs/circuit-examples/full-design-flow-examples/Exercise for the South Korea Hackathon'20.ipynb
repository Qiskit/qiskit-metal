{
 "cells": [
  {
   "cell_type": "markdown",
   "metadata": {},
   "source": [
    "# South Korea Qiskit Hackathon'20 - Qiskit Metal exercise"
   ]
  },
  {
   "cell_type": "code",
   "execution_count": 1,
   "metadata": {},
   "outputs": [],
   "source": [
    "%load_ext autoreload\n",
    "%autoreload 2"
   ]
  },
  {
   "cell_type": "markdown",
   "metadata": {},
   "source": [
    "*Make sure to have the right kernel selected!*"
   ]
  },
  {
   "cell_type": "code",
   "execution_count": 2,
   "metadata": {},
   "outputs": [
    {
     "data": {
      "text/html": [
       "\n",
       "    <h1 style=\"\n",
       "        background: #12c2e9;  /* fallback for old browsers */\n",
       "        background: -webkit-linear-gradient(to right, #d4418e 0%, #0652c5 74%);  /* Chrome 10-25, Safari 5.1-6 */\n",
       "        background: linear-gradient(315deg, #d4418e 0%, #0652c5 74%); /* W3C, IE 10+/ Edge, Firefox 16+, Chrome 26+, Opera 12+, Safari 7+ */\n",
       "        margin-top: 50px;\n",
       "        border-style: outset;\n",
       "        padding-top:100px;\n",
       "        padding-bottom:50px;\n",
       "        padding-left:25px;\n",
       "        color: white;\n",
       "    \"> Welcome to Qiskit Metal! <h1>\n",
       "        "
      ],
      "text/plain": [
       "<IPython.core.display.HTML object>"
      ]
     },
     "metadata": {},
     "output_type": "display_data"
    }
   ],
   "source": [
    "import qiskit_metal as metal\n",
    "from qiskit_metal import designs, draw\n",
    "from qiskit_metal import MetalGUI, Dict, open_docs\n",
    "\n",
    "%metal_heading Welcome to Qiskit Metal!"
   ]
  },
  {
   "cell_type": "markdown",
   "metadata": {},
   "source": [
    "Welcome to Qiskit Metal! \n",
    "\n",
    "For this example tutorial, we will attempt to create a simple two qubit chip. We will want to generate the layout, simulate/analyze and tune the chip to hit the parameters we are wanting, finally rendering to a GDS file.\n",
    "\n",
    "One could generate subsections of the layout and tune individual components first, but in this case we will create all of the layout. We will want a transmon (in this case choosing ones with charge lines), meandered and simple transmission lines, capacitor couplers, and launchers for wirebond connections. So we will import these, and also create a design instance and launch the GUI."
   ]
  },
  {
   "cell_type": "markdown",
   "metadata": {},
   "source": [
    "### Layout"
   ]
  },
  {
   "cell_type": "code",
   "execution_count": 3,
   "metadata": {},
   "outputs": [],
   "source": [
    "from qiskit_metal.qlibrary.qubits.transmon_pocket_cl import TransmonPocketCL\n",
    "\n",
    "from qiskit_metal.qlibrary.tlines.meandered import RouteMeander\n",
    "from qiskit_metal.qlibrary.tlines.pathfinder import RoutePathfinder\n",
    "\n",
    "from qiskit_metal.qlibrary.lumped.cap_3_interdigital import Cap3Interdigital\n",
    "from qiskit_metal.qlibrary.terminations.launchpad_wb import LaunchpadWirebond"
   ]
  },
  {
   "cell_type": "code",
   "execution_count": 4,
   "metadata": {},
   "outputs": [],
   "source": [
    "design = metal.designs.DesignPlanar()\n",
    "\n",
    "gui = metal.MetalGUI(design)"
   ]
  },
  {
   "cell_type": "markdown",
   "metadata": {},
   "source": [
    "Since we are likely to be making many changes while tuning and modifying our design, we will enable overwriting. We can also check all of the chip properties to see if we want to change the size or any other parameter."
   ]
  },
  {
   "cell_type": "code",
   "execution_count": 5,
   "metadata": {},
   "outputs": [
    {
     "data": {
      "text/plain": [
       "{'material': 'silicon',\n",
       " 'layer_start': '0',\n",
       " 'layer_end': '2048',\n",
       " 'size': {'center_x': '0.0mm',\n",
       "  'center_y': '0.0mm',\n",
       "  'center_z': '0.0mm',\n",
       "  'size_x': '9mm',\n",
       "  'size_y': '6mm',\n",
       "  'size_z': '-750um',\n",
       "  'sample_holder_top': '890um',\n",
       "  'sample_holder_bottom': '1650um'}}"
      ]
     },
     "execution_count": 5,
     "metadata": {},
     "output_type": "execute_result"
    }
   ],
   "source": [
    "design.overwrite_enabled = True\n",
    "design.chips.main"
   ]
  },
  {
   "cell_type": "markdown",
   "metadata": {},
   "source": [
    "We will add the two qubits. We know we will want each qubit to have two connection pads, one for readout, and another for the connection to the other qubit. We can see any options the qubit qcomponent has to figure out what we might want to modify when creating the component. This will include the components default options (which the component designer included) as well as renderer options (which are added based on what renderers are present in Metal)."
   ]
  },
  {
   "cell_type": "code",
   "execution_count": 6,
   "metadata": {},
   "outputs": [
    {
     "data": {
      "text/plain": [
       "{'pos_x': '0um',\n",
       " 'pos_y': '0um',\n",
       " 'connection_pads': {},\n",
       " '_default_connection_pads': {'pad_gap': '15um',\n",
       "  'pad_width': '125um',\n",
       "  'pad_height': '30um',\n",
       "  'pad_cpw_shift': '5um',\n",
       "  'pad_cpw_extent': '25um',\n",
       "  'cpw_width': 'cpw_width',\n",
       "  'cpw_gap': 'cpw_gap',\n",
       "  'cpw_extend': '100um',\n",
       "  'pocket_extent': '5um',\n",
       "  'pocket_rise': '65um',\n",
       "  'loc_W': '+1',\n",
       "  'loc_H': '+1'},\n",
       " 'chip': 'main',\n",
       " 'pad_gap': '30um',\n",
       " 'inductor_width': '20um',\n",
       " 'pad_width': '455um',\n",
       " 'pad_height': '90um',\n",
       " 'pocket_width': '650um',\n",
       " 'pocket_height': '650um',\n",
       " 'orientation': '0',\n",
       " 'make_CL': True,\n",
       " 'cl_gap': '6um',\n",
       " 'cl_width': '10um',\n",
       " 'cl_length': '20um',\n",
       " 'cl_ground_gap': '6um',\n",
       " 'cl_pocket_edge': '0',\n",
       " 'cl_off_center': '50um',\n",
       " 'hfss_wire_bonds': False,\n",
       " 'q3d_wire_bonds': False,\n",
       " 'hfss_inductance': '10nH',\n",
       " 'hfss_capacitance': 0,\n",
       " 'hfss_resistance': 0,\n",
       " 'hfss_mesh_kw_jj': 7e-06,\n",
       " 'q3d_inductance': '10nH',\n",
       " 'q3d_capacitance': 0,\n",
       " 'q3d_resistance': 0,\n",
       " 'q3d_mesh_kw_jj': 7e-06,\n",
       " 'gds_cell_name': 'my_other_junction'}"
      ]
     },
     "execution_count": 6,
     "metadata": {},
     "output_type": "execute_result"
    }
   ],
   "source": [
    "TransmonPocketCL.get_template_options(design)"
   ]
  },
  {
   "cell_type": "markdown",
   "metadata": {},
   "source": [
    "We will then add those two qubits with the options we are wanting to define, these can all be modified easily later too.\n",
    "The rebuild command is included so the changes can be seen immediately in the GUI."
   ]
  },
  {
   "cell_type": "code",
   "execution_count": 7,
   "metadata": {},
   "outputs": [],
   "source": [
    "options =  dict(\n",
    "    pad_width = '425 um', \n",
    "    pocket_height = '650um',\n",
    "    cl_pocket_edge = '180',\n",
    "    connection_pads=dict(\n",
    "        readout = dict(loc_W=+1, loc_H=+1),\n",
    "        bus = dict(loc_W=-1, loc_H=-1, )\n",
    "    ))\n",
    "        \n",
    "Q1 = TransmonPocketCL(design,'Q1', options = dict(\n",
    "        pos_x='0.7mm', \n",
    "        pos_y='0mm', \n",
    "        gds_cell_name ='FakeJunction_01',\n",
    "        hfss_inductance ='14nH',\n",
    "        **options))\n",
    "\n",
    "Q2 = TransmonPocketCL(design,'Q2', options = dict(\n",
    "        pos_x='-0.7mm', \n",
    "        pos_y='0mm', \n",
    "        gds_cell_name ='FakeJunction_02',\n",
    "        hfss_inductance ='12nH',\n",
    "        orientation = '180',\n",
    "        **options))\n",
    "\n",
    "gui.rebuild()\n",
    "gui.autoscale()"
   ]
  },
  {
   "cell_type": "markdown",
   "metadata": {},
   "source": [
    "We will next connect the two transmons together to form a bus using RoutePathfinder, an auto drawing CPW transmission line. We simply have to give the start and end location using the component pins of what we are trying to connect to.\n",
    "We can use the GUI to confirm the pin names we want to give as inputs.\n",
    "\n",
    "Pins also play an important role with rendering and simulations, as any unconnected pin can be defined as a short, open, or driven terminal."
   ]
  },
  {
   "cell_type": "code",
   "execution_count": 8,
   "metadata": {},
   "outputs": [],
   "source": [
    "bus_Q1_Q2 = RoutePathfinder(design, 'Bus_Q1_Q2', options = dict(\n",
    "                                            fillet='99um',\n",
    "                                            lead=dict(end_straight='250um'),\n",
    "                                            pin_inputs=Dict(\n",
    "                                                start_pin=Dict(\n",
    "                                                    component='Q1',\n",
    "                                                    pin='bus'),\n",
    "                                                end_pin=Dict(\n",
    "                                                    component='Q2',\n",
    "                                                    pin='bus')\n",
    "                                            )))\n",
    "\n",
    "gui.rebuild()\n",
    "gui.autoscale()"
   ]
  },
  {
   "cell_type": "markdown",
   "metadata": {},
   "source": [
    "Then the readout structures can be added, being the capacitor couplers and meandered transmission lines to form the readout resonators. "
   ]
  },
  {
   "cell_type": "code",
   "execution_count": 9,
   "metadata": {},
   "outputs": [],
   "source": [
    "cap_Q1 = Cap3Interdigital(design, 'Cap_Q1', options= dict(pos_x='2.5mm', pos_y='0.25mm', orientation='90', finger_length = '40um'))\n",
    "cap_Q2 = Cap3Interdigital(design, 'Cap_Q2', options= dict(pos_x='-2.5mm', pos_y='-0.25mm', orientation='-90', finger_length = '40um'))\n",
    "\n",
    "gui.rebuild()\n",
    "gui.autoscale()"
   ]
  },
  {
   "cell_type": "code",
   "execution_count": 10,
   "metadata": {},
   "outputs": [],
   "source": [
    "readout_Q1 = RouteMeander(design,'Readout_Q1', options = dict( \n",
    "                                            pin_inputs=Dict(\n",
    "                                                start_pin=Dict(\n",
    "                                                    component='Q1',\n",
    "                                                    pin='readout'),\n",
    "                                                end_pin=Dict(\n",
    "                                                    component='Cap_Q1',\n",
    "                                                    pin='a')\n",
    "                                            ),\n",
    "                                            lead=Dict(\n",
    "                                                start_straight='0.325mm',\n",
    "                                                end_straight = '125um'#put jogs here\n",
    "                                            ),\n",
    "                                            meander=Dict(\n",
    "                                                asymmetry = '-50um'),\n",
    "                                            fillet = \"99um\",\n",
    "                                            total_length = '5mm'))\n",
    "\n",
    "gui.rebuild()\n",
    "gui.autoscale()"
   ]
  },
  {
   "cell_type": "code",
   "execution_count": 11,
   "metadata": {},
   "outputs": [],
   "source": [
    "readout_Q2 = RouteMeander(design,'Readout_Q2', options = dict( \n",
    "                                            pin_inputs=Dict(\n",
    "                                                start_pin=Dict(\n",
    "                                                    component='Q2',\n",
    "                                                    pin='readout'),\n",
    "                                                end_pin=Dict(\n",
    "                                                    component='Cap_Q2',\n",
    "                                                    pin='a')\n",
    "                                            ),\n",
    "                                            lead=Dict(\n",
    "                                                start_straight='0.325mm',\n",
    "                                                end_straight = '125um'#put jogs here\n",
    "                                            ),\n",
    "                                            meander=Dict(\n",
    "                                                asymmetry = '-50um'),\n",
    "                                            fillet = \"99um\",\n",
    "                                            total_length = '6mm'))\n",
    "\n",
    "gui.rebuild()\n",
    "gui.autoscale()"
   ]
  },
  {
   "cell_type": "markdown",
   "metadata": {},
   "source": [
    "With the launchers and short transmission lines to connect them to the capacitors and the charge lines."
   ]
  },
  {
   "cell_type": "code",
   "execution_count": 12,
   "metadata": {},
   "outputs": [],
   "source": [
    "launch_Q1_read = LaunchpadWirebond(design, 'Launch_Q1_Read', options = dict(pos_x = '3.5mm', orientation = '180'))\n",
    "launch_Q2_read = LaunchpadWirebond(design, 'Launch_Q2_Read', options = dict(pos_x = '-3.5mm', orientation = '0'))\n",
    "\n",
    "launch_Q1_cl = LaunchpadWirebond(design, 'Launch_Q1_CL', options = dict(pos_x = '1.35mm', pos_y = '-2.5mm', orientation = '90'))\n",
    "launch_Q2_cl = LaunchpadWirebond(design, 'Launch_Q2_CL', options = dict(pos_x = '-1.35mm', pos_y = '2.5mm', orientation = '-90'))\n",
    "\n",
    "gui.rebuild()\n",
    "gui.autoscale()"
   ]
  },
  {
   "cell_type": "code",
   "execution_count": 13,
   "metadata": {},
   "outputs": [],
   "source": [
    "tl_Q1 = RoutePathfinder(design, 'TL_Q1', options = dict(\n",
    "                                            fillet='99um',\n",
    "                                            lead=dict(end_straight='150um'),\n",
    "                                            pin_inputs=Dict(\n",
    "                                                start_pin=Dict(\n",
    "                                                    component='Launch_Q1_Read',\n",
    "                                                    pin='tie'),\n",
    "                                                end_pin=Dict(\n",
    "                                                    component='Cap_Q1',\n",
    "                                                    pin='b')\n",
    "                                            )))\n",
    "\n",
    "tl_Q2 = RoutePathfinder(design, 'TL_Q2', options = dict(\n",
    "                                            fillet='99um',\n",
    "                                            lead=dict(end_straight='150um'),\n",
    "                                            pin_inputs=Dict(\n",
    "                                                start_pin=Dict(\n",
    "                                                    component='Launch_Q2_Read',\n",
    "                                                    pin='tie'),\n",
    "                                                end_pin=Dict(\n",
    "                                                    component='Cap_Q2',\n",
    "                                                    pin='b')\n",
    "                                            )))\n",
    "\n",
    "gui.rebuild()\n",
    "gui.autoscale()"
   ]
  },
  {
   "cell_type": "code",
   "execution_count": 14,
   "metadata": {},
   "outputs": [],
   "source": [
    "tl_Q1_cl = RoutePathfinder(design, 'TL_Q1_CL', options = dict(\n",
    "                                            fillet='99um',\n",
    "                                            lead=dict(end_straight='150um'),\n",
    "                                            pin_inputs=Dict(\n",
    "                                                start_pin=Dict(\n",
    "                                                    component='Launch_Q1_CL',\n",
    "                                                    pin='tie'),\n",
    "                                                end_pin=Dict(\n",
    "                                                    component='Q1',\n",
    "                                                    pin='Charge_Line')\n",
    "                                            )))\n",
    "\n",
    "tl_Q2_cl = RoutePathfinder(design, 'TL_Q2_CL', options = dict(\n",
    "                                            fillet='99um',\n",
    "                                            lead=dict(end_straight='150um'),\n",
    "                                            pin_inputs=Dict(\n",
    "                                                start_pin=Dict(\n",
    "                                                    component='Launch_Q2_CL',\n",
    "                                                    pin='tie'),\n",
    "                                                end_pin=Dict(\n",
    "                                                    component='Q2',\n",
    "                                                    pin='Charge_Line')\n",
    "                                            )))\n",
    "\n",
    "gui.rebuild()\n",
    "gui.autoscale()"
   ]
  },
  {
   "cell_type": "code",
   "execution_count": 15,
   "metadata": {
    "tags": [
     "nbsphinx-thumbnail"
    ]
   },
   "outputs": [
    {
     "data": {
      "image/png": "[encoded data removed]",
      "text/plain": [
       "<IPython.core.display.Image object>"
      ]
     },
     "metadata": {
      "image/png": {
       "width": 500
      }
     },
     "output_type": "display_data"
    }
   ],
   "source": [
    "gui.screenshot()"
   ]
  },
  {
   "cell_type": "markdown",
   "metadata": {},
   "source": [
    "### Simulation and Analysis"
   ]
  },
  {
   "cell_type": "markdown",
   "metadata": {},
   "source": [
    "With our fully designed chip now laid out, we can start to focus on tuning the components to hit the circuit parameters we are interested in. These will tend to be;\n",
    "- qubit: frequency, the anharmonicity/alpha, and the coupling strength (as chi, g, or other)\n",
    "- busses: frequency (if resonant), the coupling strength\n",
    "- readout: frequency, coupling strength, coupling to external lines (as kappa, Q_external, or other)\n",
    "\n",
    "All of the qubit paramters can initially be tuned via a capacitance matrix and the lumped oscillator method. This analysis is not as accurate as others, but allows for fairly fast and small simulations. We will start setting up this simulation by rendering the qubit of interest into Ansys Q3D.\n",
    "\n",
    "We first create an instance of a Q3D render, connect it to Ansys and modify the options for the simulation we want."
   ]
  },
  {
   "cell_type": "markdown",
   "metadata": {},
   "source": [
    "#### Qubit and LOM"
   ]
  },
  {
   "cell_type": "code",
   "execution_count": 16,
   "metadata": {},
   "outputs": [],
   "source": [
    "qhk21_q3d = design.renderers.q3d"
   ]
  },
  {
   "cell_type": "markdown",
   "metadata": {},
   "source": [
    "We can see what options are directly attached to the q3d renderer and make any changes we may wish, such as increasing the buffer size for the bounding box when simulation subsections of the chip."
   ]
  },
  {
   "cell_type": "markdown",
   "metadata": {},
   "source": [
    "qhk21_q3d.options"
   ]
  },
  {
   "cell_type": "code",
   "execution_count": 17,
   "metadata": {},
   "outputs": [],
   "source": [
    "#If you don't already have ansys open: \n",
    "qhk21_q3d.open_ansys() "
   ]
  },
  {
   "cell_type": "markdown",
   "metadata": {},
   "source": [
    "*Make sure Ansys is fully opened and you have dealt with any pop up boxes before proceeding*"
   ]
  },
  {
   "cell_type": "code",
   "execution_count": 18,
   "metadata": {},
   "outputs": [],
   "source": [
    "#If you open Ansys manually, uncomment the code below to add a project.\n",
    "qhk21_q3d.new_ansys_project()"
   ]
  },
  {
   "cell_type": "code",
   "execution_count": 19,
   "metadata": {},
   "outputs": [
    {
     "name": "stderr",
     "output_type": "stream",
     "text": [
      "INFO 02:39PM [connect_project]: Connecting to Ansys Desktop API...\n",
      "INFO 02:39PM [load_ansys_project]: \tOpened Ansys App\n",
      "INFO 02:39PM [load_ansys_project]: \tOpened Ansys Desktop v2020.2.0\n",
      "INFO 02:39PM [load_ansys_project]: \tOpened Ansys Project\n",
      "\tFolder:    C:/Ansoft/\n",
      "\tProject:   Project16\n",
      "INFO 02:39PM [connect_design]: No active design found (or error getting active design).\n",
      "INFO 02:39PM [connect]: \t Connected to project \"Project16\". No design detected\n"
     ]
    }
   ],
   "source": [
    "qhk21_q3d.connect_ansys()"
   ]
  },
  {
   "cell_type": "code",
   "execution_count": 20,
   "metadata": {},
   "outputs": [
    {
     "name": "stderr",
     "output_type": "stream",
     "text": [
      "02:39PM 55s WARNING [activate_q3d_design]: The name=Qubit1 was not in active project.  A new design will be inserted to the project.  Names in active project are: \n",
      "[].  \n",
      "INFO 02:40PM [connect_design]: \tOpened active design\n",
      "\tDesign:    Qubit1 [Solution type: Q3D]\n",
      "WARNING 02:40PM [connect_setup]: \tNo design setup detected.\n",
      "WARNING 02:40PM [connect_setup]: \tCreating Q3D default setup.\n",
      "INFO 02:40PM [get_setup]: \tOpened setup `Setup`  (<class 'pyEPR.ansys.AnsysQ3DSetup'>)\n",
      "INFO 02:40PM [get_setup]: \tOpened setup `QubitTune`  (<class 'pyEPR.ansys.AnsysQ3DSetup'>)\n"
     ]
    }
   ],
   "source": [
    "qhk21_q3d.activate_q3d_design(\"Qubit1\")\n",
    "qhk21_q3d.add_q3d_setup(name = 'QubitTune', max_passes = 15, min_converged_passes = 2, percent_error = 0.1)\n",
    "qhk21_q3d.activate_q3d_setup('QubitTune')"
   ]
  },
  {
   "cell_type": "markdown",
   "metadata": {},
   "source": [
    "With the design and analysis setup, we render the qubit. For LOM analysis, we want the connection pads to be terminated with opens, so indicate this by stating which unconnected pins should have open terminations."
   ]
  },
  {
   "cell_type": "code",
   "execution_count": 21,
   "metadata": {},
   "outputs": [],
   "source": [
    "qhk21_q3d.render_design(['Q1'], [('Q1', 'readout'), ('Q1', 'bus')])"
   ]
  },
  {
   "cell_type": "code",
   "execution_count": 22,
   "metadata": {},
   "outputs": [
    {
     "name": "stderr",
     "output_type": "stream",
     "text": [
      "INFO 02:40PM [get_setup]: \tOpened setup `QubitTune`  (<class 'pyEPR.ansys.AnsysQ3DSetup'>)\n",
      "INFO 02:40PM [analyze]: Analyzing setup QubitTune\n"
     ]
    }
   ],
   "source": [
    "qhk21_q3d.analyze_setup(\"QubitTune\")"
   ]
  },
  {
   "cell_type": "markdown",
   "metadata": {},
   "source": [
    "Once complete, we can grab the capacitance matrix and/or call on an LOM analysis of the simulation;"
   ]
  },
  {
   "cell_type": "code",
   "execution_count": 23,
   "metadata": {},
   "outputs": [
    {
     "name": "stderr",
     "output_type": "stream",
     "text": [
      "INFO 02:43PM [get_matrix]: Exporting matrix data to (C:\\Temp\\tmp_67opbf7.txt, C, , QubitTune:LastAdaptive, \"Original\", \"ohm\", \"nH\", \"fF\", \"mSie\", 5000000000, Maxwell, 3, False\n"
     ]
    },
    {
     "data": {
      "text/html": [
       "<div>\n",
       "<style scoped>\n",
       "    .dataframe tbody tr th:only-of-type {\n",
       "        vertical-align: middle;\n",
       "    }\n",
       "\n",
       "    .dataframe tbody tr th {\n",
       "        vertical-align: top;\n",
       "    }\n",
       "\n",
       "    .dataframe thead th {\n",
       "        text-align: right;\n",
       "    }\n",
       "</style>\n",
       "<table border=\"1\" class=\"dataframe\">\n",
       "  <thead>\n",
       "    <tr style=\"text-align: right;\">\n",
       "      <th></th>\n",
       "      <th>bus_connector_pad_Q1</th>\n",
       "      <th>cl_metal_Q1</th>\n",
       "      <th>ground_main_plane</th>\n",
       "      <th>pad_bot_Q1</th>\n",
       "      <th>pad_top_Q1</th>\n",
       "      <th>readout_connector_pad_Q1</th>\n",
       "    </tr>\n",
       "  </thead>\n",
       "  <tbody>\n",
       "    <tr>\n",
       "      <th>bus_connector_pad_Q1</th>\n",
       "      <td>50.95697</td>\n",
       "      <td>-0.01089</td>\n",
       "      <td>-34.52207</td>\n",
       "      <td>-13.79034</td>\n",
       "      <td>-1.64522</td>\n",
       "      <td>-0.13817</td>\n",
       "    </tr>\n",
       "    <tr>\n",
       "      <th>cl_metal_Q1</th>\n",
       "      <td>-0.01089</td>\n",
       "      <td>16.45827</td>\n",
       "      <td>-15.96357</td>\n",
       "      <td>-0.22646</td>\n",
       "      <td>-0.13072</td>\n",
       "      <td>-0.05207</td>\n",
       "    </tr>\n",
       "    <tr>\n",
       "      <th>ground_main_plane</th>\n",
       "      <td>-34.52207</td>\n",
       "      <td>-15.96357</td>\n",
       "      <td>223.36169</td>\n",
       "      <td>-39.67859</td>\n",
       "      <td>-39.72898</td>\n",
       "      <td>-34.47850</td>\n",
       "    </tr>\n",
       "    <tr>\n",
       "      <th>pad_bot_Q1</th>\n",
       "      <td>-13.79034</td>\n",
       "      <td>-0.22646</td>\n",
       "      <td>-39.67859</td>\n",
       "      <td>90.65806</td>\n",
       "      <td>-32.51209</td>\n",
       "      <td>-1.65439</td>\n",
       "    </tr>\n",
       "    <tr>\n",
       "      <th>pad_top_Q1</th>\n",
       "      <td>-1.64522</td>\n",
       "      <td>-0.13072</td>\n",
       "      <td>-39.72898</td>\n",
       "      <td>-32.51209</td>\n",
       "      <td>90.63679</td>\n",
       "      <td>-13.78815</td>\n",
       "    </tr>\n",
       "    <tr>\n",
       "      <th>readout_connector_pad_Q1</th>\n",
       "      <td>-0.13817</td>\n",
       "      <td>-0.05207</td>\n",
       "      <td>-34.47850</td>\n",
       "      <td>-1.65439</td>\n",
       "      <td>-13.78815</td>\n",
       "      <td>50.96405</td>\n",
       "    </tr>\n",
       "  </tbody>\n",
       "</table>\n",
       "</div>"
      ],
      "text/plain": [
       "                          bus_connector_pad_Q1  cl_metal_Q1  \\\n",
       "bus_connector_pad_Q1                  50.95697     -0.01089   \n",
       "cl_metal_Q1                           -0.01089     16.45827   \n",
       "ground_main_plane                    -34.52207    -15.96357   \n",
       "pad_bot_Q1                           -13.79034     -0.22646   \n",
       "pad_top_Q1                            -1.64522     -0.13072   \n",
       "readout_connector_pad_Q1              -0.13817     -0.05207   \n",
       "\n",
       "                          ground_main_plane  pad_bot_Q1  pad_top_Q1  \\\n",
       "bus_connector_pad_Q1              -34.52207   -13.79034    -1.64522   \n",
       "cl_metal_Q1                       -15.96357    -0.22646    -0.13072   \n",
       "ground_main_plane                 223.36169   -39.67859   -39.72898   \n",
       "pad_bot_Q1                        -39.67859    90.65806   -32.51209   \n",
       "pad_top_Q1                        -39.72898   -32.51209    90.63679   \n",
       "readout_connector_pad_Q1          -34.47850    -1.65439   -13.78815   \n",
       "\n",
       "                          readout_connector_pad_Q1  \n",
       "bus_connector_pad_Q1                      -0.13817  \n",
       "cl_metal_Q1                               -0.05207  \n",
       "ground_main_plane                        -34.47850  \n",
       "pad_bot_Q1                                -1.65439  \n",
       "pad_top_Q1                               -13.78815  \n",
       "readout_connector_pad_Q1                  50.96405  "
      ]
     },
     "execution_count": 23,
     "metadata": {},
     "output_type": "execute_result"
    }
   ],
   "source": [
    "qhk21_q3d.get_capacitance_matrix()"
   ]
  },
  {
   "cell_type": "code",
   "execution_count": 24,
   "metadata": {},
   "outputs": [
    {
     "name": "stderr",
     "output_type": "stream",
     "text": [
      "INFO 02:43PM [get_matrix]: Exporting matrix data to (C:\\Temp\\tmp8sbfw5v8.txt, C, , QubitTune:AdaptivePass, \"Original\", \"ohm\", \"nH\", \"fF\", \"mSie\", 5000000000, Maxwell, 1, False\n",
      "INFO 02:43PM [get_matrix]: Exporting matrix data to (C:\\Temp\\tmpprf_k370.txt, C, , QubitTune:AdaptivePass, \"Original\", \"ohm\", \"nH\", \"fF\", \"mSie\", 5000000000, Maxwell, 2, False\n",
      "INFO 02:43PM [get_matrix]: Exporting matrix data to (C:\\Temp\\tmpoqntvt57.txt, C, , QubitTune:AdaptivePass, \"Original\", \"ohm\", \"nH\", \"fF\", \"mSie\", 5000000000, Maxwell, 3, False\n",
      "INFO 02:43PM [get_matrix]: Exporting matrix data to (C:\\Temp\\tmpp_efg0m5.txt, C, , QubitTune:AdaptivePass, \"Original\", \"ohm\", \"nH\", \"fF\", \"mSie\", 5000000000, Maxwell, 4, False\n",
      "INFO 02:43PM [get_matrix]: Exporting matrix data to (C:\\Temp\\tmp8dmj8by6.txt, C, , QubitTune:AdaptivePass, \"Original\", \"ohm\", \"nH\", \"fF\", \"mSie\", 5000000000, Maxwell, 5, False\n",
      "INFO 02:43PM [get_matrix]: Exporting matrix data to (C:\\Temp\\tmp4zb0_s95.txt, C, , QubitTune:AdaptivePass, \"Original\", \"ohm\", \"nH\", \"fF\", \"mSie\", 5000000000, Maxwell, 6, False\n",
      "INFO 02:43PM [get_matrix]: Exporting matrix data to (C:\\Temp\\tmp2o5emhol.txt, C, , QubitTune:AdaptivePass, \"Original\", \"ohm\", \"nH\", \"fF\", \"mSie\", 5000000000, Maxwell, 7, False\n",
      "INFO 02:43PM [get_matrix]: Exporting matrix data to (C:\\Temp\\tmpx_wga2a1.txt, C, , QubitTune:AdaptivePass, \"Original\", \"ohm\", \"nH\", \"fF\", \"mSie\", 5000000000, Maxwell, 8, False\n"
     ]
    },
    {
     "name": "stdout",
     "output_type": "stream",
     "text": [
      "[3, 4] [5 0 1]\n",
      "Predicted Values\n",
      "\n",
      "Transmon Properties\n",
      "f_Q 5.103580 [GHz]\n",
      "EC 317.158863 [MHz]\n",
      "EJ 11.671114 [GHz]\n",
      "alpha -375.645657 [MHz]\n",
      "dispersion 141.321241 [KHz]\n",
      "Lq 13.994355 [nH]\n",
      "Cq 61.074213 [fF]\n",
      "T1 145.013463 [us]\n",
      "\n",
      "**Coupling Properties**\n",
      "\n",
      "tCqbus1 -5.854708 [fF]\n",
      "gbus1_in_MHz -89.043105 [MHz]\n",
      "χ_bus1 -1.424427 [MHz]\n",
      "1/T1bus1 1097.518141 [Hz]\n",
      "T1bus1 145.013496 [us]\n",
      "\n",
      "tCqbus2 5.863611 [fF]\n",
      "gbus2_in_MHz 1.279706 [MHz]\n",
      "χ_bus2 -0.000102 [MHz]\n",
      "1/T1bus2 0.000252 [Hz]\n",
      "T1bus2 632348074.375496 [us]\n",
      "\n",
      "tCqbus3 0.046159 [fF]\n",
      "gbus3_in_MHz 0.010075 [MHz]\n",
      "χ_bus3 -0.000000 [MHz]\n",
      "1/T1bus3 0.000000 [Hz]\n",
      "T1bus3 10202986219710.083984 [us]\n",
      "Bus-Bus Couplings\n",
      "gbus1_2 0.095991 [MHz]\n",
      "gbus1_3 0.004398 [MHz]\n",
      "gbus2_3 0.000038 [MHz]\n"
     ]
    }
   ],
   "source": [
    "#dict_lom = fourq_q3d.lumped_oscillator_vs_passes(Lj, Cj ~ 2 fF, N- total number of connectionPads, fr (readout frequency),\n",
    "# [fb1,fb2,.... fbN-1] - list of the bus frequencies, maxPass - how many passes did Ansys Q3D take)\n",
    "# In our case, the last element in the bus list refers to the charge line\n",
    "\n",
    "dict_lom = qhk21_q3d.lumped_oscillator_vs_passes(14, 2, 3, 7, [0.1, 0.1], 9)"
   ]
  },
  {
   "cell_type": "code",
   "execution_count": 25,
   "metadata": {},
   "outputs": [
    {
     "name": "stderr",
     "output_type": "stream",
     "text": [
      "INFO 02:43PM [hfss_report_full_convergence]: Creating report for variation 0\n"
     ]
    },
    {
     "name": "stdout",
     "output_type": "stream",
     "text": [
      "Design \"Qubit1\" info:\n",
      "\t# eigenmodes    0\n",
      "\t# variations    1\n"
     ]
    },
    {
     "data": {
      "text/plain": [
       "<Figure size 2970x1155 with 2 Axes>"
      ]
     },
     "execution_count": 25,
     "metadata": {},
     "output_type": "execute_result"
    }
   ],
   "source": [
    "qhk21_q3d.plot_convergence_main(dict_lom);\n",
    "qhk21_q3d.plot_convergence_chi(dict_lom)"
   ]
  },
  {
   "cell_type": "markdown",
   "metadata": {},
   "source": [
    "Looking at the convergences, we can see that we did not have enough passes for the simulation. In this case, we want to modify our simulation setup, 'QubitTune', to improve our convergence."
   ]
  },
  {
   "cell_type": "markdown",
   "metadata": {},
   "source": [
    "Using these results, we can make appropriate changes to our qubit layout. Say our anharmonicity/alpha is higher than we want? Since we know Ec~ 1/C, we can change parts of the transmon pocket to lower the total capacitance seen across the junction.\n",
    "If g to the bus is too low, we can increase the width of the connection pad so that the capacitance between the connection pad and charge island is greater.\n",
    "\n",
    "One must also keep in mind that any such changes will impact the other parameters, so careful tweaks and iterations of simulation/analysis often end up being necessary.\n",
    "\n",
    "If wanting to make changes and re-render your design, you first should clear your current design."
   ]
  },
  {
   "cell_type": "code",
   "execution_count": 26,
   "metadata": {},
   "outputs": [],
   "source": [
    "if qhk21_q3d.pinfo is not None:\n",
    "    obj_names = qhk21_q3d.pinfo.get_all_object_names()\n",
    "    if obj_names:\n",
    "        qhk21_q3d.clean_active_design()"
   ]
  },
  {
   "cell_type": "markdown",
   "metadata": {},
   "source": [
    "When done with all the simulations, you can disconnect from Ansys EDT."
   ]
  },
  {
   "cell_type": "code",
   "execution_count": 27,
   "metadata": {},
   "outputs": [],
   "source": [
    "qhk21_q3d.disconnect_ansys()"
   ]
  },
  {
   "cell_type": "markdown",
   "metadata": {},
   "source": [
    "#### Qubits and EPR"
   ]
  },
  {
   "cell_type": "markdown",
   "metadata": {},
   "source": [
    "Now, although the previous simulation and analysis captured all of the parameters of the qubits and coupling to the bus, a more accurate (all be it slower) approach is to render the qubits and their coupling into an eigenmode simulation and perform EPR analysis on the result.\n",
    "\n",
    "We again first setup an instance of an eigenmode render;"
   ]
  },
  {
   "cell_type": "code",
   "execution_count": 28,
   "metadata": {},
   "outputs": [],
   "source": [
    "qhk21_ehfss = design.renderers.hfss"
   ]
  },
  {
   "cell_type": "code",
   "execution_count": null,
   "metadata": {},
   "outputs": [],
   "source": [
    "#If you don't already have ansys open: \n",
    "#qhk21_ehfss.open_ansys() "
   ]
  },
  {
   "cell_type": "markdown",
   "metadata": {},
   "source": [
    "*Make sure Ansys is fully opened and you have dealt with any pop up boxes before proceeding*"
   ]
  },
  {
   "cell_type": "code",
   "execution_count": null,
   "metadata": {},
   "outputs": [],
   "source": [
    "#If you open Ansys manually, uncomment the code below to add a project.\n",
    "#qhk21_ehfss.new_ansys_project()"
   ]
  },
  {
   "cell_type": "code",
   "execution_count": 29,
   "metadata": {},
   "outputs": [
    {
     "name": "stderr",
     "output_type": "stream",
     "text": [
      "INFO 02:43PM [connect_project]: Connecting to Ansys Desktop API...\n",
      "INFO 02:43PM [load_ansys_project]: \tOpened Ansys App\n",
      "INFO 02:43PM [load_ansys_project]: \tOpened Ansys Desktop v2020.2.0\n",
      "INFO 02:43PM [load_ansys_project]: \tOpened Ansys Project\n",
      "\tFolder:    C:/Ansoft/\n",
      "\tProject:   Project16\n",
      "INFO 02:43PM [connect_design]: \tOpened active design\n",
      "\tDesign:    Qubit1 [Solution type: Q3D]\n",
      "INFO 02:43PM [get_setup]: \tOpened setup `Setup`  (<class 'pyEPR.ansys.AnsysQ3DSetup'>)\n",
      "INFO 02:43PM [connect]: \tConnected to project \"Project16\" and design \"Qubit1\" 😀 \n",
      "\n"
     ]
    }
   ],
   "source": [
    "qhk21_ehfss.connect_ansys()"
   ]
  },
  {
   "cell_type": "code",
   "execution_count": 30,
   "metadata": {},
   "outputs": [
    {
     "name": "stderr",
     "output_type": "stream",
     "text": [
      "02:43PM 52s WARNING [activate_eigenmode_design]: The name=Q1_Q2_Bus was not in active project.  A new design will be inserted to the project.  Names in active project are: \n",
      "['Qubit1'].  \n",
      "INFO 02:43PM [connect_design]: \tOpened active design\n",
      "\tDesign:    Q1_Q2_Bus [Solution type: Eigenmode]\n",
      "WARNING 02:43PM [connect_setup]: \tNo design setup detected.\n",
      "WARNING 02:43PM [connect_setup]: \tCreating eigenmode default setup.\n",
      "INFO 02:43PM [get_setup]: \tOpened setup `Setup`  (<class 'pyEPR.ansys.HfssEMSetup'>)\n"
     ]
    }
   ],
   "source": [
    "qhk21_ehfss.activate_eigenmode_design(\"Q1_Q2_Bus\")"
   ]
  },
  {
   "cell_type": "code",
   "execution_count": 31,
   "metadata": {},
   "outputs": [
    {
     "name": "stderr",
     "output_type": "stream",
     "text": [
      "INFO 02:43PM [get_setup]: \tOpened setup `QubitTune`  (<class 'pyEPR.ansys.HfssEMSetup'>)\n"
     ]
    }
   ],
   "source": [
    "qhk21_ehfss.add_eigenmode_setup(name='QubitTune', \n",
    "                                min_freq_ghz=3, \n",
    "                                n_modes=3, \n",
    "                                max_passes=11)\n",
    "qhk21_ehfss.activate_eigenmode_setup('QubitTune')"
   ]
  },
  {
   "cell_type": "markdown",
   "metadata": {},
   "source": [
    "In this instance an analysis setup was automatically added, so we can just access that one and make the changes to the simulation that we want."
   ]
  },
  {
   "cell_type": "code",
   "execution_count": 32,
   "metadata": {},
   "outputs": [],
   "source": [
    "e_setup = qhk21_ehfss.pinfo.setup\n",
    "e_setup.passes = 12\n",
    "e_setup.n_modes = 2\n",
    "e_setup.max_delta_f = 0.1\n",
    "e_setup.min_converged = 2"
   ]
  },
  {
   "cell_type": "markdown",
   "metadata": {},
   "source": [
    "Then render both qubits, and the coupling transmission line. We leave the readout connection pads and charge lines shorted."
   ]
  },
  {
   "cell_type": "code",
   "execution_count": 33,
   "metadata": {},
   "outputs": [],
   "source": [
    "qhk21_ehfss.render_design(['Bus_Q1_Q2', 'Q1', 'Q2'], [])"
   ]
  },
  {
   "cell_type": "markdown",
   "metadata": {},
   "source": [
    "Design variables can also be added in for direct simulation sweeps."
   ]
  },
  {
   "cell_type": "code",
   "execution_count": 34,
   "metadata": {},
   "outputs": [
    {
     "data": {
      "text/plain": [
       "'Cj2'"
      ]
     },
     "execution_count": 34,
     "metadata": {},
     "output_type": "execute_result"
    }
   ],
   "source": [
    "e_design = qhk21_ehfss.pinfo.design\n",
    "e_design.set_variable('Lj1', '14 nH')\n",
    "e_design.set_variable('Cj1', '0 fF')\n",
    "e_design.set_variable('Lj2', '12 nH')\n",
    "e_design.set_variable('Cj2', '0 fF')"
   ]
  },
  {
   "cell_type": "code",
   "execution_count": 35,
   "metadata": {},
   "outputs": [
    {
     "name": "stderr",
     "output_type": "stream",
     "text": [
      "INFO 02:44PM [get_setup]: \tOpened setup `QubitTune`  (<class 'pyEPR.ansys.HfssEMSetup'>)\n",
      "INFO 02:44PM [analyze]: Analyzing setup QubitTune\n"
     ]
    }
   ],
   "source": [
    "qhk21_ehfss.analyze_setup(\"QubitTune\")"
   ]
  },
  {
   "cell_type": "markdown",
   "metadata": {},
   "source": [
    "Once completed, we can check the convergence to see if more passes might be necessary."
   ]
  },
  {
   "cell_type": "code",
   "execution_count": 36,
   "metadata": {},
   "outputs": [
    {
     "name": "stderr",
     "output_type": "stream",
     "text": [
      "02:45PM 42s INFO [hfss_report_f_convergence]: Saved convergences to C:\\workspace\\qiskit-metal\\docs\\circuit-examples\\full-design-flow-examples\\hfss_eig_f_convergence.csv\n"
     ]
    }
   ],
   "source": [
    "qhk21_ehfss.plot_convergences()"
   ]
  },
  {
   "cell_type": "markdown",
   "metadata": {},
   "source": [
    "This eigenmode simulation is also a quick method to check for any bus or readout resonator frequencies. \n",
    "If happy with the simulation, we can then jump to some EPR analysis"
   ]
  },
  {
   "cell_type": "code",
   "execution_count": 37,
   "metadata": {},
   "outputs": [],
   "source": [
    "import pyEPR as epr"
   ]
  },
  {
   "cell_type": "code",
   "execution_count": 38,
   "metadata": {},
   "outputs": [
    {
     "name": "stdout",
     "output_type": "stream",
     "text": [
      "Design \"Q1_Q2_Bus\" info:\n",
      "\t# eigenmodes    2\n",
      "\t# variations    1\n"
     ]
    }
   ],
   "source": [
    "pinfo = qhk21_ehfss.pinfo\n",
    "pinfo.junctions['jj1'] = {'Lj_variable': 'Lj1', 'rect': 'JJ_rect_Lj_Q1_rect_jj', \n",
    "                             'line': 'JJ_Lj_Q1_rect_jj_',  'Cj_variable': 'Cj1'}\n",
    "pinfo.junctions['jj2'] = {'Lj_variable': 'Lj2', 'rect': 'JJ_rect_Lj_Q2_rect_jj', \n",
    "                             'line': 'JJ_Lj_Q2_rect_jj_',  'Cj_variable': 'Cj2'}\n",
    "pinfo.validate_junction_info() # Checks that valid names of variables and objects have been supplied\n",
    "\n",
    "#Specifying the dissipative elements\n",
    "pinfo.dissipative['dielectrics_bulk']    = ['main']\n",
    "\n",
    "eprd = epr.DistributedAnalysis(pinfo)"
   ]
  },
  {
   "cell_type": "markdown",
   "metadata": {},
   "source": [
    "We can first look at the electric field and subtrate participation."
   ]
  },
  {
   "cell_type": "code",
   "execution_count": 39,
   "metadata": {},
   "outputs": [
    {
     "name": "stdout",
     "output_type": "stream",
     "text": [
      "\n",
      "ℰ_elec_all       = 5.3687272453687e-24\n",
      "ℰ_elec_substrate = 4.94324761113038e-24\n",
      "EPR of substrate = 92.1%\n",
      "\n",
      "ℰ_mag_all       = 2.37622214119075e-26\n",
      "ℰ_mag % of ℰ_elec_all  = 0.4%\n",
      "\n"
     ]
    }
   ],
   "source": [
    "eprd.set_mode(1)\n",
    "ℰ_elec = eprd.calc_energy_electric()\n",
    "ℰ_elec_substrate = eprd.calc_energy_electric(None, 'main')\n",
    "ℰ_mag = eprd.calc_energy_magnetic()\n",
    "\n",
    "print(f\"\"\"\n",
    "ℰ_elec_all       = {ℰ_elec}\n",
    "ℰ_elec_substrate = {ℰ_elec_substrate}\n",
    "EPR of substrate = {ℰ_elec_substrate / ℰ_elec * 100 :.1f}%\n",
    "\n",
    "ℰ_mag_all       = {ℰ_mag}\n",
    "ℰ_mag % of ℰ_elec_all  = {ℰ_mag / ℰ_elec * 100 :.1f}%\n",
    "\"\"\")"
   ]
  },
  {
   "cell_type": "code",
   "execution_count": 40,
   "metadata": {},
   "outputs": [
    {
     "name": "stdout",
     "output_type": "stream",
     "text": [
      "\n",
      "Variation 0  [1/1]\n",
      "\n",
      "  \u001b[1mMode 0 at 5.30 GHz   [1/2]\u001b[0m\n",
      "    Calculating ℰ_magnetic,ℰ_electric\n",
      "       (ℰ_E-ℰ_H)/ℰ_E       ℰ_E       ℰ_H\n",
      "               99.6%  1.563e-24 5.845e-27\n",
      "\n",
      "    Calculating junction energy participation ration (EPR)\n",
      "\tmethod=`line_voltage`. First estimates:\n",
      "\tjunction        EPR p_0j   sign s_0j    (p_capacitive)\n",
      "\t\tEnergy fraction (Lj over Lj&Cj)= 96.99%\n",
      "\tjj1             0.994948  (+)        0.0308913\n",
      "\t\tEnergy fraction (Lj over Lj&Cj)= 97.41%\n",
      "\tjj2             8.49551e-05  (+)        2.26089e-06\n",
      "\t\t(U_tot_cap-U_tot_ind)/mean=1.58%\n",
      "Calculating Qdielectric_main for mode 0 (0/1)\n",
      "p_dielectric_main_0 = 0.9203050785555449\n",
      "\n",
      "  \u001b[1mMode 1 at 5.73 GHz   [2/2]\u001b[0m\n",
      "    Calculating ℰ_magnetic,ℰ_electric\n",
      "       (ℰ_E-ℰ_H)/ℰ_E       ℰ_E       ℰ_H\n",
      "               99.6%  2.684e-24 1.188e-26\n",
      "\n",
      "    Calculating junction energy participation ration (EPR)\n",
      "\tmethod=`line_voltage`. First estimates:\n",
      "\tjunction        EPR p_1j   sign s_1j    (p_capacitive)\n",
      "\t\tEnergy fraction (Lj over Lj&Cj)= 96.49%\n",
      "\tjj1             8.65794e-05  (+)        3.14516e-06\n",
      "\t\tEnergy fraction (Lj over Lj&Cj)= 96.98%\n",
      "\tjj2             0.994768  (+)        0.0309744\n",
      "\t\t(U_tot_cap-U_tot_ind)/mean=1.56%\n",
      "Calculating Qdielectric_main for mode 1 (1/1)\n",
      "p_dielectric_main_1 = 0.9207485098809298\n"
     ]
    },
    {
     "name": "stderr",
     "output_type": "stream",
     "text": [
      "WARNING 02:46PM [__init__]: <p>Error: <class 'IndexError'></p>\n"
     ]
    },
    {
     "name": "stdout",
     "output_type": "stream",
     "text": [
      "\n",
      "ANALYSIS DONE. Data saved to:\n",
      "\n",
      "C:\\data-pyEPR\\Project16\\Q1_Q2_Bus\\2021-06-25 14-45-46.npz\n",
      "\n",
      "\n",
      "\t Differences in variations:\n",
      "\n",
      "\n",
      "\n",
      " . . . . . . . . . . . . . . . . . . . . . . . . . . . . . . . . . . . . . . . . \n",
      "Variation 0\n",
      "\n",
      "Starting the diagonalization\n",
      "Finished the diagonalization\n",
      "Pm_norm=\n",
      "modes\n",
      "0    1.032222\n",
      "1    1.031792\n",
      "dtype: float64\n",
      "\n",
      "Pm_norm idx =\n",
      "     jj1    jj2\n",
      "0   True  False\n",
      "1  False   True\n",
      "*** P (participation matrix, not normlz.)\n",
      "        jj1       jj2\n",
      "0  0.965131  0.000082\n",
      "1  0.000084  0.964878\n",
      "\n",
      "*** S (sign-bit matrix)\n",
      "   s_jj1  s_jj2\n",
      "0      1      1\n",
      "1      1      1\n",
      "*** P (participation matrix, normalized.)\n",
      "         1  8.2e-05\n",
      "   8.4e-05        1\n",
      "\n",
      "*** Chi matrix O1 PT (MHz)\n",
      "    Diag is anharmonicity, off diag is full cross-Kerr.\n",
      "       298      0.1\n",
      "       0.1      299\n",
      "\n",
      "*** Chi matrix ND (MHz) \n",
      "       317      1.3\n",
      "       1.3      315\n",
      "\n",
      "*** Frequencies O1 PT (MHz)\n",
      "0    5001.301318\n",
      "1    5433.701012\n",
      "dtype: float64\n",
      "\n",
      "*** Frequencies ND (MHz)\n",
      "0    4983.306983\n",
      "1    5417.256603\n",
      "dtype: float64\n",
      "\n",
      "*** Q_coupling\n",
      "Empty DataFrame\n",
      "Columns: []\n",
      "Index: [0, 1]\n"
     ]
    },
    {
     "data": {
      "text/markdown": [
       "#### Mode frequencies (MHz)"
      ],
      "text/plain": [
       "<IPython.core.display.Markdown object>"
      ]
     },
     "metadata": {},
     "output_type": "display_data"
    },
    {
     "data": {
      "text/markdown": [
       "###### Numerical diagonalization"
      ],
      "text/plain": [
       "<IPython.core.display.Markdown object>"
      ]
     },
     "metadata": {},
     "output_type": "display_data"
    },
    {
     "data": {
      "text/html": [
       "<div>\n",
       "<style scoped>\n",
       "    .dataframe tbody tr th:only-of-type {\n",
       "        vertical-align: middle;\n",
       "    }\n",
       "\n",
       "    .dataframe tbody tr th {\n",
       "        vertical-align: top;\n",
       "    }\n",
       "\n",
       "    .dataframe thead th {\n",
       "        text-align: right;\n",
       "    }\n",
       "</style>\n",
       "<table border=\"1\" class=\"dataframe\">\n",
       "  <thead>\n",
       "    <tr style=\"text-align: right;\">\n",
       "      <th>Lj1</th>\n",
       "      <th>14</th>\n",
       "    </tr>\n",
       "    <tr>\n",
       "      <th>eigenmode</th>\n",
       "      <th></th>\n",
       "    </tr>\n",
       "  </thead>\n",
       "  <tbody>\n",
       "    <tr>\n",
       "      <th>0</th>\n",
       "      <td>5001.3</td>\n",
       "    </tr>\n",
       "    <tr>\n",
       "      <th>1</th>\n",
       "      <td>5433.7</td>\n",
       "    </tr>\n",
       "  </tbody>\n",
       "</table>\n",
       "</div>"
      ],
      "text/plain": [
       "Lj1            14\n",
       "eigenmode        \n",
       "0          5001.3\n",
       "1          5433.7"
      ]
     },
     "metadata": {},
     "output_type": "display_data"
    },
    {
     "data": {
      "text/markdown": [
       "#### Kerr Non-linear coefficient table (MHz)"
      ],
      "text/plain": [
       "<IPython.core.display.Markdown object>"
      ]
     },
     "metadata": {},
     "output_type": "display_data"
    },
    {
     "data": {
      "text/markdown": [
       "###### Numerical diagonalization"
      ],
      "text/plain": [
       "<IPython.core.display.Markdown object>"
      ]
     },
     "metadata": {},
     "output_type": "display_data"
    },
    {
     "data": {
      "text/html": [
       "<div>\n",
       "<style scoped>\n",
       "    .dataframe tbody tr th:only-of-type {\n",
       "        vertical-align: middle;\n",
       "    }\n",
       "\n",
       "    .dataframe tbody tr th {\n",
       "        vertical-align: top;\n",
       "    }\n",
       "\n",
       "    .dataframe thead th {\n",
       "        text-align: right;\n",
       "    }\n",
       "</style>\n",
       "<table border=\"1\" class=\"dataframe\">\n",
       "  <thead>\n",
       "    <tr style=\"text-align: right;\">\n",
       "      <th></th>\n",
       "      <th></th>\n",
       "      <th>0</th>\n",
       "      <th>1</th>\n",
       "    </tr>\n",
       "    <tr>\n",
       "      <th>Lj1</th>\n",
       "      <th></th>\n",
       "      <th></th>\n",
       "      <th></th>\n",
       "    </tr>\n",
       "  </thead>\n",
       "  <tbody>\n",
       "    <tr>\n",
       "      <th rowspan=\"2\" valign=\"top\">14</th>\n",
       "      <th>0</th>\n",
       "      <td>316.78</td>\n",
       "      <td>1.3</td>\n",
       "    </tr>\n",
       "    <tr>\n",
       "      <th>1</th>\n",
       "      <td>1.30</td>\n",
       "      <td>315.3</td>\n",
       "    </tr>\n",
       "  </tbody>\n",
       "</table>\n",
       "</div>"
      ],
      "text/plain": [
       "            0      1\n",
       "Lj1                 \n",
       "14  0  316.78    1.3\n",
       "    1    1.30  315.3"
      ]
     },
     "metadata": {},
     "output_type": "display_data"
    }
   ],
   "source": [
    "eprd.do_EPR_analysis()\n",
    "\n",
    "epra = epr.QuantumAnalysis(eprd.data_filename)\n",
    "epra.analyze_all_variations(cos_trunc = 7, fock_trunc = 6)\n",
    "\n",
    "swp_variable = 'Lj1' # suppose we swept an optimetric analysis vs. inductance Lj\n",
    "epra.plot_hamiltonian_results(swp_variable=swp_variable)\n",
    "epra.report_results(swp_variable=swp_variable, numeric=True)"
   ]
  },
  {
   "cell_type": "markdown",
   "metadata": {},
   "source": [
    "From the analysis results we can determine the qubits anharmonicities and coupling strength."
   ]
  },
  {
   "cell_type": "markdown",
   "metadata": {},
   "source": [
    "Other analysis is still being added, such as the impedance analysis, though some already be done manually by renderering to a driven modal simulation and performing frequency sweeps to extract the S-Parameters or Impedance matrix. This would be an easy way to, say, determine the external quality factor of a readout resonator. *See guide 6-Analysis*\n",
    "\n",
    "Once the analysis and tuning is complete, we can disconnect from Ansys EDT."
   ]
  },
  {
   "cell_type": "code",
   "execution_count": 41,
   "metadata": {},
   "outputs": [],
   "source": [
    "qhk21_ehfss.disconnect_ansys()"
   ]
  },
  {
   "cell_type": "markdown",
   "metadata": {},
   "source": [
    "### Rendering to a GDS File"
   ]
  },
  {
   "cell_type": "markdown",
   "metadata": {},
   "source": [
    "Once all of the tuning is complete, we will want to prepare a GDS file so we can create a mask and fabricate our chip. We first create a gds render instance."
   ]
  },
  {
   "cell_type": "code",
   "execution_count": 42,
   "metadata": {},
   "outputs": [],
   "source": [
    "qhk21_gds = design.renderers.gds"
   ]
  },
  {
   "cell_type": "markdown",
   "metadata": {},
   "source": [
    "The various options for the gds renderer can also be checked and changed as necessary. A key option is the gds file which holds the cells for your junction ebeam design. Make sure this is pointing at the correct file so they are placed in your final mask at the appropriate locations."
   ]
  },
  {
   "cell_type": "code",
   "execution_count": 43,
   "metadata": {
    "scrolled": false
   },
   "outputs": [
    {
     "data": {
      "text/plain": [
       "{'short_segments_to_not_fillet': 'True',\n",
       " 'check_short_segments_by_scaling_fillet': '2.0',\n",
       " 'gds_unit': 0.001,\n",
       " 'ground_plane': 'True',\n",
       " 'negative_mask': {'main': []},\n",
       " 'corners': 'circular bend',\n",
       " 'tolerance': '0.00001',\n",
       " 'precision': '0.000000001',\n",
       " 'width_LineString': '10um',\n",
       " 'path_filename': '../resources/Fake_Junctions.GDS',\n",
       " 'junction_pad_overlap': '5um',\n",
       " 'max_points': '199',\n",
       " 'cheese': {'datatype': '100',\n",
       "  'shape': '0',\n",
       "  'cheese_0_x': '25um',\n",
       "  'cheese_0_y': '25um',\n",
       "  'cheese_1_radius': '100um',\n",
       "  'view_in_file': {'main': {1: True}},\n",
       "  'delta_x': '100um',\n",
       "  'delta_y': '100um',\n",
       "  'edge_nocheese': '200um'},\n",
       " 'no_cheese': {'datatype': '99',\n",
       "  'buffer': '25um',\n",
       "  'cap_style': '2',\n",
       "  'join_style': '2',\n",
       "  'view_in_file': {'main': {1: True}}},\n",
       " 'bounding_box_scale_x': '1.2',\n",
       " 'bounding_box_scale_y': '1.2'}"
      ]
     },
     "execution_count": 43,
     "metadata": {},
     "output_type": "execute_result"
    }
   ],
   "source": [
    "qhk21_gds.options"
   ]
  },
  {
   "cell_type": "code",
   "execution_count": 44,
   "metadata": {},
   "outputs": [],
   "source": [
    "qhk21_gds.options['path_filename'] = '../resources/Fake_Junctions.GDS'\n",
    "qhk21_gds.options['no_cheese']['buffer']='50um'"
   ]
  },
  {
   "cell_type": "code",
   "execution_count": 45,
   "metadata": {},
   "outputs": [
    {
     "data": {
      "text/plain": [
       "1"
      ]
     },
     "execution_count": 45,
     "metadata": {},
     "output_type": "execute_result"
    }
   ],
   "source": [
    "qhk21_gds.export_to_gds('QHK21_Tutorial.gds')"
   ]
  },
  {
   "cell_type": "markdown",
   "metadata": {},
   "source": [
    "Now that the design is finished, we can close the GUI."
   ]
  },
  {
   "cell_type": "code",
   "execution_count": 46,
   "metadata": {},
   "outputs": [
    {
     "data": {
      "text/plain": [
       "True"
      ]
     },
     "execution_count": 46,
     "metadata": {},
     "output_type": "execute_result"
    }
   ],
   "source": [
    "gui.main_window.close()"
   ]
  },
  {
   "cell_type": "code",
   "execution_count": null,
   "metadata": {},
   "outputs": [],
   "source": []
  }
 ],
 "metadata": {
  "celltoolbar": "Tags",
  "kernelspec": {
   "display_name": "Python 3",
   "language": "python",
   "name": "python3"
  },
  "language_info": {
   "codemirror_mode": {
    "name": "ipython",
    "version": 3
   },
   "file_extension": ".py",
   "mimetype": "text/x-python",
   "name": "python",
   "nbconvert_exporter": "python",
   "pygments_lexer": "ipython3",
   "version": "3.7.8"
  }
 },
 "nbformat": 4,
 "nbformat_minor": 4
}
