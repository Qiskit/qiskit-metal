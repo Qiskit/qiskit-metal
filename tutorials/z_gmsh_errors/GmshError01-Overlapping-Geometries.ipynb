{
 "cells": [
  {
   "cell_type": "code",
   "execution_count": 1,
   "id": "29082059",
   "metadata": {},
   "outputs": [],
   "source": [
    "from qiskit_metal import designs, MetalGUI\n",
    "from qiskit_metal.qlibrary.sample_shapes.rectangle import Rectangle\n",
    "from qiskit_metal.qlibrary.sample_shapes.circle_raster import CircleRaster"
   ]
  },
  {
   "cell_type": "code",
   "execution_count": 2,
   "id": "3ea2fcb2",
   "metadata": {},
   "outputs": [],
   "source": [
    "# all dims in um\n",
    "via_rad = 10\n",
    "via_base_rad = via_rad+5\n",
    "stub_width = 10\n",
    "stub_length = 250\n",
    "stub_subs_margin = 6"
   ]
  },
  {
   "cell_type": "code",
   "execution_count": 3,
   "id": "f6af5133",
   "metadata": {},
   "outputs": [],
   "source": [
    "design = designs.MultiPlanar({}, overwrite_enabled=True, layer_stack_filename=\"via_layer_stack.txt\")\n",
    "gui = MetalGUI(design)"
   ]
  },
  {
   "cell_type": "code",
   "execution_count": 4,
   "id": "8998259f",
   "metadata": {},
   "outputs": [],
   "source": [
    "design.chips.main.size.size_x = '1mm'\n",
    "design.chips.main.size.size_y = '1mm'\n",
    "design.variables.sample_holder_top = '320um'\n",
    "design.variables.sample_holder_bottom = '200um'"
   ]
  },
  {
   "cell_type": "code",
   "execution_count": 5,
   "id": "7bcff38c",
   "metadata": {},
   "outputs": [
    {
     "data": {
      "text/html": [
       "<div>\n",
       "<style scoped>\n",
       "    .dataframe tbody tr th:only-of-type {\n",
       "        vertical-align: middle;\n",
       "    }\n",
       "\n",
       "    .dataframe tbody tr th {\n",
       "        vertical-align: top;\n",
       "    }\n",
       "\n",
       "    .dataframe thead th {\n",
       "        text-align: right;\n",
       "    }\n",
       "</style>\n",
       "<table border=\"1\" class=\"dataframe\">\n",
       "  <thead>\n",
       "    <tr style=\"text-align: right;\">\n",
       "      <th></th>\n",
       "      <th>chip_name</th>\n",
       "      <th>layer</th>\n",
       "      <th>datatype</th>\n",
       "      <th>material</th>\n",
       "      <th>thickness</th>\n",
       "      <th>z_coord</th>\n",
       "      <th>fill</th>\n",
       "    </tr>\n",
       "  </thead>\n",
       "  <tbody>\n",
       "    <tr>\n",
       "      <th>0</th>\n",
       "      <td>'main'</td>\n",
       "      <td>1</td>\n",
       "      <td>0</td>\n",
       "      <td>'pec'</td>\n",
       "      <td>'5um'</td>\n",
       "      <td>'0um'</td>\n",
       "      <td>'True'</td>\n",
       "    </tr>\n",
       "    <tr>\n",
       "      <th>1</th>\n",
       "      <td>'main'</td>\n",
       "      <td>2</td>\n",
       "      <td>0</td>\n",
       "      <td>'pec'</td>\n",
       "      <td>'10um'</td>\n",
       "      <td>'5um'</td>\n",
       "      <td>'True'</td>\n",
       "    </tr>\n",
       "    <tr>\n",
       "      <th>2</th>\n",
       "      <td>'main'</td>\n",
       "      <td>3</td>\n",
       "      <td>0</td>\n",
       "      <td>'pec'</td>\n",
       "      <td>'5um'</td>\n",
       "      <td>'15um'</td>\n",
       "      <td>'True'</td>\n",
       "    </tr>\n",
       "    <tr>\n",
       "      <th>3</th>\n",
       "      <td>'main'</td>\n",
       "      <td>4</td>\n",
       "      <td>0</td>\n",
       "      <td>'silicon'</td>\n",
       "      <td>'-200um'</td>\n",
       "      <td>'0um'</td>\n",
       "      <td>'True'</td>\n",
       "    </tr>\n",
       "  </tbody>\n",
       "</table>\n",
       "</div>"
      ],
      "text/plain": [
       "  chip_name  layer  datatype   material thickness z_coord    fill\n",
       "0    'main'      1         0      'pec'     '5um'   '0um'  'True'\n",
       "1    'main'      2         0      'pec'    '10um'   '5um'  'True'\n",
       "2    'main'      3         0      'pec'     '5um'  '15um'  'True'\n",
       "3    'main'      4         0  'silicon'  '-200um'   '0um'  'True'"
      ]
     },
     "execution_count": 5,
     "metadata": {},
     "output_type": "execute_result"
    }
   ],
   "source": [
    "design.ls.ls_df"
   ]
  },
  {
   "cell_type": "code",
   "execution_count": 6,
   "id": "e8f147c0",
   "metadata": {},
   "outputs": [],
   "source": [
    "design.delete_all_components()"
   ]
  },
  {
   "cell_type": "code",
   "execution_count": 7,
   "id": "3a6e4cf7",
   "metadata": {},
   "outputs": [],
   "source": [
    "# Layer1 definitions\n",
    "\n",
    "\n",
    "# stub1 metal options\n",
    "stub1_met_ops = { 'width': str(stub_length-via_base_rad)+'um',\n",
    "                  'height': str(stub_width)+'um',\n",
    "                  'pos_x': str(-stub_length/2-stub_length/2-via_base_rad/2)+'um',\n",
    "                  'pos_y': '0',\n",
    "                  'orientation': '0',\n",
    "                  'subtract': 'False',\n",
    "                  'helper': 'False',\n",
    "                  'chip': 'main',\n",
    "                  'layer': '1' }\n",
    "\n",
    "stub1_subs_ops = { 'width': str(stub_length-via_base_rad)+'um',\n",
    "                  'height': str(stub_width+stub_subs_margin)+'um',\n",
    "                  'pos_x': str(-stub_length/2-stub_length/2-via_base_rad/2)+'um',\n",
    "                  'pos_y': '0',\n",
    "                  'orientation': '0',\n",
    "                  'subtract': 'True',\n",
    "                  'helper': 'False',\n",
    "                  'chip': 'main',\n",
    "                  'layer': '1' }\n",
    "\n",
    "# bottom via metal options\n",
    "via_bot_met_ops = { 'radius': str(via_base_rad)+'um',\n",
    "                    'resolution': '16',\n",
    "                    'pos_x': str(-stub_length/2-via_base_rad/2)+'um',\n",
    "                    'pos_y': '0',\n",
    "                    'subtract': 'False',\n",
    "                    'helper': 'False',\n",
    "                    'chip': 'main',\n",
    "                    'layer': '1' }\n",
    "\n",
    "# bottom via subs options\n",
    "via_bot_subs_ops = { 'radius': str(via_base_rad+stub_subs_margin)+'um',\n",
    "                    'resolution': '16',\n",
    "                    'pos_x': str(-stub_length/2-via_base_rad/2)+'um',\n",
    "                    'pos_y': '0',\n",
    "                    'subtract': 'True',\n",
    "                    'helper': 'False',\n",
    "                    'chip': 'main',\n",
    "                    'layer': '1' }\n",
    "\n",
    "Rectangle(design, 'stub1_met', stub1_met_ops)\n",
    "Rectangle(design, 'stub1_subs', stub1_subs_ops)\n",
    "CircleRaster(design, 'via_bot_met', via_bot_met_ops)\n",
    "CircleRaster(design, 'via_bot_subs', via_bot_subs_ops)\n",
    "gui.rebuild()"
   ]
  },
  {
   "cell_type": "code",
   "execution_count": 8,
   "id": "2240da70",
   "metadata": {},
   "outputs": [],
   "source": [
    "# Layer2 definitions\n",
    "\n",
    "# via metal options\n",
    "via_met_ops = { 'radius': str(via_rad)+'um',\n",
    "                'resolution': '16',\n",
    "                'pos_x': str(-stub_length/2-via_base_rad/2)+'um',\n",
    "                'pos_y': '0',\n",
    "                'subtract': 'False',\n",
    "                'helper': 'False',\n",
    "                'chip': 'main',\n",
    "                'layer': '2' }\n",
    "\n",
    "CircleRaster(design, 'via_met', via_met_ops)\n",
    "gui.rebuild()"
   ]
  },
  {
   "cell_type": "markdown",
   "id": "8a2a3600",
   "metadata": {},
   "source": [
    "### GMSH RENDERER"
   ]
  },
  {
   "cell_type": "code",
   "execution_count": 9,
   "id": "47f51e4b",
   "metadata": {},
   "outputs": [],
   "source": [
    "from qiskit_metal.renderers.renderer_gmsh.gmsh_renderer import QGmshRenderer\n",
    "\n",
    "\n",
    "gmsh = QGmshRenderer(design, layer_types=dict(metal=[1,2,3], dielectric=[4]))\n",
    "\n",
    "gmsh.options.mesh.min_size = '5um'\n",
    "gmsh.options.mesh.max_size = '50um'"
   ]
  },
  {
   "cell_type": "code",
   "execution_count": 10,
   "id": "cd52c717",
   "metadata": {},
   "outputs": [
    {
     "ename": "Exception",
     "evalue": "Intersection operation cannot be performed",
     "output_type": "error",
     "traceback": [
      "\u001b[1;31m---------------------------------------------------------------------------\u001b[0m",
      "\u001b[1;31mException\u001b[0m                                 Traceback (most recent call last)",
      "Cell \u001b[1;32mIn [10], line 1\u001b[0m\n\u001b[1;32m----> 1\u001b[0m \u001b[43mgmsh\u001b[49m\u001b[38;5;241;43m.\u001b[39;49m\u001b[43mrender_design\u001b[49m\u001b[43m(\u001b[49m\u001b[43mmesh_geoms\u001b[49m\u001b[38;5;241;43m=\u001b[39;49m\u001b[38;5;28;43;01mFalse\u001b[39;49;00m\u001b[43m,\u001b[49m\u001b[43m \u001b[49m\u001b[43mskip_junctions\u001b[49m\u001b[38;5;241;43m=\u001b[39;49m\u001b[38;5;28;43;01mTrue\u001b[39;49;00m\u001b[43m)\u001b[49m\n",
      "File \u001b[1;32mc:\\users\\ds41152\\repos\\qiskit-metal\\qiskit_metal\\renderers\\renderer_gmsh\\gmsh_renderer.py:252\u001b[0m, in \u001b[0;36mQGmshRenderer.render_design\u001b[1;34m(self, selection, open_pins, box_plus_buffer, draw_sample_holder, skip_junctions, mesh_geoms, ignore_metal_volume)\u001b[0m\n\u001b[0;32m    248\u001b[0m \u001b[38;5;28mself\u001b[39m\u001b[38;5;241m.\u001b[39mphysical_groups \u001b[38;5;241m=\u001b[39m defaultdict(\u001b[38;5;28mdict\u001b[39m)\n\u001b[0;32m    250\u001b[0m \u001b[38;5;28mself\u001b[39m\u001b[38;5;241m.\u001b[39mclear_design()\n\u001b[1;32m--> 252\u001b[0m \u001b[38;5;28;43mself\u001b[39;49m\u001b[38;5;241;43m.\u001b[39;49m\u001b[43mdraw_geometries\u001b[49m\u001b[43m(\u001b[49m\u001b[43mselection\u001b[49m\u001b[38;5;241;43m=\u001b[39;49m\u001b[43mselection\u001b[49m\u001b[43m,\u001b[49m\n\u001b[0;32m    253\u001b[0m \u001b[43m                     \u001b[49m\u001b[43mopen_pins\u001b[49m\u001b[38;5;241;43m=\u001b[39;49m\u001b[43mopen_pins\u001b[49m\u001b[43m,\u001b[49m\n\u001b[0;32m    254\u001b[0m \u001b[43m                     \u001b[49m\u001b[43mbox_plus_buffer\u001b[49m\u001b[38;5;241;43m=\u001b[39;49m\u001b[43mbox_plus_buffer\u001b[49m\u001b[43m,\u001b[49m\n\u001b[0;32m    255\u001b[0m \u001b[43m                     \u001b[49m\u001b[43mdraw_sample_holder\u001b[49m\u001b[38;5;241;43m=\u001b[39;49m\u001b[43mdraw_sample_holder\u001b[49m\u001b[43m,\u001b[49m\n\u001b[0;32m    256\u001b[0m \u001b[43m                     \u001b[49m\u001b[43mskip_junctions\u001b[49m\u001b[38;5;241;43m=\u001b[39;49m\u001b[43mskip_junctions\u001b[49m\u001b[43m)\u001b[49m\n\u001b[0;32m    258\u001b[0m \u001b[38;5;28mself\u001b[39m\u001b[38;5;241m.\u001b[39mapply_changes_for_simulation(\n\u001b[0;32m    259\u001b[0m     ignore_metal_volume\u001b[38;5;241m=\u001b[39mignore_metal_volume,\n\u001b[0;32m    260\u001b[0m     draw_sample_holder\u001b[38;5;241m=\u001b[39mdraw_sample_holder)\n\u001b[0;32m    262\u001b[0m \u001b[38;5;28;01mif\u001b[39;00m mesh_geoms:\n",
      "File \u001b[1;32mc:\\users\\ds41152\\repos\\qiskit-metal\\qiskit_metal\\renderers\\renderer_gmsh\\gmsh_renderer.py:300\u001b[0m, in \u001b[0;36mQGmshRenderer.draw_geometries\u001b[1;34m(self, draw_sample_holder, selection, open_pins, box_plus_buffer, skip_junctions)\u001b[0m\n\u001b[0;32m    297\u001b[0m \u001b[38;5;28mself\u001b[39m\u001b[38;5;241m.\u001b[39madd_endcaps(open_pins\u001b[38;5;241m=\u001b[39mopen_pins)\n\u001b[0;32m    298\u001b[0m \u001b[38;5;28mself\u001b[39m\u001b[38;5;241m.\u001b[39mrender_layers(box_plus_buffer\u001b[38;5;241m=\u001b[39mbox_plus_buffer,\n\u001b[0;32m    299\u001b[0m                    draw_sample_holder\u001b[38;5;241m=\u001b[39mdraw_sample_holder)\n\u001b[1;32m--> 300\u001b[0m \u001b[38;5;28;43mself\u001b[39;49m\u001b[38;5;241;43m.\u001b[39;49m\u001b[43msubtract_from_layers\u001b[49m\u001b[43m(\u001b[49m\u001b[43m)\u001b[49m\n\u001b[0;32m    301\u001b[0m \u001b[38;5;28mself\u001b[39m\u001b[38;5;241m.\u001b[39mgmsh_occ_synchronize()\n",
      "File \u001b[1;32mc:\\users\\ds41152\\repos\\qiskit-metal\\qiskit_metal\\renderers\\renderer_gmsh\\gmsh_renderer.py:745\u001b[0m, in \u001b[0;36mQGmshRenderer.subtract_from_layers\u001b[1;34m(self)\u001b[0m\n\u001b[0;32m    743\u001b[0m layer_dim_tag \u001b[38;5;241m=\u001b[39m (dim, \u001b[38;5;28mself\u001b[39m\u001b[38;5;241m.\u001b[39mlayers_dict[layer_num][\u001b[38;5;241m0\u001b[39m])\n\u001b[0;32m    744\u001b[0m tool_dimtags \u001b[38;5;241m=\u001b[39m [layer_dim_tag]\n\u001b[1;32m--> 745\u001b[0m subtract_layer \u001b[38;5;241m=\u001b[39m \u001b[43mgmsh\u001b[49m\u001b[38;5;241;43m.\u001b[39;49m\u001b[43mmodel\u001b[49m\u001b[38;5;241;43m.\u001b[39;49m\u001b[43mocc\u001b[49m\u001b[38;5;241;43m.\u001b[39;49m\u001b[43mcut\u001b[49m\u001b[43m(\u001b[49m\u001b[43mtool_dimtags\u001b[49m\u001b[43m,\u001b[49m\u001b[43m \u001b[49m\u001b[43mshape_dim_tags\u001b[49m\u001b[43m)\u001b[49m\n\u001b[0;32m    747\u001b[0m updated_layer_geoms \u001b[38;5;241m=\u001b[39m []\n\u001b[0;32m    748\u001b[0m \u001b[38;5;28;01mfor\u001b[39;00m i \u001b[38;5;129;01min\u001b[39;00m \u001b[38;5;28mrange\u001b[39m(\u001b[38;5;28mlen\u001b[39m(tool_dimtags)):\n",
      "File \u001b[1;32m~\\Anaconda3\\envs\\qiskit-metal-dev\\lib\\site-packages\\gmsh.py:6487\u001b[0m, in \u001b[0;36mmodel.occ.cut\u001b[1;34m(objectDimTags, toolDimTags, tag, removeObject, removeTool)\u001b[0m\n\u001b[0;32m   6477\u001b[0m lib\u001b[38;5;241m.\u001b[39mgmshModelOccCut(\n\u001b[0;32m   6478\u001b[0m     api_objectDimTags_, api_objectDimTags_n_,\n\u001b[0;32m   6479\u001b[0m     api_toolDimTags_, api_toolDimTags_n_,\n\u001b[1;32m   (...)\u001b[0m\n\u001b[0;32m   6484\u001b[0m     c_int(\u001b[38;5;28mbool\u001b[39m(removeTool)),\n\u001b[0;32m   6485\u001b[0m     byref(ierr))\n\u001b[0;32m   6486\u001b[0m \u001b[38;5;28;01mif\u001b[39;00m ierr\u001b[38;5;241m.\u001b[39mvalue \u001b[38;5;241m!=\u001b[39m \u001b[38;5;241m0\u001b[39m:\n\u001b[1;32m-> 6487\u001b[0m     \u001b[38;5;28;01mraise\u001b[39;00m \u001b[38;5;167;01mException\u001b[39;00m(logger\u001b[38;5;241m.\u001b[39mgetLastError())\n\u001b[0;32m   6488\u001b[0m \u001b[38;5;28;01mreturn\u001b[39;00m (\n\u001b[0;32m   6489\u001b[0m     _ovectorpair(api_outDimTags_, api_outDimTags_n_\u001b[38;5;241m.\u001b[39mvalue),\n\u001b[0;32m   6490\u001b[0m     _ovectorvectorpair(api_outDimTagsMap_, api_outDimTagsMap_n_, api_outDimTagsMap_nn_))\n",
      "\u001b[1;31mException\u001b[0m: Intersection operation cannot be performed"
     ]
    }
   ],
   "source": [
    "gmsh.render_design(mesh_geoms=False, skip_junctions=True)\n",
    "#gmsh.add_mesh(dim=3, intelli_mesh=False)\n",
    "#gmsh.launch_gui()\n",
    "#gmsh.close()"
   ]
  },
  {
   "cell_type": "code",
   "execution_count": null,
   "id": "2f6ebdb3",
   "metadata": {},
   "outputs": [],
   "source": []
  },
  {
   "cell_type": "code",
   "execution_count": null,
   "id": "01c55c8b",
   "metadata": {},
   "outputs": [],
   "source": []
  }
 ],
 "metadata": {
  "kernelspec": {
   "display_name": "Python 3 (ipykernel)",
   "language": "python",
   "name": "python3"
  },
  "language_info": {
   "codemirror_mode": {
    "name": "ipython",
    "version": 3
   },
   "file_extension": ".py",
   "mimetype": "text/x-python",
   "name": "python",
   "nbconvert_exporter": "python",
   "pygments_lexer": "ipython3",
   "version": "3.10.6"
  }
 },
 "nbformat": 4,
 "nbformat_minor": 5
}
