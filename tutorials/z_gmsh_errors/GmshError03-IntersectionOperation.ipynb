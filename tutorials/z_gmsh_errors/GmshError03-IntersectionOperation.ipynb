{
 "cells": [
  {
   "cell_type": "code",
   "execution_count": 1,
   "id": "d8676cc8",
   "metadata": {},
   "outputs": [],
   "source": [
    "import warnings\n",
    "warnings.filterwarnings(\"ignore\")\n",
    "\n",
    "%load_ext autoreload\n",
    "%autoreload 2"
   ]
  },
  {
   "cell_type": "code",
   "execution_count": 2,
   "id": "7d0cbcd4",
   "metadata": {},
   "outputs": [],
   "source": [
    "from IPython.display import display\n",
    "import pandas as pd\n",
    "from collections import defaultdict\n",
    "\n",
    "from qiskit_metal import designs, MetalGUI\n",
    "from qiskit_metal.qlibrary.sample_shapes.rectangle import Rectangle"
   ]
  },
  {
   "cell_type": "code",
   "execution_count": 3,
   "id": "0724e98d",
   "metadata": {},
   "outputs": [],
   "source": [
    "design = designs.MultiPlanar({}, overwrite_enabled=True, layer_stack_filename=\"test_layer_stack.txt\")\n",
    "gui = MetalGUI(design)"
   ]
  },
  {
   "cell_type": "code",
   "execution_count": 4,
   "id": "1737f6f1",
   "metadata": {},
   "outputs": [],
   "source": [
    "design.chips.main.size.size_x = '24mm'\n",
    "design.chips.main.size.size_y = '24mm'\n",
    "design.variables.sample_holder_top = '8.295mm'\n",
    "design.variables.sample_holder_bottom = '1.724mm'"
   ]
  },
  {
   "cell_type": "code",
   "execution_count": 5,
   "id": "a8c472c0",
   "metadata": {},
   "outputs": [
    {
     "data": {
      "text/html": [
       "<div>\n",
       "<style scoped>\n",
       "    .dataframe tbody tr th:only-of-type {\n",
       "        vertical-align: middle;\n",
       "    }\n",
       "\n",
       "    .dataframe tbody tr th {\n",
       "        vertical-align: top;\n",
       "    }\n",
       "\n",
       "    .dataframe thead th {\n",
       "        text-align: right;\n",
       "    }\n",
       "</style>\n",
       "<table border=\"1\" class=\"dataframe\">\n",
       "  <thead>\n",
       "    <tr style=\"text-align: right;\">\n",
       "      <th></th>\n",
       "      <th>chip_name</th>\n",
       "      <th>layer</th>\n",
       "      <th>datatype</th>\n",
       "      <th>material</th>\n",
       "      <th>thickness</th>\n",
       "      <th>z_coord</th>\n",
       "      <th>fill</th>\n",
       "    </tr>\n",
       "  </thead>\n",
       "  <tbody>\n",
       "    <tr>\n",
       "      <th>0</th>\n",
       "      <td>'main'</td>\n",
       "      <td>1</td>\n",
       "      <td>0</td>\n",
       "      <td>'pec'</td>\n",
       "      <td>'35um'</td>\n",
       "      <td>'0um'</td>\n",
       "      <td>'True'</td>\n",
       "    </tr>\n",
       "    <tr>\n",
       "      <th>1</th>\n",
       "      <td>'main'</td>\n",
       "      <td>2</td>\n",
       "      <td>0</td>\n",
       "      <td>'silicon'</td>\n",
       "      <td>'-1.524mm'</td>\n",
       "      <td>'0um'</td>\n",
       "      <td>'True'</td>\n",
       "    </tr>\n",
       "    <tr>\n",
       "      <th>2</th>\n",
       "      <td>'main'</td>\n",
       "      <td>3</td>\n",
       "      <td>0</td>\n",
       "      <td>'pec'</td>\n",
       "      <td>'100um'</td>\n",
       "      <td>'-1.624mm'</td>\n",
       "      <td>'True'</td>\n",
       "    </tr>\n",
       "  </tbody>\n",
       "</table>\n",
       "</div>"
      ],
      "text/plain": [
       "  chip_name  layer  datatype   material   thickness     z_coord    fill\n",
       "0    'main'      1         0      'pec'      '35um'       '0um'  'True'\n",
       "1    'main'      2         0  'silicon'  '-1.524mm'       '0um'  'True'\n",
       "2    'main'      3         0      'pec'     '100um'  '-1.624mm'  'True'"
      ]
     },
     "execution_count": 5,
     "metadata": {},
     "output_type": "execute_result"
    }
   ],
   "source": [
    "design.ls.ls_df"
   ]
  },
  {
   "cell_type": "code",
   "execution_count": 6,
   "id": "4a11e2a5",
   "metadata": {},
   "outputs": [],
   "source": [
    "plate_1 = { 'height': '6mm',\n",
    "            'width': '6mm',\n",
    "            'pos_x': '0',\n",
    "            'pos_y': '0',\n",
    "            'orientation': '0',\n",
    "            'subtract': 'False',\n",
    "            'helper': 'False',\n",
    "            'chip': 'main',\n",
    "            'layer': '1' }\n",
    "\n",
    "plate_1_sub = { 'height': '10mm',\n",
    "                'width': '10mm',\n",
    "                'pos_x': '0',\n",
    "                'pos_y': '0',\n",
    "                'orientation': '0',\n",
    "                'subtract': 'True',\n",
    "                'helper': 'False',\n",
    "                'chip': 'main',\n",
    "                'layer': '1' }\n",
    "\n",
    "plate_2 = { 'height': '24mm',\n",
    "            'width': '24mm',\n",
    "            'pos_x': '0',\n",
    "            'pos_y': '0',\n",
    "            'orientation': '0',\n",
    "            'subtract': 'False',\n",
    "            'helper': 'False',\n",
    "            'chip': 'main',\n",
    "            'layer': '3' }\n",
    "\n",
    "Rectangle(design, 'plate_1', plate_1)\n",
    "Rectangle(design, 'plate_1_sub', plate_1_sub)\n",
    "Rectangle(design, 'plate_2', plate_2)\n",
    "gui.rebuild()"
   ]
  },
  {
   "cell_type": "code",
   "execution_count": 7,
   "id": "aa32eabf",
   "metadata": {},
   "outputs": [
    {
     "ename": "Exception",
     "evalue": "Intersection operation cannot be performed",
     "output_type": "error",
     "traceback": [
      "\u001b[1;31m---------------------------------------------------------------------------\u001b[0m",
      "\u001b[1;31mException\u001b[0m                                 Traceback (most recent call last)",
      "Cell \u001b[1;32mIn [7], line 9\u001b[0m\n\u001b[0;32m      6\u001b[0m elmer_renderer\u001b[38;5;241m.\u001b[39mgmsh\u001b[38;5;241m.\u001b[39moptions\u001b[38;5;241m.\u001b[39mx_buffer_width_mm \u001b[38;5;241m=\u001b[39m \u001b[38;5;124m\"\u001b[39m\u001b[38;5;124m0mm\u001b[39m\u001b[38;5;124m\"\u001b[39m\n\u001b[0;32m      7\u001b[0m elmer_renderer\u001b[38;5;241m.\u001b[39mgmsh\u001b[38;5;241m.\u001b[39moptions\u001b[38;5;241m.\u001b[39my_buffer_width_mm \u001b[38;5;241m=\u001b[39m \u001b[38;5;124m\"\u001b[39m\u001b[38;5;124m0mm\u001b[39m\u001b[38;5;124m\"\u001b[39m\n\u001b[1;32m----> 9\u001b[0m \u001b[43melmer_renderer\u001b[49m\u001b[38;5;241;43m.\u001b[39;49m\u001b[43mrender_design\u001b[49m\u001b[43m(\u001b[49m\u001b[43mmesh_geoms\u001b[49m\u001b[38;5;241;43m=\u001b[39;49m\u001b[38;5;28;43;01mFalse\u001b[39;49;00m\u001b[43m,\u001b[49m\u001b[43m \u001b[49m\u001b[43mskip_junctions\u001b[49m\u001b[38;5;241;43m=\u001b[39;49m\u001b[38;5;28;43;01mTrue\u001b[39;49;00m\u001b[43m)\u001b[49m\n\u001b[0;32m     10\u001b[0m \u001b[38;5;66;03m#elmer_renderer.render_design(skip_junctions=True, ignore_metal_volume=True)\u001b[39;00m\n\u001b[0;32m     11\u001b[0m elmer_renderer\u001b[38;5;241m.\u001b[39mlaunch_gmsh_gui()\n",
      "File \u001b[1;32mc:\\users\\ds41152\\repos\\qiskit-metal\\qiskit_metal\\renderers\\renderer_elmer\\elmer_renderer.py:139\u001b[0m, in \u001b[0;36mQElmerRenderer.render_design\u001b[1;34m(self, selection, open_pins, box_plus_buffer, draw_sample_holder, skip_junctions, mesh_geoms, ignore_metal_volume)\u001b[0m\n\u001b[0;32m    110\u001b[0m \u001b[38;5;28;01mdef\u001b[39;00m \u001b[38;5;21mrender_design\u001b[39m(\n\u001b[0;32m    111\u001b[0m     \u001b[38;5;28mself\u001b[39m,\n\u001b[0;32m    112\u001b[0m     selection: Union[\u001b[38;5;28mlist\u001b[39m, \u001b[38;5;28;01mNone\u001b[39;00m] \u001b[38;5;241m=\u001b[39m \u001b[38;5;28;01mNone\u001b[39;00m,\n\u001b[1;32m   (...)\u001b[0m\n\u001b[0;32m    118\u001b[0m     ignore_metal_volume: \u001b[38;5;28mbool\u001b[39m \u001b[38;5;241m=\u001b[39m \u001b[38;5;28;01mFalse\u001b[39;00m,\n\u001b[0;32m    119\u001b[0m ):\n\u001b[0;32m    120\u001b[0m     \u001b[38;5;124;03m\"\"\"Render the design in Gmsh and apply changes to modify the geometries\u001b[39;00m\n\u001b[0;32m    121\u001b[0m \u001b[38;5;124;03m    according to the type of simulation. Simulation parameters provided by the user.\u001b[39;00m\n\u001b[0;32m    122\u001b[0m \n\u001b[1;32m   (...)\u001b[0m\n\u001b[0;32m    137\u001b[0m \u001b[38;5;124;03m                                                    Defaults to False.\u001b[39;00m\n\u001b[0;32m    138\u001b[0m \u001b[38;5;124;03m    \"\"\"\u001b[39;00m\n\u001b[1;32m--> 139\u001b[0m     \u001b[38;5;28;43mself\u001b[39;49m\u001b[38;5;241;43m.\u001b[39;49m\u001b[43mgmsh\u001b[49m\u001b[38;5;241;43m.\u001b[39;49m\u001b[43mrender_design\u001b[49m\u001b[43m(\u001b[49m\u001b[43mselection\u001b[49m\u001b[38;5;241;43m=\u001b[39;49m\u001b[43mselection\u001b[49m\u001b[43m,\u001b[49m\n\u001b[0;32m    140\u001b[0m \u001b[43m                            \u001b[49m\u001b[43mopen_pins\u001b[49m\u001b[38;5;241;43m=\u001b[39;49m\u001b[43mopen_pins\u001b[49m\u001b[43m,\u001b[49m\n\u001b[0;32m    141\u001b[0m \u001b[43m                            \u001b[49m\u001b[43mbox_plus_buffer\u001b[49m\u001b[38;5;241;43m=\u001b[39;49m\u001b[43mbox_plus_buffer\u001b[49m\u001b[43m,\u001b[49m\n\u001b[0;32m    142\u001b[0m \u001b[43m                            \u001b[49m\u001b[43mdraw_sample_holder\u001b[49m\u001b[38;5;241;43m=\u001b[39;49m\u001b[43mdraw_sample_holder\u001b[49m\u001b[43m,\u001b[49m\n\u001b[0;32m    143\u001b[0m \u001b[43m                            \u001b[49m\u001b[43mskip_junctions\u001b[49m\u001b[38;5;241;43m=\u001b[39;49m\u001b[43mskip_junctions\u001b[49m\u001b[43m,\u001b[49m\n\u001b[0;32m    144\u001b[0m \u001b[43m                            \u001b[49m\u001b[43mmesh_geoms\u001b[49m\u001b[38;5;241;43m=\u001b[39;49m\u001b[43mmesh_geoms\u001b[49m\u001b[43m,\u001b[49m\n\u001b[0;32m    145\u001b[0m \u001b[43m                            \u001b[49m\u001b[43mignore_metal_volume\u001b[49m\u001b[38;5;241;43m=\u001b[39;49m\u001b[43mignore_metal_volume\u001b[49m\u001b[43m)\u001b[49m\n\u001b[0;32m    147\u001b[0m     \u001b[38;5;28mself\u001b[39m\u001b[38;5;241m.\u001b[39mnets \u001b[38;5;241m=\u001b[39m \u001b[38;5;28mself\u001b[39m\u001b[38;5;241m.\u001b[39massign_nets(open_pins\u001b[38;5;241m=\u001b[39mopen_pins)\n",
      "File \u001b[1;32mc:\\users\\ds41152\\repos\\qiskit-metal\\qiskit_metal\\renderers\\renderer_gmsh\\gmsh_renderer.py:252\u001b[0m, in \u001b[0;36mQGmshRenderer.render_design\u001b[1;34m(self, selection, open_pins, box_plus_buffer, draw_sample_holder, skip_junctions, mesh_geoms, ignore_metal_volume)\u001b[0m\n\u001b[0;32m    248\u001b[0m \u001b[38;5;28mself\u001b[39m\u001b[38;5;241m.\u001b[39mphysical_groups \u001b[38;5;241m=\u001b[39m defaultdict(\u001b[38;5;28mdict\u001b[39m)\n\u001b[0;32m    250\u001b[0m \u001b[38;5;28mself\u001b[39m\u001b[38;5;241m.\u001b[39mclear_design()\n\u001b[1;32m--> 252\u001b[0m \u001b[38;5;28;43mself\u001b[39;49m\u001b[38;5;241;43m.\u001b[39;49m\u001b[43mdraw_geometries\u001b[49m\u001b[43m(\u001b[49m\u001b[43mselection\u001b[49m\u001b[38;5;241;43m=\u001b[39;49m\u001b[43mselection\u001b[49m\u001b[43m,\u001b[49m\n\u001b[0;32m    253\u001b[0m \u001b[43m                     \u001b[49m\u001b[43mopen_pins\u001b[49m\u001b[38;5;241;43m=\u001b[39;49m\u001b[43mopen_pins\u001b[49m\u001b[43m,\u001b[49m\n\u001b[0;32m    254\u001b[0m \u001b[43m                     \u001b[49m\u001b[43mbox_plus_buffer\u001b[49m\u001b[38;5;241;43m=\u001b[39;49m\u001b[43mbox_plus_buffer\u001b[49m\u001b[43m,\u001b[49m\n\u001b[0;32m    255\u001b[0m \u001b[43m                     \u001b[49m\u001b[43mdraw_sample_holder\u001b[49m\u001b[38;5;241;43m=\u001b[39;49m\u001b[43mdraw_sample_holder\u001b[49m\u001b[43m,\u001b[49m\n\u001b[0;32m    256\u001b[0m \u001b[43m                     \u001b[49m\u001b[43mskip_junctions\u001b[49m\u001b[38;5;241;43m=\u001b[39;49m\u001b[43mskip_junctions\u001b[49m\u001b[43m)\u001b[49m\n\u001b[0;32m    258\u001b[0m \u001b[38;5;28mself\u001b[39m\u001b[38;5;241m.\u001b[39mapply_changes_for_simulation(\n\u001b[0;32m    259\u001b[0m     ignore_metal_volume\u001b[38;5;241m=\u001b[39mignore_metal_volume,\n\u001b[0;32m    260\u001b[0m     draw_sample_holder\u001b[38;5;241m=\u001b[39mdraw_sample_holder)\n\u001b[0;32m    262\u001b[0m \u001b[38;5;28;01mif\u001b[39;00m mesh_geoms:\n",
      "File \u001b[1;32mc:\\users\\ds41152\\repos\\qiskit-metal\\qiskit_metal\\renderers\\renderer_gmsh\\gmsh_renderer.py:300\u001b[0m, in \u001b[0;36mQGmshRenderer.draw_geometries\u001b[1;34m(self, draw_sample_holder, selection, open_pins, box_plus_buffer, skip_junctions)\u001b[0m\n\u001b[0;32m    297\u001b[0m \u001b[38;5;28mself\u001b[39m\u001b[38;5;241m.\u001b[39madd_endcaps(open_pins\u001b[38;5;241m=\u001b[39mopen_pins)\n\u001b[0;32m    298\u001b[0m \u001b[38;5;28mself\u001b[39m\u001b[38;5;241m.\u001b[39mrender_layers(box_plus_buffer\u001b[38;5;241m=\u001b[39mbox_plus_buffer,\n\u001b[0;32m    299\u001b[0m                    draw_sample_holder\u001b[38;5;241m=\u001b[39mdraw_sample_holder)\n\u001b[1;32m--> 300\u001b[0m \u001b[38;5;28;43mself\u001b[39;49m\u001b[38;5;241;43m.\u001b[39;49m\u001b[43msubtract_from_layers\u001b[49m\u001b[43m(\u001b[49m\u001b[43m)\u001b[49m\n\u001b[0;32m    301\u001b[0m \u001b[38;5;28mself\u001b[39m\u001b[38;5;241m.\u001b[39mgmsh_occ_synchronize()\n",
      "File \u001b[1;32mc:\\users\\ds41152\\repos\\qiskit-metal\\qiskit_metal\\renderers\\renderer_gmsh\\gmsh_renderer.py:745\u001b[0m, in \u001b[0;36mQGmshRenderer.subtract_from_layers\u001b[1;34m(self)\u001b[0m\n\u001b[0;32m    743\u001b[0m layer_dim_tag \u001b[38;5;241m=\u001b[39m (dim, \u001b[38;5;28mself\u001b[39m\u001b[38;5;241m.\u001b[39mlayers_dict[layer_num][\u001b[38;5;241m0\u001b[39m])\n\u001b[0;32m    744\u001b[0m tool_dimtags \u001b[38;5;241m=\u001b[39m [layer_dim_tag]\n\u001b[1;32m--> 745\u001b[0m subtract_layer \u001b[38;5;241m=\u001b[39m \u001b[43mgmsh\u001b[49m\u001b[38;5;241;43m.\u001b[39;49m\u001b[43mmodel\u001b[49m\u001b[38;5;241;43m.\u001b[39;49m\u001b[43mocc\u001b[49m\u001b[38;5;241;43m.\u001b[39;49m\u001b[43mcut\u001b[49m\u001b[43m(\u001b[49m\u001b[43mtool_dimtags\u001b[49m\u001b[43m,\u001b[49m\u001b[43m \u001b[49m\u001b[43mshape_dim_tags\u001b[49m\u001b[43m)\u001b[49m\n\u001b[0;32m    747\u001b[0m updated_layer_geoms \u001b[38;5;241m=\u001b[39m []\n\u001b[0;32m    748\u001b[0m \u001b[38;5;28;01mfor\u001b[39;00m i \u001b[38;5;129;01min\u001b[39;00m \u001b[38;5;28mrange\u001b[39m(\u001b[38;5;28mlen\u001b[39m(tool_dimtags)):\n",
      "File \u001b[1;32m~\\Anaconda3\\envs\\qiskit-metal-dev\\lib\\site-packages\\gmsh.py:6487\u001b[0m, in \u001b[0;36mmodel.occ.cut\u001b[1;34m(objectDimTags, toolDimTags, tag, removeObject, removeTool)\u001b[0m\n\u001b[0;32m   6477\u001b[0m lib\u001b[38;5;241m.\u001b[39mgmshModelOccCut(\n\u001b[0;32m   6478\u001b[0m     api_objectDimTags_, api_objectDimTags_n_,\n\u001b[0;32m   6479\u001b[0m     api_toolDimTags_, api_toolDimTags_n_,\n\u001b[1;32m   (...)\u001b[0m\n\u001b[0;32m   6484\u001b[0m     c_int(\u001b[38;5;28mbool\u001b[39m(removeTool)),\n\u001b[0;32m   6485\u001b[0m     byref(ierr))\n\u001b[0;32m   6486\u001b[0m \u001b[38;5;28;01mif\u001b[39;00m ierr\u001b[38;5;241m.\u001b[39mvalue \u001b[38;5;241m!=\u001b[39m \u001b[38;5;241m0\u001b[39m:\n\u001b[1;32m-> 6487\u001b[0m     \u001b[38;5;28;01mraise\u001b[39;00m \u001b[38;5;167;01mException\u001b[39;00m(logger\u001b[38;5;241m.\u001b[39mgetLastError())\n\u001b[0;32m   6488\u001b[0m \u001b[38;5;28;01mreturn\u001b[39;00m (\n\u001b[0;32m   6489\u001b[0m     _ovectorpair(api_outDimTags_, api_outDimTags_n_\u001b[38;5;241m.\u001b[39mvalue),\n\u001b[0;32m   6490\u001b[0m     _ovectorvectorpair(api_outDimTagsMap_, api_outDimTagsMap_n_, api_outDimTagsMap_nn_))\n",
      "\u001b[1;31mException\u001b[0m: Intersection operation cannot be performed"
     ]
    }
   ],
   "source": [
    "from qiskit_metal.renderers.renderer_elmer.elmer_renderer import QElmerRenderer\n",
    "\n",
    "elmer_renderer = QElmerRenderer(design, layer_types=dict(metal=[1,3],dielectric=[2]))\n",
    "elmer_renderer.gmsh.options.mesh.max_size = \"500um\"\n",
    "elmer_renderer.gmsh.options.mesh.smoothing = 10\n",
    "elmer_renderer.gmsh.options.x_buffer_width_mm = \"0mm\"\n",
    "elmer_renderer.gmsh.options.y_buffer_width_mm = \"0mm\"\n",
    "\n",
    "elmer_renderer.render_design(mesh_geoms=False, skip_junctions=True)\n",
    "#elmer_renderer.render_design(skip_junctions=True, ignore_metal_volume=True)\n",
    "elmer_renderer.launch_gmsh_gui()"
   ]
  }
 ],
 "metadata": {
  "kernelspec": {
   "display_name": "Python 3 (ipykernel)",
   "language": "python",
   "name": "python3"
  },
  "language_info": {
   "codemirror_mode": {
    "name": "ipython",
    "version": 3
   },
   "file_extension": ".py",
   "mimetype": "text/x-python",
   "name": "python",
   "nbconvert_exporter": "python",
   "pygments_lexer": "ipython3",
   "version": "3.10.6"
  }
 },
 "nbformat": 4,
 "nbformat_minor": 5
}
