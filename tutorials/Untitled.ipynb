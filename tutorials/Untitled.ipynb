{
 "cells": [
  {
   "cell_type": "code",
   "execution_count": null,
   "id": "square-sword",
   "metadata": {},
   "outputs": [],
   "source": [
    "%load_ext autoreload\n",
    "%autoreload 2\n",
    "import qiskit_metal as metal\n",
    "from qiskit_metal import designs, draw\n",
    "from qiskit_metal import MetalGUI, Dict, open_docs\n",
    "\n",
    "%metal_heading Welcome to Qiskit Metal!\n",
    "design = designs.DesignPlanar()\n",
    "gui = MetalGUI(design)"
   ]
  },
  {
   "cell_type": "code",
   "execution_count": null,
   "id": "aboriginal-uncertainty",
   "metadata": {},
   "outputs": [],
   "source": [
    "from qiskit_metal.qlibrary.interconnects.mixed_path import RouteMixed\n",
    "len(RouteMixed.default_options)"
   ]
  },
  {
   "cell_type": "code",
   "execution_count": null,
   "id": "psychological-moscow",
   "metadata": {},
   "outputs": [],
   "source": [
    "design.delete_all_components()  #needed only for rebuilds. will get a warning\n",
    "from qiskit_metal.qlibrary.qubits.transmon_pocket import TransmonPocket\n",
    "\n",
    "optionsQ = dict(\n",
    "    pad_width = '425 um', \n",
    "    pocket_height = '650um',\n",
    "    connection_pads=dict(  # pin connectors\n",
    "        a = dict(loc_W=+1,loc_H=+1), \n",
    "        b = dict(loc_W=-1,loc_H=+1, pad_height='30um'),\n",
    "        c = dict(loc_W=+1,loc_H=-1, pad_width='200um'),\n",
    "        d = dict(loc_W=-1,loc_H=-1, pad_height='50um')\n",
    "    )\n",
    ")\n",
    "\n",
    "q0 = TransmonPocket(design, 'Q0', options = dict(pos_x='-5.0mm', pos_y='0.0mm', **optionsQ))\n",
    "q1 = TransmonPocket(design, 'Q1', options = dict(pos_x='5.0mm', pos_y='0.0mm', **optionsQ))\n",
    "\n",
    "\n",
    "# a to c "
   ]
  },
  {
   "cell_type": "code",
   "execution_count": null,
   "id": "similar-manchester",
   "metadata": {},
   "outputs": [],
   "source": [
    "q3 = TransmonPocket(design, 'Q3')\n"
   ]
  },
  {
   "cell_type": "code",
   "execution_count": null,
   "id": "complimentary-incidence",
   "metadata": {},
   "outputs": [],
   "source": [
    "for x in design._qgeometry.get_component_geometry_list('Q3'):\n",
    "    print(x.bounds)"
   ]
  },
  {
   "cell_type": "code",
   "execution_count": null,
   "id": "fundamental-wallace",
   "metadata": {},
   "outputs": [],
   "source": []
  }
 ],
 "metadata": {
  "kernelspec": {
   "display_name": "nineteen",
   "language": "python",
   "name": "nineteen"
  },
  "language_info": {
   "codemirror_mode": {
    "name": "ipython",
    "version": 3
   },
   "file_extension": ".py",
   "mimetype": "text/x-python",
   "name": "python",
   "nbconvert_exporter": "python",
   "pygments_lexer": "ipython3",
   "version": "3.7.8"
  }
 },
 "nbformat": 4,
 "nbformat_minor": 5
}
