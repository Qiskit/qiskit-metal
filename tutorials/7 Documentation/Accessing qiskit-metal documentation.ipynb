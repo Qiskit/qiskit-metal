{
 "cells": [
  {
   "cell_type": "markdown",
   "metadata": {},
   "source": [
    "# Preparing and loading the documentation"
   ]
  },
  {
   "cell_type": "markdown",
   "metadata": {},
   "source": [
    "## Build the documentation"
   ]
  },
  {
   "cell_type": "markdown",
   "metadata": {},
   "source": [
    "During early-access, we will distribute the source files to build the qiskit-metal documentation locally.\n",
    "\n",
    "We also provide the `build_docs.py` script to automate the build process for you. You can either execute it in your shell using the command line: `python <path>/docs/build_docs.py` or else you can run the following notebook cell.\n",
    "\n",
    "#### Please be patient. The build can take ~15minutes. stdout might appear in the shell used to launch jupyter notebook.\n",
    "\n",
    "The build has two phases. First it will install the required python libraries for the build. Then it will run the `make html` command to complete the build."
   ]
  },
  {
   "cell_type": "code",
   "execution_count": null,
   "metadata": {
    "scrolled": true
   },
   "outputs": [],
   "source": [
    "# Execute the build_docs.py script.\n",
    "# Replace the path below with the relative path to the build_docs.py script on your computer.\n",
    "%run ../../docs/build_docs.py"
   ]
  },
  {
   "cell_type": "markdown",
   "metadata": {},
   "source": [
    "#### You can now access the documentation with the following command.\n",
    "\n",
    "You can also directly open: `../../docs/build/html/index.html`"
   ]
  },
  {
   "cell_type": "code",
   "execution_count": null,
   "metadata": {},
   "outputs": [],
   "source": [
    "from qiskit_metal import open_docs\n",
    "open_docs()"
   ]
  }
 ],
 "metadata": {
  "kernelspec": {
   "display_name": "Python 3",
   "language": "python",
   "name": "python3"
  },
  "language_info": {
   "codemirror_mode": {
    "name": "ipython",
    "version": 3
   },
   "file_extension": ".py",
   "mimetype": "text/x-python",
   "name": "python",
   "nbconvert_exporter": "python",
   "pygments_lexer": "ipython3",
   "version": "3.7.8"
  }
 },
 "nbformat": 4,
 "nbformat_minor": 4
}
