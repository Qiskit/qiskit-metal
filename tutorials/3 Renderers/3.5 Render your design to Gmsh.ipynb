{
 "cells": [
  {
   "cell_type": "code",
   "execution_count": 27,
   "id": "0c0171b1-1143-43ed-9645-9e510f806b28",
   "metadata": {},
   "outputs": [
    {
     "name": "stdout",
     "output_type": "stream",
     "text": [
      "The autoreload extension is already loaded. To reload it, use:\n",
      "  %reload_ext autoreload\n"
     ]
    }
   ],
   "source": [
    "%load_ext autoreload\n",
    "%autoreload 2"
   ]
  },
  {
   "cell_type": "code",
   "execution_count": 28,
   "id": "a9257f6e-c721-497d-9fd6-aac4dac1c76a",
   "metadata": {},
   "outputs": [],
   "source": [
    "from qiskit_metal import MetalGUI, designs\n",
    "from qiskit_metal.qlibrary.qubits.transmon_pocket import TransmonPocket\n",
    "from qiskit_metal.qlibrary.tlines.meandered import RouteMeander\n",
    "from qiskit_metal.qlibrary.terminations.open_to_ground import OpenToGround"
   ]
  },
  {
   "cell_type": "code",
   "execution_count": 29,
   "id": "2e9f81bb-dcbc-461d-ad04-7095069152a6",
   "metadata": {},
   "outputs": [
    {
     "data": {
      "text/html": [
       "\n",
       "    <h1 style=\"\n",
       "        background: #12c2e9;  /* fallback for old browsers */\n",
       "        background: -webkit-linear-gradient(to right, #d4418e 0%, #0652c5 74%);  /* Chrome 10-25, Safari 5.1-6 */\n",
       "        background: linear-gradient(315deg, #d4418e 0%, #0652c5 74%); /* W3C, IE 10+/ Edge, Firefox 16+, Chrome 26+, Opera 12+, Safari 7+ */\n",
       "        margin-top: 50px;\n",
       "        border-style: outset;\n",
       "        padding-top:100px;\n",
       "        padding-bottom:50px;\n",
       "        padding-left:25px;\n",
       "        color: white;\n",
       "    \"> Making your design in Metal <h1>\n",
       "        "
      ],
      "text/plain": [
       "<IPython.core.display.HTML object>"
      ]
     },
     "metadata": {},
     "output_type": "display_data"
    }
   ],
   "source": [
    "%metal_heading Making your design in Metal"
   ]
  },
  {
   "cell_type": "code",
   "execution_count": null,
   "id": "4c5b108d-0ffb-4ea6-a807-63b74cd7649f",
   "metadata": {},
   "outputs": [],
   "source": [
    "design = designs.MultiPlanar({}, overwrite_enabled=True)\n",
    "gui = MetalGUI(design)"
   ]
  },
  {
   "cell_type": "code",
   "execution_count": null,
   "id": "c69f8f30-1909-4a88-8edf-ac5527f9413f",
   "metadata": {},
   "outputs": [],
   "source": [
    "design.delete_all_components()"
   ]
  },
  {
   "cell_type": "code",
   "execution_count": null,
   "id": "0ef5ea79-557b-42c5-9d6d-f28ff6b0fa52",
   "metadata": {},
   "outputs": [],
   "source": [
    "# Making the qubit\n",
    "q_opts = dict(\n",
    "    pos_x = \"2mm\",\n",
    "    pos_y = \"2mm\",\n",
    "    connection_pads = dict(\n",
    "        readout = dict()\n",
    "    )\n",
    ")\n",
    "\n",
    "q1 = TransmonPocket(design, \"Q1\", options=q_opts)\n",
    "\n",
    "gui.rebuild()\n",
    "gui.autoscale()"
   ]
  },
  {
   "cell_type": "code",
   "execution_count": null,
   "id": "d01a434e-b039-4893-b424-e41028cab67a",
   "metadata": {},
   "outputs": [],
   "source": [
    "# Making the open to ground\n",
    "otg_opts = dict(\n",
    "    pos_x = \"4mm\",\n",
    "    pos_y = \"2mm\"\n",
    ")\n",
    "\n",
    "otg = OpenToGround(design, \"otg\", options=otg_opts)\n",
    "\n",
    "gui.rebuild()\n",
    "gui.autoscale()"
   ]
  },
  {
   "cell_type": "code",
   "execution_count": null,
   "id": "6a2979cd-d377-4980-870a-590f541fb2e8",
   "metadata": {},
   "outputs": [],
   "source": [
    "meander_opts = dict(\n",
    "    pin_inputs = dict(\n",
    "        start_pin = dict(component = \"Q1\", pin = \"readout\"),\n",
    "        end_pin = dict(component = \"otg\", pin = \"open\")\n",
    "    ),\n",
    "    lead = dict(\n",
    "        start_straight = \"100um\"\n",
    "    ),\n",
    "    fillet = \"99.99um\",\n",
    "    asymmetry = \"100um\"\n",
    ")\n",
    "\n",
    "mtl = RouteMeander(design, \"mtl\", options=meander_opts)\n",
    "\n",
    "gui.rebuild()\n",
    "gui.autoscale()"
   ]
  },
  {
   "cell_type": "code",
   "execution_count": 30,
   "id": "4d4718a3-8e27-401b-a4eb-736669c27ecb",
   "metadata": {},
   "outputs": [
    {
     "data": {
      "text/html": [
       "\n",
       "    <h1 style=\"\n",
       "        background: #12c2e9;  /* fallback for old browsers */\n",
       "        background: -webkit-linear-gradient(to right, #d4418e 0%, #0652c5 74%);  /* Chrome 10-25, Safari 5.1-6 */\n",
       "        background: linear-gradient(315deg, #d4418e 0%, #0652c5 74%); /* W3C, IE 10+/ Edge, Firefox 16+, Chrome 26+, Opera 12+, Safari 7+ */\n",
       "        margin-top: 50px;\n",
       "        border-style: outset;\n",
       "        padding-top:100px;\n",
       "        padding-bottom:50px;\n",
       "        padding-left:25px;\n",
       "        color: white;\n",
       "    \"> Render to Gmsh <h1>\n",
       "        "
      ],
      "text/plain": [
       "<IPython.core.display.HTML object>"
      ]
     },
     "metadata": {},
     "output_type": "display_data"
    }
   ],
   "source": [
    "%metal_heading Render to Gmsh"
   ]
  },
  {
   "cell_type": "code",
   "execution_count": null,
   "id": "702ff24d-8576-40bc-82df-229ec72978fc",
   "metadata": {},
   "outputs": [],
   "source": [
    "from qiskit_metal.renderers.renderer_gmsh.gmsh_renderer import QGmshRenderer\n",
    "\n",
    "# Instantiate QGmshRenderer\n",
    "gmsh_renderer = QGmshRenderer(design)\n",
    "\n",
    "# Set necessary options for mesh generation\n",
    "gmsh_renderer.options.mesh.min_size = \"5um\"\n",
    "gmsh_renderer.options.mesh.max_size = \"70um\""
   ]
  },
  {
   "cell_type": "code",
   "execution_count": null,
   "id": "17eb66fd-855f-4b5b-93f4-d609d3bdeb87",
   "metadata": {},
   "outputs": [],
   "source": [
    "# Render the wireframe of the design\n",
    "gmsh_renderer.render_design(mesh_geoms=False, skip_junctions=True)\n",
    "\n",
    "# Launch Gmsh GUI to verify\n",
    "gmsh_renderer.launch_gui()"
   ]
  },
  {
   "cell_type": "code",
   "execution_count": null,
   "id": "6b179f4e-bc22-4dcd-8853-8de67bffda30",
   "metadata": {
    "scrolled": true,
    "tags": []
   },
   "outputs": [],
   "source": [
    "# Once you've verified that the design looks correct\n",
    "gmsh_renderer.add_mesh(dim=3, intelli_mesh=False)\n",
    "gmsh_renderer.launch_gui()\n",
    "\n",
    "# Close and destroy the renderer object\n",
    "gmsh_renderer.close()"
   ]
  },
  {
   "cell_type": "code",
   "execution_count": 31,
   "id": "76f48a41-8af5-49d6-ae09-3c46f0d40606",
   "metadata": {
    "scrolled": true,
    "tags": []
   },
   "outputs": [
    {
     "data": {
      "text/html": [
       "\n",
       "    <h1 style=\"\n",
       "        background: #12c2e9;  /* fallback for old browsers */\n",
       "        background: -webkit-linear-gradient(to right, #d4418e 0%, #0652c5 74%);  /* Chrome 10-25, Safari 5.1-6 */\n",
       "        background: linear-gradient(315deg, #d4418e 0%, #0652c5 74%); /* W3C, IE 10+/ Edge, Firefox 16+, Chrome 26+, Opera 12+, Safari 7+ */\n",
       "        margin-top: 50px;\n",
       "        border-style: outset;\n",
       "        padding-top:100px;\n",
       "        padding-bottom:50px;\n",
       "        padding-left:25px;\n",
       "        color: white;\n",
       "    \"> Intelli-mesh in Gmsh <h1>\n",
       "        "
      ],
      "text/plain": [
       "<IPython.core.display.HTML object>"
      ]
     },
     "metadata": {},
     "output_type": "display_data"
    }
   ],
   "source": [
    "%metal_heading Intelli-mesh in Gmsh"
   ]
  },
  {
   "cell_type": "code",
   "execution_count": null,
   "id": "6fbafd02-e33b-4b35-bbda-d0a26cae0d2d",
   "metadata": {
    "scrolled": true,
    "tags": []
   },
   "outputs": [],
   "source": [
    "gmsh_renderer = QGmshRenderer(design)\n",
    "gmsh_renderer.options.mesh.min_size = \"5um\"\n",
    "gmsh_renderer.options.mesh.max_size = \"70um\"\n",
    "\n",
    "gmsh_renderer.render_design(mesh_geoms=False)\n",
    "gmsh_renderer.add_mesh(dim=3, intelli_mesh=True)\n",
    "\n",
    "gmsh_renderer.launch_gui()"
   ]
  },
  {
   "cell_type": "code",
   "execution_count": null,
   "id": "0a94fbb1-3fc7-4fde-9a7b-438b3a0982d0",
   "metadata": {
    "scrolled": true,
    "tags": []
   },
   "outputs": [],
   "source": [
    "# Export the mesh to a file\n",
    "gmsh_renderer.export_mesh(\"test.msh\")"
   ]
  },
  {
   "cell_type": "code",
   "execution_count": null,
   "id": "debc9298-3499-484b-aa33-f0eac8f1da18",
   "metadata": {
    "scrolled": true,
    "tags": []
   },
   "outputs": [],
   "source": [
    "# Close and destroy the renderer object\n",
    "gmsh_renderer.close()"
   ]
  },
  {
   "cell_type": "code",
   "execution_count": null,
   "id": "91eb8678-5dc8-478b-b20f-40b9dc35f559",
   "metadata": {},
   "outputs": [],
   "source": [
    "gui.main_window.close()"
   ]
  },
  {
   "cell_type": "code",
   "execution_count": null,
   "id": "74b5a3e6-72c5-46ed-8035-42583b17c6da",
   "metadata": {},
   "outputs": [],
   "source": []
  }
 ],
 "metadata": {
  "kernelspec": {
   "display_name": "Python 3 (ipykernel)",
   "language": "python",
   "name": "python3"
  },
  "language_info": {
   "codemirror_mode": {
    "name": "ipython",
    "version": 3
   },
   "file_extension": ".py",
   "mimetype": "text/x-python",
   "name": "python",
   "nbconvert_exporter": "python",
   "pygments_lexer": "ipython3",
   "version": "3.9.7"
  }
 },
 "nbformat": 4,
 "nbformat_minor": 5
}
