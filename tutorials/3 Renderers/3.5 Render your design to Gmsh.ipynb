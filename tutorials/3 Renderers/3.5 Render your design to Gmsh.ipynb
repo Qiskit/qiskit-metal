{
 "cells": [
  {
   "cell_type": "code",
   "execution_count": null,
   "id": "0c0171b1-1143-43ed-9645-9e510f806b28",
   "metadata": {},
   "outputs": [],
   "source": [
    "%load_ext autoreload\n",
    "%autoreload 2"
   ]
  },
  {
   "cell_type": "code",
   "execution_count": null,
   "id": "a9257f6e-c721-497d-9fd6-aac4dac1c76a",
   "metadata": {},
   "outputs": [],
   "source": [
    "from qiskit_metal import MetalGUI, designs\n",
    "from qiskit_metal.qlibrary.qubits.transmon_pocket import TransmonPocket\n",
    "from qiskit_metal.qlibrary.tlines.meandered import RouteMeander\n",
    "from qiskit_metal.qlibrary.terminations.open_to_ground import OpenToGround"
   ]
  },
  {
   "cell_type": "code",
   "execution_count": null,
   "id": "2e9f81bb-dcbc-461d-ad04-7095069152a6",
   "metadata": {},
   "outputs": [],
   "source": [
    "%metal_heading Making your design in Metal"
   ]
  },
  {
   "cell_type": "code",
   "execution_count": null,
   "id": "4c5b108d-0ffb-4ea6-a807-63b74cd7649f",
   "metadata": {},
   "outputs": [],
   "source": [
    "design = designs.MultiPlanar({}, overwrite_enabled=True)\n",
    "gui = MetalGUI(design)"
   ]
  },
  {
   "cell_type": "code",
   "execution_count": null,
   "id": "b0869922-c079-48ef-9c2a-6021f5727f5a",
   "metadata": {},
   "outputs": [],
   "source": [
    "design.delete_all_components()"
   ]
  },
  {
   "cell_type": "code",
   "execution_count": null,
   "id": "abecc70e-54f1-43ab-a6f9-2abdadce6f40",
   "metadata": {},
   "outputs": [],
   "source": [
    "# Making the qubit\n",
    "q_opts = dict(\n",
    "    pos_x = \"2mm\",\n",
    "    pos_y = \"2mm\",\n",
    "    connection_pads = dict(\n",
    "        readout = dict()\n",
    "    )\n",
    ")\n",
    "\n",
    "q1 = TransmonPocket(design, \"Q1\", options=q_opts)\n",
    "\n",
    "gui.rebuild()\n",
    "gui.autoscale()"
   ]
  },
  {
   "cell_type": "code",
   "execution_count": null,
   "id": "d01a434e-b039-4893-b424-e41028cab67a",
   "metadata": {},
   "outputs": [],
   "source": [
    "# Making the open to ground\n",
    "otg_opts = dict(\n",
    "    pos_x = \"4mm\",\n",
    "    pos_y = \"2mm\",\n",
    ")\n",
    "\n",
    "otg1 = OpenToGround(design, \"otg1\", options=otg_opts)\n",
    "\n",
    "gui.rebuild()\n",
    "gui.autoscale()"
   ]
  },
  {
   "cell_type": "code",
   "execution_count": null,
   "id": "6a2979cd-d377-4980-870a-590f541fb2e8",
   "metadata": {},
   "outputs": [],
   "source": [
    "meander_opts1 = dict(\n",
    "    pin_inputs = dict(\n",
    "        start_pin = dict(component = \"Q1\", pin = \"readout\"),\n",
    "        end_pin = dict(component = \"otg1\", pin = \"open\")\n",
    "    ),\n",
    "    lead = dict(\n",
    "        start_straight = \"100um\"\n",
    "    ),\n",
    "    fillet = \"99.99um\",\n",
    "    asymmetry = \"100um\",\n",
    ")\n",
    "\n",
    "mtl1 = RouteMeander(design, \"mtl1\", options=meander_opts1)\n",
    "\n",
    "gui.rebuild()\n",
    "gui.autoscale()"
   ]
  },
  {
   "cell_type": "code",
   "execution_count": null,
   "id": "4d4718a3-8e27-401b-a4eb-736669c27ecb",
   "metadata": {},
   "outputs": [],
   "source": [
    "%metal_heading Render to Gmsh"
   ]
  },
  {
   "cell_type": "code",
   "execution_count": null,
   "id": "702ff24d-8576-40bc-82df-229ec72978fc",
   "metadata": {},
   "outputs": [],
   "source": [
    "from qiskit_metal.renderers.renderer_gmsh.gmsh_renderer import QGmshRenderer\n",
    "\n",
    "# Instantiate QGmshRenderer\n",
    "gmsh_renderer = QGmshRenderer(design)\n",
    "\n",
    "# Set necessary options for mesh generation\n",
    "gmsh_renderer.options.mesh.min_size = \"5um\"\n",
    "gmsh_renderer.options.mesh.max_size = \"70um\""
   ]
  },
  {
   "cell_type": "code",
   "execution_count": null,
   "id": "17eb66fd-855f-4b5b-93f4-d609d3bdeb87",
   "metadata": {},
   "outputs": [],
   "source": [
    "# Render the wireframe of the design\n",
    "gmsh_renderer.render_design(mesh_geoms=False, skip_junctions=True)\n",
    "\n",
    "# Launch Gmsh GUI to verify\n",
    "gmsh_renderer.launch_gui()"
   ]
  },
  {
   "cell_type": "code",
   "execution_count": null,
   "id": "052e72a4-c17f-4f30-978a-8f9c6ad53dab",
   "metadata": {
    "scrolled": true,
    "tags": []
   },
   "outputs": [],
   "source": [
    "# Once you've verified that the design looks correct\n",
    "gmsh_renderer.add_mesh(dim=3, intelli_mesh=False)\n",
    "gmsh_renderer.launch_gui()"
   ]
  },
  {
   "cell_type": "code",
   "execution_count": null,
   "id": "c472a7ff-9a2d-4be2-be6a-fad61e94548c",
   "metadata": {
    "scrolled": true,
    "tags": []
   },
   "outputs": [],
   "source": [
    "# Close and destroy the renderer object\n",
    "gmsh_renderer.close()"
   ]
  },
  {
   "cell_type": "code",
   "execution_count": null,
   "id": "76f48a41-8af5-49d6-ae09-3c46f0d40606",
   "metadata": {
    "scrolled": true,
    "tags": []
   },
   "outputs": [],
   "source": [
    "%metal_heading Intelli-mesh in Gmsh"
   ]
  },
  {
   "cell_type": "code",
   "execution_count": null,
   "id": "6fbafd02-e33b-4b35-bbda-d0a26cae0d2d",
   "metadata": {
    "scrolled": true,
    "tags": []
   },
   "outputs": [],
   "source": [
    "gmsh_renderer = QGmshRenderer(design)\n",
    "gmsh_renderer.options.mesh.min_size = \"5um\"\n",
    "gmsh_renderer.options.mesh.max_size = \"70um\"\n",
    "\n",
    "gmsh_renderer.render_design(mesh_geoms=False)\n",
    "gmsh_renderer.add_mesh(dim=3, intelli_mesh=True)\n",
    "\n",
    "gmsh_renderer.launch_gui()"
   ]
  },
  {
   "cell_type": "code",
   "execution_count": null,
   "id": "0a94fbb1-3fc7-4fde-9a7b-438b3a0982d0",
   "metadata": {
    "scrolled": true,
    "tags": []
   },
   "outputs": [],
   "source": [
    "# Export the mesh to a file\n",
    "gmsh_renderer.export_mesh(\"test.msh\")"
   ]
  },
  {
   "cell_type": "code",
   "execution_count": null,
   "id": "debc9298-3499-484b-aa33-f0eac8f1da18",
   "metadata": {
    "scrolled": true,
    "tags": []
   },
   "outputs": [],
   "source": [
    "# Close and destroy the renderer object\n",
    "gmsh_renderer.close()"
   ]
  },
  {
   "cell_type": "code",
   "execution_count": null,
   "id": "91eb8678-5dc8-478b-b20f-40b9dc35f559",
   "metadata": {},
   "outputs": [],
   "source": [
    "gui.main_window.close()"
   ]
  },
  {
   "cell_type": "code",
   "execution_count": null,
   "id": "74b5a3e6-72c5-46ed-8035-42583b17c6da",
   "metadata": {},
   "outputs": [],
   "source": []
  }
 ],
 "metadata": {
  "kernelspec": {
   "display_name": "Python 3 (ipykernel)",
   "language": "python",
   "name": "python3"
  },
  "language_info": {
   "codemirror_mode": {
    "name": "ipython",
    "version": 3
   },
   "file_extension": ".py",
   "mimetype": "text/x-python",
   "name": "python",
   "nbconvert_exporter": "python",
   "pygments_lexer": "ipython3",
   "version": "3.9.7"
  }
 },
 "nbformat": 4,
 "nbformat_minor": 5
}
