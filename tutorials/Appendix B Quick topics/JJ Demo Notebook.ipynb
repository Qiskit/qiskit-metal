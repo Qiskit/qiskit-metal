{
 "cells": [
  {
   "cell_type": "markdown",
   "id": "7e7a2a05",
   "metadata": {},
   "source": [
    "# Josephson Junction QComponent Demo Notebook"
   ]
  },
  {
   "cell_type": "markdown",
   "id": "ecaf9d2c",
   "metadata": {},
   "source": [
    "This demo notebook describes two types of Josephson Junction (JJ) qcomponents available in Qiskit Metal, including a \"Manhattan\"-style JJ and a \"Dolan\"-style JJ. In addition, we demonstrate how to insert these realistic JJ structures in between the capacative pads of the transmon pocket qcomponent, forming a realistic qubit design. "
   ]
  },
  {
   "cell_type": "markdown",
   "id": "063d13a4",
   "metadata": {},
   "source": [
    "Let's start to importing some key modules:"
   ]
  },
  {
   "cell_type": "code",
   "execution_count": 1,
   "id": "e1f011f8",
   "metadata": {},
   "outputs": [],
   "source": [
    "import qiskit_metal as metal\n",
    "from qiskit_metal import designs, draw\n",
    "from qiskit_metal import MetalGUI, Dict #, open_docs"
   ]
  },
  {
   "cell_type": "markdown",
   "id": "0ab780fa",
   "metadata": {},
   "source": [
    "Next, we'll fire up the Qiskit Metal GUI: "
   ]
  },
  {
   "cell_type": "code",
   "execution_count": 2,
   "id": "2468f42c",
   "metadata": {},
   "outputs": [],
   "source": [
    "design = designs.DesignPlanar()\n",
    "gui = MetalGUI(design)"
   ]
  },
  {
   "cell_type": "markdown",
   "id": "b6a3f64f",
   "metadata": {},
   "source": [
    "Next, let's see what a Manhattan-style JJ looks like. We'll import the qcomponent and place it in our design, calling it \"JJ1\":"
   ]
  },
  {
   "cell_type": "code",
   "execution_count": 3,
   "id": "1ab3dd02",
   "metadata": {},
   "outputs": [],
   "source": [
    "from qiskit_metal.qlibrary.qubits.JJ_Manhattan import JJ_Manhattan\n",
    "design.overwrite_enabled = True\n",
    "jj1 = JJ_Manhattan(design, 'JJ1', options=dict())\n",
    "gui.rebuild()\n",
    "gui.autoscale()"
   ]
  },
  {
   "cell_type": "markdown",
   "id": "798e6936",
   "metadata": {},
   "source": [
    "Note that you'll have to zoom in to see the JJ qcomponent since the default dimensions are quite small (micrometers instead of mm!) For the Manhattan-style junction, we see two crossing rectangles each connected to a larger rectangular pad. All of the metal is part of the same layer, as opposed to the two-layer Dolan-style design that we'll see below. \n",
    "\n",
    "Also note that for both JJ qcomponents, the coordinates (x_pos, y_pos) define the lower-left corner of the bottom rectangle. Since the default values of these coordinates are zero, we see that the bottom left corner is at the origin. \n",
    "\n",
    "Now, let's take a look at a Dolan-style JJ qcomponent design. We'll call this one \"JJ2\" and we'll place it such that the bottom left corner is at the coordinate (0.1, 0.0) so that we can look at the two qcomponents side-by-side in our design: "
   ]
  },
  {
   "cell_type": "code",
   "execution_count": 4,
   "id": "87ab8c1c",
   "metadata": {},
   "outputs": [],
   "source": [
    "from qiskit_metal.qlibrary.qubits.JJ_Dolan import JJ_Dolan\n",
    "design.overwrite_enabled = True\n",
    "jj2 = JJ_Dolan(design, 'JJ2', options=dict(x_pos=\"0.1\", y_pos=\"0.0\"))\n",
    "gui.rebuild()\n",
    "gui.autoscale()"
   ]
  },
  {
   "cell_type": "markdown",
   "id": "45c40ecd",
   "metadata": {},
   "source": [
    "You'll notice that the Dolan-style JJ has a similar structure as the Manhattan-style JJ but the second set of rectangles is translated so that they no longer overlap with the first pair of rectangles. In addition, we see a smaller rectangle drawn which is actually defined to be on a different metal layer than the other rectangles. This reflects the fact that in Dolan-style JJ fabrication, there are two separate metal levels used in the shadow masking process. "
   ]
  },
  {
   "cell_type": "markdown",
   "id": "4a06546f",
   "metadata": {},
   "source": [
    "### Inserting Josephson Junctions into a Transmon Qubit Design"
   ]
  },
  {
   "cell_type": "markdown",
   "id": "3bc1d5f9",
   "metadata": {},
   "source": [
    "In a realistic quantum chip design, the JJs would be located in between the large pads of the transmon pocket. Before we show what this would actually look like, let's delete the two JJs that we've drawn and start from scratch. "
   ]
  },
  {
   "cell_type": "code",
   "execution_count": 5,
   "id": "c1683a34",
   "metadata": {},
   "outputs": [],
   "source": [
    "jj1.delete()\n",
    "jj2.delete()"
   ]
  },
  {
   "cell_type": "markdown",
   "id": "096b70d8",
   "metadata": {},
   "source": [
    "You may have to hit the \"Replot\" button in the GUI after deleting. Now, let's create an instance of a basic transmon pocket qcomponent, using all default settings:"
   ]
  },
  {
   "cell_type": "code",
   "execution_count": 6,
   "id": "e3373b2e",
   "metadata": {},
   "outputs": [],
   "source": [
    "from qiskit_metal.qlibrary.qubits.transmon_pocket import TransmonPocket\n",
    "design.overwrite_enabled = True\n",
    "q1 = TransmonPocket(design, 'qubit1', options=dict())\n",
    "gui.rebuild()\n",
    "gui.autoscale()"
   ]
  },
  {
   "cell_type": "markdown",
   "id": "13aaf573",
   "metadata": {},
   "source": [
    "We can zoom in and see that the middle of the \"JJ region\" of the transmon pocket is at the origin. This is the region we will place our actual JJ qcomponent. Since we want the larger rectangular pads of the JJ qcomponent to overlap with the large rectangular pads of the transmon pocket, we'll have to pick a suitable (x,y) coordinate for the JJ. Here's an example of placing the Manhattan-style JJ in this region:"
   ]
  },
  {
   "cell_type": "code",
   "execution_count": 7,
   "id": "966e6dc0",
   "metadata": {},
   "outputs": [],
   "source": [
    "from qiskit_metal.qlibrary.qubits.JJ_Manhattan import JJ_Manhattan\n",
    "design.overwrite_enabled = True\n",
    "jj1 = JJ_Manhattan(design, 'JJ1', options=dict(x_pos=\"-0.015\", y_pos=\"-0.02\"))\n",
    "gui.rebuild()\n",
    "gui.autoscale()"
   ]
  },
  {
   "cell_type": "markdown",
   "id": "e7e23888",
   "metadata": {},
   "source": [
    "In the same way, we can place another transmon pocket at (1,1) and then place a Dolan-style JJ inside:"
   ]
  },
  {
   "cell_type": "code",
   "execution_count": 8,
   "id": "a193d6bd",
   "metadata": {},
   "outputs": [
    {
     "name": "stderr",
     "output_type": "stream",
     "text": [
      "12:00PM 26s CRITICAL [_qt_message_handler]: line: 0, func: None(), file: None  WARNING: QWindowsNativeFileDialogBase::selectNameFilter: Invalid parameter '*.gds' not found in 'All Files (*)'.\n",
      "\n",
      "12:00PM 26s CRITICAL [_qt_message_handler]: line: 0, func: None(), file: None  WARNING: QWindowsNativeFileDialogBase::selectNameFilter: Invalid parameter '*.gds' not found in 'All Files (*)'.\n",
      "\n",
      "12:01PM 52s CRITICAL [_qt_message_handler]: line: 0, func: None(), file: None  WARNING: QWindowsNativeFileDialogBase::selectNameFilter: Invalid parameter '*.gds' not found in 'All Files (*)'.\n",
      "\n",
      "12:01PM 52s CRITICAL [_qt_message_handler]: line: 0, func: None(), file: None  WARNING: QWindowsNativeFileDialogBase::selectNameFilter: Invalid parameter '*.gds' not found in 'All Files (*)'.\n",
      "\n"
     ]
    }
   ],
   "source": [
    "design.overwrite_enabled = True\n",
    "q2 = TransmonPocket(design, 'qubit2', options=dict(pos_x=\"1.0\"))\n",
    "jj2 = JJ_Dolan(design, 'JJ2', options=dict(x_pos=\"0.985\", y_pos=\"-0.02\"))\n",
    "gui.rebuild()\n",
    "gui.autoscale()"
   ]
  },
  {
   "cell_type": "code",
   "execution_count": null,
   "id": "2a7132e7",
   "metadata": {},
   "outputs": [],
   "source": []
  }
 ],
 "metadata": {
  "kernelspec": {
   "display_name": "Python 3",
   "language": "python",
   "name": "python3"
  },
  "language_info": {
   "codemirror_mode": {
    "name": "ipython",
    "version": 3
   },
   "file_extension": ".py",
   "mimetype": "text/x-python",
   "name": "python",
   "nbconvert_exporter": "python",
   "pygments_lexer": "ipython3",
   "version": "3.8.10"
  }
 },
 "nbformat": 4,
 "nbformat_minor": 5
}
