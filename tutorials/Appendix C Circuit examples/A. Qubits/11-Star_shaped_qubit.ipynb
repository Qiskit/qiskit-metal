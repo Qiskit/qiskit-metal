{
 "cells": [
  {
   "cell_type": "markdown",
   "id": "897068e9",
   "metadata": {},
   "source": [
    "# Star shaped qubit\n",
    "\n",
    "We'll be creating a 2D design and adding a star shaped qubit QComponent.\n",
    "\n",
    "\n",
    "There's a central star shaped component. This component is essentially a circle with trpezoids subtracted from it. A T-junction qubit is attached to this central shape. Then there are four coupling resonators and one readout resonator present in the default setting. The shape of the central component and the number coupling resonators are customizable. Let's try out a few diferent ways to create and render this component."
   ]
  },
  {
   "cell_type": "code",
   "execution_count": null,
   "id": "4920e2a9",
   "metadata": {},
   "outputs": [],
   "source": [
    "# So, let us dive right in. For convenience, let's begin by enabling\n",
    "# automatic reloading of modules when they change.\n",
    "%load_ext autoreload\n",
    "%autoreload 2"
   ]
  },
  {
   "cell_type": "markdown",
   "id": "d55665b3",
   "metadata": {},
   "source": [
    "Next, we import the relevant modules. You can add new modules as and when needed. "
   ]
  },
  {
   "cell_type": "code",
   "execution_count": null,
   "id": "bright-latex",
   "metadata": {},
   "outputs": [],
   "source": [
    "import qiskit_metal as metal\n",
    "import numpy as np\n",
    "from math import *\n",
    "from qiskit_metal import designs, draw, Dict\n",
    "from qiskit_metal.qlibrary.core import BaseQubit, QComponent"
   ]
  },
  {
   "cell_type": "markdown",
   "id": "a9e25057",
   "metadata": {},
   "source": [
    "Next we import the GUI"
   ]
  },
  {
   "cell_type": "code",
   "execution_count": null,
   "id": "endangered-saying",
   "metadata": {},
   "outputs": [],
   "source": [
    "from qiskit_metal import MetalGUI"
   ]
  },
  {
   "cell_type": "markdown",
   "id": "5bf14a49",
   "metadata": {},
   "source": [
    "A QDesign class must be instantiated each time a new quantum circuit design is created. The design class `DesignPlanar` is best for 2D circuit designs."
   ]
  },
  {
   "cell_type": "code",
   "execution_count": null,
   "id": "civil-characteristic",
   "metadata": {},
   "outputs": [],
   "source": [
    "design = designs.DesignPlanar()\n",
    "gui = MetalGUI(design)\n",
    "gui.rebuild() "
   ]
  },
  {
   "cell_type": "markdown",
   "id": "99f5beef",
   "metadata": {},
   "source": [
    "# A Star Qubit\n",
    "\n",
    "You can create a ready-made star qubit from the QComponent Library, qiskit_metal.qlibrary.qubits. star_qubit.py is the file containing our qubit so StarQubit is the module we import. \n"
   ]
  },
  {
   "cell_type": "code",
   "execution_count": null,
   "id": "913c82b8",
   "metadata": {},
   "outputs": [],
   "source": [
    "from qiskit_metal.qlibrary.qubits.star_qubit import StarQubit"
   ]
  },
  {
   "cell_type": "code",
   "execution_count": null,
   "id": "b47cbef4",
   "metadata": {},
   "outputs": [],
   "source": [
    "# The following default_options can be overridden by user.\n",
    "StarQubit.get_template_options(design)"
   ]
  },
  {
   "cell_type": "code",
   "execution_count": null,
   "id": "b01be30b",
   "metadata": {},
   "outputs": [],
   "source": [
    "# To force overwrite a QComponent with an existing name.  \n",
    "# This is useful when re-running cells in a notebook. \n",
    "design.overwrite_enabled = True"
   ]
  },
  {
   "cell_type": "markdown",
   "id": "96a19309",
   "metadata": {},
   "source": [
    "Let us place the qubit at (x,y) =(5,5), and change the default rotation values. As this design is meant to have up to 5 contacts including one readout and up to 4 coupling resonators, these angles should be 72 degrees apart. However, the number of connectors may be changed to any value between 0 and 4."
   ]
  },
  {
   "cell_type": "code",
   "execution_count": null,
   "id": "a3926220",
   "metadata": {
    "scrolled": true
   },
   "outputs": [],
   "source": [
    "qubit_options = dict(\n",
    "    pos_x = '5um',\n",
    "    pos_y = '5um',  \n",
    "    number_of_connectors = 4 # Change the number of connectors\n",
    ")\n",
    "\n",
    "# Create a new Concentric Transmon object with name 'Q1' \n",
    "q1 = StarQubit(design, 'Star', options=qubit_options)\n",
    "\n",
    "gui.rebuild()  # rebuild the design and plot \n",
    "gui.autoscale() #resize GUI to see QComponent\n",
    "gui.zoom_on_components(['Star']) #Can also gui.zoom_on_components([q1.name])"
   ]
  },
  {
   "cell_type": "code",
   "execution_count": null,
   "id": "rotary-charity",
   "metadata": {
    "scrolled": true
   },
   "outputs": [],
   "source": [
    "#Let's see what the Q1 object looks like\n",
    "\n",
    "q1 #print Q1 information"
   ]
  },
  {
   "cell_type": "code",
   "execution_count": null,
   "id": "bca963d5",
   "metadata": {},
   "outputs": [],
   "source": [
    "#Save screenshot as a .png formatted file.\n",
    "gui.screenshot()"
   ]
  },
  {
   "cell_type": "code",
   "execution_count": null,
   "id": "fe6d25d6",
   "metadata": {},
   "outputs": [],
   "source": [
    "# Screenshot the canvas only as a .png formatted file.\n",
    "gui.figure.savefig('shot.png')\n",
    "\n",
    "from IPython.display import Image, display\n",
    "_disp_ops = dict(width=500)\n",
    "display(Image('shot.png', **_disp_ops))"
   ]
  },
  {
   "cell_type": "markdown",
   "id": "c3580b37",
   "metadata": {},
   "source": [
    "# Render to Ansys\n",
    "\n",
    "In this section we will use a semi-manual (advanced) analysis flow. Please refer to tutorial 4.2 for the `suggested` method. As illustrated, the methods are equivalent, but the advanced method allows you to directly override some renderer-specific settings.\n",
    "\n",
    "### Finite Element Eigenmode Analysis\n",
    "\n",
    "#### Setup\n",
    "\n",
    "Select the analysis you intend to run from the `qiskit_metal.analyses` collection.<br>\n",
    "Select the design to analyze and the tool to use for any external simulation."
   ]
  },
  {
   "cell_type": "code",
   "execution_count": null,
   "id": "cb328082",
   "metadata": {},
   "outputs": [],
   "source": [
    "from qiskit_metal.analyses.quantization import EPRanalysis\n",
    "eig_qb = EPRanalysis(design, \"hfss\")"
   ]
  },
  {
   "cell_type": "markdown",
   "id": "2bc26b87",
   "metadata": {},
   "source": [
    "The renderer can be reached from the analysis class. Let's give it a shorter alias."
   ]
  },
  {
   "cell_type": "code",
   "execution_count": null,
   "id": "2e08c0aa",
   "metadata": {},
   "outputs": [],
   "source": [
    "hfss = eig_qb.sim.renderer"
   ]
  },
  {
   "cell_type": "markdown",
   "id": "539e3f34",
   "metadata": {},
   "source": [
    "Now we connect to the tool using the unified command."
   ]
  },
  {
   "cell_type": "code",
   "execution_count": null,
   "id": "8e276792",
   "metadata": {},
   "outputs": [],
   "source": [
    "hfss.start()"
   ]
  },
  {
   "cell_type": "markdown",
   "id": "9e29d4d1",
   "metadata": {},
   "source": [
    "The previous command is supposed to open ansys (if closed), create a new project and finally connect this notebook to it.\n",
    "\n",
    "If for any reason the previous cell failed, please try the manual path described in the next three cells:\n",
    "1. uncomment and execute only **one** of the lines in the first cell.\n",
    "1. uncomment and execute the second cell.\n",
    "1. uncomment and execute only **one** of the lines in the third cell."
   ]
  },
  {
   "cell_type": "code",
   "execution_count": null,
   "id": "d37b1888",
   "metadata": {},
   "outputs": [],
   "source": [
    "# hfss.open_ansys()   # this opens Ansys 2021 R2 if present\n",
    "hfss.open_ansys(path_var='ANSYSEM_ROOT211')\n",
    "# hfss.open_ansys(path='C:\\\\Program Files\\\\AnsysEM\\\\AnsysEM21.1\\\\Win64')\n",
    "# hfss.open_ansys(path='../../../Program Files/AnsysEM/AnsysEM21.1/Win64'"
   ]
  },
  {
   "cell_type": "code",
   "execution_count": null,
   "id": "1bdbc2ad",
   "metadata": {},
   "outputs": [],
   "source": [
    "hfss.new_ansys_project()"
   ]
  },
  {
   "cell_type": "code",
   "execution_count": null,
   "id": "fed22f52",
   "metadata": {},
   "outputs": [],
   "source": [
    "hfss.connect_ansys()\n",
    "# hfss.connect_ansys('C:\\\\project_path\\\\', 'Project1')  # will open a saved project before linking the Jupyter session"
   ]
  },
  {
   "cell_type": "markdown",
   "id": "6c330b1e",
   "metadata": {},
   "source": [
    "#### Render design in Ansys\n",
    "\n",
    "Create and activate an eigenmode design called \"StarQubit\"."
   ]
  },
  {
   "cell_type": "code",
   "execution_count": null,
   "id": "c07e943d",
   "metadata": {},
   "outputs": [],
   "source": [
    "hfss.activate_ansys_design(\"StarQubit\", 'eigenmode')  # use new_ansys_design() to force creation of a blank design"
   ]
  },
  {
   "cell_type": "markdown",
   "id": "4fe0e717",
   "metadata": {},
   "source": [
    "Render the single qubit in Metal, called q1, to \"StarQubit\" design in Ansys."
   ]
  },
  {
   "cell_type": "code",
   "execution_count": null,
   "id": "0bf23264",
   "metadata": {
    "scrolled": true
   },
   "outputs": [],
   "source": [
    "hfss.render_design(['Star'], [])\n",
    "hfss.save_screenshot()"
   ]
  },
  {
   "cell_type": "markdown",
   "id": "46e62f3e",
   "metadata": {},
   "source": [
    "## Disconnect from Ansys"
   ]
  },
  {
   "cell_type": "code",
   "execution_count": null,
   "id": "3a9a84c3",
   "metadata": {},
   "outputs": [],
   "source": [
    "eig_qb.sim.close()"
   ]
  },
  {
   "cell_type": "markdown",
   "id": "9a8beab7",
   "metadata": {},
   "source": [
    "# Closing the Qiskit Metal GUI"
   ]
  },
  {
   "cell_type": "code",
   "execution_count": null,
   "id": "6b79072d",
   "metadata": {},
   "outputs": [],
   "source": [
    "gui.main_window.close()"
   ]
  }
 ],
 "metadata": {
  "kernelspec": {
   "display_name": "Python 3 (ipykernel)",
   "language": "python",
   "name": "python3"
  },
  "language_info": {
   "codemirror_mode": {
    "name": "ipython",
    "version": 3
   },
   "file_extension": ".py",
   "mimetype": "text/x-python",
   "name": "python",
   "nbconvert_exporter": "python",
   "pygments_lexer": "ipython3",
   "version": "3.9.6"
  }
 },
 "nbformat": 4,
 "nbformat_minor": 5
}
