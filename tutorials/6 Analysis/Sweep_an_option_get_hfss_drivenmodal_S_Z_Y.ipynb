{
 "cells": [
  {
   "cell_type": "markdown",
   "id": "dfdbdd83-3d7a-4ce6-9e14-73da77eafb1b",
   "metadata": {},
   "source": [
    "# Sweep a option in QComponent, get Ansys HFSS driven-modal scatter matrix, impedance matrix, and admittance matrix."
   ]
  },
  {
   "cell_type": "markdown",
   "id": "6ff25fd3-dd09-42f6-a2cc-8a96dfc3b19f",
   "metadata": {},
   "source": [
    "# Prerequisite\n",
    "You need to have a working local installation of Ansys"
   ]
  },
  {
   "cell_type": "markdown",
   "id": "b8d33e1d-5dd4-4c44-a94b-27235735b2db",
   "metadata": {},
   "source": [
    "## 1. Perform the necessary imports and create a QDesign in Metal first."
   ]
  },
  {
   "cell_type": "code",
   "execution_count": 1,
   "id": "64f3f504-2ea5-4de7-8cb8-b83cd096024c",
   "metadata": {},
   "outputs": [],
   "source": [
    "%load_ext autoreload\n",
    "%autoreload 2"
   ]
  },
  {
   "cell_type": "code",
   "execution_count": 2,
   "id": "73a5d892-784c-40ed-9ba3-b8fc400e8f7c",
   "metadata": {},
   "outputs": [],
   "source": [
    "import qiskit_metal as metal\n",
    "from qiskit_metal import designs, draw\n",
    "from qiskit_metal import MetalGUI, Dict, Headings\n",
    "import pyEPR as epr\n",
    "from qiskit_metal.analyses.sweep_options.sweeping import Sweeping"
   ]
  },
  {
   "cell_type": "markdown",
   "id": "b112357b-556f-46f0-80bf-3ebb5e2d2a19",
   "metadata": {},
   "source": [
    "## Create the design in Metal\n",
    " Set up a design of a given dimension.  Create a design by specifying the chip size and open Metal GUI.  Dimensions will be respected in the design rendering.  Note the chip design is centered at origin (0,0)."
   ]
  },
  {
   "cell_type": "code",
   "execution_count": 4,
   "id": "a2dcc2da-f532-4842-9787-ba243e6a3164",
   "metadata": {},
   "outputs": [],
   "source": [
    "design = designs.DesignPlanar({}, True)\n",
    "design.chips.main.size['size_x'] = '2mm'\n",
    "design.chips.main.size['size_y'] = '2mm'\n",
    "\n",
    "gui = MetalGUI(design)\n",
    "\n",
    "# Perform the necessary imports.\n",
    "from qiskit_metal.qlibrary.couplers.coupled_line_tee import CoupledLineTee\n",
    "from qiskit_metal.qlibrary.tlines.meandered import RouteMeander\n",
    "from qiskit_metal.qlibrary.qubits.transmon_pocket import TransmonPocket\n",
    "from qiskit_metal.qlibrary.tlines.straight_path import RouteStraight\n",
    "from qiskit_metal.qlibrary.terminations.open_to_ground import OpenToGround"
   ]
  },
  {
   "cell_type": "code",
   "execution_count": 5,
   "id": "51663c3a-92c2-4b00-a148-0882564c6b6e",
   "metadata": {},
   "outputs": [],
   "source": []
  },
  {
   "cell_type": "code",
   "execution_count": 6,
   "id": "3e5a6413-ca0d-4672-a360-99af3fe63a65",
   "metadata": {},
   "outputs": [],
   "source": [
    "# Add 2 transmons to the design.\n",
    "options = dict(\n",
    "    # Some options we want to modify from the deafults\n",
    "    # (see below for defaults)\n",
    "    pad_width='425 um',\n",
    "    pocket_height='650um',\n",
    "    # Adding 4 connectors (see below for defaults)\n",
    "    connection_pads=dict(a=dict(loc_W=+1, loc_H=+1),\n",
    "                         b=dict(loc_W=-1, loc_H=+1, pad_height='30um'),\n",
    "                         c=dict(loc_W=+1, loc_H=-1, pad_width='200um'),\n",
    "                         d=dict(loc_W=-1, loc_H=-1, pad_height='50um')))\n",
    "\n",
    "## Create 2 transmons\n",
    "q1 = TransmonPocket(design,\n",
    "                    'Q1',\n",
    "                    options=dict(pos_x='+1.4mm',\n",
    "                                 pos_y='0mm',\n",
    "                                 orientation='90',\n",
    "                                 **options))\n",
    "q2 = TransmonPocket(design,\n",
    "                    'Q2',\n",
    "                    options=dict(pos_x='-0.6mm',\n",
    "                                 pos_y='0mm',\n",
    "                                 orientation='90',\n",
    "                                 **options))\n",
    "\n",
    "gui.rebuild()\n",
    "gui.autoscale()"
   ]
  },
  {
   "cell_type": "code",
   "execution_count": 7,
   "id": "89b65896-908f-4475-b4bc-d1ee826feacb",
   "metadata": {},
   "outputs": [],
   "source": [
    "# Add 2 hangers consisting of capacitively coupled transmission lines.\n",
    "TQ1 = CoupledLineTee(design,\n",
    "                     'TQ1',\n",
    "                     options=dict(pos_x='1mm',\n",
    "                                  pos_y='3mm',\n",
    "                                  coupling_length='200um'))\n",
    "TQ2 = CoupledLineTee(design,\n",
    "                     'TQ2',\n",
    "                     options=dict(pos_x='-1mm',\n",
    "                                  pos_y='3mm',\n",
    "                                  coupling_length='200um'))\n",
    "\n",
    "gui.rebuild()\n",
    "gui.autoscale()"
   ]
  },
  {
   "cell_type": "code",
   "execution_count": 8,
   "id": "50fdbadb-ea7f-4863-9fe5-b7457dd9ba5b",
   "metadata": {},
   "outputs": [],
   "source": [
    "# Add 2 meandered CPWs connecting the transmons to the hangers.\n",
    "ops = dict(fillet='90um')\n",
    "design.overwrite_enabled = True\n",
    "\n",
    "options1 = Dict(total_length='8mm',\n",
    "                hfss_wire_bonds=True,\n",
    "                pin_inputs=Dict(start_pin=Dict(component='TQ1',\n",
    "                                               pin='second_end'),\n",
    "                                end_pin=Dict(component='Q1', pin='a')),\n",
    "                lead=Dict(start_straight='0.1mm'),\n",
    "                **ops)\n",
    "\n",
    "options2 = Dict(total_length='9mm',\n",
    "                hfss_wire_bonds=True,\n",
    "                pin_inputs=Dict(start_pin=Dict(component='TQ2',\n",
    "                                               pin='second_end'),\n",
    "                                end_pin=Dict(component='Q2', pin='a')),\n",
    "                lead=Dict(start_straight='0.1mm'),\n",
    "                **ops)\n",
    "\n",
    "meanderQ1 = RouteMeander(design, 'meanderQ1', options=options1)\n",
    "meanderQ2 = RouteMeander(design, 'meanderQ2', options=options2)\n",
    "\n",
    "gui.rebuild()\n",
    "gui.autoscale() "
   ]
  },
  {
   "cell_type": "code",
   "execution_count": 9,
   "id": "44c2ee18-7f0c-4029-beec-1b3c0e420bd0",
   "metadata": {},
   "outputs": [],
   "source": [
    "# Add 2 open to grounds at the ends of the horizontal CPW.\n",
    "otg1 = OpenToGround(design, 'otg1', options=dict(pos_x='3mm', pos_y='3mm'))\n",
    "otg2 = OpenToGround(design,\n",
    "                    'otg2',\n",
    "                    options=dict(pos_x='-3mm', pos_y='3mm', orientation='180'))\n",
    "\n",
    "gui.rebuild()\n",
    "gui.autoscale()\n",
    "\n",
    "# Add 3 straight CPWs that comprise the long horizontal CPW.\n",
    "\n",
    "ops_oR = Dict(hfss_wire_bonds=True,\n",
    "              pin_inputs=Dict(start_pin=Dict(component='TQ1', pin='prime_end'),\n",
    "                              end_pin=Dict(component='otg1', pin='open')))\n",
    "ops_mid = Dict(hfss_wire_bonds=True,\n",
    "               pin_inputs=Dict(start_pin=Dict(component='TQ1',\n",
    "                                              pin='prime_start'),\n",
    "                               end_pin=Dict(component='TQ2', pin='prime_end')))\n",
    "ops_oL = Dict(hfss_wire_bonds=True,\n",
    "              pin_inputs=Dict(start_pin=Dict(component='TQ2',\n",
    "                                             pin='prime_start'),\n",
    "                              end_pin=Dict(component='otg2', pin='open')))\n",
    "\n",
    "cpw_openRight = RouteStraight(design, 'cpw_openRight', options=ops_oR)\n",
    "cpw_middle = RouteStraight(design, 'cpw_middle', options=ops_mid)\n",
    "cpw_openLeft = RouteStraight(design, 'cpw_openLeft', options=ops_oL)\n",
    "\n",
    "gui.rebuild()\n",
    "gui.autoscale()"
   ]
  },
  {
   "cell_type": "markdown",
   "id": "a165d3e2-1abf-41d1-bc5c-3862ea76ff2f",
   "metadata": {},
   "source": [
    "## 2. Render the qubit from Metal into the HangingResonators design in Ansys. <br>Must open Ansys HFSS at this point. \n",
    "\n",
    "**Wait for Ansys to fully open before proceeding.**<br> If necessary, also close any Ansys popup windows.\n",
    "\n",
    "### Registration occurs automatically within the method \"sweep_one_option_get_drivenmodal_solution_data\". \n",
    "\n",
    "### Must have an open Ansys project and HFSS eigenmode design before executing render_design. Can do it manually or automate it. \n",
    "\n",
    "Manually: To create a new Ansys project, click \"New\", the leftmost icon right below the file menu. \n",
    "\n",
    "Automate: Execute the command <hfss.open_ansys()> in cell below only if Ansys is not already open.  Use the cells below to open the Ansys application.  \n",
    "\n",
    "### The method \"sweep_one_option_get_drivenmodal_solution_data\" will connect to ansys, activate a HFSS design, add a setup, and insert frequency-sweep under the setup."
   ]
  },
  {
   "cell_type": "code",
   "execution_count": 11,
   "id": "f05a0ce8-1f34-496a-a5dd-d7b4c0f4ed12",
   "metadata": {},
   "outputs": [],
   "source": [
    "#Reference to Ansys hfss QRenderer\n",
    "hfss = design.renderers.hfss\n",
    "\n",
    "# This cell will open the Ansys application.  Run this cell, if Ansys, is not already open.\n",
    "# A project will be opened using this command.\n",
    "#hfss.open_ansys()"
   ]
  },
  {
   "cell_type": "code",
   "execution_count": 12,
   "id": "0ce043de-88ec-439e-9461-3edaae837f8f",
   "metadata": {},
   "outputs": [],
   "source": [
    "sweep = Sweeping(design)"
   ]
  },
  {
   "cell_type": "code",
   "execution_count": 13,
   "id": "f4add527-3876-41ef-a0e8-972cfe03bb5a",
   "metadata": {},
   "outputs": [],
   "source": [
    "# Set the buffer width at the edge of the design to be 0.5 mm \n",
    "# in both directions.\n",
    "\n",
    "hfss.options['x_buffer_width_mm'] = 0.5\n",
    "hfss.options['y_buffer_width_mm'] = 0.5"
   ]
  },
  {
   "cell_type": "markdown",
   "id": "bf57852d-2e59-4653-901e-fe172af58be2",
   "metadata": {},
   "source": [
    "As a reminder, arguments for render_design() are given as: <br>\n",
    "\n",
    "First parameter: List of components to render (empty list if rendering whole Metal design) <br><br>\n",
    "Second parameter: List of pins (qcomp, pin) with open endcaps <br><br>\n",
    "Third parameter: List of pins (qcomp, pin, impedance) to render as lumped ports <br><br>\n",
    "Fourth parameter: List of junctions (qcomp, qgeometry_name, impedance, draw_ind)\n",
    "       to render as lumped ports or as lumped port in parallel with a sheet inductance <br><br>\n",
    "Fifth parameter: List of junctions (qcomp, qgeometry_name) to omit altogether during rendering<br><br>\n",
    "Sixth parameter: Whether to render chip via box plus buffer or fixed chip size<br>\n"
   ]
  },
  {
   "cell_type": "markdown",
   "id": "433734fa-c793-468b-a888-0462d3cca39f",
   "metadata": {},
   "source": [
    "The size scatter square matrix, impedance square matrix, and admittance square matrix is determined by size of (3rd parameter) + (size of fourth parameter) of render_design.  "
   ]
  },
  {
   "cell_type": "code",
   "execution_count": 16,
   "id": "2848893a-29d2-4dee-95e3-2e47b3e193a0",
   "metadata": {},
   "outputs": [],
   "source": [
    "selection = [] # Means to render everything in qgeometry table.\n",
    "open_pins = []\n",
    "\n",
    "# Here, pin cpw_openRight_end and cpw_openLeft_end are converted into lumped ports,\n",
    "#           each with an impedance of 50 Ohms. <br>\n",
    "port_list = [('cpw_openRight', 'end', 50),\n",
    "                      ('cpw_openLeft', 'end', 50)]\n",
    "jj_to_port = []\n",
    "# Neither of the junctions in Q1 or Q2 are rendered.\n",
    "ignored_jjs = [('Q1', 'rect_jj'), ('Q2', 'rect_jj')]\n",
    "box_plus_buffer = True\n",
    "\n",
    "dm_render_args = Dict(selection=selection,\n",
    "                      open_pins=open_pins,\n",
    "                      port_list=port_list,\n",
    "                      jj_to_port=jj_to_port,\n",
    "                      ignored_jjs=ignored_jjs,\n",
    "                      box_plus_buffer=box_plus_buffer)"
   ]
  },
  {
   "cell_type": "code",
   "execution_count": 17,
   "id": "44e9902f-1588-4fb6-a2af-501a28cb01cb",
   "metadata": {},
   "outputs": [],
   "source": [
    "# Pass a dict with arguments to be used add Setup to project.\n",
    "# If you don't pass all the arguments, the default is determined by\n",
    "# QHFSSRenderer's default_options.\n",
    "# The name of setup will be \"Sweep_dm_setup\".\n",
    "# If a setup named \"Sweep_dm_setup\" exists in the project, it will be deleted,\n",
    "# and a new setup will be added with the arguments from setup_args.\n",
    "hfss_dm_setup_args = Dict(freq_ghz=None,\n",
    "                          max_delta_s=None,\n",
    "                          max_passes=None,\n",
    "                          min_passes=None,\n",
    "                          min_converged=None,\n",
    "                          pct_refinement=None,\n",
    "                          basis_order=None)\n",
    "# Example of updating the keys that we are interested in.\n",
    "hfss_dm_setup_args = Dict(\n",
    "    freq_ghz=4,\n",
    "    max_delta_s=0.1,\n",
    "    max_passes=9,\n",
    "    min_passes=2,\n",
    ")\n"
   ]
  },
  {
   "cell_type": "markdown",
   "id": "d83329c3-ffb4-4129-bcee-be17bcc71fa2",
   "metadata": {},
   "source": [
    "\n",
    "Add a frequency sweep to a driven modal setup.<br>\n",
    "From QHFSSRenderer.add_sweep doc_strings.  Please go to doc_strings to get the latest information.  \n",
    "\n",
    "Args:<br>\n",
    "    setup_name (str, optional): Name of driven modal simulation setup.\n",
    "                            Defaults to \"Setup\".<br>\n",
    "    start_ghz (float, optional): Starting frequency of sweep in GHz.\n",
    "                            Defaults to 2.0.<br>\n",
    "    stop_ghz (float, optional): Ending frequency of sweep in GHz.\n",
    "                            Defaults to 8.0.<br>\n",
    "    count (int, optional): Total number of frequencies.\n",
    "                            Defaults to 101.<br>\n",
    "    step_ghz (float, optional): Difference between adjacent\n",
    "                            frequencies. Defaults to None.<br>\n",
    "    name (str, optional): Name of sweep. Defaults to \"Sweep\".<br>\n",
    "    type (str, optional): Type of sweep. Defaults to \"Fast\".<br>\n",
    "    save_fields (bool, optional): Whether or not to save fields.\n",
    "                        Defaults to False.<br>\n",
    "                        \n",
    "                        \n",
    "From pyEPR.HfssSetup.insert_sweep(), please go to this method to get the latest documentation.   \n",
    "You should provide either step_ghz or count when inserting an HFSS driven model freq sweep. Do not provide both or neither!"
   ]
  },
  {
   "cell_type": "code",
   "execution_count": 18,
   "id": "2adfa5b0-096c-4aa5-b580-1e7b180a2f23",
   "metadata": {},
   "outputs": [],
   "source": [
    "dm_add_sweep_args = Dict(name=\"Sweep_options__dm_sweep\",\n",
    "                         start_ghz=4.0,\n",
    "                         stop_ghz=8.0,\n",
    "                         count=2001,\n",
    "                         type=\"Interpolating\")"
   ]
  },
  {
   "cell_type": "code",
   "execution_count": 19,
   "id": "6276a16c-5be0-408e-884b-75e87e129084",
   "metadata": {},
   "outputs": [
    {
     "name": "stderr",
     "output_type": "stream",
     "text": [
      "INFO 11:28AM [connect_project]: Connecting to Ansys Desktop API...\n",
      "INFO 11:28AM [load_ansys_project]: \tOpened Ansys App\n",
      "INFO 11:28AM [load_ansys_project]: \tOpened Ansys Desktop v2020.2.0\n",
      "INFO 11:28AM [load_ansys_project]: \tOpened Ansys Project\n",
      "\tFolder:    C:/Users/priti.ashvin.shah/Documents/Ansoft/\n",
      "\tProject:   Project69\n",
      "INFO 11:28AM [connect_design]: \tOpened active design\n",
      "\tDesign:    Sweep_DrivenModal [Solution type: DrivenModal]\n",
      "INFO 11:28AM [get_setup]: \tOpened setup `Setup`  (<class 'pyEPR.ansys.HfssDMSetup'>)\n",
      "INFO 11:28AM [connect]: \tConnected to project \"Project69\" and design \"Sweep_DrivenModal\" 😀 \n",
      "\n",
      "INFO 11:28AM [connect_design]: \tOpened active design\n",
      "\tDesign:    Sweep_DrivenModal [Solution type: DrivenModal]\n",
      "INFO 11:28AM [get_setup]: \tOpened setup `Sweep_dm_setup`  (<class 'pyEPR.ansys.HfssDMSetup'>)\n",
      "INFO 11:30AM [get_setup]: \tOpened setup `Sweep_dm_setup`  (<class 'pyEPR.ansys.HfssDMSetup'>)\n",
      "INFO 11:30AM [get_setup]: \tOpened setup `Sweep_dm_setup`  (<class 'pyEPR.ansys.HfssDMSetup'>)\n",
      "INFO 11:30AM [analyze]: Analyzing setup Sweep_dm_setup : Sweep_options__dm_sweep\n",
      "INFO 11:35AM [get_setup]: \tOpened setup `Sweep_dm_setup`  (<class 'pyEPR.ansys.HfssDMSetup'>)\n",
      "INFO 11:35AM [get_setup]: \tOpened setup `Sweep_dm_setup`  (<class 'pyEPR.ansys.HfssDMSetup'>)\n",
      "INFO 11:35AM [analyze]: Analyzing setup Sweep_dm_setup : Sweep_options__dm_sweep\n",
      "INFO 11:41AM [get_setup]: \tOpened setup `Sweep_dm_setup`  (<class 'pyEPR.ansys.HfssDMSetup'>)\n",
      "INFO 11:41AM [get_setup]: \tOpened setup `Sweep_dm_setup`  (<class 'pyEPR.ansys.HfssDMSetup'>)\n",
      "INFO 11:41AM [analyze]: Analyzing setup Sweep_dm_setup : Sweep_options__dm_sweep\n"
     ]
    }
   ],
   "source": [
    "all_sweeps, return_code = sweep.sweep_one_option_get_drivenmodal_solution_data(\n",
    "    meanderQ1.name,\n",
    "    'total_length', ['9mm', '8mm', '7mm'],\n",
    "    dm_render_args,\n",
    "    setup_args=hfss_dm_setup_args,\n",
    "    dm_add_sweep_args=dm_add_sweep_args,\n",
    "    leave_last_design=True)"
   ]
  },
  {
   "cell_type": "code",
   "execution_count": 24,
   "id": "34de5ddf-aba5-4f6f-bc07-d6ec63f4be26",
   "metadata": {},
   "outputs": [
    {
     "name": "stdout",
     "output_type": "stream",
     "text": [
      "dict_keys(['9mm', '8mm', '7mm'])\n"
     ]
    }
   ],
   "source": [
    "# Each key corresponds to list passed to ['9mm', '8mm', '7mm']\n",
    "if return_code == 0:\n",
    "    print(all_sweeps.keys())\n"
   ]
  },
  {
   "cell_type": "code",
   "execution_count": 26,
   "id": "9aba9ccb-a753-48be-ad2c-cb463573f216",
   "metadata": {},
   "outputs": [
    {
     "name": "stdout",
     "output_type": "stream",
     "text": [
      "dict_keys(['s_matrix', 'y_matrix', 'z_matrix'])\n"
     ]
    }
   ],
   "source": [
    "# Each values use for the given option, has three matrixes:  \n",
    "# scatter, impedance, and addmitance.\n",
    "if return_code == 0:\n",
    "    print(all_sweeps['9mm'].keys())"
   ]
  },
  {
   "cell_type": "code",
   "execution_count": 27,
   "id": "31945989-df0e-4bc4-9881-2cba1ac3be74",
   "metadata": {},
   "outputs": [
    {
     "name": "stdout",
     "output_type": "stream",
     "text": [
      "                      S11                 S21                 S12  \\\n",
      "4.000 -0.099621-0.027476j -0.277818+0.955059j -0.277818+0.955059j   \n",
      "4.002 -0.099658-0.027416j -0.277207+0.955235j -0.277207+0.955235j   \n",
      "4.004 -0.099695-0.027357j -0.276595+0.955410j -0.276595+0.955410j   \n",
      "4.006 -0.099732-0.027297j -0.275983+0.955585j -0.275983+0.955585j   \n",
      "4.008 -0.099769-0.027237j -0.275371+0.955759j -0.275371+0.955759j   \n",
      "...                   ...                 ...                 ...   \n",
      "7.992 -0.030066+0.056013j  0.837593+0.542584j  0.837593+0.542584j   \n",
      "7.994 -0.029998+0.055988j  0.837945+0.542046j  0.837945+0.542046j   \n",
      "7.996 -0.029931+0.055963j  0.838297+0.541508j  0.838297+0.541508j   \n",
      "7.998 -0.029863+0.055938j  0.838649+0.540969j  0.838649+0.540969j   \n",
      "8.000 -0.029796+0.055913j  0.839000+0.540431j  0.839000+0.540431j   \n",
      "\n",
      "                      S22  \n",
      "4.000 -0.098814-0.030247j  \n",
      "4.002 -0.098853-0.030191j  \n",
      "4.004 -0.098891-0.030135j  \n",
      "4.006 -0.098929-0.030078j  \n",
      "4.008 -0.098967-0.030022j  \n",
      "...                   ...  \n",
      "7.992 -0.038827+0.050337j  \n",
      "7.994 -0.038767+0.050316j  \n",
      "7.996 -0.038707+0.050294j  \n",
      "7.998 -0.038647+0.050272j  \n",
      "8.000 -0.038587+0.050250j  \n",
      "\n",
      "[2001 rows x 4 columns]\n"
     ]
    }
   ],
   "source": [
    "# For example, just one group of solution data.\n",
    "if return_code == 0:\n",
    "    print(all_sweeps['9mm']['s_matrix'])"
   ]
  },
  {
   "cell_type": "code",
   "execution_count": null,
   "id": "63b66770-8eee-4de6-9831-7ab2a3210823",
   "metadata": {},
   "outputs": [],
   "source": [
    "# In HFSS, after the last sweep, should the design be cleared?  The argument \"leave_last_design\" is true by default. \n",
    "# If you want to delete after last sweep, change argument to false.\n",
    "\n",
    "leave_last_design = False\n",
    "\n",
    "all_sweeps, return_code = sweep.sweep_one_option_get_drivenmodal_solution_data(\n",
    "    meanderQ1.name,\n",
    "    'total_length', ['9mm', '8mm', '7mm'],\n",
    "    dm_render_args,\n",
    "    setup_args=hfss_dm_setup_args,\n",
    "    dm_add_sweep_args=dm_add_sweep_args,\n",
    "    leave_last_design=leave_last_design)"
   ]
  },
  {
   "cell_type": "code",
   "execution_count": null,
   "id": "75ff8fcd-2da7-4594-a402-37b17bcb3428",
   "metadata": {},
   "outputs": [],
   "source": [
    "# Uncomment next line if you would like to close the gui\n",
    "# gui.main_window.close()"
   ]
  }
 ],
 "metadata": {
  "kernelspec": {
   "display_name": "pas_1_kernel",
   "language": "python",
   "name": "pas_1_kernel"
  },
  "language_info": {
   "codemirror_mode": {
    "name": "ipython",
    "version": 3
   },
   "file_extension": ".py",
   "mimetype": "text/x-python",
   "name": "python",
   "nbconvert_exporter": "python",
   "pygments_lexer": "ipython3",
   "version": "3.7.8"
  }
 },
 "nbformat": 4,
 "nbformat_minor": 5
}
