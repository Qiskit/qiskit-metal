{
 "cells": [
  {
   "cell_type": "markdown",
   "metadata": {},
   "source": [
    "# Prerequisite\n",
    "You must have a working local installation of Ansys."
   ]
  },
  {
   "cell_type": "code",
   "execution_count": null,
   "metadata": {},
   "outputs": [],
   "source": [
    "%load_ext autoreload\n",
    "%autoreload 2\n",
    "\n",
    "import qiskit_metal as metal\n",
    "from qiskit_metal import designs, draw\n",
    "from qiskit_metal import MetalGUI, Dict, Headings\n",
    "import pyEPR as epr"
   ]
  },
  {
   "cell_type": "markdown",
   "metadata": {},
   "source": [
    "### Create the design in Metal\n",
    "Set up a design of a given dimension. Dimensions will be respected in the design rendering. <br>\n",
    "Note that the design size extends from the origin into the first quadrant."
   ]
  },
  {
   "cell_type": "code",
   "execution_count": null,
   "metadata": {},
   "outputs": [],
   "source": [
    "design = designs.DesignPlanar({}, True)\n",
    "design.chips.main.size['size_x'] = '2mm'\n",
    "design.chips.main.size['size_y'] = '2mm'\n",
    "hfss = design.renderers.hfss\n",
    "\n",
    "gui = MetalGUI(design)"
   ]
  },
  {
   "cell_type": "markdown",
   "metadata": {},
   "source": [
    "Create a single transmon with one readout resonator and move it to the center of the previously defined chip."
   ]
  },
  {
   "cell_type": "code",
   "execution_count": null,
   "metadata": {},
   "outputs": [],
   "source": [
    "from qiskit_metal.qlibrary.qubits.transmon_pocket import TransmonPocket\n",
    "\n",
    "design.delete_all_components()\n",
    "\n",
    "q1 = TransmonPocket(design, 'Q1', options =  dict(\n",
    "    pad_width = '425 um', \n",
    "    pocket_height = '650um',\n",
    "    connection_pads=dict(\n",
    "        readout = dict(loc_W=+1,loc_H=+1, pad_width='200um')\n",
    "    )))\n",
    "\n",
    "gui.rebuild()\n",
    "gui.autoscale()"
   ]
  },
  {
   "cell_type": "markdown",
   "metadata": {},
   "source": [
    "Open a new Ansys window, connect to it, and add a driven modal design called SingleTransmon to the currently active project."
   ]
  },
  {
   "cell_type": "code",
   "execution_count": null,
   "metadata": {},
   "outputs": [],
   "source": [
    "hfss.open_ansys()"
   ]
  },
  {
   "cell_type": "code",
   "execution_count": null,
   "metadata": {},
   "outputs": [],
   "source": [
    "hfss.connect_ansys()"
   ]
  },
  {
   "cell_type": "code",
   "execution_count": null,
   "metadata": {},
   "outputs": [],
   "source": [
    "hfss.add_drivenmodal_design(\"SingleTransmon\")"
   ]
  },
  {
   "cell_type": "markdown",
   "metadata": {},
   "source": [
    "### Render the qubit from Metal into the SingleTransmon design in Ansys. <br>\n",
    "Here, pin Q1_a is converted into a lumped port with an impedance of 70 Ohms. <br>\n",
    "Meanwhile, the central junction Q1_rect_jj is rendered as both a port and an inductor with an impedance of 50 Ohms and an inductance of 10 nH, respectively. <br>\n",
    "As a reminder, arguments are given as <br><br>\n",
    "First parameter: List of components to render (empty list if rendering whole Metal design) <br>\n",
    "Second parameter: List of pins (qcomp, pin) with open endcaps <br>\n",
    "Third parameter: List of pins (qcomp, pin, impedance) to render as lumped ports <br>\n",
    "Fourth parameter: List of junctions (qcomp, elt, impedance, draw_ind) to render as lumped ports <br>\n",
    "Fifth parameter: List of junctions (qcomp, elt) to omit altogether during rendering"
   ]
  },
  {
   "cell_type": "code",
   "execution_count": null,
   "metadata": {},
   "outputs": [],
   "source": [
    "hfss.render_design([], [], [('Q1', 'readout', 70)], [('Q1', 'rect_jj', 50, True)], [])"
   ]
  },
  {
   "cell_type": "code",
   "execution_count": null,
   "metadata": {},
   "outputs": [],
   "source": [
    "hfss.save_screenshot()"
   ]
  },
  {
   "cell_type": "markdown",
   "metadata": {},
   "source": [
    "Add a new driven modal simulation setup called NewSetup to the SingleTransmon design."
   ]
  },
  {
   "cell_type": "code",
   "execution_count": null,
   "metadata": {},
   "outputs": [],
   "source": [
    "hfss.add_drivenmodal_setup(name=\"NewSetup\", max_passes=30)"
   ]
  },
  {
   "cell_type": "markdown",
   "metadata": {},
   "source": [
    "All customizable parameters and their default values in add_drivenmodal_setup(): <br><br>\n",
    "freq_ghz=5 (simulation frequency) <br>\n",
    "name=\"Setup\" (setup name) <br>\n",
    "max_delta_s=0.1 (absolute value of maximum difference in scattering parameter S) <br>\n",
    "max_passes=10 (maximum number of passes) <br>\n",
    "min_passes=1 (minimum number of passes) <br>\n",
    "min_converged=1 (minimum number of converged passes) <br>\n",
    "pct_refinement=30 (percent refinement) <br>\n",
    "basis_order=1 (basis order)"
   ]
  },
  {
   "cell_type": "markdown",
   "metadata": {},
   "source": [
    "Verify that the currently active project, design, and setup names are correct."
   ]
  },
  {
   "cell_type": "code",
   "execution_count": null,
   "metadata": {},
   "outputs": [],
   "source": [
    "print(f\"\"\"\n",
    "project_name = {hfss.pinfo.project_name}\n",
    "design_name  = {hfss.pinfo.design_name}\n",
    "setup_name   = {hfss.pinfo.setup_name}\n",
    "\"\"\")"
   ]
  },
  {
   "cell_type": "markdown",
   "metadata": {},
   "source": [
    "Next, add a frequency sweep called NewSweep to the NewSetup setup."
   ]
  },
  {
   "cell_type": "code",
   "execution_count": null,
   "metadata": {},
   "outputs": [],
   "source": [
    "hfss.add_sweep(setup_name=\"NewSetup\", name=\"NewSweep\", stop_ghz=13)"
   ]
  },
  {
   "cell_type": "markdown",
   "metadata": {},
   "source": [
    "All customizable parameters and their default values in add_sweep(): <br><br>\n",
    "setup_name=\"Setup\" (name of setup) <br>\n",
    "start_ghz=2.0 (starting frequency) <br>\n",
    "stop_ghz=8.0 (stopping frequency) <br>\n",
    "count=101 (total number of frequencies) <br>\n",
    "step_ghz=None (frequency step size) <br>\n",
    "name=\"Sweep\" (name of sweep) <br>\n",
    "type=\"Fast\" (type of sweep) <br>\n",
    "save_fields=False (whether or not to save fields)"
   ]
  },
  {
   "cell_type": "code",
   "execution_count": null,
   "metadata": {},
   "outputs": [],
   "source": [
    "hfss.analyze_sweep('NewSweep', 'NewSetup')"
   ]
  },
  {
   "cell_type": "markdown",
   "metadata": {},
   "source": [
    "The following cell requires a pyEPR update (pertaining to Ansys versions) which is in the works."
   ]
  },
  {
   "cell_type": "code",
   "execution_count": null,
   "metadata": {},
   "outputs": [],
   "source": [
    "hfss.plot_params(['Z11', 'Z21']);"
   ]
  },
  {
   "cell_type": "code",
   "execution_count": null,
   "metadata": {},
   "outputs": [],
   "source": [
    "hfss.plot_params(['Y11', 'Y21']);"
   ]
  },
  {
   "cell_type": "code",
   "execution_count": null,
   "metadata": {},
   "outputs": [],
   "source": [
    "hfss.plot_params(['S11', 'S21', 'S22']);"
   ]
  },
  {
   "cell_type": "markdown",
   "metadata": {},
   "source": [
    "Finally, disconnect from Ansys."
   ]
  },
  {
   "cell_type": "code",
   "execution_count": null,
   "metadata": {},
   "outputs": [],
   "source": [
    "hfss.disconnect_ansys()"
   ]
  }
 ],
 "metadata": {
  "kernelspec": {
   "display_name": "oldpandas",
   "language": "python",
   "name": "oldpandas"
  },
  "language_info": {
   "codemirror_mode": {
    "name": "ipython",
    "version": 3
   },
   "file_extension": ".py",
   "mimetype": "text/x-python",
   "name": "python",
   "nbconvert_exporter": "python",
   "pygments_lexer": "ipython3",
   "version": "3.7.8"
  }
 },
 "nbformat": 4,
 "nbformat_minor": 5
}
