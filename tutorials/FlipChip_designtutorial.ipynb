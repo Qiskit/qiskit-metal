{
 "cells": [
  {
   "cell_type": "markdown",
   "id": "f96003c3",
   "metadata": {},
   "source": [
    "# Flip-Chip Devices in Qiskit Metal\n",
    "\n",
    "In this notebook, we will construct a device made of a coupled qubit - resonator system in a flip-chip environment. After that, we proceed to analyse them using the three techniques available in the qiskit metal analyses code folder: LOM, EPR, and BBQ.\n",
    "\n",
    "The flip-chip device in this notebook is very basic, consisting of two chips separated by a specific distance (that we shall specify later). There are different layout flavours, one way is to place the resonator at the 'bottom' chip or so-called 'control' chip, and the qubit on the 'top' chip or so-called 'qubit' chip.\n"
   ]
  },
  {
   "cell_type": "markdown",
   "id": "1ea0705e",
   "metadata": {},
   "source": [
    "## 1. Building a Flip-Chip Device Design\n",
    "We use another class called the <code>DesignFlipChip</code> class. The design workflow is very similar to the one for building planar devices (cf. <code>DesignPlanar</code>), except that there are two chips, and you need to specify which chip you want to draw the device on. At the moment, the two chips are called the 'C_chip' and the 'Q_chip'."
   ]
  },
  {
   "cell_type": "code",
   "execution_count": 1,
   "id": "0d41a1db",
   "metadata": {},
   "outputs": [],
   "source": [
    "%reload_ext autoreload\n",
    "%autoreload 2"
   ]
  },
  {
   "cell_type": "code",
   "execution_count": 2,
   "id": "1c02013c",
   "metadata": {},
   "outputs": [],
   "source": [
    "import qiskit_metal as metal\n",
    "from qiskit_metal import designs, draw\n",
    "from qiskit_metal import MetalGUI, Dict, Headings\n",
    "from qiskit_metal.qlibrary.qubits.transmon_cross import TransmonCross\n",
    "from qiskit_metal.qlibrary.resonator.readoutres_fc import ReadoutRes_fc\n",
    "\n",
    "# suppress deprecation warnings\n",
    "import warnings\n",
    "warnings.filterwarnings(\"ignore\", category=Warning)"
   ]
  },
  {
   "cell_type": "code",
   "execution_count": 3,
   "id": "88f78db4",
   "metadata": {},
   "outputs": [],
   "source": [
    "# Initialise design\n",
    "design = designs.DesignFlipChip()\n",
    "# Specify design name\n",
    "design.metadata['design_name'] = 'FlipChip_Device'\n",
    "# launch GUI\n",
    "#gui = MetalGUI(design)\n",
    "# Allow running the same cell here multiple times to overwrite changes\n",
    "design.overwrite_enabled = True"
   ]
  },
  {
   "cell_type": "markdown",
   "id": "a689d06b",
   "metadata": {},
   "source": [
    "Next, we draw an Xmon on the Q-chip, and a readout resonator on the C-chip."
   ]
  },
  {
   "cell_type": "code",
   "execution_count": 4,
   "id": "1a4c6ad6",
   "metadata": {},
   "outputs": [],
   "source": [
    "# delete existing components\n",
    "design.delete_all_components()\n",
    "\n",
    "# draw an Xmon on the Q_chip. Notice that I have defined one more item called chip and set it to be the 'Q_chip'\n",
    "options_cpads = Dict(\n",
    "        connector_type = '0', # claw type\n",
    "        claw_length = '30um',\n",
    "        ground_spacing = '5um',\n",
    "        claw_width = '10um',\n",
    "        claw_gap = '6um')\n",
    "options = Dict(\n",
    "    chip = 'Q_chip',\n",
    "    cross_width = '36um',\n",
    "    cross_length = '119um',\n",
    "    cross_gap = '18um',\n",
    "    connection_pads = Dict(\n",
    "        claw_west = Dict(connector_location= '180', **options_cpads)))\n",
    "\n",
    "# position the center of the Xmon at (0,0)\n",
    "q1_x = '0.0 mm'\n",
    "q1_y = '0.0 mm'\n",
    "\n",
    "# build the device, positioned at (q1_x, q1_y)\n",
    "q1 = TransmonCross(design, 'Q1', options = Dict(pos_x=q1_x, pos_y=q1_y, **options))\n",
    "\n",
    "# rebuild in gui\n",
    "#gui.rebuild()\n",
    "#gui.autoscale()"
   ]
  },
  {
   "cell_type": "code",
   "execution_count": 5,
   "id": "ddbc50d8",
   "metadata": {},
   "outputs": [],
   "source": [
    "# draw a readout resonator on the C_chip. Note that we specify the chip='C_chip'.\n",
    "# The readout resonator can me made into any shape. Here I opted to use a lambda/4 cpw-based resonator.\n",
    "# The open-ended end of the resonator has a circular shape with a radius of readout_radius. Change this radius to change the qubit-resonator coupling strength.\n",
    "# The cpw_width and cpw_gap are the size of the signal line and the ground gap of the cpw transmission line.\n",
    "# The parameters readout_l1 ... l5, are the lengths of various parts of the cpw.\n",
    "# arc_step is the length of a line that approximates an arc. \n",
    "options = Dict(\n",
    "    chip = 'C_chip',\n",
    "    readout_radius = '30.2 um',\n",
    "    readout_cpw_width = '12 um',\n",
    "    readout_cpw_gap = '12 um',\n",
    "    readout_cpw_turnradius = '40 um',\n",
    "    readout_l1 = '600 um',\n",
    "    readout_l2 = '219 um',\n",
    "    readout_l3 = '285 um',\n",
    "    readout_l4 = '165 um',\n",
    "    readout_l5 = '566.7 um',\n",
    "    arc_step = '5 um')\n",
    "\n",
    "# the resonator is set to have its origin at the center of the circular patch.\n",
    "# So we set the qubit and the resonator to share the same coordinate (q1_x, q1_y)\n",
    "r1 = ReadoutRes_fc(design, 'R1', options = Dict(pos_x = q1_x, pos_y = q1_y, **options))\n",
    "\n",
    "# rebuild in gui\n",
    "#gui.rebuild()\n",
    "#gui.autoscale()\n"
   ]
  },
  {
   "cell_type": "markdown",
   "id": "17affa51",
   "metadata": {},
   "source": [
    "## 2. Preparation Prior to Rendering in ANSYS\n"
   ]
  },
  {
   "cell_type": "markdown",
   "id": "1678915d",
   "metadata": {},
   "source": [
    "As described before, we have specified two chips in the <code>FlipChipDesign</code> class, i.e. C_chip and Q_chip. This information is stored in the chips variables. "
   ]
  },
  {
   "cell_type": "code",
   "execution_count": 6,
   "id": "b35cb7f9",
   "metadata": {},
   "outputs": [
    {
     "data": {
      "text/plain": [
       "{'C_chip': {'material': 'silicon',\n",
       "  'layer_start': '0',\n",
       "  'layer_end': '2048',\n",
       "  'size': {'center_x': '0.0mm',\n",
       "   'center_y': '0.0mm',\n",
       "   'center_z': '0.0mm',\n",
       "   'size_x': '9mm',\n",
       "   'size_y': '9mm',\n",
       "   'size_z': '-280um',\n",
       "   'sample_holder_top': '890um',\n",
       "   'sample_holder_bottom': '1650um'}},\n",
       " 'Q_chip': {'material': 'silicon',\n",
       "  'layer_start': '0',\n",
       "  'layer_end': '2048',\n",
       "  'size': {'center_x': '0.0mm',\n",
       "   'center_y': '0.0mm',\n",
       "   'center_z': '20 um',\n",
       "   'size_x': '9mm',\n",
       "   'size_y': '9mm',\n",
       "   'size_z': '280um',\n",
       "   'sample_holder_top': '890um',\n",
       "   'sample_holder_bottom': '1650um'}}}"
      ]
     },
     "execution_count": 6,
     "metadata": {},
     "output_type": "execute_result"
    }
   ],
   "source": [
    "design.chips"
   ]
  },
  {
   "cell_type": "markdown",
   "id": "3d7929e4",
   "metadata": {},
   "source": [
    "It is important to note that in terms of component rendering in ANSYS, the components are drawn on an XY plane with its Z-coordinate being defined by 'center_z'. For the design object we just created, C_chip components are drawn at z=0, and the Q_chip components are drawn at 20 um."
   ]
  },
  {
   "cell_type": "code",
   "execution_count": 7,
   "id": "f566f85f",
   "metadata": {},
   "outputs": [
    {
     "data": {
      "text/plain": [
       "'0.0mm'"
      ]
     },
     "execution_count": 7,
     "metadata": {},
     "output_type": "execute_result"
    }
   ],
   "source": [
    "design.chips['C_chip']['size']['center_z']"
   ]
  },
  {
   "cell_type": "code",
   "execution_count": 8,
   "id": "9007cb94",
   "metadata": {},
   "outputs": [
    {
     "data": {
      "text/plain": [
       "'20 um'"
      ]
     },
     "execution_count": 8,
     "metadata": {},
     "output_type": "execute_result"
    }
   ],
   "source": [
    "design.chips['Q_chip']['size']['center_z']"
   ]
  },
  {
   "cell_type": "markdown",
   "id": "a05eeba7",
   "metadata": {},
   "source": [
    "Next, we set the Q_chip to be at a distance of, say 10 um, from the C_chip."
   ]
  },
  {
   "cell_type": "code",
   "execution_count": 9,
   "id": "dd6060f0",
   "metadata": {},
   "outputs": [
    {
     "data": {
      "text/plain": [
       "'10 um'"
      ]
     },
     "execution_count": 9,
     "metadata": {},
     "output_type": "execute_result"
    }
   ],
   "source": [
    "design.chips['Q_chip']['size']['center_z'] = '10 um'\n",
    "design.chips['Q_chip']['size']['center_z']"
   ]
  },
  {
   "cell_type": "markdown",
   "id": "5f8e095c",
   "metadata": {},
   "source": [
    "It is possible that you would like to assign a new material to the chip substrate. In this case, I'd usually define a new material in the library instead of modifying the existing one. If this is not of interest, feel free to skip this part.\n",
    "\n",
    "Say, we would like to have a Silicon substrate with a different dielectric constant (11.45 instead of the default value of 11.9). Let's call this new material 'Si_11.45'.\n",
    "\n",
    "To do this, first we add the new material to the ANSYS material library (either manually or scripted like what we did below), and then specify the new material in the design object."
   ]
  },
  {
   "cell_type": "code",
   "execution_count": 10,
   "id": "025e0bfa",
   "metadata": {},
   "outputs": [],
   "source": [
    "# new material properties\n",
    "newMaterial_name = 'Si_11.45'\n",
    "newMaterial_permittivity = '11.45'\n",
    "newMaterial_losstangent = '1e-7'"
   ]
  },
  {
   "cell_type": "code",
   "execution_count": 11,
   "id": "6eb99015",
   "metadata": {},
   "outputs": [
    {
     "name": "stderr",
     "output_type": "stream",
     "text": [
      "INFO 06:39PM [connect_project]: Connecting to Ansys Desktop API...\n",
      "INFO 06:39PM [load_ansys_project]: \tOpened Ansys App\n",
      "INFO 06:39PM [load_ansys_project]: \tOpened Ansys Desktop v2020.1.0\n",
      "INFO 06:39PM [load_ansys_project]: \tOpened Ansys Project\n",
      "\tFolder:    C:/Users/sandoko/Documents/Ansoft/\n",
      "\tProject:   test\n",
      "INFO 06:39PM [connect_design]: No active design found (or error getting active design). Note: No Design Active\n",
      "INFO 06:39PM [connect]: \t Connected to project \"test\". No design detected\n"
     ]
    },
    {
     "name": "stdout",
     "output_type": "stream",
     "text": [
      "Warning! 6 COM references still alive\n",
      "Ansys will likely refuse to shut down\n"
     ]
    }
   ],
   "source": [
    "# add the new material via scripting\n",
    "# uncomment if needed\n",
    "from pyEPR import ansys, project_info\n",
    "# get the handles to the ANSYS system\n",
    "ans_prj = project_info.ProjectInfo()\n",
    "oProject = ans_prj.project._project\n",
    "defmanager = oProject.GetDefinitionManager()\n",
    "# check if the material exists\n",
    "if not defmanager.DoesMaterialExist(newMaterial_name):\n",
    "    defmanager.AddMaterial(\n",
    "        [\n",
    "            \"NAME:%s\"%(newMaterial_name),\n",
    "            \"CoordinateSystemType:=\", \"Cartesian\",\n",
    "            \"BulkOrSurfaceType:=\", 1,\n",
    "            [\n",
    "                    \"NAME:PhysicsTypes\",\n",
    "                    \"set:=\", [\"Electromagnetic\"]\n",
    "            ],\n",
    "            \"permittivity:=\", \"%s\"%(newMaterial_permittivity),\n",
    "            \"dielectric_loss_tangent:=\", \"%s\"%(newMaterial_losstangent)\n",
    "        ])\n",
    "# release the handle to ANSYS\n",
    "ans_prj.project.release()\n",
    "ans_prj.desktop.release()\n",
    "ans_prj.app.release()\n",
    "ansys.release()"
   ]
  },
  {
   "cell_type": "code",
   "execution_count": 12,
   "id": "1b1af6d6",
   "metadata": {},
   "outputs": [],
   "source": [
    "# Specify the new material assigment for the chip\n",
    "design.chips['C_chip']['material'] = newMaterial_name\n",
    "design.chips['Q_chip']['material'] = newMaterial_name"
   ]
  },
  {
   "cell_type": "markdown",
   "id": "2493e788",
   "metadata": {},
   "source": [
    "## 3.  Run EPR Analysis\n",
    "We proceed to run the EPR analysis. This follows closely tutorial 4.02 Eigenmode and EPR.\n",
    "\n",
    "First, we initialise an EPRanalysis class object, and update the ANSYS simulation setup."
   ]
  },
  {
   "cell_type": "code",
   "execution_count": 13,
   "id": "548873c3",
   "metadata": {},
   "outputs": [
    {
     "data": {
      "text/plain": [
       "{'name': 'Setup',\n",
       " 'reuse_selected_design': True,\n",
       " 'reuse_setup': True,\n",
       " 'min_freq_ghz': 1,\n",
       " 'n_modes': 1,\n",
       " 'max_delta_f': 0.5,\n",
       " 'max_passes': 10,\n",
       " 'min_passes': 1,\n",
       " 'min_converged': 1,\n",
       " 'pct_refinement': 30,\n",
       " 'basis_order': 1,\n",
       " 'vars': {'Lj': '10 nH', 'Cj': '0 fF'}}"
      ]
     },
     "execution_count": 13,
     "metadata": {},
     "output_type": "execute_result"
    }
   ],
   "source": [
    "from qiskit_metal.analyses.quantization import EPRanalysis\n",
    "eig_fc = EPRanalysis(design, \"hfss\")\n",
    "eig_fc.sim.setup"
   ]
  },
  {
   "cell_type": "code",
   "execution_count": 14,
   "id": "ac123d75",
   "metadata": {},
   "outputs": [
    {
     "data": {
      "text/plain": [
       "{'name': 'Setup',\n",
       " 'reuse_selected_design': True,\n",
       " 'reuse_setup': True,\n",
       " 'min_freq_ghz': 1.5,\n",
       " 'n_modes': 2,\n",
       " 'max_delta_f': 1,\n",
       " 'max_passes': 20,\n",
       " 'min_passes': 1,\n",
       " 'min_converged': 1,\n",
       " 'pct_refinement': 30,\n",
       " 'basis_order': 1,\n",
       " 'vars': {'Lj': '10 nH', 'Cj': '0 fF'}}"
      ]
     },
     "execution_count": 14,
     "metadata": {},
     "output_type": "execute_result"
    }
   ],
   "source": [
    "# update setup setting\n",
    "eig_fc.sim.setup.max_passes = 20\n",
    "eig_fc.sim.setup.vars.Lj = '10 nH'\n",
    "# since we are analysing both the qubit and the resonator, we set the number of modes to be 2\n",
    "eig_fc.sim.setup.n_modes = 2\n",
    "# if there is not enough computational power, you can set a less stringent max_delta_f\n",
    "eig_fc.sim.setup.max_delta_f = 1 \n",
    "eig_fc.sim.setup.min_freq_ghz = 1.5\n",
    "# pass the name of the junction (for the EPR analysis purpose)\n",
    "eig_fc.setup.junctions.jj.rect = 'JJ_rect_Lj_Q1_rect_jj'\n",
    "eig_fc.setup.junctions.jj.line = 'JJ_Lj_Q1_rect_jj_'\n",
    "\n",
    "eig_fc.sim.setup"
   ]
  },
  {
   "cell_type": "markdown",
   "id": "32351948",
   "metadata": {},
   "source": [
    "Next, we run the ANSYS simulation and then the EPR analysis."
   ]
  },
  {
   "cell_type": "code",
   "execution_count": 15,
   "id": "491db648",
   "metadata": {},
   "outputs": [
    {
     "name": "stderr",
     "output_type": "stream",
     "text": [
      "INFO 06:39PM [connect_project]: Connecting to Ansys Desktop API...\n",
      "INFO 06:39PM [load_ansys_project]: \tOpened Ansys App\n",
      "INFO 06:39PM [load_ansys_project]: \tOpened Ansys Desktop v2020.1.0\n",
      "INFO 06:39PM [load_ansys_project]: \tOpened Ansys Project\n",
      "\tFolder:    C:/Users/sandoko/Documents/Ansoft/\n",
      "\tProject:   test\n",
      "INFO 06:39PM [connect_design]: No active design found (or error getting active design). Note: No Design Active\n",
      "INFO 06:39PM [connect]: \t Connected to project \"test\". No design detected\n",
      "INFO 06:39PM [connect_design]: \tOpened active design\n",
      "\tDesign:    qubitres_hfss [Solution type: Eigenmode]\n",
      "WARNING 06:39PM [connect_setup]: \tNo design setup detected.\n",
      "WARNING 06:39PM [connect_setup]: \tCreating eigenmode default setup.\n",
      "INFO 06:39PM [get_setup]: \tOpened setup `Setup`  (<class 'pyEPR.ansys.HfssEMSetup'>)\n",
      "INFO 06:39PM [get_setup]: \tOpened setup `Setup`  (<class 'pyEPR.ansys.HfssEMSetup'>)\n",
      "INFO 06:39PM [analyze]: Analyzing setup Setup\n",
      "06:41PM 26s INFO [get_f_convergence]: Saved convergences to C:\\users\\sandoko\\documents\\gitrepo\\qiskit-metal\\tutorials\\hfss_eig_f_convergence.csv\n"
     ]
    }
   ],
   "source": [
    "eig_fc.sim.run(name=\"qubitres\", components=['Q1', 'R1'], open_terminations=[], box_plus_buffer = True)"
   ]
  },
  {
   "cell_type": "code",
   "execution_count": 16,
   "id": "b973d2bc",
   "metadata": {},
   "outputs": [
    {
     "name": "stdout",
     "output_type": "stream",
     "text": [
      "Design \"qubitres_hfss\" info:\n",
      "\t# eigenmodes    2\n",
      "\t# variations    1\n",
      "Design \"qubitres_hfss\" info:\n",
      "\t# eigenmodes    2\n",
      "\t# variations    1\n",
      "\n",
      "        energy_elec_all       = 1.1313668609893e-24\n",
      "        energy_elec_substrate = 8.90731028108837e-25\n",
      "        EPR of substrate = 78.7%\n",
      "\n",
      "        energy_mag    = 5.2359164693847e-27\n",
      "        energy_mag % of energy_elec_all  = 0.5%\n",
      "        \n",
      "\n",
      "Variation 0  [1/1]\n",
      "\n",
      "  \u001b[1mMode 0 at 5.18 GHz   [1/2]\u001b[0m\n",
      "    Calculating ℰ_magnetic,ℰ_electric\n",
      "       (ℰ_E-ℰ_H)/ℰ_E       ℰ_E       ℰ_H\n",
      "               99.5%  5.657e-25 2.618e-27\n",
      "\n",
      "    Calculating junction energy participation ration (EPR)\n",
      "\tmethod=`line_voltage`. First estimates:\n",
      "\tjunction        EPR p_0j   sign s_0j    (p_capacitive)\n",
      "\t\tEnergy fraction (Lj over Lj&Cj)= 97.93%\n",
      "\tjj              0.994419  (+)        0.0210491\n",
      "\t\t(U_tot_cap-U_tot_ind)/mean=1.09%\n",
      "Calculating Qdielectric_Q_chip for mode 0 (0/1)\n",
      "p_dielectric_Q_chip_0 = 0.7873052135626067\n",
      "Calculating Qdielectric_C_chip for mode 0 (0/1)\n",
      "p_dielectric_C_chip_0 = 0.0011756819786375992\n",
      "\n",
      "  \u001b[1mMode 1 at 6.73 GHz   [2/2]\u001b[0m\n",
      "    Calculating ℰ_magnetic,ℰ_electric\n",
      "       (ℰ_E-ℰ_H)/ℰ_E       ℰ_E       ℰ_H\n",
      "                0.1%  1.123e-24 1.122e-24\n",
      "\n",
      "    Calculating junction energy participation ration (EPR)\n",
      "\tmethod=`line_voltage`. First estimates:\n",
      "\tjunction        EPR p_1j   sign s_1j    (p_capacitive)\n",
      "\t\tEnergy fraction (Lj over Lj&Cj)= 96.55%\n",
      "\tjj              0.00123439  (+)        4.41643e-05\n",
      "\t\t(U_tot_cap-U_tot_ind)/mean=0.00%\n",
      "Calculating Qdielectric_Q_chip for mode 1 (1/1)\n",
      "p_dielectric_Q_chip_1 = 0.0016922538113549157\n",
      "Calculating Qdielectric_C_chip for mode 1 (1/1)\n",
      "p_dielectric_C_chip_1 = 0.8657414710014003\n"
     ]
    },
    {
     "name": "stderr",
     "output_type": "stream",
     "text": [
      "WARNING 06:41PM [__init__]: <p>Error: <class 'IndexError'></p>\n"
     ]
    },
    {
     "name": "stdout",
     "output_type": "stream",
     "text": [
      "\n",
      "ANALYSIS DONE. Data saved to:\n",
      "\n",
      "C:\\data-pyEPR\\test\\qubitres_hfss\\2021-12-28 18-41-26.npz\n",
      "\n",
      "\n",
      "\t Differences in variations:\n",
      "\n",
      "\n",
      "\n",
      " . . . . . . . . . . . . . . . . . . . . . . . . . . . . . . . . . . . . . . . . \n",
      "Variation 0\n",
      "\n",
      "Starting the diagonalization\n",
      "Finished the diagonalization\n",
      "Pm_norm=\n",
      "modes\n",
      "0    1.022075\n",
      "1    1.018493\n",
      "dtype: float64\n",
      "\n",
      "Pm_norm idx =\n",
      "      jj\n",
      "0   True\n",
      "1  False\n",
      "*** P (participation matrix, not normlz.)\n",
      "         jj\n",
      "0  0.973919\n",
      "1  0.001234\n",
      "\n",
      "*** S (sign-bit matrix)\n",
      "   s_jj\n",
      "0     1\n",
      "1     1\n",
      "*** P (participation matrix, normalized.)\n",
      "         1\n",
      "    0.0012\n",
      "\n",
      "*** Chi matrix O1 PT (MHz)\n",
      "    Diag is anharmonicity, off diag is full cross-Kerr.\n",
      "       203    0.655\n",
      "     0.655 0.000528\n",
      "\n",
      "*** Chi matrix ND (MHz) \n",
      "       222    0.496\n",
      "     0.496 0.000326\n",
      "\n",
      "*** Frequencies O1 PT (MHz)\n",
      "0    4974.245589\n",
      "1    6731.206903\n",
      "dtype: float64\n",
      "\n",
      "*** Frequencies ND (MHz)\n",
      "0    4965.409529\n",
      "1    6731.233763\n",
      "dtype: float64\n",
      "\n",
      "*** Q_coupling\n",
      "Empty DataFrame\n",
      "Columns: []\n",
      "Index: [0, 1]\n"
     ]
    },
    {
     "data": {
      "text/markdown": [
       "#### Mode frequencies (MHz)"
      ],
      "text/plain": [
       "<IPython.core.display.Markdown object>"
      ]
     },
     "metadata": {},
     "output_type": "display_data"
    },
    {
     "data": {
      "text/markdown": [
       "###### Numerical diagonalization"
      ],
      "text/plain": [
       "<IPython.core.display.Markdown object>"
      ]
     },
     "metadata": {},
     "output_type": "display_data"
    },
    {
     "data": {
      "text/html": [
       "<div>\n",
       "<style scoped>\n",
       "    .dataframe tbody tr th:only-of-type {\n",
       "        vertical-align: middle;\n",
       "    }\n",
       "\n",
       "    .dataframe tbody tr th {\n",
       "        vertical-align: top;\n",
       "    }\n",
       "\n",
       "    .dataframe thead th {\n",
       "        text-align: right;\n",
       "    }\n",
       "</style>\n",
       "<table border=\"1\" class=\"dataframe\">\n",
       "  <thead>\n",
       "    <tr style=\"text-align: right;\">\n",
       "      <th>Lj</th>\n",
       "      <th>10</th>\n",
       "    </tr>\n",
       "    <tr>\n",
       "      <th>eigenmode</th>\n",
       "      <th></th>\n",
       "    </tr>\n",
       "  </thead>\n",
       "  <tbody>\n",
       "    <tr>\n",
       "      <th>0</th>\n",
       "      <td>4974.25</td>\n",
       "    </tr>\n",
       "    <tr>\n",
       "      <th>1</th>\n",
       "      <td>6731.21</td>\n",
       "    </tr>\n",
       "  </tbody>\n",
       "</table>\n",
       "</div>"
      ],
      "text/plain": [
       "Lj              10\n",
       "eigenmode         \n",
       "0          4974.25\n",
       "1          6731.21"
      ]
     },
     "metadata": {},
     "output_type": "display_data"
    },
    {
     "data": {
      "text/markdown": [
       "#### Kerr Non-linear coefficient table (MHz)"
      ],
      "text/plain": [
       "<IPython.core.display.Markdown object>"
      ]
     },
     "metadata": {},
     "output_type": "display_data"
    },
    {
     "data": {
      "text/markdown": [
       "###### Numerical diagonalization"
      ],
      "text/plain": [
       "<IPython.core.display.Markdown object>"
      ]
     },
     "metadata": {},
     "output_type": "display_data"
    },
    {
     "data": {
      "text/html": [
       "<div>\n",
       "<style scoped>\n",
       "    .dataframe tbody tr th:only-of-type {\n",
       "        vertical-align: middle;\n",
       "    }\n",
       "\n",
       "    .dataframe tbody tr th {\n",
       "        vertical-align: top;\n",
       "    }\n",
       "\n",
       "    .dataframe thead th {\n",
       "        text-align: right;\n",
       "    }\n",
       "</style>\n",
       "<table border=\"1\" class=\"dataframe\">\n",
       "  <thead>\n",
       "    <tr style=\"text-align: right;\">\n",
       "      <th></th>\n",
       "      <th></th>\n",
       "      <th>0</th>\n",
       "      <th>1</th>\n",
       "    </tr>\n",
       "    <tr>\n",
       "      <th>Lj</th>\n",
       "      <th></th>\n",
       "      <th></th>\n",
       "      <th></th>\n",
       "    </tr>\n",
       "  </thead>\n",
       "  <tbody>\n",
       "    <tr>\n",
       "      <th rowspan=\"2\" valign=\"top\">10</th>\n",
       "      <th>0</th>\n",
       "      <td>222.14</td>\n",
       "      <td>4.96e-01</td>\n",
       "    </tr>\n",
       "    <tr>\n",
       "      <th>1</th>\n",
       "      <td>0.50</td>\n",
       "      <td>3.26e-04</td>\n",
       "    </tr>\n",
       "  </tbody>\n",
       "</table>\n",
       "</div>"
      ],
      "text/plain": [
       "           0         1\n",
       "Lj                    \n",
       "10 0  222.14  4.96e-01\n",
       "   1    0.50  3.26e-04"
      ]
     },
     "metadata": {},
     "output_type": "display_data"
    }
   ],
   "source": [
    "eig_fc.setup.dissipatives.dielectrics_bulk = ['Q_chip', 'C_chip']\n",
    "eig_fc.run_epr()"
   ]
  },
  {
   "cell_type": "code",
   "execution_count": 17,
   "id": "6f56cc50",
   "metadata": {},
   "outputs": [
    {
     "name": "stdout",
     "output_type": "stream",
     "text": [
      "Warning! 6 COM references still alive\n",
      "Ansys will likely refuse to shut down\n"
     ]
    }
   ],
   "source": [
    "eig_fc.sim.close()"
   ]
  }
 ],
 "metadata": {
  "kernelspec": {
   "display_name": "pymetal",
   "language": "python",
   "name": "pymetal"
  },
  "language_info": {
   "codemirror_mode": {
    "name": "ipython",
    "version": 3
   },
   "file_extension": ".py",
   "mimetype": "text/x-python",
   "name": "python",
   "nbconvert_exporter": "python",
   "pygments_lexer": "ipython3",
   "version": "3.9.7"
  }
 },
 "nbformat": 4,
 "nbformat_minor": 5
}
